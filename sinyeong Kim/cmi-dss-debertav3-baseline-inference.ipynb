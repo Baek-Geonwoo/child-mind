{
 "cells": [
  {
   "cell_type": "markdown",
   "id": "ea319108",
   "metadata": {
    "papermill": {
     "duration": 0.008548,
     "end_time": "2023-12-11T15:27:23.205380",
     "exception": false,
     "start_time": "2023-12-11T15:27:23.196832",
     "status": "completed"
    },
    "tags": []
   },
   "source": [
    "# Detect Sleep States DataPrepare\n",
    "\n",
    "### This notebook is inspired by the following [werus23's](https://www.kaggle.com/werus23) amazing notebooks.\n",
    "### see also them.\n",
    "\n",
    "Finding Critical Points using RNNs\n",
    "\n",
    " - [Data Prep notebook](https://www.kaggle.com/code/werus23/sleep-critical-point-prepare-data)\n",
    " - [Training notebook](https://www.kaggle.com/werus23/sleep-critical-point-train)\n",
    " - [Inference Notebook](https://www.kaggle.com/code/werus23/sleep-critical-point-infer)\n",
    "\n",
    "Credits:\n",
    "\n",
    " - idea: https://www.kaggle.com/competitions/child-mind-institute-detect-sleep-states/discussion/441470\n",
    " - dataloader: https://www.kaggle.com/code/henriupton/efficient-loading-memory-usage-visualizations-cmi\n",
    " - arch: https://www.kaggle.com/competitions/tlvmc-parkinsons-freezing-gait-prediction/discussion/416410"
   ]
  },
  {
   "cell_type": "markdown",
   "id": "399675e9",
   "metadata": {
    "papermill": {
     "duration": 0.007855,
     "end_time": "2023-12-11T15:27:23.221360",
     "exception": false,
     "start_time": "2023-12-11T15:27:23.213505",
     "status": "completed"
    },
    "tags": []
   },
   "source": [
    "My other works\n",
    "- [Data preparation Notebook](https://www.kaggle.com/code/itsuki9180/detect-sleep-states-dataprepare)\n",
    "- [CNN Training Notebook](https://www.kaggle.com/code/itsuki9180/detect-sleep-states-train) \n",
    "- [CNN Inference Notebook](https://www.kaggle.com/code/itsuki9180/detect-sleep-states-dataprepare) \n",
    "- [DebertaV3 Training Notebook](https://www.kaggle.com/itsuki9180/cmi-dss-deberta-baseline-train) \n",
    "- [DebertaV3 Inference Notebook](https://www.kaggle.com/itsuki9180/cmi-dss-debertav3-baseline-inference) <- you are viewing now"
   ]
  },
  {
   "cell_type": "code",
   "execution_count": 1,
   "id": "8481df35",
   "metadata": {
    "execution": {
     "iopub.execute_input": "2023-12-11T15:27:23.238591Z",
     "iopub.status.busy": "2023-12-11T15:27:23.238283Z",
     "iopub.status.idle": "2023-12-11T15:27:38.604387Z",
     "shell.execute_reply": "2023-12-11T15:27:38.603373Z"
    },
    "papermill": {
     "duration": 15.377779,
     "end_time": "2023-12-11T15:27:38.607068",
     "exception": false,
     "start_time": "2023-12-11T15:27:23.229289",
     "status": "completed"
    },
    "tags": []
   },
   "outputs": [
    {
     "name": "stderr",
     "output_type": "stream",
     "text": [
      "/opt/conda/lib/python3.10/site-packages/scipy/__init__.py:146: UserWarning: A NumPy version >=1.16.5 and <1.23.0 is required for this version of SciPy (detected version 1.23.5\n",
      "  warnings.warn(f\"A NumPy version >={np_minversion} and <{np_maxversion}\"\n"
     ]
    }
   ],
   "source": [
    "import pandas as pd\n",
    "import numpy as np\n",
    "import gc\n",
    "import time\n",
    "import json\n",
    "from datetime import datetime\n",
    "import matplotlib.pyplot as plt\n",
    "import os\n",
    "import joblib\n",
    "import random\n",
    "import math\n",
    "from tqdm import tqdm \n",
    "\n",
    "from scipy.interpolate import interp1d\n",
    "from scipy import signal\n",
    "from scipy.signal import argrelmax\n",
    "\n",
    "from math import pi, sqrt, exp\n",
    "import sklearn,sklearn.model_selection\n",
    "from sklearn.metrics import mean_squared_error\n",
    "import torch\n",
    "from torch import nn,Tensor\n",
    "import torch.nn.functional as F\n",
    "from torch.utils.data import DataLoader, Dataset, SubsetRandomSampler\n",
    "from sklearn.metrics import average_precision_score\n",
    "from timm.scheduler import CosineLRScheduler\n",
    "plt.style.use(\"ggplot\")\n",
    "\n",
    "from transformers import get_cosine_schedule_with_warmup\n",
    "from transformers import AutoTokenizer, AutoConfig\n",
    "from transformers import AutoModel\n",
    "\n",
    "from pyarrow.parquet import ParquetFile\n",
    "import pyarrow as pa \n",
    "import ctypes\n",
    "torch.set_num_interop_threads(4)\n",
    "torch.set_num_threads(4)\n",
    "\n",
    "device = 'cuda' if torch.cuda.is_available() else 'cpu'"
   ]
  },
  {
   "cell_type": "code",
   "execution_count": 2,
   "id": "98007523",
   "metadata": {
    "execution": {
     "iopub.execute_input": "2023-12-11T15:27:38.627156Z",
     "iopub.status.busy": "2023-12-11T15:27:38.626498Z",
     "iopub.status.idle": "2023-12-11T15:27:38.631732Z",
     "shell.execute_reply": "2023-12-11T15:27:38.630868Z"
    },
    "papermill": {
     "duration": 0.016502,
     "end_time": "2023-12-11T15:27:38.633609",
     "exception": false,
     "start_time": "2023-12-11T15:27:38.617107",
     "status": "completed"
    },
    "tags": []
   },
   "outputs": [],
   "source": [
    "# Fundamental config\n",
    "WORKERS = os.cpu_count()//2\n",
    "N_FOLDS = 5\n",
    "\n",
    "SIGMA = 720 #average length of day is 24*60*12 = 17280 for comparison\n",
    "SAMPLE_FREQ = 12 # 1 obs per minute\n",
    "MAX_LEN = (24*60*12) # 1day per chunk\n",
    "MAX_CHUNK_LEN = MAX_LEN // SAMPLE_FREQ # 1440pts = 1day"
   ]
  },
  {
   "cell_type": "code",
   "execution_count": 3,
   "id": "a2b0e3b7",
   "metadata": {
    "execution": {
     "iopub.execute_input": "2023-12-11T15:27:38.651644Z",
     "iopub.status.busy": "2023-12-11T15:27:38.651359Z",
     "iopub.status.idle": "2023-12-11T15:27:38.674118Z",
     "shell.execute_reply": "2023-12-11T15:27:38.673257Z"
    },
    "papermill": {
     "duration": 0.034117,
     "end_time": "2023-12-11T15:27:38.676077",
     "exception": false,
     "start_time": "2023-12-11T15:27:38.641960",
     "status": "completed"
    },
    "tags": []
   },
   "outputs": [],
   "source": [
    "class PATHS:\n",
    "    MAIN_DIR = \"/kaggle/input/child-mind-institute-detect-sleep-states/\"\n",
    "    # CSV FILES : \n",
    "    SUBMISSION = MAIN_DIR + \"sample_submission.csv\"\n",
    "    TRAIN_EVENTS = MAIN_DIR + \"train_events.csv\"\n",
    "    # PARQUET FILES:\n",
    "    TRAIN_SERIES = MAIN_DIR + \"train_series.parquet\"\n",
    "    TEST_SERIES = MAIN_DIR + \"test_series.parquet\"\n",
    "class CFG:\n",
    "    DEMO_MODE = True\n",
    "class data_reader:\n",
    "    def __init__(self, demo_mode):\n",
    "        super().__init__()\n",
    "        # MAPPING FOR DATA LOADING :\n",
    "        self.names_mapping = {\n",
    "            \"submission\" : {\"path\" : PATHS.SUBMISSION, \"is_parquet\" : False, \"has_timestamp\" : False}, \n",
    "            \"train_events\" : {\"path\" : PATHS.TRAIN_EVENTS, \"is_parquet\" : False, \"has_timestamp\" : True},\n",
    "            \"train_series\" : {\"path\" : PATHS.TRAIN_SERIES, \"is_parquet\" : True, \"has_timestamp\" : True},\n",
    "            \"test_series\" : {\"path\" : PATHS.TEST_SERIES, \"is_parquet\" : True, \"has_timestamp\" : True}\n",
    "        }\n",
    "        self.valid_names = [\"submission\", \"train_events\", \"train_series\", \"test_series\"]\n",
    "        self.demo_mode = demo_mode\n",
    "    \n",
    "    def verify(self, data_name):\n",
    "        \"function for data name verification\"\n",
    "        if data_name not in self.valid_names:\n",
    "            print(\"PLEASE ENTER A VALID DATASET NAME, VALID NAMES ARE : \", valid_names)\n",
    "        return\n",
    "    \n",
    "    def cleaning(self, data):\n",
    "        \"cleaning function : drop na values\"\n",
    "        before_cleaning = len(data)\n",
    "        print(\"Number of missing timestamps : \", len(data[data[\"timestamp\"].isna()]))\n",
    "        data = data.dropna(subset=[\"timestamp\"])\n",
    "        after_cleaning = len(data)\n",
    "        print(\"Percentage of removed rows : {:.1f}%\".format(100 * (before_cleaning - after_cleaning) / before_cleaning) )\n",
    "#         print(data.isna().any())\n",
    "#         data = data.bfill()\n",
    "        return data\n",
    "    \n",
    "    @staticmethod\n",
    "    def reduce_memory_usage(data):\n",
    "        \"iterate through all the columns of a dataframe and modify the data type to reduce memory usage.\"\n",
    "        start_mem = data.memory_usage().sum() / 1024**2\n",
    "        print('Memory usage of dataframe is {:.2f} MB'.format(start_mem))\n",
    "        for col in data.columns:\n",
    "            col_type = data[col].dtype    \n",
    "            if col_type != object:\n",
    "                c_min = data[col].min()\n",
    "                c_max = data[col].max()\n",
    "                if str(col_type)[:3] == 'int':\n",
    "                    if c_min > np.iinfo(np.int8).min and c_max < np.iinfo(np.int8).max:\n",
    "                        data[col] = data[col].astype(np.int8)\n",
    "                    elif c_min > np.iinfo(np.int16).min and c_max < np.iinfo(np.int16).max:\n",
    "                        data[col] = data[col].astype(np.int16)\n",
    "                    elif c_min > np.iinfo(np.int32).min and c_max < np.iinfo(np.int32).max:\n",
    "                        data[col] = data[col].astype(np.int32)\n",
    "                    elif c_min > np.iinfo(np.int64).min and c_max < np.iinfo(np.int64).max:\n",
    "                        data[col] = data[col].astype(np.int64)  \n",
    "                else:\n",
    "                    if c_min > np.finfo(np.float16).min and c_max < np.finfo(np.float16).max:\n",
    "                        data[col] = data[col].astype(np.float16)\n",
    "                    elif c_min > np.finfo(np.float32).min and c_max < np.finfo(np.float32).max:\n",
    "                        data[col] = data[col].astype(np.float32)\n",
    "                    else:\n",
    "                        data[col] = data[col].astype(np.float64)\n",
    "            else:\n",
    "                data[col] = data[col].astype('category')\n",
    "\n",
    "        end_mem = data.memory_usage().sum() / 1024**2\n",
    "        print('Memory usage after optimization is: {:.2f} MB'.format(end_mem))\n",
    "        print('Decreased by {:.1f}%'.format(100 * (start_mem - end_mem) / start_mem))\n",
    "        return data\n",
    "    \n",
    "    def load_data(self, data_name):\n",
    "        \"function for data loading\"\n",
    "        self.verify(data_name)\n",
    "        data_props = self.names_mapping[data_name]\n",
    "        if data_props[\"is_parquet\"]:\n",
    "            if self.demo_mode:\n",
    "                pf = ParquetFile(data_props[\"path\"]) \n",
    "                demo_rows = next(pf.iter_batches(batch_size=20_000)) \n",
    "                data = pa.Table.from_batches([demo_rows]).to_pandas()\n",
    "            else:\n",
    "                data = pd.read_parquet(data_props[\"path\"])\n",
    "        else:\n",
    "            if self.demo_mode:\n",
    "                data = pd.read_csv(data_props[\"path\"], nrows=20_000)\n",
    "            else:\n",
    "                data = pd.read_csv(data_props[\"path\"])\n",
    "                \n",
    "        gc.collect()\n",
    "        if data_props[\"has_timestamp\"]:\n",
    "            print('cleaning')\n",
    "            data = self.cleaning(data)\n",
    "            gc.collect()\n",
    "        #data = self.reduce_memory_usage(data)\n",
    "        return data"
   ]
  },
  {
   "cell_type": "code",
   "execution_count": 4,
   "id": "65de9135",
   "metadata": {
    "execution": {
     "iopub.execute_input": "2023-12-11T15:27:38.693969Z",
     "iopub.status.busy": "2023-12-11T15:27:38.693697Z",
     "iopub.status.idle": "2023-12-11T15:27:39.522932Z",
     "shell.execute_reply": "2023-12-11T15:27:39.521995Z"
    },
    "papermill": {
     "duration": 0.840736,
     "end_time": "2023-12-11T15:27:39.525049",
     "exception": false,
     "start_time": "2023-12-11T15:27:38.684313",
     "status": "completed"
    },
    "tags": []
   },
   "outputs": [
    {
     "name": "stdout",
     "output_type": "stream",
     "text": [
      "cleaning\n",
      "Number of missing timestamps :  0\n",
      "Percentage of removed rows : 0.0%\n"
     ]
    },
    {
     "data": {
      "text/plain": [
       "0"
      ]
     },
     "execution_count": 4,
     "metadata": {},
     "output_type": "execute_result"
    }
   ],
   "source": [
    "reader = data_reader(demo_mode=False)\n",
    "test_series = reader.load_data(data_name=\"test_series\")\n",
    "ids = test_series.series_id.unique()\n",
    "gc.collect()"
   ]
  },
  {
   "cell_type": "code",
   "execution_count": 5,
   "id": "8e7f6f36",
   "metadata": {
    "execution": {
     "iopub.execute_input": "2023-12-11T15:27:39.543830Z",
     "iopub.status.busy": "2023-12-11T15:27:39.543529Z",
     "iopub.status.idle": "2023-12-11T15:27:39.559385Z",
     "shell.execute_reply": "2023-12-11T15:27:39.558453Z"
    },
    "papermill": {
     "duration": 0.027539,
     "end_time": "2023-12-11T15:27:39.561292",
     "exception": false,
     "start_time": "2023-12-11T15:27:39.533753",
     "status": "completed"
    },
    "tags": []
   },
   "outputs": [],
   "source": [
    "class US_BLK(nn.Module):\n",
    "    def __init__(self, in_c, out_c, in_len, ks=7, dilation=1, us_factor=2):\n",
    "        super().__init__()\n",
    "        padding = ((ks-1)*dilation)//2\n",
    "        self.us = nn.Upsample(scale_factor=us_factor, mode='linear')\n",
    "        self.conv1 = nn.Conv1d(in_c, out_c, ks, padding=padding, dilation=dilation)\n",
    "        self.ln1 = nn.LayerNorm([out_c, in_len])\n",
    "        self.act1 = nn.LeakyReLU(0.2)\n",
    "        self.conv2 = nn.Conv1d(out_c, out_c, ks, padding=padding, dilation=dilation)\n",
    "        self.ln2 = nn.LayerNorm([out_c, in_len])\n",
    "        self.act2 = nn.LeakyReLU(0.2)\n",
    "        \n",
    "    def forward(self, x):\n",
    "        x = self.us(x)\n",
    "        x = self.conv1(x)\n",
    "        x = self.ln1(x)\n",
    "        x = self.act1(x)\n",
    "        x = self.conv2(x)\n",
    "        x = self.ln2(x)\n",
    "        x = self.act2(x)\n",
    "        return x\n",
    "        \n",
    "class BertEncoder(torch.nn.Module):\n",
    "    \n",
    "    def __init__(self, conf, in_c=2, out_c=2, emb_dim=8, pretrained=True, base=96):\n",
    "        super().__init__()\n",
    "        \n",
    "        self.config = conf\n",
    "        \n",
    "        self.bert = AutoModel.from_config(self.config)\n",
    "            \n",
    "        self.bert = self.bert.encoder\n",
    "        \n",
    "        self.fc_in = nn.Linear(in_c, self.config.hidden_size-emb_dim)\n",
    "        self.hr_emb = nn.Embedding(24, emb_dim)\n",
    "\n",
    "        self.upsample_blocks = nn.ModuleList([])\n",
    "        self.upsample_blocks.append(US_BLK(self.config.hidden_size, base*4, MAX_LEN//(2*2), us_factor=3))\n",
    "        self.upsample_blocks.append(US_BLK(base*4, base*2, MAX_LEN//2, us_factor=2))\n",
    "        self.upsample_blocks.append(US_BLK(base*2, base, MAX_LEN, us_factor=2))\n",
    "        \n",
    "        self.fc_out = nn.Linear(base, out_c)\n",
    "\n",
    "    def forward(self, x, t, att_mask=None):\n",
    "        x = self.fc_in(x)        \n",
    "        t = self.hr_emb(t)\n",
    "        x = torch.cat([x, t.squeeze(2)], dim=-1)\n",
    "\n",
    "        if att_mask is None:\n",
    "            att_mask = torch.ones(x.size()[:2]).to(x.device)\n",
    "        \n",
    "        bert_output = self.bert(x, attention_mask=att_mask)\n",
    "        x = bert_output.last_hidden_state\n",
    "\n",
    "        x = x.permute(0,2,1)\n",
    "\n",
    "        for b in self.upsample_blocks:\n",
    "            x = b(x)\n",
    "\n",
    "        x = x.permute(0,2,1)\n",
    "        \n",
    "        scores = self.fc_out(x) \n",
    "        \n",
    "        return scores"
   ]
  },
  {
   "cell_type": "code",
   "execution_count": 6,
   "id": "9648c220",
   "metadata": {
    "execution": {
     "iopub.execute_input": "2023-12-11T15:27:39.579304Z",
     "iopub.status.busy": "2023-12-11T15:27:39.579037Z",
     "iopub.status.idle": "2023-12-11T15:27:39.583337Z",
     "shell.execute_reply": "2023-12-11T15:27:39.582282Z"
    },
    "papermill": {
     "duration": 0.015352,
     "end_time": "2023-12-11T15:27:39.585271",
     "exception": false,
     "start_time": "2023-12-11T15:27:39.569919",
     "status": "completed"
    },
    "tags": []
   },
   "outputs": [],
   "source": [
    "# print(np.load('/kaggle/input/cmi-dss-debertav3-public/feature_list.npy')==np.load('/kaggle/input/trans-anglez/feature_list.npy'))"
   ]
  },
  {
   "cell_type": "code",
   "execution_count": 7,
   "id": "2a5b2b20",
   "metadata": {
    "execution": {
     "iopub.execute_input": "2023-12-11T15:27:39.603647Z",
     "iopub.status.busy": "2023-12-11T15:27:39.603412Z",
     "iopub.status.idle": "2023-12-11T15:27:39.675636Z",
     "shell.execute_reply": "2023-12-11T15:27:39.674718Z"
    },
    "papermill": {
     "duration": 0.083541,
     "end_time": "2023-12-11T15:27:39.677536",
     "exception": false,
     "start_time": "2023-12-11T15:27:39.593995",
     "status": "completed"
    },
    "tags": []
   },
   "outputs": [
    {
     "name": "stderr",
     "output_type": "stream",
     "text": [
      "100%|██████████| 3/3 [00:00<00:00, 103.24it/s]\n"
     ]
    }
   ],
   "source": [
    "class SleepTestDataset(Dataset):\n",
    "    def __init__(\n",
    "        self,\n",
    "        test_series,\n",
    "        test_ids\n",
    "    ):\n",
    "        self.enmo_mean = np.load('/kaggle/input/detect-sleep-states-dataprepare/enmo_mean.npy') # np.zeros_like\n",
    "        self.enmo_std = np.load('/kaggle/input/detect-sleep-states-dataprepare/enmo_std.npy')\n",
    "\n",
    "        self.Xs = self.conv_dfs(test_series, test_ids)\n",
    "        \n",
    "        self.feat_list = np.load('/kaggle/input/aug-5-fold/feature_list.npy')\n",
    "        self.label_list = ['onset', 'wakeup']\n",
    "        \n",
    "        self.hour_feat= ['hour']\n",
    "        \n",
    "            \n",
    "    def conv_dfs(self, series, ids):\n",
    "        res = []\n",
    "        for j, viz_id in tqdm(enumerate(ids), total=len(ids)):\n",
    "            viz_series = series.loc[(series.series_id==viz_id)].copy().reset_index()\n",
    "            viz_series['dt'] = pd.to_datetime(viz_series.timestamp,format = '%Y-%m-%dT%H:%M:%S%z').astype(\"datetime64[ns, UTC-04:00]\")\n",
    "            viz_series['hour'] = viz_series['dt'].dt.hour\n",
    "            new_df = viz_series[['step', 'anglez', 'enmo', 'hour']]\n",
    "            res.append(new_df)\n",
    "\n",
    "        return res\n",
    "    \n",
    "\n",
    "    def norm_feat_eng(self, X, init=False):\n",
    "#         X['anglez'] = X['anglez'] / 90.0\n",
    "        X['anglez'] = abs(X['anglez'].diff()).fillna(method='bfill')\n",
    "        X['enmo'] = (X['enmo'] - self.enmo_mean) / (self.enmo_std + 1e-12)\n",
    "#         X['enmo'] = 100 / (X['enmo'] + 1)\n",
    "        \n",
    "        for w in [1, 2, 4, 8, 16]:    \n",
    "            X['anglez_shift_pos_' + str(w)] = X['anglez'].shift(w).fillna(0)\n",
    "            X['anglez_shift_neg_' + str(w)] = X['anglez'].shift(-w).fillna(0)\n",
    "            \n",
    "            X['enmo_shift_pos_' + str(w)] = X['enmo'].shift(w).fillna(0)\n",
    "            X['enmo_shift_neg_' + str(w)] = X['enmo'].shift(-w).fillna(0)\n",
    "            \n",
    "            if init:\n",
    "                self.feat_list.append('anglez_shift_pos_' + str(w))\n",
    "                self.feat_list.append('anglez_shift_neg_' + str(w))\n",
    "                \n",
    "                self.feat_list.append('enmo_shift_pos_' + str(w))\n",
    "                self.feat_list.append('enmo_shift_neg_' + str(w))\n",
    "            \n",
    "        for r in [17, 33, 65]:\n",
    "            tmp_anglez = X['anglez'].rolling(r, center=True)\n",
    "            X[f'anglez_mean_{r}'] = tmp_anglez.mean()\n",
    "            X[f'anglez_std_{r}'] = tmp_anglez.std()            \n",
    "            \n",
    "            tmp_enmo = X['enmo'].rolling(r, center=True)\n",
    "            X[f'enmo_mean_{r}'] = tmp_enmo.mean()\n",
    "            X[f'enmo_std_{r}'] = tmp_enmo.std()\n",
    "            \n",
    "            if init:\n",
    "                self.feat_list.append(f'anglez_mean_{r}')\n",
    "                self.feat_list.append(f'anglez_std_{r}')\n",
    "\n",
    "                self.feat_list.append(f'enmo_mean_{r}')\n",
    "                self.feat_list.append(f'enmo_std_{r}')\n",
    "                \n",
    "        X = X.fillna(0)\n",
    "        \n",
    "        return X.astype(np.float32)\n",
    "\n",
    "    def gauss(self,n=SIGMA,sigma=SIGMA*0.15):\n",
    "        # guassian distribution function\n",
    "        r = range(-int(n/2),int(n/2)+1)\n",
    "        return [1 / (sigma * sqrt(2*pi)) * exp(-float(x)**2/(2*sigma**2)) for x in r]\n",
    "    \n",
    "    def __len__(self):\n",
    "        return len(self.Xs)\n",
    "    \n",
    "    def compress(self, xt, method='mean', sample_freq=SAMPLE_FREQ):\n",
    "        x, t = xt\n",
    "        seq_len = x.shape[0]\n",
    "        if method == 'mean':\n",
    "            x = x.reshape(seq_len//sample_freq, sample_freq, -1).mean(1)\n",
    "            t = t.reshape(seq_len//sample_freq, sample_freq, 1).mean(1)\n",
    "            \n",
    "        else:\n",
    "            raise NotImplementedError()\n",
    "\n",
    "        \n",
    "        return x.astype(np.float32), t.astype(np.int32)\n",
    "\n",
    "    def __getitem__(self, index):\n",
    "        X = self.Xs[index].copy()\n",
    "        X = self.norm_feat_eng(X, init=False)\n",
    "        x = X[self.feat_list].values.astype(np.float32)     \n",
    "        t = X[self.hour_feat].values.astype(np.int32)\n",
    "        \n",
    "        if len(X)%SAMPLE_FREQ!=0:\n",
    "            res = SAMPLE_FREQ - (len(X)%SAMPLE_FREQ)\n",
    "            x = np.pad(x, ((0, res), (0, 0)))\n",
    "            t = np.pad(t, ((0, res), (0, 0)))\n",
    "            \n",
    "        x, t = self.compress((x, t), method='mean')\n",
    "                \n",
    "        return x, t\n",
    "\n",
    "test_ds = SleepTestDataset(test_series, ids)"
   ]
  },
  {
   "cell_type": "code",
   "execution_count": 8,
   "id": "cbb5981c",
   "metadata": {
    "execution": {
     "iopub.execute_input": "2023-12-11T15:27:39.696624Z",
     "iopub.status.busy": "2023-12-11T15:27:39.696367Z",
     "iopub.status.idle": "2023-12-11T15:27:39.703957Z",
     "shell.execute_reply": "2023-12-11T15:27:39.703082Z"
    },
    "papermill": {
     "duration": 0.019461,
     "end_time": "2023-12-11T15:27:39.705808",
     "exception": false,
     "start_time": "2023-12-11T15:27:39.686347",
     "status": "completed"
    },
    "tags": []
   },
   "outputs": [],
   "source": [
    "# class SleepDataset(Dataset):\n",
    "#     def __init__(\n",
    "#         self,\n",
    "#         folder,\n",
    "#         max_len=17280,\n",
    "#         is_train=False,\n",
    "#         sample_per_epoch=10000\n",
    "#     ):\n",
    "#         self.enmo_mean = np.load('/kaggle/input/detect-sleep-states-dataprepare/enmo_mean.npy')\n",
    "#         self.enmo_std = np.load('/kaggle/input/detect-sleep-states-dataprepare/enmo_std.npy')\n",
    "        \n",
    "#         self.max_len = max_len\n",
    "#         assert max_len % SAMPLE_FREQ == 0\n",
    "        \n",
    "#         self.is_train = is_train\n",
    "        \n",
    "#         self.max_df_size = 0\n",
    "#         self.min_df_size = 1e9\n",
    "        \n",
    "#         self.sample_per_epoch = sample_per_epoch\n",
    "        \n",
    "#         self.feat_list = ['anglez','enmo']\n",
    "        \n",
    "#         self.Xys = self.read_csvs(folder)        \n",
    "        \n",
    "#         self.label_list = ['onset', 'wakeup']\n",
    "        \n",
    "#         self.hour_feat= ['hour']\n",
    "        \n",
    "#         self.compress_methods = ['mean', 'median', 'fixed']\n",
    "        \n",
    "#     def read_csvs(self, folder):\n",
    "#         res = []\n",
    "#         if type(folder) is str:\n",
    "#             files = glob.glob(f'{folder}/*.csv')\n",
    "#         else:\n",
    "#             files = folder\n",
    "#         for i, f in tqdm(enumerate(files), total=len(files), leave=False):\n",
    "#             df = pd.read_csv(f)\n",
    "#             df = self.norm_feat_eng(df, init=True if i==0 else False)\n",
    "                \n",
    "#             res.append(df)\n",
    "#             self.max_df_size = max(self.max_df_size, len(df))\n",
    "#             self.min_df_size = min(self.min_df_size, len(df))\n",
    "#         return res\n",
    "    \n",
    "#     def compress(self, xt, method='mean', sample_freq=SAMPLE_FREQ):\n",
    "#         x, t = xt\n",
    "#         seq_len = x.shape[0]\n",
    "#         if method == 'mean':\n",
    "#             x = x.reshape(seq_len//sample_freq, sample_freq, -1).mean(1)\n",
    "#             t = t.reshape(seq_len//sample_freq, sample_freq, 1).mean(1)\n",
    "            \n",
    "#         if method == 'median':\n",
    "#             x = np.median(x.reshape(seq_len//sample_freq, sample_freq, -1), axis=1)\n",
    "#             t = np.median(t.reshape(seq_len//sample_freq, sample_freq, 1), axis=1)\n",
    "            \n",
    "#         if method == 'fixed':\n",
    "#             start = torch.randint(0, sample_freq, size=(1,))[0].numpy()\n",
    "#             x = x[start::sample_freq]\n",
    "#             t = t[start::sample_freq]\n",
    "        \n",
    "#         return x.astype(np.float32), t.astype(np.int32)\n",
    "\n",
    "#     def norm_feat_eng(self, X, init=False):\n",
    "#         X['anglez'] = X['anglez'] / 90.0\n",
    "#         X['enmo'] = (X['enmo'] - self.enmo_mean) / (self.enmo_std + 1e-12)\n",
    "        \n",
    "#         for w in [1, 2, 4, 8, 16]:    \n",
    "#             X['anglez_shift_pos_' + str(w)] = X['anglez'].shift(w).fillna(0)\n",
    "#             X['anglez_shift_neg_' + str(w)] = X['anglez'].shift(-w).fillna(0)\n",
    "            \n",
    "#             X['enmo_shift_pos_' + str(w)] = X['enmo'].shift(w).fillna(0)\n",
    "#             X['enmo_shift_neg_' + str(w)] = X['enmo'].shift(-w).fillna(0)\n",
    "            \n",
    "#             if init:\n",
    "#                 self.feat_list.append('anglez_shift_pos_' + str(w))\n",
    "#                 self.feat_list.append('anglez_shift_neg_' + str(w))\n",
    "                \n",
    "#                 self.feat_list.append('enmo_shift_pos_' + str(w))\n",
    "#                 self.feat_list.append('enmo_shift_neg_' + str(w))\n",
    "            \n",
    "#         for r in [17, 33, 65]:\n",
    "#             tmp_anglez = X['anglez'].rolling(r, center=True)\n",
    "#             X[f'anglez_mean_{r}'] = tmp_anglez.mean()\n",
    "#             X[f'anglez_std_{r}'] = tmp_anglez.std()            \n",
    "            \n",
    "#             tmp_enmo = X['enmo'].rolling(r, center=True)\n",
    "#             X[f'enmo_mean_{r}'] = tmp_enmo.mean()\n",
    "#             X[f'enmo_std_{r}'] = tmp_enmo.std()\n",
    "            \n",
    "#             if init:\n",
    "#                 self.feat_list.append(f'anglez_mean_{r}')\n",
    "#                 self.feat_list.append(f'anglez_std_{r}')\n",
    "\n",
    "#                 self.feat_list.append(f'enmo_mean_{r}')\n",
    "#                 self.feat_list.append(f'enmo_std_{r}')\n",
    "                \n",
    "#         X = X.fillna(0)\n",
    "        \n",
    "#         return X.astype(np.float32)\n",
    "\n",
    "#     def gauss(self, n=SIGMA, sigma=SIGMA*0.15):\n",
    "#         # guassian distribution function\n",
    "#         r = range(-int(n/2),int(n/2)+1)\n",
    "#         return [1 / (sigma * sqrt(2*pi)) * exp(-float(x)**2/(2*sigma**2)) for x in r]\n",
    "    \n",
    "#     def __len__(self):\n",
    "#         return self.sample_per_epoch if self.is_train else len(self.Xys)\n",
    "\n",
    "#     def __getitem__(self, index):\n",
    "#         Xy = self.Xys[index].copy()\n",
    "#         X = Xy[self.feat_list].values.astype(np.float32)     \n",
    "#         t = Xy[self.hour_feat].values.astype(np.int32)\n",
    "\n",
    "#         if len(Xy)%SAMPLE_FREQ!=0:\n",
    "#             res = SAMPLE_FREQ - (len(Xy)%SAMPLE_FREQ)\n",
    "#             X = np.pad(X, ((0, res), (0, 0)))\n",
    "#             t = np.pad(t, ((0, res), (0, 0)))\n",
    "\n",
    "#         X, t = self.compress((X, t), method='mean')\n",
    "\n",
    "#         return X, t\n",
    "\n",
    "# import glob\n",
    "# valid_fpaths = sorted(glob.glob(f\"/kaggle/input/detect-sleep-states-dataprepare/train_csvs/*.csv\"))\n",
    "# test_ds = SleepDataset(valid_fpaths, is_train=False)"
   ]
  },
  {
   "cell_type": "code",
   "execution_count": 9,
   "id": "7ffadad5",
   "metadata": {
    "execution": {
     "iopub.execute_input": "2023-12-11T15:27:39.725039Z",
     "iopub.status.busy": "2023-12-11T15:27:39.724773Z",
     "iopub.status.idle": "2023-12-11T15:27:39.764087Z",
     "shell.execute_reply": "2023-12-11T15:27:39.763249Z"
    },
    "papermill": {
     "duration": 0.051363,
     "end_time": "2023-12-11T15:27:39.766004",
     "exception": false,
     "start_time": "2023-12-11T15:27:39.714641",
     "status": "completed"
    },
    "tags": []
   },
   "outputs": [
    {
     "data": {
      "text/plain": [
       "(13, 34)"
      ]
     },
     "execution_count": 9,
     "metadata": {},
     "output_type": "execute_result"
    }
   ],
   "source": [
    "test_ds[0][0].shape"
   ]
  },
  {
   "cell_type": "code",
   "execution_count": 10,
   "id": "0790b562",
   "metadata": {
    "execution": {
     "iopub.execute_input": "2023-12-11T15:27:39.785080Z",
     "iopub.status.busy": "2023-12-11T15:27:39.784808Z",
     "iopub.status.idle": "2023-12-11T15:27:39.816851Z",
     "shell.execute_reply": "2023-12-11T15:27:39.815975Z"
    },
    "papermill": {
     "duration": 0.043831,
     "end_time": "2023-12-11T15:27:39.818858",
     "exception": false,
     "start_time": "2023-12-11T15:27:39.775027",
     "status": "completed"
    },
    "tags": []
   },
   "outputs": [
    {
     "data": {
      "text/html": [
       "<div>\n",
       "<style scoped>\n",
       "    .dataframe tbody tr th:only-of-type {\n",
       "        vertical-align: middle;\n",
       "    }\n",
       "\n",
       "    .dataframe tbody tr th {\n",
       "        vertical-align: top;\n",
       "    }\n",
       "\n",
       "    .dataframe thead th {\n",
       "        text-align: right;\n",
       "    }\n",
       "</style>\n",
       "<table border=\"1\" class=\"dataframe\">\n",
       "  <thead>\n",
       "    <tr style=\"text-align: right;\">\n",
       "      <th></th>\n",
       "      <th>step</th>\n",
       "      <th>anglez</th>\n",
       "      <th>enmo</th>\n",
       "      <th>hour</th>\n",
       "    </tr>\n",
       "  </thead>\n",
       "  <tbody>\n",
       "    <tr>\n",
       "      <th>0</th>\n",
       "      <td>0</td>\n",
       "      <td>2.636700</td>\n",
       "      <td>0.0217</td>\n",
       "      <td>15</td>\n",
       "    </tr>\n",
       "    <tr>\n",
       "      <th>1</th>\n",
       "      <td>1</td>\n",
       "      <td>2.636800</td>\n",
       "      <td>0.0215</td>\n",
       "      <td>15</td>\n",
       "    </tr>\n",
       "    <tr>\n",
       "      <th>2</th>\n",
       "      <td>2</td>\n",
       "      <td>2.637000</td>\n",
       "      <td>0.0216</td>\n",
       "      <td>15</td>\n",
       "    </tr>\n",
       "    <tr>\n",
       "      <th>3</th>\n",
       "      <td>3</td>\n",
       "      <td>2.636800</td>\n",
       "      <td>0.0213</td>\n",
       "      <td>15</td>\n",
       "    </tr>\n",
       "    <tr>\n",
       "      <th>4</th>\n",
       "      <td>4</td>\n",
       "      <td>2.636800</td>\n",
       "      <td>0.0215</td>\n",
       "      <td>15</td>\n",
       "    </tr>\n",
       "    <tr>\n",
       "      <th>...</th>\n",
       "      <td>...</td>\n",
       "      <td>...</td>\n",
       "      <td>...</td>\n",
       "      <td>...</td>\n",
       "    </tr>\n",
       "    <tr>\n",
       "      <th>145</th>\n",
       "      <td>145</td>\n",
       "      <td>-79.990601</td>\n",
       "      <td>0.0135</td>\n",
       "      <td>15</td>\n",
       "    </tr>\n",
       "    <tr>\n",
       "      <th>146</th>\n",
       "      <td>146</td>\n",
       "      <td>-80.028999</td>\n",
       "      <td>0.0136</td>\n",
       "      <td>15</td>\n",
       "    </tr>\n",
       "    <tr>\n",
       "      <th>147</th>\n",
       "      <td>147</td>\n",
       "      <td>-80.009300</td>\n",
       "      <td>0.0137</td>\n",
       "      <td>15</td>\n",
       "    </tr>\n",
       "    <tr>\n",
       "      <th>148</th>\n",
       "      <td>148</td>\n",
       "      <td>-80.066902</td>\n",
       "      <td>0.0135</td>\n",
       "      <td>15</td>\n",
       "    </tr>\n",
       "    <tr>\n",
       "      <th>149</th>\n",
       "      <td>149</td>\n",
       "      <td>-80.153503</td>\n",
       "      <td>0.0136</td>\n",
       "      <td>15</td>\n",
       "    </tr>\n",
       "  </tbody>\n",
       "</table>\n",
       "<p>150 rows × 4 columns</p>\n",
       "</div>"
      ],
      "text/plain": [
       "     step     anglez    enmo  hour\n",
       "0       0   2.636700  0.0217    15\n",
       "1       1   2.636800  0.0215    15\n",
       "2       2   2.637000  0.0216    15\n",
       "3       3   2.636800  0.0213    15\n",
       "4       4   2.636800  0.0215    15\n",
       "..    ...        ...     ...   ...\n",
       "145   145 -79.990601  0.0135    15\n",
       "146   146 -80.028999  0.0136    15\n",
       "147   147 -80.009300  0.0137    15\n",
       "148   148 -80.066902  0.0135    15\n",
       "149   149 -80.153503  0.0136    15\n",
       "\n",
       "[150 rows x 4 columns]"
      ]
     },
     "metadata": {},
     "output_type": "display_data"
    },
    {
     "data": {
      "text/html": [
       "<div>\n",
       "<style scoped>\n",
       "    .dataframe tbody tr th:only-of-type {\n",
       "        vertical-align: middle;\n",
       "    }\n",
       "\n",
       "    .dataframe tbody tr th {\n",
       "        vertical-align: top;\n",
       "    }\n",
       "\n",
       "    .dataframe thead th {\n",
       "        text-align: right;\n",
       "    }\n",
       "</style>\n",
       "<table border=\"1\" class=\"dataframe\">\n",
       "  <thead>\n",
       "    <tr style=\"text-align: right;\">\n",
       "      <th></th>\n",
       "      <th>step</th>\n",
       "      <th>anglez</th>\n",
       "      <th>enmo</th>\n",
       "      <th>hour</th>\n",
       "    </tr>\n",
       "  </thead>\n",
       "  <tbody>\n",
       "    <tr>\n",
       "      <th>0</th>\n",
       "      <td>0</td>\n",
       "      <td>38.892899</td>\n",
       "      <td>0.0803</td>\n",
       "      <td>12</td>\n",
       "    </tr>\n",
       "    <tr>\n",
       "      <th>1</th>\n",
       "      <td>1</td>\n",
       "      <td>29.374399</td>\n",
       "      <td>0.0752</td>\n",
       "      <td>12</td>\n",
       "    </tr>\n",
       "    <tr>\n",
       "      <th>2</th>\n",
       "      <td>2</td>\n",
       "      <td>37.225101</td>\n",
       "      <td>0.1791</td>\n",
       "      <td>12</td>\n",
       "    </tr>\n",
       "    <tr>\n",
       "      <th>3</th>\n",
       "      <td>3</td>\n",
       "      <td>46.937000</td>\n",
       "      <td>0.0922</td>\n",
       "      <td>12</td>\n",
       "    </tr>\n",
       "    <tr>\n",
       "      <th>4</th>\n",
       "      <td>4</td>\n",
       "      <td>60.486698</td>\n",
       "      <td>0.0342</td>\n",
       "      <td>12</td>\n",
       "    </tr>\n",
       "    <tr>\n",
       "      <th>...</th>\n",
       "      <td>...</td>\n",
       "      <td>...</td>\n",
       "      <td>...</td>\n",
       "      <td>...</td>\n",
       "    </tr>\n",
       "    <tr>\n",
       "      <th>145</th>\n",
       "      <td>145</td>\n",
       "      <td>-88.216599</td>\n",
       "      <td>0.0000</td>\n",
       "      <td>12</td>\n",
       "    </tr>\n",
       "    <tr>\n",
       "      <th>146</th>\n",
       "      <td>146</td>\n",
       "      <td>-88.216599</td>\n",
       "      <td>0.0000</td>\n",
       "      <td>12</td>\n",
       "    </tr>\n",
       "    <tr>\n",
       "      <th>147</th>\n",
       "      <td>147</td>\n",
       "      <td>-88.216599</td>\n",
       "      <td>0.0000</td>\n",
       "      <td>12</td>\n",
       "    </tr>\n",
       "    <tr>\n",
       "      <th>148</th>\n",
       "      <td>148</td>\n",
       "      <td>-88.216599</td>\n",
       "      <td>0.0000</td>\n",
       "      <td>12</td>\n",
       "    </tr>\n",
       "    <tr>\n",
       "      <th>149</th>\n",
       "      <td>149</td>\n",
       "      <td>-88.216599</td>\n",
       "      <td>0.0000</td>\n",
       "      <td>12</td>\n",
       "    </tr>\n",
       "  </tbody>\n",
       "</table>\n",
       "<p>150 rows × 4 columns</p>\n",
       "</div>"
      ],
      "text/plain": [
       "     step     anglez    enmo  hour\n",
       "0       0  38.892899  0.0803    12\n",
       "1       1  29.374399  0.0752    12\n",
       "2       2  37.225101  0.1791    12\n",
       "3       3  46.937000  0.0922    12\n",
       "4       4  60.486698  0.0342    12\n",
       "..    ...        ...     ...   ...\n",
       "145   145 -88.216599  0.0000    12\n",
       "146   146 -88.216599  0.0000    12\n",
       "147   147 -88.216599  0.0000    12\n",
       "148   148 -88.216599  0.0000    12\n",
       "149   149 -88.216599  0.0000    12\n",
       "\n",
       "[150 rows x 4 columns]"
      ]
     },
     "metadata": {},
     "output_type": "display_data"
    },
    {
     "data": {
      "text/html": [
       "<div>\n",
       "<style scoped>\n",
       "    .dataframe tbody tr th:only-of-type {\n",
       "        vertical-align: middle;\n",
       "    }\n",
       "\n",
       "    .dataframe tbody tr th {\n",
       "        vertical-align: top;\n",
       "    }\n",
       "\n",
       "    .dataframe thead th {\n",
       "        text-align: right;\n",
       "    }\n",
       "</style>\n",
       "<table border=\"1\" class=\"dataframe\">\n",
       "  <thead>\n",
       "    <tr style=\"text-align: right;\">\n",
       "      <th></th>\n",
       "      <th>step</th>\n",
       "      <th>anglez</th>\n",
       "      <th>enmo</th>\n",
       "      <th>hour</th>\n",
       "    </tr>\n",
       "  </thead>\n",
       "  <tbody>\n",
       "    <tr>\n",
       "      <th>0</th>\n",
       "      <td>0</td>\n",
       "      <td>-77.314903</td>\n",
       "      <td>0.0868</td>\n",
       "      <td>13</td>\n",
       "    </tr>\n",
       "    <tr>\n",
       "      <th>1</th>\n",
       "      <td>1</td>\n",
       "      <td>-52.183800</td>\n",
       "      <td>0.0434</td>\n",
       "      <td>13</td>\n",
       "    </tr>\n",
       "    <tr>\n",
       "      <th>2</th>\n",
       "      <td>2</td>\n",
       "      <td>-53.218601</td>\n",
       "      <td>0.0541</td>\n",
       "      <td>13</td>\n",
       "    </tr>\n",
       "    <tr>\n",
       "      <th>3</th>\n",
       "      <td>3</td>\n",
       "      <td>-51.541698</td>\n",
       "      <td>0.0612</td>\n",
       "      <td>13</td>\n",
       "    </tr>\n",
       "    <tr>\n",
       "      <th>4</th>\n",
       "      <td>4</td>\n",
       "      <td>-24.637300</td>\n",
       "      <td>0.0591</td>\n",
       "      <td>13</td>\n",
       "    </tr>\n",
       "    <tr>\n",
       "      <th>...</th>\n",
       "      <td>...</td>\n",
       "      <td>...</td>\n",
       "      <td>...</td>\n",
       "      <td>...</td>\n",
       "    </tr>\n",
       "    <tr>\n",
       "      <th>145</th>\n",
       "      <td>145</td>\n",
       "      <td>-59.696899</td>\n",
       "      <td>0.0601</td>\n",
       "      <td>13</td>\n",
       "    </tr>\n",
       "    <tr>\n",
       "      <th>146</th>\n",
       "      <td>146</td>\n",
       "      <td>-35.656601</td>\n",
       "      <td>0.0427</td>\n",
       "      <td>13</td>\n",
       "    </tr>\n",
       "    <tr>\n",
       "      <th>147</th>\n",
       "      <td>147</td>\n",
       "      <td>-21.582399</td>\n",
       "      <td>0.0309</td>\n",
       "      <td>13</td>\n",
       "    </tr>\n",
       "    <tr>\n",
       "      <th>148</th>\n",
       "      <td>148</td>\n",
       "      <td>-42.616001</td>\n",
       "      <td>0.0328</td>\n",
       "      <td>13</td>\n",
       "    </tr>\n",
       "    <tr>\n",
       "      <th>149</th>\n",
       "      <td>149</td>\n",
       "      <td>7.029900</td>\n",
       "      <td>0.0081</td>\n",
       "      <td>13</td>\n",
       "    </tr>\n",
       "  </tbody>\n",
       "</table>\n",
       "<p>150 rows × 4 columns</p>\n",
       "</div>"
      ],
      "text/plain": [
       "     step     anglez    enmo  hour\n",
       "0       0 -77.314903  0.0868    13\n",
       "1       1 -52.183800  0.0434    13\n",
       "2       2 -53.218601  0.0541    13\n",
       "3       3 -51.541698  0.0612    13\n",
       "4       4 -24.637300  0.0591    13\n",
       "..    ...        ...     ...   ...\n",
       "145   145 -59.696899  0.0601    13\n",
       "146   146 -35.656601  0.0427    13\n",
       "147   147 -21.582399  0.0309    13\n",
       "148   148 -42.616001  0.0328    13\n",
       "149   149   7.029900  0.0081    13\n",
       "\n",
       "[150 rows x 4 columns]"
      ]
     },
     "metadata": {},
     "output_type": "display_data"
    }
   ],
   "source": [
    "if len(test_ds.Xs)==3:\n",
    "    for x in test_ds.Xs:\n",
    "        display(x)"
   ]
  },
  {
   "cell_type": "code",
   "execution_count": 11,
   "id": "0d64642e",
   "metadata": {
    "execution": {
     "iopub.execute_input": "2023-12-11T15:27:39.839780Z",
     "iopub.status.busy": "2023-12-11T15:27:39.839478Z",
     "iopub.status.idle": "2023-12-11T15:27:40.726463Z",
     "shell.execute_reply": "2023-12-11T15:27:40.725489Z"
    },
    "papermill": {
     "duration": 0.899587,
     "end_time": "2023-12-11T15:27:40.728653",
     "exception": false,
     "start_time": "2023-12-11T15:27:39.829066",
     "status": "completed"
    },
    "tags": []
   },
   "outputs": [
    {
     "data": {
      "image/png": "[encoded data removed]",
      "text/plain": [
       "<Figure size 640x480 with 1 Axes>"
      ]
     },
     "metadata": {},
     "output_type": "display_data"
    },
    {
     "data": {
      "image/png": "[encoded data removed]",
      "text/plain": [
       "<Figure size 640x480 with 1 Axes>"
      ]
     },
     "metadata": {},
     "output_type": "display_data"
    },
    {
     "data": {
      "image/png": "[encoded data removed]",
      "text/plain": [
       "<Figure size 640x480 with 1 Axes>"
      ]
     },
     "metadata": {},
     "output_type": "display_data"
    }
   ],
   "source": [
    "if len(test_ds.Xs)==3:\n",
    "    for i, x in enumerate(test_ds.Xs):\n",
    "        plt.plot(x['enmo'], lw=0.5)\n",
    "        plt.title(ids[i])\n",
    "        plt.show()"
   ]
  },
  {
   "cell_type": "code",
   "execution_count": 12,
   "id": "88d24c0a",
   "metadata": {
    "execution": {
     "iopub.execute_input": "2023-12-11T15:27:40.752726Z",
     "iopub.status.busy": "2023-12-11T15:27:40.752403Z",
     "iopub.status.idle": "2023-12-11T15:27:41.009261Z",
     "shell.execute_reply": "2023-12-11T15:27:41.008402Z"
    },
    "papermill": {
     "duration": 0.27119,
     "end_time": "2023-12-11T15:27:41.011388",
     "exception": false,
     "start_time": "2023-12-11T15:27:40.740198",
     "status": "completed"
    },
    "tags": []
   },
   "outputs": [
    {
     "data": {
      "text/plain": [
       "7423"
      ]
     },
     "execution_count": 12,
     "metadata": {},
     "output_type": "execute_result"
    }
   ],
   "source": [
    "del test_series, reader\n",
    "gc.collect()"
   ]
  },
  {
   "cell_type": "code",
   "execution_count": 13,
   "id": "b489a77d",
   "metadata": {
    "execution": {
     "iopub.execute_input": "2023-12-11T15:27:41.035325Z",
     "iopub.status.busy": "2023-12-11T15:27:41.035054Z",
     "iopub.status.idle": "2023-12-11T15:27:41.039075Z",
     "shell.execute_reply": "2023-12-11T15:27:41.038304Z"
    },
    "papermill": {
     "duration": 0.018187,
     "end_time": "2023-12-11T15:27:41.041022",
     "exception": false,
     "start_time": "2023-12-11T15:27:41.022835",
     "status": "completed"
    },
    "tags": []
   },
   "outputs": [],
   "source": [
    "# Model config\n",
    "EMB_DIM = 32\n",
    "MODEL_NAME = 'microsoft/deberta-v3-xsmall'\n",
    "CONF_PATH = '/kaggle/input/aug-5-fold/deberta-v3-small_config.pth'"
   ]
  },
  {
   "cell_type": "code",
   "execution_count": 14,
   "id": "14079d85",
   "metadata": {
    "execution": {
     "iopub.execute_input": "2023-12-11T15:27:41.064429Z",
     "iopub.status.busy": "2023-12-11T15:27:41.064154Z",
     "iopub.status.idle": "2023-12-11T15:27:41.068577Z",
     "shell.execute_reply": "2023-12-11T15:27:41.067828Z"
    },
    "papermill": {
     "duration": 0.01836,
     "end_time": "2023-12-11T15:27:41.070608",
     "exception": false,
     "start_time": "2023-12-11T15:27:41.052248",
     "status": "completed"
    },
    "tags": []
   },
   "outputs": [],
   "source": [
    "test_dl = DataLoader(\n",
    "    test_ds,\n",
    "    batch_size=1,\n",
    "    pin_memory=True,\n",
    "    num_workers=WORKERS,\n",
    "    shuffle=False,\n",
    "    drop_last=False\n",
    ")"
   ]
  },
  {
   "cell_type": "code",
   "execution_count": 15,
   "id": "ad6838d9",
   "metadata": {
    "execution": {
     "iopub.execute_input": "2023-12-11T15:27:41.094370Z",
     "iopub.status.busy": "2023-12-11T15:27:41.094067Z",
     "iopub.status.idle": "2023-12-11T15:27:41.109772Z",
     "shell.execute_reply": "2023-12-11T15:27:41.108987Z"
    },
    "papermill": {
     "duration": 0.029859,
     "end_time": "2023-12-11T15:27:41.111689",
     "exception": false,
     "start_time": "2023-12-11T15:27:41.081830",
     "status": "completed"
    },
    "tags": []
   },
   "outputs": [],
   "source": [
    "conf = torch.load(CONF_PATH)"
   ]
  },
  {
   "cell_type": "code",
   "execution_count": 16,
   "id": "8473ef20",
   "metadata": {
    "execution": {
     "iopub.execute_input": "2023-12-11T15:27:41.135440Z",
     "iopub.status.busy": "2023-12-11T15:27:41.135161Z",
     "iopub.status.idle": "2023-12-11T15:27:41.138796Z",
     "shell.execute_reply": "2023-12-11T15:27:41.138017Z"
    },
    "papermill": {
     "duration": 0.017787,
     "end_time": "2023-12-11T15:27:41.140780",
     "exception": false,
     "start_time": "2023-12-11T15:27:41.122993",
     "status": "completed"
    },
    "tags": []
   },
   "outputs": [],
   "source": [
    "# print(conf)\n",
    "# print(torch.load('/kaggle/input/cmi-dss-debertav3-baseline/DebertaV3XS_Baseline/deberta-v3-small_config.pth'))\n"
   ]
  },
  {
   "cell_type": "code",
   "execution_count": 17,
   "id": "4dac7bbe",
   "metadata": {
    "execution": {
     "iopub.execute_input": "2023-12-11T15:27:41.164577Z",
     "iopub.status.busy": "2023-12-11T15:27:41.164285Z",
     "iopub.status.idle": "2023-12-11T15:27:41.169552Z",
     "shell.execute_reply": "2023-12-11T15:27:41.168799Z"
    },
    "papermill": {
     "duration": 0.019224,
     "end_time": "2023-12-11T15:27:41.171531",
     "exception": false,
     "start_time": "2023-12-11T15:27:41.152307",
     "status": "completed"
    },
    "tags": []
   },
   "outputs": [],
   "source": [
    "autocast = torch.cuda.amp.autocast(enabled=True, dtype=torch.half)\n",
    "scaler = torch.cuda.amp.GradScaler(enabled=True, init_scale=4096)"
   ]
  },
  {
   "cell_type": "code",
   "execution_count": 18,
   "id": "b3025309",
   "metadata": {
    "execution": {
     "iopub.execute_input": "2023-12-11T15:27:41.194980Z",
     "iopub.status.busy": "2023-12-11T15:27:41.194686Z",
     "iopub.status.idle": "2023-12-11T15:27:41.199769Z",
     "shell.execute_reply": "2023-12-11T15:27:41.198928Z"
    },
    "papermill": {
     "duration": 0.019129,
     "end_time": "2023-12-11T15:27:41.201761",
     "exception": false,
     "start_time": "2023-12-11T15:27:41.182632",
     "status": "completed"
    },
    "tags": []
   },
   "outputs": [],
   "source": [
    "def lpf(wave, fs=12*60*24, fe=60, n=3):\n",
    "    nyq = fs / 2.0\n",
    "    b, a = signal.butter(1, fe/nyq, btype='low')\n",
    "    for i in range(0, n):\n",
    "        wave = signal.filtfilt(b, a, wave)\n",
    "    return wave"
   ]
  },
  {
   "cell_type": "code",
   "execution_count": 19,
   "id": "9dd7bbc2",
   "metadata": {
    "execution": {
     "iopub.execute_input": "2023-12-11T15:27:41.225113Z",
     "iopub.status.busy": "2023-12-11T15:27:41.224854Z",
     "iopub.status.idle": "2023-12-11T15:27:41.229473Z",
     "shell.execute_reply": "2023-12-11T15:27:41.228588Z"
    },
    "papermill": {
     "duration": 0.018498,
     "end_time": "2023-12-11T15:27:41.231512",
     "exception": false,
     "start_time": "2023-12-11T15:27:41.213014",
     "status": "completed"
    },
    "tags": []
   },
   "outputs": [],
   "source": [
    "def padding_(x, tgt_len=MAX_CHUNK_LEN):\n",
    "    res = tgt_len - (x.size(-2) % tgt_len)\n",
    "    x = F.pad(x, (0, 0, 0, res))\n",
    "    return x"
   ]
  },
  {
   "cell_type": "code",
   "execution_count": 20,
   "id": "a9411acd",
   "metadata": {
    "execution": {
     "iopub.execute_input": "2023-12-11T15:27:41.254966Z",
     "iopub.status.busy": "2023-12-11T15:27:41.254640Z",
     "iopub.status.idle": "2023-12-11T15:27:41.259034Z",
     "shell.execute_reply": "2023-12-11T15:27:41.258204Z"
    },
    "papermill": {
     "duration": 0.018509,
     "end_time": "2023-12-11T15:27:41.261191",
     "exception": false,
     "start_time": "2023-12-11T15:27:41.242682",
     "status": "completed"
    },
    "tags": []
   },
   "outputs": [],
   "source": [
    "submission = pd.DataFrame()"
   ]
  },
  {
   "cell_type": "code",
   "execution_count": 21,
   "id": "fa0152d4",
   "metadata": {
    "execution": {
     "iopub.execute_input": "2023-12-11T15:27:41.284566Z",
     "iopub.status.busy": "2023-12-11T15:27:41.284276Z",
     "iopub.status.idle": "2023-12-11T15:28:22.571762Z",
     "shell.execute_reply": "2023-12-11T15:28:22.570746Z"
    },
    "papermill": {
     "duration": 41.301798,
     "end_time": "2023-12-11T15:28:22.574193",
     "exception": false,
     "start_time": "2023-12-11T15:27:41.272395",
     "status": "completed"
    },
    "tags": []
   },
   "outputs": [
    {
     "name": "stderr",
     "output_type": "stream",
     "text": [
      "  0%|          | 0/3 [00:00<?, ?it/s]"
     ]
    },
    {
     "name": "stdout",
     "output_type": "stream",
     "text": [
      "tensor(331.4587, device='cuda:0') tensor(331.4587, device='cuda:0') tensor(-1159.5752, device='cuda:0')\n"
     ]
    },
    {
     "name": "stderr",
     "output_type": "stream",
     "text": [
      " 33%|███▎      | 1/3 [00:05<00:10,  5.22s/it]"
     ]
    },
    {
     "name": "stdout",
     "output_type": "stream",
     "text": [
      "tensor(537.4474, device='cuda:0') tensor(537.4474, device='cuda:0') tensor(-1148.4121, device='cuda:0')\n"
     ]
    },
    {
     "name": "stderr",
     "output_type": "stream",
     "text": [
      " 67%|██████▋   | 2/3 [00:05<00:02,  2.37s/it]"
     ]
    },
    {
     "name": "stdout",
     "output_type": "stream",
     "text": [
      "tensor(2825.5073, device='cuda:0') tensor(2825.5073, device='cuda:0') tensor(-1057.5127, device='cuda:0')\n"
     ]
    },
    {
     "name": "stderr",
     "output_type": "stream",
     "text": [
      "100%|██████████| 3/3 [00:06<00:00,  2.02s/it]\n",
      "  0%|          | 0/3 [00:00<?, ?it/s]"
     ]
    },
    {
     "name": "stdout",
     "output_type": "stream",
     "text": [
      "tensor(331.4587, device='cuda:0') tensor(331.4587, device='cuda:0') tensor(-1042.1367, device='cuda:0')\n"
     ]
    },
    {
     "name": "stderr",
     "output_type": "stream",
     "text": [
      " 33%|███▎      | 1/3 [00:00<00:01,  1.52it/s]"
     ]
    },
    {
     "name": "stdout",
     "output_type": "stream",
     "text": [
      "tensor(537.4474, device='cuda:0') tensor(537.4474, device='cuda:0') tensor(-1017.3545, device='cuda:0')\n"
     ]
    },
    {
     "name": "stderr",
     "output_type": "stream",
     "text": [
      " 67%|██████▋   | 2/3 [00:01<00:00,  2.05it/s]"
     ]
    },
    {
     "name": "stdout",
     "output_type": "stream",
     "text": [
      "tensor(2825.5073, device='cuda:0') tensor(2825.5073, device='cuda:0') tensor(-868.2344, device='cuda:0')\n"
     ]
    },
    {
     "name": "stderr",
     "output_type": "stream",
     "text": [
      "100%|██████████| 3/3 [00:01<00:00,  2.06it/s]\n",
      "  0%|          | 0/3 [00:00<?, ?it/s]"
     ]
    },
    {
     "name": "stdout",
     "output_type": "stream",
     "text": [
      "tensor(331.4587, device='cuda:0') tensor(331.4587, device='cuda:0') tensor(-918.1016, device='cuda:0')\n"
     ]
    },
    {
     "name": "stderr",
     "output_type": "stream",
     "text": [
      " 33%|███▎      | 1/3 [00:00<00:01,  1.52it/s]"
     ]
    },
    {
     "name": "stdout",
     "output_type": "stream",
     "text": [
      "tensor(537.4474, device='cuda:0') tensor(537.4474, device='cuda:0') tensor(-915.5771, device='cuda:0')\n"
     ]
    },
    {
     "name": "stderr",
     "output_type": "stream",
     "text": [
      " 67%|██████▋   | 2/3 [00:01<00:00,  2.04it/s]"
     ]
    },
    {
     "name": "stdout",
     "output_type": "stream",
     "text": [
      "tensor(2825.5073, device='cuda:0') tensor(2825.5073, device='cuda:0') tensor(-911.0166, device='cuda:0')\n"
     ]
    },
    {
     "name": "stderr",
     "output_type": "stream",
     "text": [
      "100%|██████████| 3/3 [00:01<00:00,  2.06it/s]\n",
      "  0%|          | 0/3 [00:00<?, ?it/s]"
     ]
    },
    {
     "name": "stdout",
     "output_type": "stream",
     "text": [
      "tensor(331.4587, device='cuda:0') tensor(331.4587, device='cuda:0') tensor(-1121.2119, device='cuda:0')\n"
     ]
    },
    {
     "name": "stderr",
     "output_type": "stream",
     "text": [
      " 33%|███▎      | 1/3 [00:00<00:01,  1.43it/s]"
     ]
    },
    {
     "name": "stdout",
     "output_type": "stream",
     "text": [
      "tensor(537.4474, device='cuda:0') tensor(537.4474, device='cuda:0') tensor(-1126.3076, device='cuda:0')\n"
     ]
    },
    {
     "name": "stderr",
     "output_type": "stream",
     "text": [
      " 67%|██████▋   | 2/3 [00:01<00:00,  1.96it/s]"
     ]
    },
    {
     "name": "stdout",
     "output_type": "stream",
     "text": [
      "tensor(2825.5073, device='cuda:0') tensor(2825.5073, device='cuda:0') tensor(-1117.1699, device='cuda:0')\n"
     ]
    },
    {
     "name": "stderr",
     "output_type": "stream",
     "text": [
      "100%|██████████| 3/3 [00:01<00:00,  1.99it/s]\n",
      "  0%|          | 0/3 [00:00<?, ?it/s]"
     ]
    },
    {
     "name": "stdout",
     "output_type": "stream",
     "text": [
      "tensor(331.4587, device='cuda:0') tensor(331.4587, device='cuda:0') tensor(-690.9175, device='cuda:0')\n"
     ]
    },
    {
     "name": "stderr",
     "output_type": "stream",
     "text": [
      " 33%|███▎      | 1/3 [00:00<00:01,  1.50it/s]"
     ]
    },
    {
     "name": "stdout",
     "output_type": "stream",
     "text": [
      "tensor(537.4474, device='cuda:0') tensor(537.4474, device='cuda:0') tensor(-560.1123, device='cuda:0')\n"
     ]
    },
    {
     "name": "stderr",
     "output_type": "stream",
     "text": [
      " 67%|██████▋   | 2/3 [00:01<00:00,  2.02it/s]"
     ]
    },
    {
     "name": "stdout",
     "output_type": "stream",
     "text": [
      "tensor(2825.5073, device='cuda:0') tensor(2825.5073, device='cuda:0') tensor(-579.6631, device='cuda:0')\n"
     ]
    },
    {
     "name": "stderr",
     "output_type": "stream",
     "text": [
      "100%|██████████| 3/3 [00:01<00:00,  2.04it/s]\n"
     ]
    }
   ],
   "source": [
    "y_preds = []\n",
    "for fold in range(N_FOLDS):\n",
    "    MODEL_PATH = f'/kaggle/input/aug-5-fold/model_best_fold-{fold}.pth'\n",
    "    model = BertEncoder(\n",
    "        conf=conf, \n",
    "        in_c=len(test_ds.feat_list), \n",
    "        out_c=2, \n",
    "        emb_dim=EMB_DIM, \n",
    "        pretrained=False,\n",
    "        base=96#+8*fold\n",
    "    ).to(device)\n",
    "    model.load_state_dict(torch.load(MODEL_PATH, map_location=device))\n",
    "    model.eval().half()\n",
    "    with torch.no_grad():\n",
    "        with tqdm(test_dl, leave=True) as pbar:\n",
    "            for j, (X_batch, hr_batch) in enumerate(pbar):\n",
    "                X_batch = X_batch.to(device)\n",
    "                hr_batch = hr_batch.to(device)\n",
    "                \n",
    "                x_seq_len = X_batch.shape[1]\n",
    "                y_pred = torch.zeros((1, x_seq_len*SAMPLE_FREQ, 2)).to(device)\n",
    "                y_seq_len = y_pred.shape[1]\n",
    "                \n",
    "                if x_seq_len%MAX_CHUNK_LEN != 0:\n",
    "                    X_batch = padding_(X_batch, MAX_CHUNK_LEN)\n",
    "                    hr_batch = padding_(hr_batch, MAX_CHUNK_LEN)\n",
    "\n",
    "                if y_seq_len%MAX_LEN != 0:\n",
    "                    y_pred = padding_(y_pred, MAX_LEN)\n",
    "\n",
    "                YPOS = 0\n",
    "                for i in range(0, x_seq_len, MAX_CHUNK_LEN):\n",
    "                    X_chunk = X_batch[:, i : i + MAX_CHUNK_LEN]\n",
    "                    hr_chunk = hr_batch[:, i : i + MAX_CHUNK_LEN]\n",
    "                    with autocast:\n",
    "                        p = model(X_chunk, hr_chunk)\n",
    "                        y_pred[:, YPOS : YPOS + MAX_CHUNK_LEN*SAMPLE_FREQ] = p\n",
    "\n",
    "                    YPOS += MAX_CHUNK_LEN*SAMPLE_FREQ\n",
    "\n",
    "                y_pred = y_pred[:, :y_seq_len]\n",
    "                    \n",
    "                if len(test_dl)==3:\n",
    "                    print(X_batch.sum(), X_batch.sum(), y_pred.sum())\n",
    "\n",
    "                if fold==0:\n",
    "                    y_preds.append(y_pred[0].sigmoid().cpu().numpy().astype(np.float32) / N_FOLDS)\n",
    "                else:\n",
    "                    y_preds[j] += y_pred[0].sigmoid().cpu().numpy().astype(np.float32) / N_FOLDS\n",
    "                        \n",
    "                \n",
    "                del X_batch, hr_batch\n",
    "                gc.collect()\n",
    "                torch.cuda.empty_cache()\n",
    "\n",
    "    del model\n",
    "    gc.collect()\n",
    "    torch.cuda.empty_cache()"
   ]
  },
  {
   "cell_type": "code",
   "execution_count": 22,
   "id": "dfe89c2c",
   "metadata": {
    "execution": {
     "iopub.execute_input": "2023-12-11T15:28:22.606231Z",
     "iopub.status.busy": "2023-12-11T15:28:22.605918Z",
     "iopub.status.idle": "2023-12-11T15:28:23.727401Z",
     "shell.execute_reply": "2023-12-11T15:28:23.726260Z"
    },
    "papermill": {
     "duration": 1.139571,
     "end_time": "2023-12-11T15:28:23.729374",
     "exception": false,
     "start_time": "2023-12-11T15:28:22.589803",
     "status": "completed"
    },
    "tags": []
   },
   "outputs": [
    {
     "name": "stderr",
     "output_type": "stream",
     "text": [
      "  0%|          | 0/3 [00:00<?, ?it/s]"
     ]
    },
    {
     "data": {
      "image/png": "[encoded data removed]",
      "text/plain": [
       "<Figure size 640x480 with 1 Axes>"
      ]
     },
     "metadata": {},
     "output_type": "display_data"
    },
    {
     "name": "stderr",
     "output_type": "stream",
     "text": [
      " 33%|███▎      | 1/3 [00:00<00:00,  3.43it/s]"
     ]
    },
    {
     "data": {
      "image/png": "[encoded data removed]",
      "text/plain": [
       "<Figure size 640x480 with 1 Axes>"
      ]
     },
     "metadata": {},
     "output_type": "display_data"
    },
    {
     "name": "stderr",
     "output_type": "stream",
     "text": [
      " 67%|██████▋   | 2/3 [00:00<00:00,  3.50it/s]"
     ]
    },
    {
     "data": {
      "image/png": "[encoded data removed]",
      "text/plain": [
       "<Figure size 640x480 with 1 Axes>"
      ]
     },
     "metadata": {},
     "output_type": "display_data"
    },
    {
     "name": "stderr",
     "output_type": "stream",
     "text": [
      "100%|██████████| 3/3 [00:00<00:00,  3.52it/s]\n"
     ]
    }
   ],
   "source": [
    "for i, y_pred in tqdm(enumerate(y_preds), total=len(y_preds)):\n",
    "    before_RMSE = np.sqrt(mean_squared_error(y_pred, np.zeros_like(y_pred)))\n",
    "    if len(test_ds.Xs)!=3:\n",
    "        y_pred[:,0] = lpf(y_pred[:,0])\n",
    "        y_pred[:,1] = lpf(y_pred[:,1])\n",
    "        \n",
    "    else:\n",
    "\n",
    "        plt.plot(y_pred[:,0], lw=0.5)\n",
    "        plt.title(ids[i])\n",
    "        plt.show()\n",
    "\n",
    "    after_RMSE = np.sqrt(mean_squared_error(y_pred, np.zeros_like(y_pred)))\n",
    "\n",
    "    decay_ratio = before_RMSE/after_RMSE\n",
    "    y_pred *= decay_ratio\n",
    "\n",
    "    onset_candi = argrelmax(y_pred[:, 0], order=12*60*6) # 12*60*6 = 6hours\n",
    "    wakeup_candi = argrelmax(y_pred[:, 1], order=12*60*6) # 12*60*6 = 6hours\n",
    "\n",
    "#     print(\"check\", onset_candi, wakeup_candi)\n",
    "\n",
    "    series_id = ids[i]\n",
    "    try:                \n",
    "        onset_candi = onset_candi[0]\n",
    "        onset = pd.DataFrame({'series_id': [series_id]*len(onset_candi),\n",
    "                             'step': onset_candi,\n",
    "                             'score': y_pred[onset_candi, 0].reshape(-1),\n",
    "                             'event': ['onset']*len(onset_candi)})\n",
    "    except:\n",
    "         onset = pd.DataFrame()\n",
    "\n",
    "    try:\n",
    "        wakeup_candi = wakeup_candi[0]\n",
    "        wakeup = pd.DataFrame({'series_id': [series_id]*len(wakeup_candi),\n",
    "                             'step': wakeup_candi,\n",
    "                             'score': y_pred[wakeup_candi, 1].reshape(-1),\n",
    "                             'event': ['wakeup']*len(wakeup_candi)})\n",
    "    except:\n",
    "        wakeup = pd.DataFrame()\n",
    "\n",
    "    submission = pd.concat([submission, onset, wakeup], axis=0)\n",
    "\n",
    "gc.collect()\n",
    "torch.cuda.empty_cache()"
   ]
  },
  {
   "cell_type": "code",
   "execution_count": 23,
   "id": "74c623d6",
   "metadata": {
    "execution": {
     "iopub.execute_input": "2023-12-11T15:28:23.763589Z",
     "iopub.status.busy": "2023-12-11T15:28:23.763272Z",
     "iopub.status.idle": "2023-12-11T15:28:23.767261Z",
     "shell.execute_reply": "2023-12-11T15:28:23.766426Z"
    },
    "papermill": {
     "duration": 0.022785,
     "end_time": "2023-12-11T15:28:23.769075",
     "exception": false,
     "start_time": "2023-12-11T15:28:23.746290",
     "status": "completed"
    },
    "tags": []
   },
   "outputs": [],
   "source": [
    "# print(len(y_preds), y_preds[0].shape)"
   ]
  },
  {
   "cell_type": "code",
   "execution_count": 24,
   "id": "6e36218a",
   "metadata": {
    "execution": {
     "iopub.execute_input": "2023-12-11T15:28:23.847864Z",
     "iopub.status.busy": "2023-12-11T15:28:23.847278Z",
     "iopub.status.idle": "2023-12-11T15:28:23.860908Z",
     "shell.execute_reply": "2023-12-11T15:28:23.860138Z"
    },
    "papermill": {
     "duration": 0.076187,
     "end_time": "2023-12-11T15:28:23.862905",
     "exception": false,
     "start_time": "2023-12-11T15:28:23.786718",
     "status": "completed"
    },
    "tags": []
   },
   "outputs": [],
   "source": [
    "submission = submission.sort_values(['series_id','step']).reset_index(drop=True)\n",
    "submission['row_id'] = submission.index.astype(int)\n",
    "submission['score'] = submission['score'].fillna(submission['score'].mean())\n",
    "submission = submission[['row_id','series_id','step','event','score']]\n",
    "submission['step'] = submission['step']\n",
    "submission.to_csv('submission.csv',index=False)"
   ]
  },
  {
   "cell_type": "code",
   "execution_count": 25,
   "id": "9ebd3980",
   "metadata": {
    "execution": {
     "iopub.execute_input": "2023-12-11T15:28:23.896544Z",
     "iopub.status.busy": "2023-12-11T15:28:23.896288Z",
     "iopub.status.idle": "2023-12-11T15:28:23.903957Z",
     "shell.execute_reply": "2023-12-11T15:28:23.903114Z"
    },
    "papermill": {
     "duration": 0.026688,
     "end_time": "2023-12-11T15:28:23.905923",
     "exception": false,
     "start_time": "2023-12-11T15:28:23.879235",
     "status": "completed"
    },
    "tags": []
   },
   "outputs": [
    {
     "data": {
      "text/html": [
       "<div>\n",
       "<style scoped>\n",
       "    .dataframe tbody tr th:only-of-type {\n",
       "        vertical-align: middle;\n",
       "    }\n",
       "\n",
       "    .dataframe tbody tr th {\n",
       "        vertical-align: top;\n",
       "    }\n",
       "\n",
       "    .dataframe thead th {\n",
       "        text-align: right;\n",
       "    }\n",
       "</style>\n",
       "<table border=\"1\" class=\"dataframe\">\n",
       "  <thead>\n",
       "    <tr style=\"text-align: right;\">\n",
       "      <th></th>\n",
       "      <th>row_id</th>\n",
       "      <th>series_id</th>\n",
       "      <th>step</th>\n",
       "      <th>event</th>\n",
       "      <th>score</th>\n",
       "    </tr>\n",
       "  </thead>\n",
       "  <tbody>\n",
       "  </tbody>\n",
       "</table>\n",
       "</div>"
      ],
      "text/plain": [
       "Empty DataFrame\n",
       "Columns: [row_id, series_id, step, event, score]\n",
       "Index: []"
      ]
     },
     "execution_count": 25,
     "metadata": {},
     "output_type": "execute_result"
    }
   ],
   "source": [
    "submission"
   ]
  },
  {
   "cell_type": "code",
   "execution_count": null,
   "id": "6516da74",
   "metadata": {
    "papermill": {
     "duration": 0.01642,
     "end_time": "2023-12-11T15:28:23.938586",
     "exception": false,
     "start_time": "2023-12-11T15:28:23.922166",
     "status": "completed"
    },
    "tags": []
   },
   "outputs": [],
   "source": []
  },
  {
   "cell_type": "code",
   "execution_count": null,
   "id": "5fd58436",
   "metadata": {
    "papermill": {
     "duration": 0.0157,
     "end_time": "2023-12-11T15:28:23.970788",
     "exception": false,
     "start_time": "2023-12-11T15:28:23.955088",
     "status": "completed"
    },
    "tags": []
   },
   "outputs": [],
   "source": []
  }
 ],
 "metadata": {
  "kaggle": {
   "accelerator": "gpu",
   "dataSources": [
    {
     "databundleVersionId": 6589269,
     "sourceId": 53666,
     "sourceType": "competition"
    },
    {
     "datasetId": 4144285,
     "sourceId": 7172567,
     "sourceType": "datasetVersion"
    },
    {
     "datasetId": 4147621,
     "sourceId": 7177004,
     "sourceType": "datasetVersion"
    },
    {
     "sourceId": 147531007,
     "sourceType": "kernelVersion"
    }
   ],
   "dockerImageVersionId": 30559,
   "isGpuEnabled": true,
   "isInternetEnabled": false,
   "language": "python",
   "sourceType": "notebook"
  },
  "kernelspec": {
   "display_name": "Python 3",
   "language": "python",
   "name": "python3"
  },
  "language_info": {
   "codemirror_mode": {
    "name": "ipython",
    "version": 3
   },
   "file_extension": ".py",
   "mimetype": "text/x-python",
   "name": "python",
   "nbconvert_exporter": "python",
   "pygments_lexer": "ipython3",
   "version": "3.10.12"
  },
  "papermill": {
   "default_parameters": {},
   "duration": 67.561762,
   "end_time": "2023-12-11T15:28:27.389970",
   "environment_variables": {},
   "exception": null,
   "input_path": "__notebook__.ipynb",
   "output_path": "__notebook__.ipynb",
   "parameters": {},
   "start_time": "2023-12-11T15:27:19.828208",
   "version": "2.4.0"
  }
 },
 "nbformat": 4,
 "nbformat_minor": 5
}
