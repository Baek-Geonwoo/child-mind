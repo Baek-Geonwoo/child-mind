{
 "cells": [
  {
   "cell_type": "markdown",
   "id": "72bd9761",
   "metadata": {
    "papermill": {
     "duration": 0.006619,
     "end_time": "2023-12-02T10:51:07.207172",
     "exception": false,
     "start_time": "2023-12-02T10:51:07.200553",
     "status": "completed"
    },
    "tags": []
   },
   "source": [
    "# Detect Sleep States DataPrepare\n",
    "\n",
    "### his notebook is inspired by the following [werus23's](https://www.kaggle.com/werus23) amazing notebooks.\n",
    "### see also them.\n",
    "\n",
    "Finding Critical Points using RNNs\n",
    "\n",
    " - [Data Prep notebook](https://www.kaggle.com/code/werus23/sleep-critical-point-prepare-data)\n",
    " - [Training notebook](https://www.kaggle.com/werus23/sleep-critical-point-train)\n",
    " - [Inference Notebook](https://www.kaggle.com/code/werus23/sleep-critical-point-infer)\n",
    "\n",
    "Credits:\n",
    " - dataloader: https://www.kaggle.com/code/henriupton/efficient-loading-memory-usage-visualizations-cmi"
   ]
  },
  {
   "cell_type": "code",
   "execution_count": 1,
   "id": "fc4fb0e0",
   "metadata": {
    "execution": {
     "iopub.execute_input": "2023-12-02T10:51:07.223527Z",
     "iopub.status.busy": "2023-12-02T10:51:07.222563Z",
     "iopub.status.idle": "2023-12-02T10:51:16.797837Z",
     "shell.execute_reply": "2023-12-02T10:51:16.796437Z"
    },
    "papermill": {
     "duration": 9.586387,
     "end_time": "2023-12-02T10:51:16.801226",
     "exception": false,
     "start_time": "2023-12-02T10:51:07.214839",
     "status": "completed"
    },
    "tags": []
   },
   "outputs": [],
   "source": [
    "import pandas as pd\n",
    "import numpy as np\n",
    "import gc\n",
    "import time\n",
    "import json\n",
    "from datetime import datetime\n",
    "import matplotlib.pyplot as plt\n",
    "import os\n",
    "import joblib\n",
    "import random\n",
    "import math\n",
    "from tqdm.auto import tqdm \n",
    "\n",
    "from scipy.interpolate import interp1d\n",
    "\n",
    "from math import pi, sqrt, exp\n",
    "import sklearn,sklearn.model_selection\n",
    "import torch\n",
    "from torch import nn,Tensor\n",
    "import torch.nn.functional as F\n",
    "from torch.utils.data import DataLoader, Dataset, SubsetRandomSampler\n",
    "from sklearn.metrics import average_precision_score\n",
    "from timm.scheduler import CosineLRScheduler\n",
    "plt.style.use(\"ggplot\")\n",
    "\n",
    "from pyarrow.parquet import ParquetFile\n",
    "import pyarrow as pa \n",
    "import ctypes"
   ]
  },
  {
   "cell_type": "code",
   "execution_count": 2,
   "id": "139941af",
   "metadata": {
    "execution": {
     "iopub.execute_input": "2023-12-02T10:51:16.814542Z",
     "iopub.status.busy": "2023-12-02T10:51:16.814029Z",
     "iopub.status.idle": "2023-12-02T10:51:16.820515Z",
     "shell.execute_reply": "2023-12-02T10:51:16.819257Z"
    },
    "papermill": {
     "duration": 0.016138,
     "end_time": "2023-12-02T10:51:16.822907",
     "exception": false,
     "start_time": "2023-12-02T10:51:16.806769",
     "status": "completed"
    },
    "tags": []
   },
   "outputs": [],
   "source": [
    "class PATHS:\n",
    "    MAIN_DIR = \"/kaggle/input/child-mind-institute-detect-sleep-states/\"\n",
    "    # CSV FILES : \n",
    "    SUBMISSION = MAIN_DIR + \"sample_submission.csv\"\n",
    "    TRAIN_EVENTS = MAIN_DIR + \"train_events.csv\"\n",
    "    # PARQUET FILES:\n",
    "    TRAIN_SERIES = MAIN_DIR + \"train_series.parquet\"\n",
    "    TEST_SERIES = MAIN_DIR + \"test_series.parquet\""
   ]
  },
  {
   "cell_type": "code",
   "execution_count": 3,
   "id": "0052d8cb",
   "metadata": {
    "execution": {
     "iopub.execute_input": "2023-12-02T10:51:16.836060Z",
     "iopub.status.busy": "2023-12-02T10:51:16.835611Z",
     "iopub.status.idle": "2023-12-02T10:51:16.841479Z",
     "shell.execute_reply": "2023-12-02T10:51:16.840189Z"
    },
    "papermill": {
     "duration": 0.015809,
     "end_time": "2023-12-02T10:51:16.844374",
     "exception": false,
     "start_time": "2023-12-02T10:51:16.828565",
     "status": "completed"
    },
    "tags": []
   },
   "outputs": [],
   "source": [
    "out_dir = 'train_csvs'\n",
    "os.makedirs(out_dir, exist_ok=True)"
   ]
  },
  {
   "cell_type": "code",
   "execution_count": 4,
   "id": "5fc47bb7",
   "metadata": {
    "execution": {
     "iopub.execute_input": "2023-12-02T10:51:16.857877Z",
     "iopub.status.busy": "2023-12-02T10:51:16.857068Z",
     "iopub.status.idle": "2023-12-02T10:51:16.884287Z",
     "shell.execute_reply": "2023-12-02T10:51:16.882751Z"
    },
    "papermill": {
     "duration": 0.037622,
     "end_time": "2023-12-02T10:51:16.887486",
     "exception": false,
     "start_time": "2023-12-02T10:51:16.849864",
     "status": "completed"
    },
    "tags": []
   },
   "outputs": [],
   "source": [
    "class data_reader:\n",
    "    def __init__(self, demo_mode):\n",
    "        super().__init__()\n",
    "        # MAPPING FOR DATA LOADING :\n",
    "        self.names_mapping = {\n",
    "            \"submission\" : {\"path\" : PATHS.SUBMISSION, \"is_parquet\" : False, \"has_timestamp\" : False}, \n",
    "            \"train_events\" : {\"path\" : PATHS.TRAIN_EVENTS, \"is_parquet\" : False, \"has_timestamp\" : True},\n",
    "            \"train_series\" : {\"path\" : PATHS.TRAIN_SERIES, \"is_parquet\" : True, \"has_timestamp\" : True},\n",
    "            \"test_series\" : {\"path\" : PATHS.TEST_SERIES, \"is_parquet\" : True, \"has_timestamp\" : True}\n",
    "        }\n",
    "        self.valid_names = [\"submission\", \"train_events\", \"train_series\", \"test_series\"]\n",
    "        self.demo_mode = demo_mode\n",
    "    \n",
    "    def verify(self, data_name):\n",
    "        \"function for data name verification\"\n",
    "        if data_name not in self.valid_names:\n",
    "            print(\"PLEASE ENTER A VALID DATASET NAME, VALID NAMES ARE : \", valid_names)\n",
    "        return\n",
    "    \n",
    "    def cleaning(self, data):\n",
    "        \"cleaning function : drop na values\"\n",
    "        before_cleaning = len(data)\n",
    "        print(\"Number of missing timestamps : \", len(data[data[\"timestamp\"].isna()]))\n",
    "        data = data.dropna(subset=[\"timestamp\"])\n",
    "        after_cleaning = len(data)\n",
    "        print(\"Percentage of removed steps : {:.1f}%\".format(100 * (before_cleaning - after_cleaning) / before_cleaning) )\n",
    "#         print(data.isna().any())\n",
    "#         data = data.bfill()\n",
    "        return data\n",
    "    \n",
    "    @staticmethod\n",
    "    def reduce_memory_usage(data):\n",
    "        \"iterate through all the columns of a dataframe and modify the data type to reduce memory usage.\"\n",
    "        start_mem = data.memory_usage().sum() / 1024**2\n",
    "        print('Memory usage of dataframe is {:.2f} MB'.format(start_mem))\n",
    "        for col in data.columns:\n",
    "            col_type = data[col].dtype    \n",
    "            if col_type != object:\n",
    "                c_min = data[col].min()\n",
    "                c_max = data[col].max()\n",
    "                if str(col_type)[:3] == 'int':\n",
    "                    if c_min > np.iinfo(np.int8).min and c_max < np.iinfo(np.int8).max:\n",
    "                        data[col] = data[col].astype(np.int8)\n",
    "                    elif c_min > np.iinfo(np.int16).min and c_max < np.iinfo(np.int16).max:\n",
    "                        data[col] = data[col].astype(np.int16)\n",
    "                    elif c_min > np.iinfo(np.int32).min and c_max < np.iinfo(np.int32).max:\n",
    "                        data[col] = data[col].astype(np.int32)\n",
    "                    elif c_min > np.iinfo(np.int64).min and c_max < np.iinfo(np.int64).max:\n",
    "                        data[col] = data[col].astype(np.int64)  \n",
    "                else:\n",
    "                    if c_min > np.finfo(np.float16).min and c_max < np.finfo(np.float16).max:\n",
    "                        data[col] = data[col].astype(np.float16)\n",
    "                    elif c_min > np.finfo(np.float32).min and c_max < np.finfo(np.float32).max:\n",
    "                        data[col] = data[col].astype(np.float32)\n",
    "                    else:\n",
    "                        data[col] = data[col].astype(np.float64)\n",
    "            else:\n",
    "                data[col] = data[col].astype('category')\n",
    "\n",
    "        end_mem = data.memory_usage().sum() / 1024**2\n",
    "        print('Memory usage after optimization is: {:.2f} MB'.format(end_mem))\n",
    "        print('Decreased by {:.1f}%'.format(100 * (start_mem - end_mem) / start_mem))\n",
    "        return data\n",
    "    \n",
    "    def load_data(self, data_name):\n",
    "        \"function for data loading\"\n",
    "        self.verify(data_name)\n",
    "        data_props = self.names_mapping[data_name]\n",
    "        if data_props[\"is_parquet\"]:\n",
    "            if self.demo_mode:\n",
    "                pf = ParquetFile(data_props[\"path\"]) \n",
    "                demo_steps = next(pf.iter_batches(batch_size=20_000)) \n",
    "                data = pa.Table.from_batches([demo_steps]).to_pandas()\n",
    "            else:\n",
    "                data = pd.read_parquet(data_props[\"path\"])\n",
    "        else:\n",
    "            if self.demo_mode:\n",
    "                data = pd.read_csv(data_props[\"path\"], nsteps=20_000)\n",
    "            else:\n",
    "                data = pd.read_csv(data_props[\"path\"])\n",
    "                \n",
    "        gc.collect()\n",
    "        if data_props[\"has_timestamp\"]:\n",
    "            print('cleaning')\n",
    "            data = self.cleaning(data)\n",
    "            gc.collect()\n",
    "        #data = self.reduce_memory_usage(data)\n",
    "        return data"
   ]
  },
  {
   "cell_type": "code",
   "execution_count": 5,
   "id": "226f6222",
   "metadata": {
    "execution": {
     "iopub.execute_input": "2023-12-02T10:51:16.900878Z",
     "iopub.status.busy": "2023-12-02T10:51:16.900330Z",
     "iopub.status.idle": "2023-12-02T10:53:14.846786Z",
     "shell.execute_reply": "2023-12-02T10:53:14.845365Z"
    },
    "papermill": {
     "duration": 117.956937,
     "end_time": "2023-12-02T10:53:14.850158",
     "exception": false,
     "start_time": "2023-12-02T10:51:16.893221",
     "status": "completed"
    },
    "tags": []
   },
   "outputs": [
    {
     "name": "stdout",
     "output_type": "stream",
     "text": [
      "cleaning\n",
      "Number of missing timestamps :  0\n",
      "Percentage of removed steps : 0.0%\n",
      "cleaning\n",
      "Number of missing timestamps :  4923\n",
      "Percentage of removed steps : 33.9%\n"
     ]
    }
   ],
   "source": [
    "reader = data_reader(demo_mode=False)\n",
    "series = reader.load_data(data_name=\"train_series\")\n",
    "events = reader.load_data(data_name=\"train_events\")"
   ]
  },
  {
   "cell_type": "code",
   "execution_count": 6,
   "id": "b5cdcc5b",
   "metadata": {
    "execution": {
     "iopub.execute_input": "2023-12-02T10:53:14.863879Z",
     "iopub.status.busy": "2023-12-02T10:53:14.863356Z",
     "iopub.status.idle": "2023-12-02T10:53:14.871039Z",
     "shell.execute_reply": "2023-12-02T10:53:14.869793Z"
    },
    "papermill": {
     "duration": 0.017784,
     "end_time": "2023-12-02T10:53:14.873686",
     "exception": false,
     "start_time": "2023-12-02T10:53:14.855902",
     "status": "completed"
    },
    "tags": []
   },
   "outputs": [],
   "source": [
    "SIGMA = 360 #12*30 = 30분 단위  ##720 # 12 * 60\n",
    "def gauss(n=SIGMA,sigma=SIGMA*0.15):\n",
    "    # guassian distribution function\n",
    "    r = range(-int(n/2),int(n/2)+1)\n",
    "    return [1 / (sigma * sqrt(2*pi)) * exp(-float(x)**2/(2*sigma**2)) for x in r]"
   ]
  },
  {
   "cell_type": "code",
   "execution_count": 7,
   "id": "1c1b5d43",
   "metadata": {
    "execution": {
     "iopub.execute_input": "2023-12-02T10:53:14.887508Z",
     "iopub.status.busy": "2023-12-02T10:53:14.886996Z",
     "iopub.status.idle": "2023-12-02T14:04:42.023834Z",
     "shell.execute_reply": "2023-12-02T14:04:42.021857Z"
    },
    "papermill": {
     "duration": 11487.149622,
     "end_time": "2023-12-02T14:04:42.029112",
     "exception": false,
     "start_time": "2023-12-02T10:53:14.879490",
     "status": "completed"
    },
    "tags": []
   },
   "outputs": [
    {
     "data": {
      "application/vnd.jupyter.widget-view+json": {
       "model_id": "f0ec550d05ba4666a6576ac1ed7dae63",
       "version_major": 2,
       "version_minor": 0
      },
      "text/plain": [
       "  0%|          | 0/277 [00:00<?, ?it/s]"
      ]
     },
     "metadata": {},
     "output_type": "display_data"
    }
   ],
   "source": [
    "targets = []\n",
    "data = []\n",
    "ids = series.series_id.unique()\n",
    "\n",
    "enmo_dfs = pd.DataFrame()\n",
    "\n",
    "for j, viz_id in tqdm(enumerate(ids), total=len(ids)):\n",
    "    viz_targets = []\n",
    "    viz_events = events[events.series_id == viz_id]\n",
    "    viz_series = series.loc[(series.series_id==viz_id)].copy().reset_index()\n",
    "    viz_series['dt'] = pd.to_datetime(viz_series.timestamp,format = '%Y-%m-%dT%H:%M:%S%z').astype(\"datetime64[ns, UTC-04:00]\")\n",
    "    viz_series['hour'] = viz_series['dt'].dt.hour\n",
    "\n",
    "    check = 0\n",
    "    for i in range(len(viz_events)-1):\n",
    "        if viz_events.iloc[i].event =='onset' and viz_events.iloc[i+1].event =='wakeup' and viz_events.iloc[i].night==viz_events.iloc[i+1].night:\n",
    "            start,end = viz_events.timestamp.iloc[i],viz_events.timestamp.iloc[i+1]\n",
    "\n",
    "            start_id = viz_series.loc[viz_series.timestamp ==start].index.values[0]\n",
    "            end_id = viz_series.loc[viz_series.timestamp ==end].index.values[0]\n",
    "            viz_targets.append((start_id,end_id))\n",
    "            check+=1\n",
    "\n",
    "    target_guassian = np.zeros((len(viz_series),2))\n",
    "\n",
    "    for s,e in viz_targets:\n",
    "        st1,st2 = max(0,s-SIGMA//2),s+SIGMA//2+1\n",
    "        ed1,ed2 = e-SIGMA//2,min(len(viz_series),e+SIGMA//2+1)\n",
    "        target_guassian[st1:st2,0] = gauss()[st1-(s-SIGMA//2):]\n",
    "        target_guassian[ed1:ed2,1] = gauss()[:SIGMA+1-((e+SIGMA//2+1)-ed2)]\n",
    "\n",
    "    target_guassian /= np.max(target_guassian + 1e-12)\n",
    "\n",
    "    viz_series['onset'] = target_guassian[:,0]\n",
    "    viz_series['wakeup'] = target_guassian[:,1]\n",
    "\n",
    "    new_df = viz_series[['step', 'anglez', 'enmo', 'hour', 'onset', 'wakeup']]\n",
    "    new_df.to_csv(f'{out_dir}/{viz_id}.csv', index=False)\n",
    "\n",
    "    enmo_dfs = pd.concat([enmo_dfs, new_df] ,axis=0)"
   ]
  },
  {
   "cell_type": "code",
   "execution_count": 8,
   "id": "2fffcd1e",
   "metadata": {
    "execution": {
     "iopub.execute_input": "2023-12-02T14:04:42.050387Z",
     "iopub.status.busy": "2023-12-02T14:04:42.049919Z",
     "iopub.status.idle": "2023-12-02T14:04:47.837810Z",
     "shell.execute_reply": "2023-12-02T14:04:47.836778Z"
    },
    "papermill": {
     "duration": 5.807027,
     "end_time": "2023-12-02T14:04:47.845236",
     "exception": false,
     "start_time": "2023-12-02T14:04:42.038209",
     "status": "completed"
    },
    "tags": []
   },
   "outputs": [
    {
     "data": {
      "text/html": [
       "<div>\n",
       "<style scoped>\n",
       "    .dataframe tbody tr th:only-of-type {\n",
       "        vertical-align: middle;\n",
       "    }\n",
       "\n",
       "    .dataframe tbody tr th {\n",
       "        vertical-align: top;\n",
       "    }\n",
       "\n",
       "    .dataframe thead th {\n",
       "        text-align: right;\n",
       "    }\n",
       "</style>\n",
       "<table border=\"1\" class=\"dataframe\">\n",
       "  <thead>\n",
       "    <tr style=\"text-align: right;\">\n",
       "      <th></th>\n",
       "      <th>index</th>\n",
       "      <th>step</th>\n",
       "      <th>anglez</th>\n",
       "      <th>enmo</th>\n",
       "      <th>hour</th>\n",
       "      <th>onset</th>\n",
       "      <th>wakeup</th>\n",
       "    </tr>\n",
       "  </thead>\n",
       "  <tbody>\n",
       "    <tr>\n",
       "      <th>0</th>\n",
       "      <td>0</td>\n",
       "      <td>0</td>\n",
       "      <td>2.6367</td>\n",
       "      <td>0.0217</td>\n",
       "      <td>15</td>\n",
       "      <td>0.0</td>\n",
       "      <td>0.0</td>\n",
       "    </tr>\n",
       "    <tr>\n",
       "      <th>1</th>\n",
       "      <td>1</td>\n",
       "      <td>1</td>\n",
       "      <td>2.6368</td>\n",
       "      <td>0.0215</td>\n",
       "      <td>15</td>\n",
       "      <td>0.0</td>\n",
       "      <td>0.0</td>\n",
       "    </tr>\n",
       "    <tr>\n",
       "      <th>2</th>\n",
       "      <td>2</td>\n",
       "      <td>2</td>\n",
       "      <td>2.6370</td>\n",
       "      <td>0.0216</td>\n",
       "      <td>15</td>\n",
       "      <td>0.0</td>\n",
       "      <td>0.0</td>\n",
       "    </tr>\n",
       "    <tr>\n",
       "      <th>3</th>\n",
       "      <td>3</td>\n",
       "      <td>3</td>\n",
       "      <td>2.6368</td>\n",
       "      <td>0.0213</td>\n",
       "      <td>15</td>\n",
       "      <td>0.0</td>\n",
       "      <td>0.0</td>\n",
       "    </tr>\n",
       "    <tr>\n",
       "      <th>4</th>\n",
       "      <td>4</td>\n",
       "      <td>4</td>\n",
       "      <td>2.6368</td>\n",
       "      <td>0.0215</td>\n",
       "      <td>15</td>\n",
       "      <td>0.0</td>\n",
       "      <td>0.0</td>\n",
       "    </tr>\n",
       "  </tbody>\n",
       "</table>\n",
       "</div>"
      ],
      "text/plain": [
       "   index  step  anglez    enmo  hour  onset  wakeup\n",
       "0      0     0  2.6367  0.0217    15    0.0     0.0\n",
       "1      1     1  2.6368  0.0215    15    0.0     0.0\n",
       "2      2     2  2.6370  0.0216    15    0.0     0.0\n",
       "3      3     3  2.6368  0.0213    15    0.0     0.0\n",
       "4      4     4  2.6368  0.0215    15    0.0     0.0"
      ]
     },
     "execution_count": 8,
     "metadata": {},
     "output_type": "execute_result"
    }
   ],
   "source": [
    "enmo_dfs = enmo_dfs.reset_index()\n",
    "enmo_dfs.head()"
   ]
  },
  {
   "cell_type": "code",
   "execution_count": 9,
   "id": "18f0bdba",
   "metadata": {
    "execution": {
     "iopub.execute_input": "2023-12-02T14:04:47.861704Z",
     "iopub.status.busy": "2023-12-02T14:04:47.860838Z",
     "iopub.status.idle": "2023-12-02T14:04:47.876240Z",
     "shell.execute_reply": "2023-12-02T14:04:47.875188Z"
    },
    "papermill": {
     "duration": 0.026503,
     "end_time": "2023-12-02T14:04:47.878807",
     "exception": false,
     "start_time": "2023-12-02T14:04:47.852304",
     "status": "completed"
    },
    "tags": []
   },
   "outputs": [
    {
     "data": {
      "text/html": [
       "<div>\n",
       "<style scoped>\n",
       "    .dataframe tbody tr th:only-of-type {\n",
       "        vertical-align: middle;\n",
       "    }\n",
       "\n",
       "    .dataframe tbody tr th {\n",
       "        vertical-align: top;\n",
       "    }\n",
       "\n",
       "    .dataframe thead th {\n",
       "        text-align: right;\n",
       "    }\n",
       "</style>\n",
       "<table border=\"1\" class=\"dataframe\">\n",
       "  <thead>\n",
       "    <tr style=\"text-align: right;\">\n",
       "      <th></th>\n",
       "      <th>index</th>\n",
       "      <th>step</th>\n",
       "      <th>anglez</th>\n",
       "      <th>enmo</th>\n",
       "      <th>hour</th>\n",
       "      <th>onset</th>\n",
       "      <th>wakeup</th>\n",
       "    </tr>\n",
       "  </thead>\n",
       "  <tbody>\n",
       "    <tr>\n",
       "      <th>127946335</th>\n",
       "      <td>592375</td>\n",
       "      <td>592375</td>\n",
       "      <td>-27.277500</td>\n",
       "      <td>0.0204</td>\n",
       "      <td>0</td>\n",
       "      <td>0.0</td>\n",
       "      <td>0.0</td>\n",
       "    </tr>\n",
       "    <tr>\n",
       "      <th>127946336</th>\n",
       "      <td>592376</td>\n",
       "      <td>592376</td>\n",
       "      <td>-27.032499</td>\n",
       "      <td>0.0233</td>\n",
       "      <td>0</td>\n",
       "      <td>0.0</td>\n",
       "      <td>0.0</td>\n",
       "    </tr>\n",
       "    <tr>\n",
       "      <th>127946337</th>\n",
       "      <td>592377</td>\n",
       "      <td>592377</td>\n",
       "      <td>-26.841200</td>\n",
       "      <td>0.0202</td>\n",
       "      <td>0</td>\n",
       "      <td>0.0</td>\n",
       "      <td>0.0</td>\n",
       "    </tr>\n",
       "    <tr>\n",
       "      <th>127946338</th>\n",
       "      <td>592378</td>\n",
       "      <td>592378</td>\n",
       "      <td>-26.723900</td>\n",
       "      <td>0.0199</td>\n",
       "      <td>0</td>\n",
       "      <td>0.0</td>\n",
       "      <td>0.0</td>\n",
       "    </tr>\n",
       "    <tr>\n",
       "      <th>127946339</th>\n",
       "      <td>592379</td>\n",
       "      <td>592379</td>\n",
       "      <td>-31.521601</td>\n",
       "      <td>0.0205</td>\n",
       "      <td>0</td>\n",
       "      <td>0.0</td>\n",
       "      <td>0.0</td>\n",
       "    </tr>\n",
       "  </tbody>\n",
       "</table>\n",
       "</div>"
      ],
      "text/plain": [
       "            index    step     anglez    enmo  hour  onset  wakeup\n",
       "127946335  592375  592375 -27.277500  0.0204     0    0.0     0.0\n",
       "127946336  592376  592376 -27.032499  0.0233     0    0.0     0.0\n",
       "127946337  592377  592377 -26.841200  0.0202     0    0.0     0.0\n",
       "127946338  592378  592378 -26.723900  0.0199     0    0.0     0.0\n",
       "127946339  592379  592379 -31.521601  0.0205     0    0.0     0.0"
      ]
     },
     "execution_count": 9,
     "metadata": {},
     "output_type": "execute_result"
    }
   ],
   "source": [
    "enmo_dfs.tail()"
   ]
  },
  {
   "cell_type": "code",
   "execution_count": 10,
   "id": "9f1a2cf2",
   "metadata": {
    "execution": {
     "iopub.execute_input": "2023-12-02T14:04:47.894916Z",
     "iopub.status.busy": "2023-12-02T14:04:47.894461Z",
     "iopub.status.idle": "2023-12-02T14:04:49.325319Z",
     "shell.execute_reply": "2023-12-02T14:04:49.324049Z"
    },
    "papermill": {
     "duration": 1.442242,
     "end_time": "2023-12-02T14:04:49.328124",
     "exception": false,
     "start_time": "2023-12-02T14:04:47.885882",
     "status": "completed"
    },
    "tags": []
   },
   "outputs": [
    {
     "name": "stdout",
     "output_type": "stream",
     "text": [
      "mean:0.041315, std:0.101829\n"
     ]
    }
   ],
   "source": [
    "enmo_mean = enmo_dfs['enmo'].mean()\n",
    "np.save('enmo_mean.npy', enmo_mean)\n",
    "enmo_std = enmo_dfs['enmo'].std()\n",
    "np.save('enmo_std.npy', enmo_std)\n",
    "print(f'mean:{enmo_mean:.6f}, std:{enmo_std:.6f}')"
   ]
  },
  {
   "cell_type": "code",
   "execution_count": 11,
   "id": "63b82b8d",
   "metadata": {
    "execution": {
     "iopub.execute_input": "2023-12-02T14:04:49.344156Z",
     "iopub.status.busy": "2023-12-02T14:04:49.343347Z",
     "iopub.status.idle": "2023-12-02T14:04:49.348396Z",
     "shell.execute_reply": "2023-12-02T14:04:49.347523Z"
    },
    "papermill": {
     "duration": 0.016372,
     "end_time": "2023-12-02T14:04:49.351312",
     "exception": false,
     "start_time": "2023-12-02T14:04:49.334940",
     "status": "completed"
    },
    "tags": []
   },
   "outputs": [],
   "source": [
    "#가우시안 분포를 이벤트에 따라서 처리하여 가중치 부여"
   ]
  },
  {
   "cell_type": "code",
   "execution_count": null,
   "id": "aac1b51e",
   "metadata": {
    "papermill": {
     "duration": 0.006411,
     "end_time": "2023-12-02T14:04:49.365615",
     "exception": false,
     "start_time": "2023-12-02T14:04:49.359204",
     "status": "completed"
    },
    "tags": []
   },
   "outputs": [],
   "source": []
  }
 ],
 "metadata": {
  "kaggle": {
   "accelerator": "none",
   "dataSources": [
    {
     "databundleVersionId": 6589269,
     "sourceId": 53666,
     "sourceType": "competition"
    }
   ],
   "dockerImageVersionId": 30558,
   "isGpuEnabled": false,
   "isInternetEnabled": true,
   "language": "python",
   "sourceType": "notebook"
  },
  "kernelspec": {
   "display_name": "Python 3",
   "language": "python",
   "name": "python3"
  },
  "language_info": {
   "codemirror_mode": {
    "name": "ipython",
    "version": 3
   },
   "file_extension": ".py",
   "mimetype": "text/x-python",
   "name": "python",
   "nbconvert_exporter": "python",
   "pygments_lexer": "ipython3",
   "version": "3.10.12"
  },
  "papermill": {
   "default_parameters": {},
   "duration": 11630.250701,
   "end_time": "2023-12-02T14:04:52.344304",
   "environment_variables": {},
   "exception": null,
   "input_path": "__notebook__.ipynb",
   "output_path": "__notebook__.ipynb",
   "parameters": {},
   "start_time": "2023-12-02T10:51:02.093603",
   "version": "2.4.0"
  },
  "widgets": {
   "application/vnd.jupyter.widget-state+json": {
    "state": {
     "0120c97198d24f9787264e593995d03f": {
      "model_module": "@jupyter-widgets/controls",
      "model_module_version": "1.5.0",
      "model_name": "FloatProgressModel",
      "state": {
       "_dom_classes": [],
       "_model_module": "@jupyter-widgets/controls",
       "_model_module_version": "1.5.0",
       "_model_name": "FloatProgressModel",
       "_view_count": null,
       "_view_module": "@jupyter-widgets/controls",
       "_view_module_version": "1.5.0",
       "_view_name": "ProgressView",
       "bar_style": "success",
       "description": "",
       "description_tooltip": null,
       "layout": "IPY_MODEL_f21e414f54ab4cdab1b65c9674b40cbe",
       "max": 277.0,
       "min": 0.0,
       "orientation": "horizontal",
       "style": "IPY_MODEL_d4aa0af3b7784a14bc87cebde9966fc8",
       "value": 277.0
      }
     },
     "5b0dbf6904c14f38892f7f1eaa84ff46": {
      "model_module": "@jupyter-widgets/base",
      "model_module_version": "1.2.0",
      "model_name": "LayoutModel",
      "state": {
       "_model_module": "@jupyter-widgets/base",
       "_model_module_version": "1.2.0",
       "_model_name": "LayoutModel",
       "_view_count": null,
       "_view_module": "@jupyter-widgets/base",
       "_view_module_version": "1.2.0",
       "_view_name": "LayoutView",
       "align_content": null,
       "align_items": null,
       "align_self": null,
       "border": null,
       "bottom": null,
       "display": null,
       "flex": null,
       "flex_flow": null,
       "grid_area": null,
       "grid_auto_columns": null,
       "grid_auto_flow": null,
       "grid_auto_rows": null,
       "grid_column": null,
       "grid_gap": null,
       "grid_row": null,
       "grid_template_areas": null,
       "grid_template_columns": null,
       "grid_template_rows": null,
       "height": null,
       "justify_content": null,
       "justify_items": null,
       "left": null,
       "margin": null,
       "max_height": null,
       "max_width": null,
       "min_height": null,
       "min_width": null,
       "object_fit": null,
       "object_position": null,
       "order": null,
       "overflow": null,
       "overflow_x": null,
       "overflow_y": null,
       "padding": null,
       "right": null,
       "top": null,
       "visibility": null,
       "width": null
      }
     },
     "5d09a3769eb74bf4aca36d9181529659": {
      "model_module": "@jupyter-widgets/controls",
      "model_module_version": "1.5.0",
      "model_name": "DescriptionStyleModel",
      "state": {
       "_model_module": "@jupyter-widgets/controls",
       "_model_module_version": "1.5.0",
       "_model_name": "DescriptionStyleModel",
       "_view_count": null,
       "_view_module": "@jupyter-widgets/base",
       "_view_module_version": "1.2.0",
       "_view_name": "StyleView",
       "description_width": ""
      }
     },
     "5de18b0e73344a1daff86ced3ae9be6c": {
      "model_module": "@jupyter-widgets/controls",
      "model_module_version": "1.5.0",
      "model_name": "DescriptionStyleModel",
      "state": {
       "_model_module": "@jupyter-widgets/controls",
       "_model_module_version": "1.5.0",
       "_model_name": "DescriptionStyleModel",
       "_view_count": null,
       "_view_module": "@jupyter-widgets/base",
       "_view_module_version": "1.2.0",
       "_view_name": "StyleView",
       "description_width": ""
      }
     },
     "7f6b056cf404473c87ea022adbd32838": {
      "model_module": "@jupyter-widgets/controls",
      "model_module_version": "1.5.0",
      "model_name": "HTMLModel",
      "state": {
       "_dom_classes": [],
       "_model_module": "@jupyter-widgets/controls",
       "_model_module_version": "1.5.0",
       "_model_name": "HTMLModel",
       "_view_count": null,
       "_view_module": "@jupyter-widgets/controls",
       "_view_module_version": "1.5.0",
       "_view_name": "HTMLView",
       "description": "",
       "description_tooltip": null,
       "layout": "IPY_MODEL_cdd658805e7b4dc292befafe7be525b1",
       "placeholder": "​",
       "style": "IPY_MODEL_5de18b0e73344a1daff86ced3ae9be6c",
       "value": " 277/277 [3:11:15&lt;00:00, 47.77s/it]"
      }
     },
     "c0d8a3351e3344b19e6c8f0bf6b2f921": {
      "model_module": "@jupyter-widgets/controls",
      "model_module_version": "1.5.0",
      "model_name": "HTMLModel",
      "state": {
       "_dom_classes": [],
       "_model_module": "@jupyter-widgets/controls",
       "_model_module_version": "1.5.0",
       "_model_name": "HTMLModel",
       "_view_count": null,
       "_view_module": "@jupyter-widgets/controls",
       "_view_module_version": "1.5.0",
       "_view_name": "HTMLView",
       "description": "",
       "description_tooltip": null,
       "layout": "IPY_MODEL_5b0dbf6904c14f38892f7f1eaa84ff46",
       "placeholder": "​",
       "style": "IPY_MODEL_5d09a3769eb74bf4aca36d9181529659",
       "value": "100%"
      }
     },
     "cdd658805e7b4dc292befafe7be525b1": {
      "model_module": "@jupyter-widgets/base",
      "model_module_version": "1.2.0",
      "model_name": "LayoutModel",
      "state": {
       "_model_module": "@jupyter-widgets/base",
       "_model_module_version": "1.2.0",
       "_model_name": "LayoutModel",
       "_view_count": null,
       "_view_module": "@jupyter-widgets/base",
       "_view_module_version": "1.2.0",
       "_view_name": "LayoutView",
       "align_content": null,
       "align_items": null,
       "align_self": null,
       "border": null,
       "bottom": null,
       "display": null,
       "flex": null,
       "flex_flow": null,
       "grid_area": null,
       "grid_auto_columns": null,
       "grid_auto_flow": null,
       "grid_auto_rows": null,
       "grid_column": null,
       "grid_gap": null,
       "grid_row": null,
       "grid_template_areas": null,
       "grid_template_columns": null,
       "grid_template_rows": null,
       "height": null,
       "justify_content": null,
       "justify_items": null,
       "left": null,
       "margin": null,
       "max_height": null,
       "max_width": null,
       "min_height": null,
       "min_width": null,
       "object_fit": null,
       "object_position": null,
       "order": null,
       "overflow": null,
       "overflow_x": null,
       "overflow_y": null,
       "padding": null,
       "right": null,
       "top": null,
       "visibility": null,
       "width": null
      }
     },
     "d4aa0af3b7784a14bc87cebde9966fc8": {
      "model_module": "@jupyter-widgets/controls",
      "model_module_version": "1.5.0",
      "model_name": "ProgressStyleModel",
      "state": {
       "_model_module": "@jupyter-widgets/controls",
       "_model_module_version": "1.5.0",
       "_model_name": "ProgressStyleModel",
       "_view_count": null,
       "_view_module": "@jupyter-widgets/base",
       "_view_module_version": "1.2.0",
       "_view_name": "StyleView",
       "bar_color": null,
       "description_width": ""
      }
     },
     "d5fca451344947daa3d7434e5c6e9776": {
      "model_module": "@jupyter-widgets/base",
      "model_module_version": "1.2.0",
      "model_name": "LayoutModel",
      "state": {
       "_model_module": "@jupyter-widgets/base",
       "_model_module_version": "1.2.0",
       "_model_name": "LayoutModel",
       "_view_count": null,
       "_view_module": "@jupyter-widgets/base",
       "_view_module_version": "1.2.0",
       "_view_name": "LayoutView",
       "align_content": null,
       "align_items": null,
       "align_self": null,
       "border": null,
       "bottom": null,
       "display": null,
       "flex": null,
       "flex_flow": null,
       "grid_area": null,
       "grid_auto_columns": null,
       "grid_auto_flow": null,
       "grid_auto_rows": null,
       "grid_column": null,
       "grid_gap": null,
       "grid_row": null,
       "grid_template_areas": null,
       "grid_template_columns": null,
       "grid_template_rows": null,
       "height": null,
       "justify_content": null,
       "justify_items": null,
       "left": null,
       "margin": null,
       "max_height": null,
       "max_width": null,
       "min_height": null,
       "min_width": null,
       "object_fit": null,
       "object_position": null,
       "order": null,
       "overflow": null,
       "overflow_x": null,
       "overflow_y": null,
       "padding": null,
       "right": null,
       "top": null,
       "visibility": null,
       "width": null
      }
     },
     "f0ec550d05ba4666a6576ac1ed7dae63": {
      "model_module": "@jupyter-widgets/controls",
      "model_module_version": "1.5.0",
      "model_name": "HBoxModel",
      "state": {
       "_dom_classes": [],
       "_model_module": "@jupyter-widgets/controls",
       "_model_module_version": "1.5.0",
       "_model_name": "HBoxModel",
       "_view_count": null,
       "_view_module": "@jupyter-widgets/controls",
       "_view_module_version": "1.5.0",
       "_view_name": "HBoxView",
       "box_style": "",
       "children": [
        "IPY_MODEL_c0d8a3351e3344b19e6c8f0bf6b2f921",
        "IPY_MODEL_0120c97198d24f9787264e593995d03f",
        "IPY_MODEL_7f6b056cf404473c87ea022adbd32838"
       ],
       "layout": "IPY_MODEL_d5fca451344947daa3d7434e5c6e9776"
      }
     },
     "f21e414f54ab4cdab1b65c9674b40cbe": {
      "model_module": "@jupyter-widgets/base",
      "model_module_version": "1.2.0",
      "model_name": "LayoutModel",
      "state": {
       "_model_module": "@jupyter-widgets/base",
       "_model_module_version": "1.2.0",
       "_model_name": "LayoutModel",
       "_view_count": null,
       "_view_module": "@jupyter-widgets/base",
       "_view_module_version": "1.2.0",
       "_view_name": "LayoutView",
       "align_content": null,
       "align_items": null,
       "align_self": null,
       "border": null,
       "bottom": null,
       "display": null,
       "flex": null,
       "flex_flow": null,
       "grid_area": null,
       "grid_auto_columns": null,
       "grid_auto_flow": null,
       "grid_auto_rows": null,
       "grid_column": null,
       "grid_gap": null,
       "grid_row": null,
       "grid_template_areas": null,
       "grid_template_columns": null,
       "grid_template_rows": null,
       "height": null,
       "justify_content": null,
       "justify_items": null,
       "left": null,
       "margin": null,
       "max_height": null,
       "max_width": null,
       "min_height": null,
       "min_width": null,
       "object_fit": null,
       "object_position": null,
       "order": null,
       "overflow": null,
       "overflow_x": null,
       "overflow_y": null,
       "padding": null,
       "right": null,
       "top": null,
       "visibility": null,
       "width": null
      }
     }
    },
    "version_major": 2,
    "version_minor": 0
   }
  }
 },
 "nbformat": 4,
 "nbformat_minor": 5
}
