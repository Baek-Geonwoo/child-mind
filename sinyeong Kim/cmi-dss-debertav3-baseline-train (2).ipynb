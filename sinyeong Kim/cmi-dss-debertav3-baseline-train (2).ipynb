{
 "cells": [
  {
   "cell_type": "markdown",
   "id": "deaecb98",
   "metadata": {
    "papermill": {
     "duration": 0.010777,
     "end_time": "2023-12-03T12:16:46.348493",
     "exception": false,
     "start_time": "2023-12-03T12:16:46.337716",
     "status": "completed"
    },
    "tags": []
   },
   "source": [
    "# Child Mind Institute - Detect Sleep States DebertaV3 Baseline\n",
    "\n",
    " [As I mentioned in this discussion](https://www.kaggle.com/competitions/child-mind-institute-detect-sleep-states/discussion/451372), **Transformers may be superior to CNNs and RNNs in this competition**. In this notebook I use DebertaV3-small, one type of transformer, and compare it to my CNN baseline.\n",
    "\n",
    "### This notebook is inspired by the following [werus23's](https://www.kaggle.com/werus23) amazing notebooks.\n",
    "### see also them.\n",
    "\n",
    "Finding Critical Points using RNNs\n",
    "\n",
    " - [Data Prep notebook](https://www.kaggle.com/code/werus23/sleep-critical-point-prepare-data)\n",
    " - [Training notebook](https://www.kaggle.com/werus23/sleep-critical-point-train)\n",
    " - [Inference Notebook](https://www.kaggle.com/code/werus23/sleep-critical-point-infer)\n",
    "\n",
    "Credits:\n",
    "\n",
    " - idea: https://www.kaggle.com/competitions/child-mind-institute-detect-sleep-states/discussion/441470\n",
    " - dataloader: https://www.kaggle.com/code/henriupton/efficient-loading-memory-usage-visualizations-cmi\n",
    " - arch: https://www.kaggle.com/competitions/tlvmc-parkinsons-freezing-gait-prediction/discussion/416410"
   ]
  },
  {
   "cell_type": "markdown",
   "id": "c1821f2c",
   "metadata": {
    "papermill": {
     "duration": 0.010121,
     "end_time": "2023-12-03T12:16:46.368847",
     "exception": false,
     "start_time": "2023-12-03T12:16:46.358726",
     "status": "completed"
    },
    "tags": []
   },
   "source": [
    "My other works\n",
    "- [Data preparation Notebook](https://www.kaggle.com/code/itsuki9180/detect-sleep-states-dataprepare)\n",
    "- [CNN Training Notebook](https://www.kaggle.com/code/itsuki9180/detect-sleep-states-train) \n",
    "- [CNN Inference Notebook](https://www.kaggle.com/code/itsuki9180/detect-sleep-states-dataprepare)\n",
    "- [DebertaV3 Training Notebook](https://www.kaggle.com/itsuki9180/cmi-dss-deberta-baseline-train) <- you are viewing now\n",
    "- [DebertaV3 Inference Notebook](https://www.kaggle.com/itsuki9180/cmi-dss-debertav3-baseline-inference)"
   ]
  },
  {
   "cell_type": "markdown",
   "id": "06c0752a",
   "metadata": {
    "papermill": {
     "duration": 0.009769,
     "end_time": "2023-12-03T12:16:46.388946",
     "exception": false,
     "start_time": "2023-12-03T12:16:46.379177",
     "status": "completed"
    },
    "tags": []
   },
   "source": [
    "# Import modules and Config"
   ]
  },
  {
   "cell_type": "code",
   "execution_count": 1,
   "id": "dbe47c87",
   "metadata": {
    "execution": {
     "iopub.execute_input": "2023-12-03T12:16:46.410068Z",
     "iopub.status.busy": "2023-12-03T12:16:46.409796Z",
     "iopub.status.idle": "2023-12-03T12:17:01.858240Z",
     "shell.execute_reply": "2023-12-03T12:17:01.857442Z"
    },
    "papermill": {
     "duration": 15.461566,
     "end_time": "2023-12-03T12:17:01.860577",
     "exception": false,
     "start_time": "2023-12-03T12:16:46.399011",
     "status": "completed"
    },
    "tags": []
   },
   "outputs": [
    {
     "name": "stderr",
     "output_type": "stream",
     "text": [
      "/opt/conda/lib/python3.10/site-packages/scipy/__init__.py:146: UserWarning: A NumPy version >=1.16.5 and <1.23.0 is required for this version of SciPy (detected version 1.23.5\n",
      "  warnings.warn(f\"A NumPy version >={np_minversion} and <{np_maxversion}\"\n"
     ]
    }
   ],
   "source": [
    "import pandas as pd\n",
    "import numpy as np\n",
    "import gc\n",
    "import time\n",
    "import json\n",
    "from datetime import datetime\n",
    "import matplotlib.pyplot as plt\n",
    "import os, glob\n",
    "import joblib\n",
    "import random\n",
    "import math\n",
    "from tqdm import tqdm \n",
    "from collections import OrderedDict\n",
    "\n",
    "from scipy.interpolate import interp1d\n",
    "from scipy import signal\n",
    "from scipy.signal import argrelmax\n",
    "\n",
    "from sklearn.metrics import mean_squared_error\n",
    "\n",
    "from math import pi, sqrt, exp\n",
    "import sklearn,sklearn.model_selection\n",
    "import torch\n",
    "from torch import nn,Tensor\n",
    "import torch.nn.functional as F\n",
    "from torch.utils.data import DataLoader, Dataset, SubsetRandomSampler\n",
    "from torch.optim import AdamW\n",
    "from sklearn.metrics import average_precision_score\n",
    "from timm.scheduler import CosineLRScheduler\n",
    "\n",
    "from transformers import get_cosine_schedule_with_warmup\n",
    "from transformers import AutoTokenizer, AutoConfig\n",
    "from transformers import AutoModel\n",
    "\n",
    "plt.style.use(\"ggplot\")\n",
    "\n",
    "from pyarrow.parquet import ParquetFile\n",
    "import pyarrow as pa \n",
    "import ctypes"
   ]
  },
  {
   "cell_type": "code",
   "execution_count": 2,
   "id": "d7032145",
   "metadata": {
    "execution": {
     "iopub.execute_input": "2023-12-03T12:17:01.883132Z",
     "iopub.status.busy": "2023-12-03T12:17:01.882571Z",
     "iopub.status.idle": "2023-12-03T12:17:01.886944Z",
     "shell.execute_reply": "2023-12-03T12:17:01.886058Z"
    },
    "papermill": {
     "duration": 0.017772,
     "end_time": "2023-12-03T12:17:01.888948",
     "exception": false,
     "start_time": "2023-12-03T12:17:01.871176",
     "status": "completed"
    },
    "tags": []
   },
   "outputs": [],
   "source": [
    "import warnings\n",
    "warnings.filterwarnings('ignore')"
   ]
  },
  {
   "cell_type": "code",
   "execution_count": 3,
   "id": "70325099",
   "metadata": {
    "execution": {
     "iopub.execute_input": "2023-12-03T12:17:01.911031Z",
     "iopub.status.busy": "2023-12-03T12:17:01.910736Z",
     "iopub.status.idle": "2023-12-03T12:17:01.915831Z",
     "shell.execute_reply": "2023-12-03T12:17:01.914978Z"
    },
    "papermill": {
     "duration": 0.018342,
     "end_time": "2023-12-03T12:17:01.917748",
     "exception": false,
     "start_time": "2023-12-03T12:17:01.899406",
     "status": "completed"
    },
    "tags": []
   },
   "outputs": [],
   "source": [
    "# Fundamental config\n",
    "NOTDEBUG = True # False -> DEBUG, True -> normally train\n",
    "WORKERS = os.cpu_count() // 2\n",
    "N_FOLDS = 5\n",
    "TRAIN_FOLD = 0\n",
    "\n",
    "SIGMA = 720 #average length of day is 24*60*12 = 17280 for comparison\n",
    "SAMPLE_FREQ = 12 # 1 obs per minute\n",
    "\n",
    "MAX_LEN = (24*60*12) # 1day per chunk\n",
    "MAX_CHUNK_LEN = MAX_LEN // SAMPLE_FREQ\n",
    "USE_AMP = False\n",
    "SEED = 8620"
   ]
  },
  {
   "cell_type": "code",
   "execution_count": 4,
   "id": "0a5125b6",
   "metadata": {
    "execution": {
     "iopub.execute_input": "2023-12-03T12:17:01.939142Z",
     "iopub.status.busy": "2023-12-03T12:17:01.938874Z",
     "iopub.status.idle": "2023-12-03T12:17:01.942804Z",
     "shell.execute_reply": "2023-12-03T12:17:01.941961Z"
    },
    "papermill": {
     "duration": 0.016725,
     "end_time": "2023-12-03T12:17:01.944647",
     "exception": false,
     "start_time": "2023-12-03T12:17:01.927922",
     "status": "completed"
    },
    "tags": []
   },
   "outputs": [],
   "source": [
    "# Model config\n",
    "EMB_DIM = 32\n",
    "MODEL_NAME = 'microsoft/deberta-v3-small'\n",
    "OUTPUT_DIR='./DebertaV3XS_Baseline'"
   ]
  },
  {
   "cell_type": "code",
   "execution_count": 5,
   "id": "74f1cb5c",
   "metadata": {
    "execution": {
     "iopub.execute_input": "2023-12-03T12:17:01.966276Z",
     "iopub.status.busy": "2023-12-03T12:17:01.965995Z",
     "iopub.status.idle": "2023-12-03T12:17:01.970014Z",
     "shell.execute_reply": "2023-12-03T12:17:01.969180Z"
    },
    "papermill": {
     "duration": 0.016966,
     "end_time": "2023-12-03T12:17:01.971859",
     "exception": false,
     "start_time": "2023-12-03T12:17:01.954893",
     "status": "completed"
    },
    "tags": []
   },
   "outputs": [],
   "source": [
    "# Optimizer config\n",
    "LR = 4e-4\n",
    "WD = 1e-2\n",
    "WARMUP_PROP = 0.1\n",
    "# LR_INIT = 1e-4\n",
    "# LR_MIN = 1e-5"
   ]
  },
  {
   "cell_type": "code",
   "execution_count": 6,
   "id": "36789d90",
   "metadata": {
    "execution": {
     "iopub.execute_input": "2023-12-03T12:17:01.993117Z",
     "iopub.status.busy": "2023-12-03T12:17:01.992840Z",
     "iopub.status.idle": "2023-12-03T12:17:01.997038Z",
     "shell.execute_reply": "2023-12-03T12:17:01.996200Z"
    },
    "papermill": {
     "duration": 0.01684,
     "end_time": "2023-12-03T12:17:01.998868",
     "exception": false,
     "start_time": "2023-12-03T12:17:01.982028",
     "status": "completed"
    },
    "tags": []
   },
   "outputs": [],
   "source": [
    "# Train config\n",
    "EPOCHS = 10 if NOTDEBUG else 2\n",
    "BS = 4\n",
    "MAX_GRAD_NORM = 2.\n",
    "GRAD_ACC = 32 // BS"
   ]
  },
  {
   "cell_type": "code",
   "execution_count": 7,
   "id": "4522f929",
   "metadata": {
    "execution": {
     "iopub.execute_input": "2023-12-03T12:17:02.020410Z",
     "iopub.status.busy": "2023-12-03T12:17:02.020124Z",
     "iopub.status.idle": "2023-12-03T12:17:02.028879Z",
     "shell.execute_reply": "2023-12-03T12:17:02.028015Z"
    },
    "papermill": {
     "duration": 0.021853,
     "end_time": "2023-12-03T12:17:02.030820",
     "exception": false,
     "start_time": "2023-12-03T12:17:02.008967",
     "status": "completed"
    },
    "tags": []
   },
   "outputs": [],
   "source": [
    "def torch_fix_seed(seed=42):\n",
    "    # Python random\n",
    "    random.seed(seed)\n",
    "    # Numpy\n",
    "    np.random.seed(seed)\n",
    "    # Pytorch\n",
    "    torch.manual_seed(seed)\n",
    "    torch.cuda.manual_seed(seed)\n",
    "    # torch.backends.cudnn.deterministic = True\n",
    "    # torch.use_deterministic_algorithms = True\n",
    "    # torch.backends.cudnn.benchmark = True\n",
    "\n",
    "torch_fix_seed(SEED)"
   ]
  },
  {
   "cell_type": "code",
   "execution_count": 8,
   "id": "81de9fd5",
   "metadata": {
    "execution": {
     "iopub.execute_input": "2023-12-03T12:17:02.052268Z",
     "iopub.status.busy": "2023-12-03T12:17:02.051994Z",
     "iopub.status.idle": "2023-12-03T12:17:02.122951Z",
     "shell.execute_reply": "2023-12-03T12:17:02.122053Z"
    },
    "papermill": {
     "duration": 0.083821,
     "end_time": "2023-12-03T12:17:02.124866",
     "exception": false,
     "start_time": "2023-12-03T12:17:02.041045",
     "status": "completed"
    },
    "tags": []
   },
   "outputs": [
    {
     "data": {
      "text/plain": [
       "'cuda'"
      ]
     },
     "execution_count": 8,
     "metadata": {},
     "output_type": "execute_result"
    }
   ],
   "source": [
    "device = 'cuda' if torch.cuda.is_available() else 'cpu'\n",
    "device"
   ]
  },
  {
   "cell_type": "code",
   "execution_count": 9,
   "id": "5e3da0d5",
   "metadata": {
    "execution": {
     "iopub.execute_input": "2023-12-03T12:17:02.147101Z",
     "iopub.status.busy": "2023-12-03T12:17:02.146801Z",
     "iopub.status.idle": "2023-12-03T12:17:02.154883Z",
     "shell.execute_reply": "2023-12-03T12:17:02.154202Z"
    },
    "papermill": {
     "duration": 0.021188,
     "end_time": "2023-12-03T12:17:02.156707",
     "exception": false,
     "start_time": "2023-12-03T12:17:02.135519",
     "status": "completed"
    },
    "tags": []
   },
   "outputs": [],
   "source": [
    "def plot_history(history, model_path=\".\", show=True):\n",
    "    epochs = range(1, len(history[\"train_loss\"]) + 1)\n",
    "\n",
    "    plt.figure()\n",
    "    plt.plot(epochs, history[\"train_loss\"], label=\"Training Loss\")\n",
    "    plt.plot(epochs, history[\"valid_loss\"], label=\"Validation Loss\")\n",
    "    plt.yscale('log')\n",
    "    plt.title(\"Loss evolution\")\n",
    "    plt.xlabel(\"Epochs\")\n",
    "    plt.ylabel(\"Loss\")\n",
    "    plt.legend()\n",
    "    plt.savefig(os.path.join(model_path, \"loss_evo.png\"))\n",
    "    if show:\n",
    "        plt.show()\n",
    "    plt.close()\n",
    "\n",
    "#     plt.figure()\n",
    "#     plt.plot(epochs, history[\"valid_mAP\"])\n",
    "#     plt.title(\"Validation mAP evolution\")\n",
    "#     plt.xlabel(\"Epochs\")\n",
    "#     plt.ylabel(\"mAP\")\n",
    "#     plt.savefig(os.path.join(model_path, \"mAP_evo.png\"))\n",
    "#     if show:\n",
    "#         plt.show()\n",
    "#     plt.close()\n",
    "\n",
    "    plt.figure()\n",
    "    plt.plot(epochs, history[\"lr\"])\n",
    "    plt.title(\"Learning Rate evolution\")\n",
    "    plt.xlabel(\"Epochs\")\n",
    "    plt.ylabel(\"LR\")\n",
    "    plt.savefig(os.path.join(model_path, \"lr_evo.png\"))\n",
    "    if show:\n",
    "        plt.show()\n",
    "    plt.close()"
   ]
  },
  {
   "cell_type": "markdown",
   "id": "600d1382",
   "metadata": {
    "papermill": {
     "duration": 0.010625,
     "end_time": "2023-12-03T12:17:02.178850",
     "exception": false,
     "start_time": "2023-12-03T12:17:02.168225",
     "status": "completed"
    },
    "tags": []
   },
   "source": [
    "# Define Model"
   ]
  },
  {
   "cell_type": "code",
   "execution_count": 10,
   "id": "11d3afca",
   "metadata": {
    "execution": {
     "iopub.execute_input": "2023-12-03T12:17:02.201445Z",
     "iopub.status.busy": "2023-12-03T12:17:02.200644Z",
     "iopub.status.idle": "2023-12-03T12:17:02.216961Z",
     "shell.execute_reply": "2023-12-03T12:17:02.216093Z"
    },
    "papermill": {
     "duration": 0.029878,
     "end_time": "2023-12-03T12:17:02.218991",
     "exception": false,
     "start_time": "2023-12-03T12:17:02.189113",
     "status": "completed"
    },
    "tags": []
   },
   "outputs": [],
   "source": [
    "class US_BLK(nn.Module):\n",
    "    def __init__(self, in_c, out_c, in_len, ks=7, dilation=1, us_factor=2):\n",
    "        super().__init__()\n",
    "        padding = ((ks-1)*dilation)//2\n",
    "        self.us = nn.Upsample(scale_factor=us_factor, mode='linear')\n",
    "        self.conv1 = nn.Conv1d(in_c, out_c, ks, padding=padding, dilation=dilation)\n",
    "        self.ln1 = nn.LayerNorm([out_c, in_len])\n",
    "        self.act1 = nn.LeakyReLU(0.2)\n",
    "        self.conv2 = nn.Conv1d(out_c, out_c, ks, padding=padding, dilation=dilation)\n",
    "        self.ln2 = nn.LayerNorm([out_c, in_len])\n",
    "        self.act2 = nn.LeakyReLU(0.2)\n",
    "        \n",
    "    def forward(self, x):\n",
    "        x = self.us(x)\n",
    "        x = self.conv1(x)\n",
    "        x = self.ln1(x)\n",
    "        x = self.act1(x)\n",
    "        x = self.conv2(x)\n",
    "        x = self.ln2(x)\n",
    "        x = self.act2(x)\n",
    "        return x\n",
    "        \n",
    "class BertEncoder(torch.nn.Module):\n",
    "    \n",
    "    def __init__(self, model_name, in_c=2, out_c=2, emb_dim=8, pretrained=True, base=96):\n",
    "        super().__init__()\n",
    "        \n",
    "        self.config = AutoConfig.from_pretrained(model_name, add_pooling_layer=False)\n",
    "        if pretrained:\n",
    "            self.bert = AutoModel.from_pretrained(model_name, config=self.config)\n",
    "        else:\n",
    "            self.bert = AutoModel.from_config(self.config)\n",
    "            \n",
    "        self.bert = self.bert.encoder\n",
    "        \n",
    "        self.fc_in = nn.Linear(in_c, self.config.hidden_size-emb_dim)\n",
    "        self.hr_emb = nn.Embedding(24, emb_dim)\n",
    "\n",
    "        self.upsample_blocks = nn.ModuleList([])\n",
    "        self.upsample_blocks.append(US_BLK(self.config.hidden_size, base*4, MAX_LEN//(2*2), us_factor=3))\n",
    "        self.upsample_blocks.append(US_BLK(base*4, base*2, MAX_LEN//2, us_factor=2))\n",
    "        self.upsample_blocks.append(US_BLK(base*2, base, MAX_LEN, us_factor=2))\n",
    "        \n",
    "        self.fc_out = nn.Linear(base, out_c)\n",
    "\n",
    "    def forward(self, x, t, att_mask=None):\n",
    "        x = self.fc_in(x)        \n",
    "        t = self.hr_emb(t)\n",
    "        x = torch.cat([x, t.squeeze(2)], dim=-1)\n",
    "\n",
    "        if att_mask is None:\n",
    "            att_mask = torch.ones(x.size()[:2]).to(x.device)\n",
    "        \n",
    "        bert_output = self.bert(x, attention_mask=att_mask)\n",
    "        x = bert_output.last_hidden_state\n",
    "\n",
    "        x = x.permute(0,2,1)\n",
    "\n",
    "        for b in self.upsample_blocks:\n",
    "            x = b(x)\n",
    "\n",
    "        x = x.permute(0,2,1)\n",
    "        \n",
    "        scores = self.fc_out(x) \n",
    "        \n",
    "        return scores"
   ]
  },
  {
   "cell_type": "markdown",
   "id": "69ed3d5f",
   "metadata": {
    "papermill": {
     "duration": 0.010152,
     "end_time": "2023-12-03T12:17:02.239601",
     "exception": false,
     "start_time": "2023-12-03T12:17:02.229449",
     "status": "completed"
    },
    "tags": []
   },
   "source": [
    "# Define Dataset and Fold split"
   ]
  },
  {
   "cell_type": "code",
   "execution_count": 11,
   "id": "a3676b2c",
   "metadata": {
    "execution": {
     "iopub.execute_input": "2023-12-03T12:17:02.261892Z",
     "iopub.status.busy": "2023-12-03T12:17:02.261269Z",
     "iopub.status.idle": "2023-12-03T12:17:02.320123Z",
     "shell.execute_reply": "2023-12-03T12:17:02.319201Z"
    },
    "papermill": {
     "duration": 0.072194,
     "end_time": "2023-12-03T12:17:02.322088",
     "exception": false,
     "start_time": "2023-12-03T12:17:02.249894",
     "status": "completed"
    },
    "tags": []
   },
   "outputs": [
    {
     "name": "stdout",
     "output_type": "stream",
     "text": [
      "Fold = 0\n",
      "Length of Train = 221, Length of Valid = 56\n"
     ]
    },
    {
     "data": {
      "text/plain": [
       "(0    038441c925bb\n",
       " 1    03d92c9f6f8a\n",
       " 2    0402a003dae9\n",
       " 3    04f547b8017d\n",
       " 4    05e1944c3818\n",
       " Name: series_id, dtype: object,\n",
       " ['/kaggle/input/detect-sleep-states-dataprepare/train_csvs/038441c925bb.csv',\n",
       "  '/kaggle/input/detect-sleep-states-dataprepare/train_csvs/03d92c9f6f8a.csv',\n",
       "  '/kaggle/input/detect-sleep-states-dataprepare/train_csvs/0402a003dae9.csv',\n",
       "  '/kaggle/input/detect-sleep-states-dataprepare/train_csvs/04f547b8017d.csv',\n",
       "  '/kaggle/input/detect-sleep-states-dataprepare/train_csvs/05e1944c3818.csv'],\n",
       " 221)"
      ]
     },
     "execution_count": 11,
     "metadata": {},
     "output_type": "execute_result"
    }
   ],
   "source": [
    "from sklearn.model_selection import StratifiedKFold, StratifiedGroupKFold\n",
    "skf = StratifiedKFold(n_splits=N_FOLDS, random_state=SEED, shuffle=True)\n",
    "metadata = pd.read_csv('/kaggle/input/child-mind-institute-detect-sleep-states/train_events.csv')\n",
    "unique_ids = metadata['series_id'].unique()\n",
    "meta_cts = pd.DataFrame(unique_ids, columns=['series_id'])\n",
    "for i, (train_index, valid_index) in enumerate(skf.split(X=meta_cts['series_id'], y=[1]*len(meta_cts))):\n",
    "    if i != TRAIN_FOLD:\n",
    "        continue\n",
    "    print(f\"Fold = {i}\")\n",
    "    train_ids = meta_cts.loc[train_index, 'series_id']\n",
    "    valid_ids = meta_cts.loc[valid_index, 'series_id']\n",
    "    print(f\"Length of Train = {len(train_ids)}, Length of Valid = {len(valid_ids)}\")\n",
    "    \n",
    "    if i == TRAIN_FOLD:\n",
    "        break\n",
    "        \n",
    "train_fpaths = [f\"/kaggle/input/detect-sleep-states-dataprepare/train_csvs/{_id}.csv\" for _id in train_ids]\n",
    "valid_fpaths = [f\"/kaggle/input/detect-sleep-states-dataprepare/train_csvs/{_id}.csv\" for _id in valid_ids]\n",
    "train_ids[:5], train_fpaths[:5] ,len(train_fpaths)"
   ]
  },
  {
   "cell_type": "code",
   "execution_count": 12,
   "id": "04bcfe8a",
   "metadata": {
    "execution": {
     "iopub.execute_input": "2023-12-03T12:17:02.345127Z",
     "iopub.status.busy": "2023-12-03T12:17:02.344863Z",
     "iopub.status.idle": "2023-12-03T12:19:58.848792Z",
     "shell.execute_reply": "2023-12-03T12:19:58.847774Z"
    },
    "papermill": {
     "duration": 176.518219,
     "end_time": "2023-12-03T12:19:58.850911",
     "exception": false,
     "start_time": "2023-12-03T12:17:02.332692",
     "status": "completed"
    },
    "tags": []
   },
   "outputs": [
    {
     "name": "stderr",
     "output_type": "stream",
     "text": [
      "                                               \r"
     ]
    }
   ],
   "source": [
    "class SleepDataset(Dataset):\n",
    "    def __init__(\n",
    "        self,\n",
    "        folder,\n",
    "        max_len=17280,\n",
    "        is_train=False,\n",
    "        sample_per_epoch=10000\n",
    "    ):\n",
    "        self.enmo_mean = np.load('/kaggle/input/detect-sleep-states-dataprepare/enmo_mean.npy')\n",
    "        self.enmo_std = np.load('/kaggle/input/detect-sleep-states-dataprepare/enmo_std.npy')\n",
    "        \n",
    "        self.max_len = max_len\n",
    "        assert max_len % SAMPLE_FREQ == 0\n",
    "        \n",
    "        self.is_train = is_train\n",
    "        \n",
    "        self.max_df_size = 0\n",
    "        self.min_df_size = 1e9\n",
    "        \n",
    "        self.sample_per_epoch = sample_per_epoch\n",
    "        \n",
    "        self.feat_list = ['anglez','enmo']\n",
    "        \n",
    "        self.Xys = self.read_csvs(folder)        \n",
    "        \n",
    "        self.label_list = ['onset', 'wakeup']\n",
    "        \n",
    "        self.hour_feat= ['hour']\n",
    "        \n",
    "        self.compress_methods = ['mean', 'median', 'fixed']\n",
    "        \n",
    "    def read_csvs(self, folder):\n",
    "        res = []\n",
    "        if type(folder) is str:\n",
    "            files = glob.glob(f'{folder}/*.csv')\n",
    "        else:\n",
    "            files = folder\n",
    "        for i, f in tqdm(enumerate(files), total=len(files), leave=False):\n",
    "            df = pd.read_csv(f)\n",
    "            df = self.norm_feat_eng(df, init=True if i==0 else False)\n",
    "                \n",
    "            res.append(df)\n",
    "            self.max_df_size = max(self.max_df_size, len(df))\n",
    "            self.min_df_size = min(self.min_df_size, len(df))\n",
    "        return res\n",
    "    \n",
    "    def compress(self, xt, method='mean', sample_freq=SAMPLE_FREQ):\n",
    "        x, t = xt\n",
    "        seq_len = x.shape[0]\n",
    "        if method == 'mean':\n",
    "            x = x.reshape(seq_len//sample_freq, sample_freq, -1).mean(1)\n",
    "            t = t.reshape(seq_len//sample_freq, sample_freq, 1).mean(1)\n",
    "            \n",
    "        if method == 'median':\n",
    "            x = np.median(x.reshape(seq_len//sample_freq, sample_freq, -1), axis=1)\n",
    "            t = np.median(t.reshape(seq_len//sample_freq, sample_freq, 1), axis=1)\n",
    "            \n",
    "        if method == 'fixed':\n",
    "            start = torch.randint(0, sample_freq, size=(1,))[0].numpy()\n",
    "            x = x[start::sample_freq]\n",
    "            t = t[start::sample_freq]\n",
    "        \n",
    "        return x.astype(np.float32), t.astype(np.int32)\n",
    "\n",
    "    def norm_feat_eng(self, X, init=False):\n",
    "#         X['anglez'] = X['anglez'] / 90.0\n",
    "        X['anglez'] = abs(X['anglez'].diff()).fillna(method='bfill') / 90\n",
    "        X['enmo'] = (X['enmo'] - self.enmo_mean) / (self.enmo_std + 1e-12)\n",
    "#         X['enmo'] = 100 / (X['enmo'] + 1)\n",
    "        \n",
    "        for w in [1, 2, 4, 8, 16]:    \n",
    "            X['anglez_shift_pos_' + str(w)] = X['anglez'].shift(w).fillna(0)\n",
    "            X['anglez_shift_neg_' + str(w)] = X['anglez'].shift(-w).fillna(0)\n",
    "            \n",
    "            X['enmo_shift_pos_' + str(w)] = X['enmo'].shift(w).fillna(0)\n",
    "            X['enmo_shift_neg_' + str(w)] = X['enmo'].shift(-w).fillna(0)\n",
    "            \n",
    "            if init:\n",
    "                self.feat_list.append('anglez_shift_pos_' + str(w))\n",
    "                self.feat_list.append('anglez_shift_neg_' + str(w))\n",
    "                \n",
    "                self.feat_list.append('enmo_shift_pos_' + str(w))\n",
    "                self.feat_list.append('enmo_shift_neg_' + str(w))\n",
    "            \n",
    "        for r in [17, 33, 65]:\n",
    "            tmp_anglez = X['anglez'].rolling(r, center=True)\n",
    "            X[f'anglez_mean_{r}'] = tmp_anglez.mean()\n",
    "            X[f'anglez_std_{r}'] = tmp_anglez.std()            \n",
    "            \n",
    "            tmp_enmo = X['enmo'].rolling(r, center=True)\n",
    "            X[f'enmo_mean_{r}'] = tmp_enmo.mean()\n",
    "            X[f'enmo_std_{r}'] = tmp_enmo.std()\n",
    "            \n",
    "            if init:\n",
    "                self.feat_list.append(f'anglez_mean_{r}')\n",
    "                self.feat_list.append(f'anglez_std_{r}')\n",
    "\n",
    "                self.feat_list.append(f'enmo_mean_{r}')\n",
    "                self.feat_list.append(f'enmo_std_{r}')\n",
    "                \n",
    "        X = X.fillna(0)\n",
    "        \n",
    "        return X.astype(np.float32)\n",
    "\n",
    "    def gauss(self, n=SIGMA, sigma=SIGMA*0.15):\n",
    "        # guassian distribution function\n",
    "        r = range(-int(n/2),int(n/2)+1)\n",
    "        return [1 / (sigma * sqrt(2*pi)) * exp(-float(x)**2/(2*sigma**2)) for x in r]\n",
    "    \n",
    "    def __len__(self):\n",
    "        return self.sample_per_epoch if self.is_train else len(self.Xys)\n",
    "\n",
    "    def __getitem__(self, index):\n",
    "        if self.is_train:\n",
    "            ind = torch.randint(0, len(self.Xys), size=(1,))[0].numpy()\n",
    "            Xy = self.Xys[ind]\n",
    "            \n",
    "            X = Xy[self.feat_list].values.astype(np.float32)\n",
    "            y = Xy[self.label_list].values.astype(np.float32)\n",
    "            t = Xy[self.hour_feat].values.astype(np.int32)\n",
    "\n",
    "            if len(Xy)+1<self.max_len:\n",
    "                res = self.max_len - len(Xy) + 1\n",
    "                X = np.pad(X, ((0, res), (0, 0)))\n",
    "                y = np.pad(y, ((0, res), (0, 0)))\n",
    "                t = np.pad(t, ((0, res), (0, 0)))\n",
    "\n",
    "            start = torch.randint(0, len(X)-self.max_len, size=(1,))[0].numpy()\n",
    "\n",
    "            X = X[start:start+self.max_len]\n",
    "            y = y[start:start+self.max_len]    \n",
    "            t = t[start:start+self.max_len]    \n",
    "            \n",
    "            method_idx = torch.randint(0, len(self.compress_methods), size=(1,))[0].numpy()\n",
    "            X, t = self.compress((X, t), method=self.compress_methods[method_idx])\n",
    "\n",
    "        else:\n",
    "            Xy = self.Xys[index]\n",
    "            X = Xy[self.feat_list].values.astype(np.float32)\n",
    "            y = Xy[self.label_list].values.astype(np.float32)        \n",
    "            t = Xy[self.hour_feat].values.astype(np.int32)\n",
    "            \n",
    "            if len(Xy)%SAMPLE_FREQ!=0:\n",
    "                res = SAMPLE_FREQ - (len(Xy)%SAMPLE_FREQ)\n",
    "                X = np.pad(X, ((0, res), (0, 0)))\n",
    "                y = np.pad(y, ((0, res), (0, 0)))\n",
    "                t = np.pad(t, ((0, res), (0, 0)))\n",
    "            \n",
    "            X, t = self.compress((X, t), method='mean')\n",
    "            \n",
    "        return X, t, y\n",
    "\n",
    "train_fpaths = train_fpaths if NOTDEBUG else train_fpaths[:25]\n",
    "valid_fpaths = valid_fpaths if NOTDEBUG else valid_fpaths[:5]\n",
    "sample_per_epoch = 20_000 if NOTDEBUG else 100\n",
    "\n",
    "train_ds = SleepDataset(train_fpaths, max_len=MAX_LEN, is_train=True, sample_per_epoch=sample_per_epoch)\n",
    "val_ds = SleepDataset(valid_fpaths, is_train=False)"
   ]
  },
  {
   "cell_type": "code",
   "execution_count": 13,
   "id": "d5a9a1a6",
   "metadata": {
    "execution": {
     "iopub.execute_input": "2023-12-03T12:19:58.914447Z",
     "iopub.status.busy": "2023-12-03T12:19:58.914119Z",
     "iopub.status.idle": "2023-12-03T12:19:58.918892Z",
     "shell.execute_reply": "2023-12-03T12:19:58.918194Z"
    },
    "papermill": {
     "duration": 0.038211,
     "end_time": "2023-12-03T12:19:58.920682",
     "exception": false,
     "start_time": "2023-12-03T12:19:58.882471",
     "status": "completed"
    },
    "tags": []
   },
   "outputs": [],
   "source": [
    "np.save('feature_list.npy', train_ds.feat_list)"
   ]
  },
  {
   "cell_type": "code",
   "execution_count": 14,
   "id": "b41d64e7",
   "metadata": {
    "execution": {
     "iopub.execute_input": "2023-12-03T12:19:58.983371Z",
     "iopub.status.busy": "2023-12-03T12:19:58.983078Z",
     "iopub.status.idle": "2023-12-03T12:19:58.988192Z",
     "shell.execute_reply": "2023-12-03T12:19:58.987420Z"
    },
    "papermill": {
     "duration": 0.038747,
     "end_time": "2023-12-03T12:19:58.990074",
     "exception": false,
     "start_time": "2023-12-03T12:19:58.951327",
     "status": "completed"
    },
    "tags": []
   },
   "outputs": [],
   "source": [
    "train_dl = DataLoader(\n",
    "    train_ds,\n",
    "    batch_size=BS,\n",
    "    pin_memory=True,\n",
    "    num_workers=WORKERS,\n",
    "    shuffle=True,\n",
    "    drop_last=True\n",
    ")\n",
    "val_dl = DataLoader(\n",
    "    val_ds,\n",
    "    batch_size=1,\n",
    "    pin_memory=True,\n",
    "    num_workers=WORKERS,\n",
    "    shuffle=False,\n",
    "    drop_last=False\n",
    ")"
   ]
  },
  {
   "cell_type": "markdown",
   "id": "1d699188",
   "metadata": {
    "papermill": {
     "duration": 0.030701,
     "end_time": "2023-12-03T12:19:59.051464",
     "exception": false,
     "start_time": "2023-12-03T12:19:59.020763",
     "status": "completed"
    },
    "tags": []
   },
   "source": [
    "# Train and Eval"
   ]
  },
  {
   "cell_type": "code",
   "execution_count": 15,
   "id": "a62623ca",
   "metadata": {
    "execution": {
     "iopub.execute_input": "2023-12-03T12:19:59.113908Z",
     "iopub.status.busy": "2023-12-03T12:19:59.113641Z",
     "iopub.status.idle": "2023-12-03T12:19:59.120203Z",
     "shell.execute_reply": "2023-12-03T12:19:59.119389Z"
    },
    "papermill": {
     "duration": 0.039832,
     "end_time": "2023-12-03T12:19:59.122025",
     "exception": false,
     "start_time": "2023-12-03T12:19:59.082193",
     "status": "completed"
    },
    "tags": []
   },
   "outputs": [],
   "source": [
    "# https://www.kaggle.com/code/bigironsphere/loss-function-library-keras-pytorch\n",
    "\n",
    "class FocalLoss(nn.Module):\n",
    "    def __init__(self, weight=None, size_average=True, alpha=1., gamma=2.):\n",
    "        super(FocalLoss, self).__init__()\n",
    "        self.alpha = alpha\n",
    "        self.gamma = gamma\n",
    "\n",
    "    def forward(self, inputs, targets):\n",
    "        \n",
    "        #comment out if your model contains a sigmoid or equivalent activation layer\n",
    "        #inputs = F.sigmoid(inputs)       \n",
    "        \n",
    "        #flatten label and prediction tensors\n",
    "        inputs = inputs.view(-1)\n",
    "        targets = targets.view(-1)\n",
    "        \n",
    "        #first compute binary cross-entropy \n",
    "        BCE = F.binary_cross_entropy_with_logits(inputs, targets, reduction='none')\n",
    "        BCE_EXP = torch.exp(-BCE)\n",
    "        focal_loss = self.alpha * (1-BCE_EXP)**self.gamma * BCE\n",
    "                       \n",
    "        return focal_loss.mean()"
   ]
  },
  {
   "cell_type": "code",
   "execution_count": 16,
   "id": "aed645f6",
   "metadata": {
    "execution": {
     "iopub.execute_input": "2023-12-03T12:19:59.184996Z",
     "iopub.status.busy": "2023-12-03T12:19:59.184440Z",
     "iopub.status.idle": "2023-12-03T12:19:59.190542Z",
     "shell.execute_reply": "2023-12-03T12:19:59.189727Z"
    },
    "papermill": {
     "duration": 0.039446,
     "end_time": "2023-12-03T12:19:59.192367",
     "exception": false,
     "start_time": "2023-12-03T12:19:59.152921",
     "status": "completed"
    },
    "tags": []
   },
   "outputs": [],
   "source": [
    "def add_weight_decay(model, weight_decay=1e-5, skip_list=()):\n",
    "    decay = []\n",
    "    no_decay = []\n",
    "    for name, param in model.named_parameters():\n",
    "        if not param.requires_grad:\n",
    "            continue\n",
    "        if len(param.shape) == 1 or np.any([v in name.lower()  for v in skip_list]):\n",
    "            # print(name, 'no decay')\n",
    "            no_decay.append(param)\n",
    "        else:\n",
    "            # print(name, 'decay')\n",
    "            decay.append(param)\n",
    "    return [\n",
    "        {'params': no_decay, 'weight_decay': 0.},\n",
    "        {'params': decay, 'weight_decay': weight_decay}]"
   ]
  },
  {
   "cell_type": "code",
   "execution_count": 17,
   "id": "b019c82c",
   "metadata": {
    "execution": {
     "iopub.execute_input": "2023-12-03T12:19:59.255011Z",
     "iopub.status.busy": "2023-12-03T12:19:59.254740Z",
     "iopub.status.idle": "2023-12-03T12:19:59.259093Z",
     "shell.execute_reply": "2023-12-03T12:19:59.258322Z"
    },
    "papermill": {
     "duration": 0.037868,
     "end_time": "2023-12-03T12:19:59.260953",
     "exception": false,
     "start_time": "2023-12-03T12:19:59.223085",
     "status": "completed"
    },
    "tags": []
   },
   "outputs": [],
   "source": [
    "def padding_(x, tgt_len=MAX_CHUNK_LEN):\n",
    "    res = tgt_len - (x.size(-2) % tgt_len)\n",
    "    x = F.pad(x, (0, 0, 0, res))\n",
    "    return x"
   ]
  },
  {
   "cell_type": "code",
   "execution_count": 18,
   "id": "ef569b59",
   "metadata": {
    "execution": {
     "iopub.execute_input": "2023-12-03T12:19:59.324036Z",
     "iopub.status.busy": "2023-12-03T12:19:59.323486Z",
     "iopub.status.idle": "2023-12-03T12:20:07.271969Z",
     "shell.execute_reply": "2023-12-03T12:20:07.271106Z"
    },
    "papermill": {
     "duration": 7.982086,
     "end_time": "2023-12-03T12:20:07.274028",
     "exception": false,
     "start_time": "2023-12-03T12:19:59.291942",
     "status": "completed"
    },
    "tags": []
   },
   "outputs": [
    {
     "data": {
      "application/vnd.jupyter.widget-view+json": {
       "model_id": "dd76e9cfd07a4320be92caaaf9a79c81",
       "version_major": 2,
       "version_minor": 0
      },
      "text/plain": [
       "Downloading config.json:   0%|          | 0.00/578 [00:00<?, ?B/s]"
      ]
     },
     "metadata": {},
     "output_type": "display_data"
    },
    {
     "data": {
      "application/vnd.jupyter.widget-view+json": {
       "model_id": "81cde64c2de34143b74550a759900a2e",
       "version_major": 2,
       "version_minor": 0
      },
      "text/plain": [
       "Downloading pytorch_model.bin:   0%|          | 0.00/286M [00:00<?, ?B/s]"
      ]
     },
     "metadata": {},
     "output_type": "display_data"
    },
    {
     "data": {
      "text/plain": [
       "BertEncoder(\n",
       "  (bert): DebertaV2Encoder(\n",
       "    (layer): ModuleList(\n",
       "      (0-5): 6 x DebertaV2Layer(\n",
       "        (attention): DebertaV2Attention(\n",
       "          (self): DisentangledSelfAttention(\n",
       "            (query_proj): Linear(in_features=768, out_features=768, bias=True)\n",
       "            (key_proj): Linear(in_features=768, out_features=768, bias=True)\n",
       "            (value_proj): Linear(in_features=768, out_features=768, bias=True)\n",
       "            (pos_dropout): StableDropout()\n",
       "            (dropout): StableDropout()\n",
       "          )\n",
       "          (output): DebertaV2SelfOutput(\n",
       "            (dense): Linear(in_features=768, out_features=768, bias=True)\n",
       "            (LayerNorm): LayerNorm((768,), eps=1e-07, elementwise_affine=True)\n",
       "            (dropout): StableDropout()\n",
       "          )\n",
       "        )\n",
       "        (intermediate): DebertaV2Intermediate(\n",
       "          (dense): Linear(in_features=768, out_features=3072, bias=True)\n",
       "          (intermediate_act_fn): GELUActivation()\n",
       "        )\n",
       "        (output): DebertaV2Output(\n",
       "          (dense): Linear(in_features=3072, out_features=768, bias=True)\n",
       "          (LayerNorm): LayerNorm((768,), eps=1e-07, elementwise_affine=True)\n",
       "          (dropout): StableDropout()\n",
       "        )\n",
       "      )\n",
       "    )\n",
       "    (rel_embeddings): Embedding(512, 768)\n",
       "    (LayerNorm): LayerNorm((768,), eps=1e-07, elementwise_affine=True)\n",
       "  )\n",
       "  (fc_in): Linear(in_features=34, out_features=736, bias=True)\n",
       "  (hr_emb): Embedding(24, 32)\n",
       "  (upsample_blocks): ModuleList(\n",
       "    (0): US_BLK(\n",
       "      (us): Upsample(scale_factor=3.0, mode='linear')\n",
       "      (conv1): Conv1d(768, 384, kernel_size=(7,), stride=(1,), padding=(3,))\n",
       "      (ln1): LayerNorm((384, 4320), eps=1e-05, elementwise_affine=True)\n",
       "      (act1): LeakyReLU(negative_slope=0.2)\n",
       "      (conv2): Conv1d(384, 384, kernel_size=(7,), stride=(1,), padding=(3,))\n",
       "      (ln2): LayerNorm((384, 4320), eps=1e-05, elementwise_affine=True)\n",
       "      (act2): LeakyReLU(negative_slope=0.2)\n",
       "    )\n",
       "    (1): US_BLK(\n",
       "      (us): Upsample(scale_factor=2.0, mode='linear')\n",
       "      (conv1): Conv1d(384, 192, kernel_size=(7,), stride=(1,), padding=(3,))\n",
       "      (ln1): LayerNorm((192, 8640), eps=1e-05, elementwise_affine=True)\n",
       "      (act1): LeakyReLU(negative_slope=0.2)\n",
       "      (conv2): Conv1d(192, 192, kernel_size=(7,), stride=(1,), padding=(3,))\n",
       "      (ln2): LayerNorm((192, 8640), eps=1e-05, elementwise_affine=True)\n",
       "      (act2): LeakyReLU(negative_slope=0.2)\n",
       "    )\n",
       "    (2): US_BLK(\n",
       "      (us): Upsample(scale_factor=2.0, mode='linear')\n",
       "      (conv1): Conv1d(192, 96, kernel_size=(7,), stride=(1,), padding=(3,))\n",
       "      (ln1): LayerNorm((96, 17280), eps=1e-05, elementwise_affine=True)\n",
       "      (act1): LeakyReLU(negative_slope=0.2)\n",
       "      (conv2): Conv1d(96, 96, kernel_size=(7,), stride=(1,), padding=(3,))\n",
       "      (ln2): LayerNorm((96, 17280), eps=1e-05, elementwise_affine=True)\n",
       "      (act2): LeakyReLU(negative_slope=0.2)\n",
       "    )\n",
       "  )\n",
       "  (fc_out): Linear(in_features=96, out_features=2, bias=True)\n",
       ")"
      ]
     },
     "execution_count": 18,
     "metadata": {},
     "output_type": "execute_result"
    }
   ],
   "source": [
    "model = BertEncoder(\n",
    "    model_name=MODEL_NAME, \n",
    "    in_c=len(train_ds.feat_list), \n",
    "    out_c=2, \n",
    "    emb_dim=EMB_DIM, \n",
    "    pretrained=True\n",
    ").to(device)\n",
    "model"
   ]
  },
  {
   "cell_type": "code",
   "execution_count": 19,
   "id": "47e9faaa",
   "metadata": {
    "execution": {
     "iopub.execute_input": "2023-12-03T12:20:07.338614Z",
     "iopub.status.busy": "2023-12-03T12:20:07.338312Z",
     "iopub.status.idle": "2023-12-03T12:20:07.343940Z",
     "shell.execute_reply": "2023-12-03T12:20:07.343053Z"
    },
    "papermill": {
     "duration": 0.039965,
     "end_time": "2023-12-03T12:20:07.345888",
     "exception": false,
     "start_time": "2023-12-03T12:20:07.305923",
     "status": "completed"
    },
    "tags": []
   },
   "outputs": [
    {
     "name": "stdout",
     "output_type": "stream",
     "text": [
      "model has 66920866 params.\n"
     ]
    }
   ],
   "source": [
    "n_params = sum(param.numel() for param in model.parameters() if param.requires_grad)\n",
    "print(f'model has {n_params} params.')"
   ]
  },
  {
   "cell_type": "code",
   "execution_count": 20,
   "id": "285ed0c7",
   "metadata": {
    "execution": {
     "iopub.execute_input": "2023-12-03T12:20:07.409947Z",
     "iopub.status.busy": "2023-12-03T12:20:07.409698Z",
     "iopub.status.idle": "2023-12-03T12:20:07.415697Z",
     "shell.execute_reply": "2023-12-03T12:20:07.414836Z"
    },
    "papermill": {
     "duration": 0.040247,
     "end_time": "2023-12-03T12:20:07.417665",
     "exception": false,
     "start_time": "2023-12-03T12:20:07.377418",
     "status": "completed"
    },
    "tags": []
   },
   "outputs": [],
   "source": [
    "optimizer_parameters = add_weight_decay(model, weight_decay=WD, skip_list=['bias'])\n",
    "optimizer = AdamW(optimizer_parameters, lr=LR, eps=1e-6, betas=(0.9, 0.999))"
   ]
  },
  {
   "cell_type": "code",
   "execution_count": 21,
   "id": "eec98de2",
   "metadata": {
    "execution": {
     "iopub.execute_input": "2023-12-03T12:20:07.482187Z",
     "iopub.status.busy": "2023-12-03T12:20:07.481882Z",
     "iopub.status.idle": "2023-12-03T12:20:07.488668Z",
     "shell.execute_reply": "2023-12-03T12:20:07.487772Z"
    },
    "papermill": {
     "duration": 0.0412,
     "end_time": "2023-12-03T12:20:07.490604",
     "exception": false,
     "start_time": "2023-12-03T12:20:07.449404",
     "status": "completed"
    },
    "tags": []
   },
   "outputs": [
    {
     "name": "stdout",
     "output_type": "stream",
     "text": [
      "6250 625\n"
     ]
    }
   ],
   "source": [
    "steps = len(train_dl) * EPOCHS // GRAD_ACC\n",
    "warmup_steps = int(steps * WARMUP_PROP)\n",
    "\n",
    "print(steps, warmup_steps)\n",
    "\n",
    "scheduler = get_cosine_schedule_with_warmup(optimizer,\n",
    "                                            num_warmup_steps=warmup_steps,\n",
    "                                            num_training_steps=steps,\n",
    "                                            num_cycles=0.5)\n",
    "\n",
    "dt = time.time()\n",
    "\n",
    "model_path = OUTPUT_DIR\n",
    "\n",
    "os.makedirs(model_path, exist_ok=True)\n",
    "\n",
    "\n",
    "\n",
    "history = {\n",
    "    \"train_loss\": [],\n",
    "    \"valid_loss\": [],\n",
    "    \"lr\": [],\n",
    "}\n",
    "\n",
    "best_valid_loss = 1e5\n",
    "\n",
    "criterion = FocalLoss(alpha=1., gamma=2.)"
   ]
  },
  {
   "cell_type": "code",
   "execution_count": 22,
   "id": "a418a7e2",
   "metadata": {
    "execution": {
     "iopub.execute_input": "2023-12-03T12:20:07.556128Z",
     "iopub.status.busy": "2023-12-03T12:20:07.555790Z",
     "iopub.status.idle": "2023-12-03T12:20:07.565224Z",
     "shell.execute_reply": "2023-12-03T12:20:07.564140Z"
    },
    "papermill": {
     "duration": 0.044951,
     "end_time": "2023-12-03T12:20:07.567599",
     "exception": false,
     "start_time": "2023-12-03T12:20:07.522648",
     "status": "completed"
    },
    "tags": []
   },
   "outputs": [
    {
     "data": {
      "text/plain": [
       "DebertaV2Config {\n",
       "  \"_name_or_path\": \"microsoft/deberta-v3-small\",\n",
       "  \"attention_probs_dropout_prob\": 0.1,\n",
       "  \"hidden_act\": \"gelu\",\n",
       "  \"hidden_dropout_prob\": 0.1,\n",
       "  \"hidden_size\": 768,\n",
       "  \"initializer_range\": 0.02,\n",
       "  \"intermediate_size\": 3072,\n",
       "  \"layer_norm_eps\": 1e-07,\n",
       "  \"max_position_embeddings\": 512,\n",
       "  \"max_relative_positions\": -1,\n",
       "  \"model_type\": \"deberta-v2\",\n",
       "  \"norm_rel_ebd\": \"layer_norm\",\n",
       "  \"num_attention_heads\": 12,\n",
       "  \"num_hidden_layers\": 6,\n",
       "  \"pad_token_id\": 0,\n",
       "  \"pooler_dropout\": 0,\n",
       "  \"pooler_hidden_act\": \"gelu\",\n",
       "  \"pooler_hidden_size\": 768,\n",
       "  \"pos_att_type\": [\n",
       "    \"p2c\",\n",
       "    \"c2p\"\n",
       "  ],\n",
       "  \"position_biased_input\": false,\n",
       "  \"position_buckets\": 256,\n",
       "  \"relative_attention\": true,\n",
       "  \"share_att_key\": true,\n",
       "  \"transformers_version\": \"4.33.0\",\n",
       "  \"type_vocab_size\": 0,\n",
       "  \"vocab_size\": 128100\n",
       "}"
      ]
     },
     "execution_count": 22,
     "metadata": {},
     "output_type": "execute_result"
    }
   ],
   "source": [
    "model_name_sep = MODEL_NAME.split('/')[-1]\n",
    "torch.save(model.config, OUTPUT_DIR + f'/{model_name_sep}_config.pth')\n",
    "model.config"
   ]
  },
  {
   "cell_type": "code",
   "execution_count": 23,
   "id": "c475c3b3",
   "metadata": {
    "execution": {
     "iopub.execute_input": "2023-12-03T12:20:07.652095Z",
     "iopub.status.busy": "2023-12-03T12:20:07.651719Z",
     "iopub.status.idle": "2023-12-03T12:20:07.657449Z",
     "shell.execute_reply": "2023-12-03T12:20:07.656497Z"
    },
    "papermill": {
     "duration": 0.050279,
     "end_time": "2023-12-03T12:20:07.660067",
     "exception": false,
     "start_time": "2023-12-03T12:20:07.609788",
     "status": "completed"
    },
    "tags": []
   },
   "outputs": [],
   "source": [
    "autocast = torch.cuda.amp.autocast(enabled=USE_AMP, dtype=torch.half) # if you are using newer GPU, recommended dtype=torch.bfloat16 than half\n",
    "scaler = torch.cuda.amp.GradScaler(enabled=USE_AMP, init_scale=4096)"
   ]
  },
  {
   "cell_type": "code",
   "execution_count": 24,
   "id": "31cc57dd",
   "metadata": {
    "execution": {
     "iopub.execute_input": "2023-12-03T12:20:07.746868Z",
     "iopub.status.busy": "2023-12-03T12:20:07.746174Z",
     "iopub.status.idle": "2023-12-03T12:20:07.750621Z",
     "shell.execute_reply": "2023-12-03T12:20:07.749597Z"
    },
    "papermill": {
     "duration": 0.056202,
     "end_time": "2023-12-03T12:20:07.753231",
     "exception": false,
     "start_time": "2023-12-03T12:20:07.697029",
     "status": "completed"
    },
    "tags": []
   },
   "outputs": [],
   "source": [
    "es_step = 0"
   ]
  },
  {
   "cell_type": "code",
   "execution_count": 25,
   "id": "d03bc09d",
   "metadata": {
    "execution": {
     "iopub.execute_input": "2023-12-03T12:20:07.852200Z",
     "iopub.status.busy": "2023-12-03T12:20:07.851687Z",
     "iopub.status.idle": "2023-12-03T20:36:41.708168Z",
     "shell.execute_reply": "2023-12-03T20:36:41.707156Z"
    },
    "papermill": {
     "duration": 29797.44772,
     "end_time": "2023-12-03T20:36:45.256736",
     "exception": false,
     "start_time": "2023-12-03T12:20:07.809016",
     "status": "completed"
    },
    "tags": []
   },
   "outputs": [
    {
     "name": "stderr",
     "output_type": "stream",
     "text": [
      "100%|██████████| 5000/5000 [1:20:11<00:00,  1.04it/s, loss=0.002880, lr=3.994e-04]\n",
      "100%|██████████| 56/56 [02:43<00:00,  2.92s/it]\n"
     ]
    },
    {
     "name": "stdout",
     "output_type": "stream",
     "text": [
      "1/10 --  train_loss = 0.010932 --  valid_loss = 0.004007 --  time = 4975.808261s\n"
     ]
    },
    {
     "name": "stderr",
     "output_type": "stream",
     "text": [
      "100%|██████████| 5000/5000 [1:19:59<00:00,  1.04it/s, loss=0.001879, lr=3.880e-04]\n",
      "100%|██████████| 56/56 [02:43<00:00,  2.92s/it]\n"
     ]
    },
    {
     "name": "stdout",
     "output_type": "stream",
     "text": [
      "2/10 --  train_loss = 0.003975 --  valid_loss = 0.003642 --  time = 4963.856940s\n"
     ]
    },
    {
     "name": "stderr",
     "output_type": "stream",
     "text": [
      "100%|██████████| 5000/5000 [1:19:59<00:00,  1.04it/s, loss=0.005307, lr=3.533e-04]\n",
      "100%|██████████| 56/56 [02:43<00:00,  2.92s/it]\n"
     ]
    },
    {
     "name": "stdout",
     "output_type": "stream",
     "text": [
      "3/10 --  train_loss = 0.003712 --  valid_loss = 0.003600 --  time = 4963.632207s\n"
     ]
    },
    {
     "name": "stderr",
     "output_type": "stream",
     "text": [
      "100%|██████████| 5000/5000 [1:19:58<00:00,  1.04it/s, loss=0.001393, lr=3.001e-04]\n",
      "100%|██████████| 56/56 [02:43<00:00,  2.92s/it]\n"
     ]
    },
    {
     "name": "stdout",
     "output_type": "stream",
     "text": [
      "4/10 --  train_loss = 0.003501 --  valid_loss = 0.003600 --  time = 4962.750286s\n"
     ]
    },
    {
     "name": "stderr",
     "output_type": "stream",
     "text": [
      "100%|██████████| 5000/5000 [1:19:59<00:00,  1.04it/s, loss=0.004162, lr=2.348e-04]\n",
      "100%|██████████| 56/56 [02:43<00:00,  2.92s/it]\n"
     ]
    },
    {
     "name": "stdout",
     "output_type": "stream",
     "text": [
      "5/10 --  train_loss = 0.003226 --  valid_loss = 0.003681 --  time = 4963.282508s\n"
     ]
    },
    {
     "name": "stderr",
     "output_type": "stream",
     "text": [
      "100%|██████████| 5000/5000 [1:20:00<00:00,  1.04it/s, loss=0.005272, lr=1.654e-04]\n",
      "100%|██████████| 56/56 [02:43<00:00,  2.92s/it]\n"
     ]
    },
    {
     "data": {
      "image/png": "[encoded data removed]",
      "text/plain": [
       "<Figure size 640x480 with 1 Axes>"
      ]
     },
     "metadata": {},
     "output_type": "display_data"
    },
    {
     "data": {
      "image/png": "[encoded data removed]",
      "text/plain": [
       "<Figure size 640x480 with 1 Axes>"
      ]
     },
     "metadata": {},
     "output_type": "display_data"
    }
   ],
   "source": [
    "for epoch in range(EPOCHS):\n",
    "    if epoch>=7: break\n",
    "    total_loss = 0.0\n",
    "    model.train()\n",
    "    optimizer.zero_grad()\n",
    "    with tqdm(train_dl, leave=True) as pbar:\n",
    "        for step, (X_batch, hr_batch, y_batch) in enumerate(pbar):\n",
    "            X_batch = X_batch.to(device)\n",
    "            hr_batch = hr_batch.to(device)\n",
    "            y_batch = y_batch.to(device)           \n",
    "\n",
    "            with autocast:\n",
    "                pred = model(X_batch, hr_batch)\n",
    "                loss = criterion(pred, y_batch)\n",
    "                \n",
    "                if torch.isnan(loss).any():\n",
    "                    raise RuntimeError('Detected NaN.')\n",
    "    \n",
    "                total_loss += loss.item()\n",
    "                if GRAD_ACC > 1:\n",
    "                    loss = loss / GRAD_ACC\n",
    "                        \n",
    "                pbar.set_postfix(\n",
    "                        OrderedDict(\n",
    "                            loss=f'{loss.item()*GRAD_ACC:.6f}',\n",
    "                            lr=f'{optimizer.param_groups[0][\"lr\"]:.3e}'\n",
    "                        )\n",
    "                    )\n",
    "        \n",
    "                scaler.scale(loss).backward()\n",
    "\n",
    "                torch.nn.utils.clip_grad_norm_(model.parameters(), MAX_GRAD_NORM or 1e9)\n",
    "    \n",
    "            if (step + 1) % GRAD_ACC == 0:\n",
    "                scaler.step(optimizer)\n",
    "                scaler.update()\n",
    "                optimizer.zero_grad()\n",
    "                if scheduler is not None:\n",
    "                    scheduler.step()\n",
    "\n",
    "        train_loss = total_loss/len(train_dl)\n",
    "    \n",
    "\n",
    "    total_loss = 0.0\n",
    "    model.eval()\n",
    "    with torch.no_grad():\n",
    "        with tqdm(val_dl, leave=True) as pbar:\n",
    "            for step, (X_batch, hr_batch, y_batch) in enumerate(pbar):\n",
    "                X_batch = X_batch.to(device)\n",
    "                hr_batch = hr_batch.to(device)\n",
    "                y_batch = y_batch.to(device)\n",
    "                pred = torch.zeros_like(y_batch)\n",
    "                x_seq_len = X_batch.shape[1]\n",
    "                y_seq_len = y_batch.shape[1]\n",
    "\n",
    "                if x_seq_len%MAX_CHUNK_LEN != 0:\n",
    "                    X_batch = padding_(X_batch,MAX_CHUNK_LEN)\n",
    "                    hr_batch = padding_(hr_batch,MAX_CHUNK_LEN)\n",
    "\n",
    "                if y_seq_len%(MAX_CHUNK_LEN*SAMPLE_FREQ) != 0:\n",
    "                    pred = padding_(pred,MAX_CHUNK_LEN*SAMPLE_FREQ)\n",
    "\n",
    "                j = 0\n",
    "                for i in range(0, x_seq_len, MAX_CHUNK_LEN):\n",
    "                    X_chunk = X_batch[:, i : i + MAX_CHUNK_LEN]\n",
    "                    hr_chunk = hr_batch[:, i : i + MAX_CHUNK_LEN]\n",
    "                    with autocast:\n",
    "                        p = model(X_chunk, hr_chunk)\n",
    "                        pred[:, j : j + MAX_CHUNK_LEN*SAMPLE_FREQ] = p\n",
    "\n",
    "                    j += MAX_CHUNK_LEN*SAMPLE_FREQ\n",
    "\n",
    "                pred = pred[:, :y_seq_len]\n",
    "                loss = criterion(pred, y_batch)\n",
    "                \n",
    "                total_loss += loss.item()\n",
    "            \n",
    "    valid_loss = total_loss/len(val_dl)\n",
    "    \n",
    "    history[\"train_loss\"].append(train_loss)\n",
    "    history[\"valid_loss\"].append(valid_loss)\n",
    "    history[\"lr\"].append(optimizer.param_groups[0][\"lr\"])\n",
    "\n",
    "    if valid_loss < best_valid_loss:\n",
    "        best_valid_loss = valid_loss\n",
    "        torch.save(\n",
    "            model.state_dict(),\n",
    "            os.path.join(model_path, f\"model_best_fold-{TRAIN_FOLD}.pth\"),\n",
    "        )\n",
    "        es_step = 0\n",
    "        \n",
    "    else:\n",
    "        es_step += 1\n",
    "        if es_step >= 2:\n",
    "            break\n",
    "\n",
    "    dt = time.time() - dt\n",
    "    print(\n",
    "        f\"{epoch+1}/{EPOCHS} -- \",\n",
    "        f\"train_loss = {train_loss:.6f} -- \",\n",
    "        f\"valid_loss = {valid_loss:.6f} -- \",\n",
    "        f\"time = {dt:.6f}s\",\n",
    "    )\n",
    "    dt = time.time()\n",
    "\n",
    "plot_history(history, model_path=model_path)\n",
    "history_path = os.path.join(model_path, \"history.json\")\n",
    "with open(history_path, \"w\", encoding=\"utf-8\") as f:\n",
    "    json.dump(history, f, ensure_ascii=False, indent=4)"
   ]
  },
  {
   "cell_type": "markdown",
   "id": "ecf5e649",
   "metadata": {
    "papermill": {
     "duration": 4.810391,
     "end_time": "2023-12-03T20:36:54.748609",
     "exception": false,
     "start_time": "2023-12-03T20:36:49.938218",
     "status": "completed"
    },
    "tags": []
   },
   "source": [
    "# Verification"
   ]
  },
  {
   "cell_type": "code",
   "execution_count": 26,
   "id": "90e27bd5",
   "metadata": {
    "execution": {
     "iopub.execute_input": "2023-12-03T20:37:04.352545Z",
     "iopub.status.busy": "2023-12-03T20:37:04.351593Z",
     "iopub.status.idle": "2023-12-03T20:37:04.360883Z",
     "shell.execute_reply": "2023-12-03T20:37:04.360054Z"
    },
    "papermill": {
     "duration": 4.640232,
     "end_time": "2023-12-03T20:37:04.362912",
     "exception": false,
     "start_time": "2023-12-03T20:36:59.722680",
     "status": "completed"
    },
    "tags": []
   },
   "outputs": [
    {
     "data": {
      "text/plain": [
       "BertEncoder(\n",
       "  (bert): DebertaV2Encoder(\n",
       "    (layer): ModuleList(\n",
       "      (0-5): 6 x DebertaV2Layer(\n",
       "        (attention): DebertaV2Attention(\n",
       "          (self): DisentangledSelfAttention(\n",
       "            (query_proj): Linear(in_features=768, out_features=768, bias=True)\n",
       "            (key_proj): Linear(in_features=768, out_features=768, bias=True)\n",
       "            (value_proj): Linear(in_features=768, out_features=768, bias=True)\n",
       "            (pos_dropout): StableDropout()\n",
       "            (dropout): StableDropout()\n",
       "          )\n",
       "          (output): DebertaV2SelfOutput(\n",
       "            (dense): Linear(in_features=768, out_features=768, bias=True)\n",
       "            (LayerNorm): LayerNorm((768,), eps=1e-07, elementwise_affine=True)\n",
       "            (dropout): StableDropout()\n",
       "          )\n",
       "        )\n",
       "        (intermediate): DebertaV2Intermediate(\n",
       "          (dense): Linear(in_features=768, out_features=3072, bias=True)\n",
       "          (intermediate_act_fn): GELUActivation()\n",
       "        )\n",
       "        (output): DebertaV2Output(\n",
       "          (dense): Linear(in_features=3072, out_features=768, bias=True)\n",
       "          (LayerNorm): LayerNorm((768,), eps=1e-07, elementwise_affine=True)\n",
       "          (dropout): StableDropout()\n",
       "        )\n",
       "      )\n",
       "    )\n",
       "    (rel_embeddings): Embedding(512, 768)\n",
       "    (LayerNorm): LayerNorm((768,), eps=1e-07, elementwise_affine=True)\n",
       "  )\n",
       "  (fc_in): Linear(in_features=34, out_features=736, bias=True)\n",
       "  (hr_emb): Embedding(24, 32)\n",
       "  (upsample_blocks): ModuleList(\n",
       "    (0): US_BLK(\n",
       "      (us): Upsample(scale_factor=3.0, mode='linear')\n",
       "      (conv1): Conv1d(768, 384, kernel_size=(7,), stride=(1,), padding=(3,))\n",
       "      (ln1): LayerNorm((384, 4320), eps=1e-05, elementwise_affine=True)\n",
       "      (act1): LeakyReLU(negative_slope=0.2)\n",
       "      (conv2): Conv1d(384, 384, kernel_size=(7,), stride=(1,), padding=(3,))\n",
       "      (ln2): LayerNorm((384, 4320), eps=1e-05, elementwise_affine=True)\n",
       "      (act2): LeakyReLU(negative_slope=0.2)\n",
       "    )\n",
       "    (1): US_BLK(\n",
       "      (us): Upsample(scale_factor=2.0, mode='linear')\n",
       "      (conv1): Conv1d(384, 192, kernel_size=(7,), stride=(1,), padding=(3,))\n",
       "      (ln1): LayerNorm((192, 8640), eps=1e-05, elementwise_affine=True)\n",
       "      (act1): LeakyReLU(negative_slope=0.2)\n",
       "      (conv2): Conv1d(192, 192, kernel_size=(7,), stride=(1,), padding=(3,))\n",
       "      (ln2): LayerNorm((192, 8640), eps=1e-05, elementwise_affine=True)\n",
       "      (act2): LeakyReLU(negative_slope=0.2)\n",
       "    )\n",
       "    (2): US_BLK(\n",
       "      (us): Upsample(scale_factor=2.0, mode='linear')\n",
       "      (conv1): Conv1d(192, 96, kernel_size=(7,), stride=(1,), padding=(3,))\n",
       "      (ln1): LayerNorm((96, 17280), eps=1e-05, elementwise_affine=True)\n",
       "      (act1): LeakyReLU(negative_slope=0.2)\n",
       "      (conv2): Conv1d(96, 96, kernel_size=(7,), stride=(1,), padding=(3,))\n",
       "      (ln2): LayerNorm((96, 17280), eps=1e-05, elementwise_affine=True)\n",
       "      (act2): LeakyReLU(negative_slope=0.2)\n",
       "    )\n",
       "  )\n",
       "  (fc_out): Linear(in_features=96, out_features=2, bias=True)\n",
       ")"
      ]
     },
     "execution_count": 26,
     "metadata": {},
     "output_type": "execute_result"
    }
   ],
   "source": [
    "model.eval()"
   ]
  },
  {
   "cell_type": "code",
   "execution_count": 27,
   "id": "e75afcad",
   "metadata": {
    "execution": {
     "iopub.execute_input": "2023-12-03T20:37:14.240818Z",
     "iopub.status.busy": "2023-12-03T20:37:14.240458Z",
     "iopub.status.idle": "2023-12-03T20:37:14.246047Z",
     "shell.execute_reply": "2023-12-03T20:37:14.245188Z"
    },
    "papermill": {
     "duration": 4.883377,
     "end_time": "2023-12-03T20:37:14.248043",
     "exception": false,
     "start_time": "2023-12-03T20:37:09.364666",
     "status": "completed"
    },
    "tags": []
   },
   "outputs": [],
   "source": [
    "def lpf(wave, fs=12*60*24, fe=30, n=3):\n",
    "    nyq = fs / 2.0\n",
    "    b, a = signal.butter(1, fe/nyq, btype='low')\n",
    "    for i in range(0, n):\n",
    "        wave = signal.filtfilt(b, a, wave)\n",
    "    return wave"
   ]
  },
  {
   "cell_type": "code",
   "execution_count": 28,
   "id": "15a1b740",
   "metadata": {
    "execution": {
     "iopub.execute_input": "2023-12-03T20:37:23.872021Z",
     "iopub.status.busy": "2023-12-03T20:37:23.871660Z",
     "iopub.status.idle": "2023-12-03T20:40:01.996783Z",
     "shell.execute_reply": "2023-12-03T20:40:01.995662Z"
    },
    "papermill": {
     "duration": 163.035549,
     "end_time": "2023-12-03T20:40:01.999057",
     "exception": false,
     "start_time": "2023-12-03T20:37:18.963508",
     "status": "completed"
    },
    "tags": []
   },
   "outputs": [
    {
     "name": "stdout",
     "output_type": "stream",
     "text": [
      "0 torch.Size([1, 37440, 34]) (442440, 2) torch.Size([1, 37440, 1])\n"
     ]
    },
    {
     "data": {
      "image/png": "[encoded data removed]",
      "text/plain": [
       "<Figure size 640x480 with 1 Axes>"
      ]
     },
     "metadata": {},
     "output_type": "display_data"
    },
    {
     "name": "stdout",
     "output_type": "stream",
     "text": [
      "1 torch.Size([1, 48960, 34]) (581940, 2) torch.Size([1, 48960, 1])\n"
     ]
    },
    {
     "data": {
      "image/png": "[encoded data removed]",
      "text/plain": [
       "<Figure size 640x480 with 1 Axes>"
      ]
     },
     "metadata": {},
     "output_type": "display_data"
    },
    {
     "name": "stdout",
     "output_type": "stream",
     "text": [
      "2 torch.Size([1, 33120, 34]) (384480, 2) torch.Size([1, 33120, 1])\n"
     ]
    },
    {
     "data": {
      "image/png": "[encoded data removed]",
      "text/plain": [
       "<Figure size 640x480 with 1 Axes>"
      ]
     },
     "metadata": {},
     "output_type": "display_data"
    },
    {
     "name": "stdout",
     "output_type": "stream",
     "text": [
      "3 torch.Size([1, 36000, 34]) (429120, 2) torch.Size([1, 36000, 1])\n"
     ]
    },
    {
     "data": {
      "image/png": "[encoded data removed]",
      "text/plain": [
       "<Figure size 640x480 with 1 Axes>"
      ]
     },
     "metadata": {},
     "output_type": "display_data"
    },
    {
     "name": "stdout",
     "output_type": "stream",
     "text": [
      "4 torch.Size([1, 41760, 34]) (495540, 2) torch.Size([1, 41760, 1])\n"
     ]
    },
    {
     "data": {
      "image/png": "[encoded data removed]",
      "text/plain": [
       "<Figure size 640x480 with 1 Axes>"
      ]
     },
     "metadata": {},
     "output_type": "display_data"
    }
   ],
   "source": [
    "with torch.no_grad():\n",
    "    for k, (x, h, y) in enumerate(val_dl):\n",
    "        x = x.to(device)\n",
    "        h = h.to(device)\n",
    "        y = y.to(device)\n",
    "\n",
    "        pred = torch.zeros_like(y)\n",
    "        x_seq_len = x.shape[1]\n",
    "        y_seq_len = y.shape[1]\n",
    "\n",
    "        if x_seq_len%MAX_CHUNK_LEN != 0:\n",
    "            x = padding_(x,MAX_CHUNK_LEN)\n",
    "            h = padding_(h,MAX_CHUNK_LEN)\n",
    "            pred = padding_(pred,MAX_CHUNK_LEN)\n",
    "\n",
    "        if y_seq_len%(MAX_CHUNK_LEN*SAMPLE_FREQ) != 0:\n",
    "            pred = padding_(pred,MAX_CHUNK_LEN*SAMPLE_FREQ)\n",
    "\n",
    "        #print(x.shape,h.shape,y.shape,pred.shape)\n",
    "        j = 0\n",
    "        for i in range(0, x_seq_len, MAX_CHUNK_LEN):\n",
    "            X_chunk = x[:, i : i + MAX_CHUNK_LEN]\n",
    "            hr_chunk = h[:, i : i + MAX_CHUNK_LEN]\n",
    "            with autocast:\n",
    "                pred[:, j : j + MAX_CHUNK_LEN*SAMPLE_FREQ] = model(X_chunk, hr_chunk)\n",
    "            j += MAX_CHUNK_LEN*SAMPLE_FREQ\n",
    "\n",
    "        pred = pred[:, :y_seq_len]\n",
    "\n",
    "        y_pred = pred[0].sigmoid().cpu().numpy()\n",
    "        y = y[0].cpu().numpy()\n",
    "        \n",
    "        y_pred[:,0] = lpf(y_pred[:,0])\n",
    "        y_pred[:,1] = lpf(y_pred[:,1])\n",
    "        \n",
    "        candi = argrelmax(y_pred[:, 0], order=12*60*6) # 12*60*6 = 6hours\n",
    "        gt0 = argrelmax(y[:,0], order=12*30)\n",
    "        print(k, x.shape, y.shape, h.shape)\n",
    "        plt.plot(gt0, y[gt0, 0], marker='o', markersize=5, c=\"black\")\n",
    "        plt.plot(candi, y_pred[candi, 0], marker='o', markersize=5, c=\"red\")    \n",
    "        plt.plot(y[:, 0], lw=0.25, label=\"GT\", linestyle=\"dashed\")\n",
    "        plt.plot(y_pred[:, 0], lw=0.25, label=\"pred\", linestyle=\"dotted\")\n",
    "        plt.show()\n",
    "        plt.close()\n",
    "\n",
    "        if k==4: break"
   ]
  },
  {
   "cell_type": "code",
   "execution_count": 29,
   "id": "51fb1006",
   "metadata": {
    "execution": {
     "iopub.execute_input": "2023-12-03T20:40:11.702590Z",
     "iopub.status.busy": "2023-12-03T20:40:11.701529Z",
     "iopub.status.idle": "2023-12-03T20:40:11.709174Z",
     "shell.execute_reply": "2023-12-03T20:40:11.708201Z"
    },
    "papermill": {
     "duration": 5.029894,
     "end_time": "2023-12-03T20:40:11.711206",
     "exception": false,
     "start_time": "2023-12-03T20:40:06.681312",
     "status": "completed"
    },
    "tags": []
   },
   "outputs": [
    {
     "name": "stdout",
     "output_type": "stream",
     "text": [
      "56\n",
      "5      062cae666e2a\n",
      "24     137b99e936ab\n",
      "28     16fe2798ed0f\n",
      "30     1762ab70ec76\n",
      "33     18b61dd5aae8\n",
      "36     1c7c0bad1263\n",
      "50     2cd2340ca14d\n",
      "53     2fbbee1a38e3\n",
      "64     390b487231ce\n",
      "69     3c336d6ba566\n",
      "71     3df0da2e5966\n",
      "74     416354edd92a\n",
      "75     449766346eb1\n",
      "81     4ab54be1a403\n",
      "85     519ae2d858b0\n",
      "92     599ca4ed791b\n",
      "96     5c55a5e717d6\n",
      "97     5e816f11f5c3\n",
      "102    601559e1777d\n",
      "109    694faf956ebf\n",
      "125    77ca4db83644\n",
      "129    7df249527c63\n",
      "133    83fa182bec3a\n",
      "136    87a6cbb7c4ed\n",
      "152    9277be28a1cf\n",
      "161    9c91c546e095\n",
      "165    a167532acca2\n",
      "166    a261bc4b7470\n",
      "169    a4e48102f402\n",
      "174    a9a2f7fac455\n",
      "177    ad425f3ee76d\n",
      "178    aed3850f65f0\n",
      "180    b1831c4979da\n",
      "183    b7188813d58a\n",
      "202    c6788e579967\n",
      "206    c7b2155a4a47\n",
      "211    ca732a3c37f7\n",
      "212    cca14d1966c1\n",
      "214    ce85771a714c\n",
      "215    ce9164297046\n",
      "217    cfeb11428dd7\n",
      "218    d043c0ca71cd\n",
      "219    d0f613c700f7\n",
      "230    d9e887091a5c\n",
      "232    db5e0ee1c0ab\n",
      "234    dc80ca623d71\n",
      "239    dff367373725\n",
      "241    e0d7b0dcf9f3\n",
      "242    e11b9d69f856\n",
      "253    e867b5133665\n",
      "256    ebb6fae8ed43\n",
      "257    ebd76e93ec7d\n",
      "268    f7eb179216c2\n",
      "271    f981a0805fd0\n",
      "272    fa149c3c4bde\n",
      "274    fbf33b1a2c10\n",
      "Name: series_id, dtype: object\n"
     ]
    }
   ],
   "source": [
    "print(len(valid_ids))\n",
    "print(valid_ids)"
   ]
  },
  {
   "cell_type": "code",
   "execution_count": 30,
   "id": "a7096e6b",
   "metadata": {
    "execution": {
     "iopub.execute_input": "2023-12-03T20:40:21.474167Z",
     "iopub.status.busy": "2023-12-03T20:40:21.473768Z",
     "iopub.status.idle": "2023-12-03T20:40:21.478177Z",
     "shell.execute_reply": "2023-12-03T20:40:21.477322Z"
    },
    "papermill": {
     "duration": 5.024191,
     "end_time": "2023-12-03T20:40:21.480120",
     "exception": false,
     "start_time": "2023-12-03T20:40:16.455929",
     "status": "completed"
    },
    "tags": []
   },
   "outputs": [],
   "source": [
    "# for idx, (x, h, y) in enumerate(val_dl):\n",
    "#     non_zero_rows = torch.all(y[0] == torch.tensor([0., 0.]), dim=1)\n",
    "#     print(idx, torch.nonzero(~non_zero_rows))\n",
    "#     print(y[0][5050:5100])\n",
    "    \n",
    "#     break"
   ]
  },
  {
   "cell_type": "code",
   "execution_count": 31,
   "id": "9e03285f",
   "metadata": {
    "execution": {
     "iopub.execute_input": "2023-12-03T20:40:30.936350Z",
     "iopub.status.busy": "2023-12-03T20:40:30.935970Z",
     "iopub.status.idle": "2023-12-03T20:40:30.943792Z",
     "shell.execute_reply": "2023-12-03T20:40:30.942815Z"
    },
    "papermill": {
     "duration": 4.803511,
     "end_time": "2023-12-03T20:40:30.945784",
     "exception": false,
     "start_time": "2023-12-03T20:40:26.142273",
     "status": "completed"
    },
    "tags": []
   },
   "outputs": [
    {
     "name": "stdout",
     "output_type": "stream",
     "text": [
      "0      038441c925bb\n",
      "1      03d92c9f6f8a\n",
      "2      0402a003dae9\n",
      "3      04f547b8017d\n",
      "4      05e1944c3818\n",
      "           ...     \n",
      "269    f88e18cb4100\n",
      "270    f8a8da8bdd00\n",
      "273    fb223ed2278c\n",
      "275    fcca183903b7\n",
      "276    fe90110788d2\n",
      "Name: series_id, Length: 221, dtype: object\n"
     ]
    }
   ],
   "source": [
    "print(train_ids)"
   ]
  },
  {
   "cell_type": "code",
   "execution_count": 32,
   "id": "9e5e30fe",
   "metadata": {
    "execution": {
     "iopub.execute_input": "2023-12-03T20:40:40.778007Z",
     "iopub.status.busy": "2023-12-03T20:40:40.777023Z",
     "iopub.status.idle": "2023-12-03T20:40:40.781505Z",
     "shell.execute_reply": "2023-12-03T20:40:40.780619Z"
    },
    "papermill": {
     "duration": 4.843054,
     "end_time": "2023-12-03T20:40:40.783380",
     "exception": false,
     "start_time": "2023-12-03T20:40:35.940326",
     "status": "completed"
    },
    "tags": []
   },
   "outputs": [],
   "source": [
    "# print(train_ds.feat_list)"
   ]
  }
 ],
 "metadata": {
  "kaggle": {
   "accelerator": "gpu",
   "dataSources": [
    {
     "databundleVersionId": 6589269,
     "sourceId": 53666,
     "sourceType": "competition"
    },
    {
     "sourceId": 147531007,
     "sourceType": "kernelVersion"
    }
   ],
   "dockerImageVersionId": 30559,
   "isGpuEnabled": true,
   "isInternetEnabled": true,
   "language": "python",
   "sourceType": "notebook"
  },
  "kernelspec": {
   "display_name": "Python 3",
   "language": "python",
   "name": "python3"
  },
  "language_info": {
   "codemirror_mode": {
    "name": "ipython",
    "version": 3
   },
   "file_extension": ".py",
   "mimetype": "text/x-python",
   "name": "python",
   "nbconvert_exporter": "python",
   "pygments_lexer": "ipython3",
   "version": "3.10.12"
  },
  "papermill": {
   "default_parameters": {},
   "duration": 30246.520523,
   "end_time": "2023-12-03T20:40:49.615433",
   "environment_variables": {},
   "exception": null,
   "input_path": "__notebook__.ipynb",
   "output_path": "__notebook__.ipynb",
   "parameters": {},
   "start_time": "2023-12-03T12:16:43.094910",
   "version": "2.4.0"
  },
  "widgets": {
   "application/vnd.jupyter.widget-state+json": {
    "state": {
     "04a2a4621d3945088fc31b8dbaab4c31": {
      "model_module": "@jupyter-widgets/base",
      "model_module_version": "1.2.0",
      "model_name": "LayoutModel",
      "state": {
       "_model_module": "@jupyter-widgets/base",
       "_model_module_version": "1.2.0",
       "_model_name": "LayoutModel",
       "_view_count": null,
       "_view_module": "@jupyter-widgets/base",
       "_view_module_version": "1.2.0",
       "_view_name": "LayoutView",
       "align_content": null,
       "align_items": null,
       "align_self": null,
       "border": null,
       "bottom": null,
       "display": null,
       "flex": null,
       "flex_flow": null,
       "grid_area": null,
       "grid_auto_columns": null,
       "grid_auto_flow": null,
       "grid_auto_rows": null,
       "grid_column": null,
       "grid_gap": null,
       "grid_row": null,
       "grid_template_areas": null,
       "grid_template_columns": null,
       "grid_template_rows": null,
       "height": null,
       "justify_content": null,
       "justify_items": null,
       "left": null,
       "margin": null,
       "max_height": null,
       "max_width": null,
       "min_height": null,
       "min_width": null,
       "object_fit": null,
       "object_position": null,
       "order": null,
       "overflow": null,
       "overflow_x": null,
       "overflow_y": null,
       "padding": null,
       "right": null,
       "top": null,
       "visibility": null,
       "width": null
      }
     },
     "0faacb377539450bbb5273d2ec482ee4": {
      "model_module": "@jupyter-widgets/controls",
      "model_module_version": "1.5.0",
      "model_name": "ProgressStyleModel",
      "state": {
       "_model_module": "@jupyter-widgets/controls",
       "_model_module_version": "1.5.0",
       "_model_name": "ProgressStyleModel",
       "_view_count": null,
       "_view_module": "@jupyter-widgets/base",
       "_view_module_version": "1.2.0",
       "_view_name": "StyleView",
       "bar_color": null,
       "description_width": ""
      }
     },
     "1d1bb4a694b04e068e4dea5dadd0c154": {
      "model_module": "@jupyter-widgets/base",
      "model_module_version": "1.2.0",
      "model_name": "LayoutModel",
      "state": {
       "_model_module": "@jupyter-widgets/base",
       "_model_module_version": "1.2.0",
       "_model_name": "LayoutModel",
       "_view_count": null,
       "_view_module": "@jupyter-widgets/base",
       "_view_module_version": "1.2.0",
       "_view_name": "LayoutView",
       "align_content": null,
       "align_items": null,
       "align_self": null,
       "border": null,
       "bottom": null,
       "display": null,
       "flex": null,
       "flex_flow": null,
       "grid_area": null,
       "grid_auto_columns": null,
       "grid_auto_flow": null,
       "grid_auto_rows": null,
       "grid_column": null,
       "grid_gap": null,
       "grid_row": null,
       "grid_template_areas": null,
       "grid_template_columns": null,
       "grid_template_rows": null,
       "height": null,
       "justify_content": null,
       "justify_items": null,
       "left": null,
       "margin": null,
       "max_height": null,
       "max_width": null,
       "min_height": null,
       "min_width": null,
       "object_fit": null,
       "object_position": null,
       "order": null,
       "overflow": null,
       "overflow_x": null,
       "overflow_y": null,
       "padding": null,
       "right": null,
       "top": null,
       "visibility": null,
       "width": null
      }
     },
     "2653e90759694e7a8b546db6ae782024": {
      "model_module": "@jupyter-widgets/base",
      "model_module_version": "1.2.0",
      "model_name": "LayoutModel",
      "state": {
       "_model_module": "@jupyter-widgets/base",
       "_model_module_version": "1.2.0",
       "_model_name": "LayoutModel",
       "_view_count": null,
       "_view_module": "@jupyter-widgets/base",
       "_view_module_version": "1.2.0",
       "_view_name": "LayoutView",
       "align_content": null,
       "align_items": null,
       "align_self": null,
       "border": null,
       "bottom": null,
       "display": null,
       "flex": null,
       "flex_flow": null,
       "grid_area": null,
       "grid_auto_columns": null,
       "grid_auto_flow": null,
       "grid_auto_rows": null,
       "grid_column": null,
       "grid_gap": null,
       "grid_row": null,
       "grid_template_areas": null,
       "grid_template_columns": null,
       "grid_template_rows": null,
       "height": null,
       "justify_content": null,
       "justify_items": null,
       "left": null,
       "margin": null,
       "max_height": null,
       "max_width": null,
       "min_height": null,
       "min_width": null,
       "object_fit": null,
       "object_position": null,
       "order": null,
       "overflow": null,
       "overflow_x": null,
       "overflow_y": null,
       "padding": null,
       "right": null,
       "top": null,
       "visibility": null,
       "width": null
      }
     },
     "37241fbd232c49d6b92ffbb026d0281b": {
      "model_module": "@jupyter-widgets/base",
      "model_module_version": "1.2.0",
      "model_name": "LayoutModel",
      "state": {
       "_model_module": "@jupyter-widgets/base",
       "_model_module_version": "1.2.0",
       "_model_name": "LayoutModel",
       "_view_count": null,
       "_view_module": "@jupyter-widgets/base",
       "_view_module_version": "1.2.0",
       "_view_name": "LayoutView",
       "align_content": null,
       "align_items": null,
       "align_self": null,
       "border": null,
       "bottom": null,
       "display": null,
       "flex": null,
       "flex_flow": null,
       "grid_area": null,
       "grid_auto_columns": null,
       "grid_auto_flow": null,
       "grid_auto_rows": null,
       "grid_column": null,
       "grid_gap": null,
       "grid_row": null,
       "grid_template_areas": null,
       "grid_template_columns": null,
       "grid_template_rows": null,
       "height": null,
       "justify_content": null,
       "justify_items": null,
       "left": null,
       "margin": null,
       "max_height": null,
       "max_width": null,
       "min_height": null,
       "min_width": null,
       "object_fit": null,
       "object_position": null,
       "order": null,
       "overflow": null,
       "overflow_x": null,
       "overflow_y": null,
       "padding": null,
       "right": null,
       "top": null,
       "visibility": null,
       "width": null
      }
     },
     "3790cf2ae0fb4cfeb92bd8b2f2866d0b": {
      "model_module": "@jupyter-widgets/controls",
      "model_module_version": "1.5.0",
      "model_name": "ProgressStyleModel",
      "state": {
       "_model_module": "@jupyter-widgets/controls",
       "_model_module_version": "1.5.0",
       "_model_name": "ProgressStyleModel",
       "_view_count": null,
       "_view_module": "@jupyter-widgets/base",
       "_view_module_version": "1.2.0",
       "_view_name": "StyleView",
       "bar_color": null,
       "description_width": ""
      }
     },
     "3b5fb6119ed54abfb1aa458924f06c57": {
      "model_module": "@jupyter-widgets/controls",
      "model_module_version": "1.5.0",
      "model_name": "FloatProgressModel",
      "state": {
       "_dom_classes": [],
       "_model_module": "@jupyter-widgets/controls",
       "_model_module_version": "1.5.0",
       "_model_name": "FloatProgressModel",
       "_view_count": null,
       "_view_module": "@jupyter-widgets/controls",
       "_view_module_version": "1.5.0",
       "_view_name": "ProgressView",
       "bar_style": "success",
       "description": "",
       "description_tooltip": null,
       "layout": "IPY_MODEL_37241fbd232c49d6b92ffbb026d0281b",
       "max": 578.0,
       "min": 0.0,
       "orientation": "horizontal",
       "style": "IPY_MODEL_3790cf2ae0fb4cfeb92bd8b2f2866d0b",
       "value": 578.0
      }
     },
     "4faac8ccfddb4cb288391150f18a0d90": {
      "model_module": "@jupyter-widgets/controls",
      "model_module_version": "1.5.0",
      "model_name": "DescriptionStyleModel",
      "state": {
       "_model_module": "@jupyter-widgets/controls",
       "_model_module_version": "1.5.0",
       "_model_name": "DescriptionStyleModel",
       "_view_count": null,
       "_view_module": "@jupyter-widgets/base",
       "_view_module_version": "1.2.0",
       "_view_name": "StyleView",
       "description_width": ""
      }
     },
     "5545ee9f1e034e13a6f4700b5728bf04": {
      "model_module": "@jupyter-widgets/controls",
      "model_module_version": "1.5.0",
      "model_name": "HTMLModel",
      "state": {
       "_dom_classes": [],
       "_model_module": "@jupyter-widgets/controls",
       "_model_module_version": "1.5.0",
       "_model_name": "HTMLModel",
       "_view_count": null,
       "_view_module": "@jupyter-widgets/controls",
       "_view_module_version": "1.5.0",
       "_view_name": "HTMLView",
       "description": "",
       "description_tooltip": null,
       "layout": "IPY_MODEL_575145e39bbd47339142400839ad5c6e",
       "placeholder": "​",
       "style": "IPY_MODEL_c80a334e79314c0fb226f98e477be9f3",
       "value": " 578/578 [00:00&lt;00:00, 49.0kB/s]"
      }
     },
     "575145e39bbd47339142400839ad5c6e": {
      "model_module": "@jupyter-widgets/base",
      "model_module_version": "1.2.0",
      "model_name": "LayoutModel",
      "state": {
       "_model_module": "@jupyter-widgets/base",
       "_model_module_version": "1.2.0",
       "_model_name": "LayoutModel",
       "_view_count": null,
       "_view_module": "@jupyter-widgets/base",
       "_view_module_version": "1.2.0",
       "_view_name": "LayoutView",
       "align_content": null,
       "align_items": null,
       "align_self": null,
       "border": null,
       "bottom": null,
       "display": null,
       "flex": null,
       "flex_flow": null,
       "grid_area": null,
       "grid_auto_columns": null,
       "grid_auto_flow": null,
       "grid_auto_rows": null,
       "grid_column": null,
       "grid_gap": null,
       "grid_row": null,
       "grid_template_areas": null,
       "grid_template_columns": null,
       "grid_template_rows": null,
       "height": null,
       "justify_content": null,
       "justify_items": null,
       "left": null,
       "margin": null,
       "max_height": null,
       "max_width": null,
       "min_height": null,
       "min_width": null,
       "object_fit": null,
       "object_position": null,
       "order": null,
       "overflow": null,
       "overflow_x": null,
       "overflow_y": null,
       "padding": null,
       "right": null,
       "top": null,
       "visibility": null,
       "width": null
      }
     },
     "587faa9da1ef4443aa0e5d68bb781d14": {
      "model_module": "@jupyter-widgets/controls",
      "model_module_version": "1.5.0",
      "model_name": "HTMLModel",
      "state": {
       "_dom_classes": [],
       "_model_module": "@jupyter-widgets/controls",
       "_model_module_version": "1.5.0",
       "_model_name": "HTMLModel",
       "_view_count": null,
       "_view_module": "@jupyter-widgets/controls",
       "_view_module_version": "1.5.0",
       "_view_name": "HTMLView",
       "description": "",
       "description_tooltip": null,
       "layout": "IPY_MODEL_6138e76d468347359e1f283b3afea005",
       "placeholder": "​",
       "style": "IPY_MODEL_71ae6147c37c4500bd10cf1ba1105f20",
       "value": "Downloading pytorch_model.bin: 100%"
      }
     },
     "6138e76d468347359e1f283b3afea005": {
      "model_module": "@jupyter-widgets/base",
      "model_module_version": "1.2.0",
      "model_name": "LayoutModel",
      "state": {
       "_model_module": "@jupyter-widgets/base",
       "_model_module_version": "1.2.0",
       "_model_name": "LayoutModel",
       "_view_count": null,
       "_view_module": "@jupyter-widgets/base",
       "_view_module_version": "1.2.0",
       "_view_name": "LayoutView",
       "align_content": null,
       "align_items": null,
       "align_self": null,
       "border": null,
       "bottom": null,
       "display": null,
       "flex": null,
       "flex_flow": null,
       "grid_area": null,
       "grid_auto_columns": null,
       "grid_auto_flow": null,
       "grid_auto_rows": null,
       "grid_column": null,
       "grid_gap": null,
       "grid_row": null,
       "grid_template_areas": null,
       "grid_template_columns": null,
       "grid_template_rows": null,
       "height": null,
       "justify_content": null,
       "justify_items": null,
       "left": null,
       "margin": null,
       "max_height": null,
       "max_width": null,
       "min_height": null,
       "min_width": null,
       "object_fit": null,
       "object_position": null,
       "order": null,
       "overflow": null,
       "overflow_x": null,
       "overflow_y": null,
       "padding": null,
       "right": null,
       "top": null,
       "visibility": null,
       "width": null
      }
     },
     "71ae6147c37c4500bd10cf1ba1105f20": {
      "model_module": "@jupyter-widgets/controls",
      "model_module_version": "1.5.0",
      "model_name": "DescriptionStyleModel",
      "state": {
       "_model_module": "@jupyter-widgets/controls",
       "_model_module_version": "1.5.0",
       "_model_name": "DescriptionStyleModel",
       "_view_count": null,
       "_view_module": "@jupyter-widgets/base",
       "_view_module_version": "1.2.0",
       "_view_name": "StyleView",
       "description_width": ""
      }
     },
     "81cde64c2de34143b74550a759900a2e": {
      "model_module": "@jupyter-widgets/controls",
      "model_module_version": "1.5.0",
      "model_name": "HBoxModel",
      "state": {
       "_dom_classes": [],
       "_model_module": "@jupyter-widgets/controls",
       "_model_module_version": "1.5.0",
       "_model_name": "HBoxModel",
       "_view_count": null,
       "_view_module": "@jupyter-widgets/controls",
       "_view_module_version": "1.5.0",
       "_view_name": "HBoxView",
       "box_style": "",
       "children": [
        "IPY_MODEL_587faa9da1ef4443aa0e5d68bb781d14",
        "IPY_MODEL_f93e68287f9543c4b52baae025cd9cd0",
        "IPY_MODEL_d38d08f1c5ba4ab2b7944713baf9fa13"
       ],
       "layout": "IPY_MODEL_2653e90759694e7a8b546db6ae782024"
      }
     },
     "aea497185d7049dea848b66513109aed": {
      "model_module": "@jupyter-widgets/base",
      "model_module_version": "1.2.0",
      "model_name": "LayoutModel",
      "state": {
       "_model_module": "@jupyter-widgets/base",
       "_model_module_version": "1.2.0",
       "_model_name": "LayoutModel",
       "_view_count": null,
       "_view_module": "@jupyter-widgets/base",
       "_view_module_version": "1.2.0",
       "_view_name": "LayoutView",
       "align_content": null,
       "align_items": null,
       "align_self": null,
       "border": null,
       "bottom": null,
       "display": null,
       "flex": null,
       "flex_flow": null,
       "grid_area": null,
       "grid_auto_columns": null,
       "grid_auto_flow": null,
       "grid_auto_rows": null,
       "grid_column": null,
       "grid_gap": null,
       "grid_row": null,
       "grid_template_areas": null,
       "grid_template_columns": null,
       "grid_template_rows": null,
       "height": null,
       "justify_content": null,
       "justify_items": null,
       "left": null,
       "margin": null,
       "max_height": null,
       "max_width": null,
       "min_height": null,
       "min_width": null,
       "object_fit": null,
       "object_position": null,
       "order": null,
       "overflow": null,
       "overflow_x": null,
       "overflow_y": null,
       "padding": null,
       "right": null,
       "top": null,
       "visibility": null,
       "width": null
      }
     },
     "ba31869a94c94a82a0cd68239b9344fc": {
      "model_module": "@jupyter-widgets/base",
      "model_module_version": "1.2.0",
      "model_name": "LayoutModel",
      "state": {
       "_model_module": "@jupyter-widgets/base",
       "_model_module_version": "1.2.0",
       "_model_name": "LayoutModel",
       "_view_count": null,
       "_view_module": "@jupyter-widgets/base",
       "_view_module_version": "1.2.0",
       "_view_name": "LayoutView",
       "align_content": null,
       "align_items": null,
       "align_self": null,
       "border": null,
       "bottom": null,
       "display": null,
       "flex": null,
       "flex_flow": null,
       "grid_area": null,
       "grid_auto_columns": null,
       "grid_auto_flow": null,
       "grid_auto_rows": null,
       "grid_column": null,
       "grid_gap": null,
       "grid_row": null,
       "grid_template_areas": null,
       "grid_template_columns": null,
       "grid_template_rows": null,
       "height": null,
       "justify_content": null,
       "justify_items": null,
       "left": null,
       "margin": null,
       "max_height": null,
       "max_width": null,
       "min_height": null,
       "min_width": null,
       "object_fit": null,
       "object_position": null,
       "order": null,
       "overflow": null,
       "overflow_x": null,
       "overflow_y": null,
       "padding": null,
       "right": null,
       "top": null,
       "visibility": null,
       "width": null
      }
     },
     "c662f76acb434abab28e0b30427be024": {
      "model_module": "@jupyter-widgets/controls",
      "model_module_version": "1.5.0",
      "model_name": "HTMLModel",
      "state": {
       "_dom_classes": [],
       "_model_module": "@jupyter-widgets/controls",
       "_model_module_version": "1.5.0",
       "_model_name": "HTMLModel",
       "_view_count": null,
       "_view_module": "@jupyter-widgets/controls",
       "_view_module_version": "1.5.0",
       "_view_name": "HTMLView",
       "description": "",
       "description_tooltip": null,
       "layout": "IPY_MODEL_ba31869a94c94a82a0cd68239b9344fc",
       "placeholder": "​",
       "style": "IPY_MODEL_4faac8ccfddb4cb288391150f18a0d90",
       "value": "Downloading config.json: 100%"
      }
     },
     "c80a334e79314c0fb226f98e477be9f3": {
      "model_module": "@jupyter-widgets/controls",
      "model_module_version": "1.5.0",
      "model_name": "DescriptionStyleModel",
      "state": {
       "_model_module": "@jupyter-widgets/controls",
       "_model_module_version": "1.5.0",
       "_model_name": "DescriptionStyleModel",
       "_view_count": null,
       "_view_module": "@jupyter-widgets/base",
       "_view_module_version": "1.2.0",
       "_view_name": "StyleView",
       "description_width": ""
      }
     },
     "d38d08f1c5ba4ab2b7944713baf9fa13": {
      "model_module": "@jupyter-widgets/controls",
      "model_module_version": "1.5.0",
      "model_name": "HTMLModel",
      "state": {
       "_dom_classes": [],
       "_model_module": "@jupyter-widgets/controls",
       "_model_module_version": "1.5.0",
       "_model_name": "HTMLModel",
       "_view_count": null,
       "_view_module": "@jupyter-widgets/controls",
       "_view_module_version": "1.5.0",
       "_view_name": "HTMLView",
       "description": "",
       "description_tooltip": null,
       "layout": "IPY_MODEL_aea497185d7049dea848b66513109aed",
       "placeholder": "​",
       "style": "IPY_MODEL_dd8316c7b1164ae6922fa3c3fb0127fa",
       "value": " 286M/286M [00:00&lt;00:00, 357MB/s]"
      }
     },
     "dd76e9cfd07a4320be92caaaf9a79c81": {
      "model_module": "@jupyter-widgets/controls",
      "model_module_version": "1.5.0",
      "model_name": "HBoxModel",
      "state": {
       "_dom_classes": [],
       "_model_module": "@jupyter-widgets/controls",
       "_model_module_version": "1.5.0",
       "_model_name": "HBoxModel",
       "_view_count": null,
       "_view_module": "@jupyter-widgets/controls",
       "_view_module_version": "1.5.0",
       "_view_name": "HBoxView",
       "box_style": "",
       "children": [
        "IPY_MODEL_c662f76acb434abab28e0b30427be024",
        "IPY_MODEL_3b5fb6119ed54abfb1aa458924f06c57",
        "IPY_MODEL_5545ee9f1e034e13a6f4700b5728bf04"
       ],
       "layout": "IPY_MODEL_04a2a4621d3945088fc31b8dbaab4c31"
      }
     },
     "dd8316c7b1164ae6922fa3c3fb0127fa": {
      "model_module": "@jupyter-widgets/controls",
      "model_module_version": "1.5.0",
      "model_name": "DescriptionStyleModel",
      "state": {
       "_model_module": "@jupyter-widgets/controls",
       "_model_module_version": "1.5.0",
       "_model_name": "DescriptionStyleModel",
       "_view_count": null,
       "_view_module": "@jupyter-widgets/base",
       "_view_module_version": "1.2.0",
       "_view_name": "StyleView",
       "description_width": ""
      }
     },
     "f93e68287f9543c4b52baae025cd9cd0": {
      "model_module": "@jupyter-widgets/controls",
      "model_module_version": "1.5.0",
      "model_name": "FloatProgressModel",
      "state": {
       "_dom_classes": [],
       "_model_module": "@jupyter-widgets/controls",
       "_model_module_version": "1.5.0",
       "_model_name": "FloatProgressModel",
       "_view_count": null,
       "_view_module": "@jupyter-widgets/controls",
       "_view_module_version": "1.5.0",
       "_view_name": "ProgressView",
       "bar_style": "success",
       "description": "",
       "description_tooltip": null,
       "layout": "IPY_MODEL_1d1bb4a694b04e068e4dea5dadd0c154",
       "max": 286059269.0,
       "min": 0.0,
       "orientation": "horizontal",
       "style": "IPY_MODEL_0faacb377539450bbb5273d2ec482ee4",
       "value": 286059269.0
      }
     }
    },
    "version_major": 2,
    "version_minor": 0
   }
  }
 },
 "nbformat": 4,
 "nbformat_minor": 5
}
