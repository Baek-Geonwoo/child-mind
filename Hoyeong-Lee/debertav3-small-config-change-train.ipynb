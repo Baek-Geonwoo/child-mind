{
 "cells": [
  {
   "cell_type": "markdown",
   "id": "41712b59",
   "metadata": {
    "papermill": {
     "duration": 0.008885,
     "end_time": "2023-12-11T16:22:20.246834",
     "exception": false,
     "start_time": "2023-12-11T16:22:20.237949",
     "status": "completed"
    },
    "tags": []
   },
   "source": [
    "# Import modules and Config"
   ]
  },
  {
   "cell_type": "code",
   "execution_count": 1,
   "id": "868adfca",
   "metadata": {
    "execution": {
     "iopub.execute_input": "2023-12-11T16:22:20.266950Z",
     "iopub.status.busy": "2023-12-11T16:22:20.266138Z",
     "iopub.status.idle": "2023-12-11T16:22:36.172406Z",
     "shell.execute_reply": "2023-12-11T16:22:36.171593Z"
    },
    "papermill": {
     "duration": 15.918957,
     "end_time": "2023-12-11T16:22:36.174786",
     "exception": false,
     "start_time": "2023-12-11T16:22:20.255829",
     "status": "completed"
    },
    "tags": []
   },
   "outputs": [
    {
     "name": "stderr",
     "output_type": "stream",
     "text": [
      "/opt/conda/lib/python3.10/site-packages/scipy/__init__.py:146: UserWarning: A NumPy version >=1.16.5 and <1.23.0 is required for this version of SciPy (detected version 1.23.5\n",
      "  warnings.warn(f\"A NumPy version >={np_minversion} and <{np_maxversion}\"\n"
     ]
    }
   ],
   "source": [
    "import pandas as pd\n",
    "import numpy as np\n",
    "import gc\n",
    "import time\n",
    "import json\n",
    "from datetime import datetime\n",
    "import matplotlib.pyplot as plt\n",
    "import os, glob\n",
    "import joblib\n",
    "import random\n",
    "import math\n",
    "from tqdm import tqdm \n",
    "from collections import OrderedDict\n",
    "\n",
    "from scipy.interpolate import interp1d\n",
    "from scipy import signal\n",
    "from scipy.signal import argrelmax\n",
    "\n",
    "from sklearn.metrics import mean_squared_error\n",
    "\n",
    "from math import pi, sqrt, exp\n",
    "import sklearn,sklearn.model_selection\n",
    "import torch\n",
    "from torch import nn,Tensor\n",
    "import torch.nn.functional as F\n",
    "from torch.utils.data import DataLoader, Dataset, SubsetRandomSampler\n",
    "from torch.optim import AdamW\n",
    "from sklearn.metrics import average_precision_score\n",
    "from timm.scheduler import CosineLRScheduler\n",
    "\n",
    "from transformers import get_cosine_schedule_with_warmup\n",
    "from transformers import AutoTokenizer, AutoConfig\n",
    "from transformers import AutoModel\n",
    "\n",
    "plt.style.use(\"ggplot\")\n",
    "\n",
    "from pyarrow.parquet import ParquetFile\n",
    "import pyarrow as pa \n",
    "import ctypes"
   ]
  },
  {
   "cell_type": "code",
   "execution_count": 2,
   "id": "86059666",
   "metadata": {
    "execution": {
     "iopub.execute_input": "2023-12-11T16:22:36.195731Z",
     "iopub.status.busy": "2023-12-11T16:22:36.195180Z",
     "iopub.status.idle": "2023-12-11T16:22:36.199585Z",
     "shell.execute_reply": "2023-12-11T16:22:36.198744Z"
    },
    "papermill": {
     "duration": 0.01694,
     "end_time": "2023-12-11T16:22:36.201590",
     "exception": false,
     "start_time": "2023-12-11T16:22:36.184650",
     "status": "completed"
    },
    "tags": []
   },
   "outputs": [],
   "source": [
    "import warnings\n",
    "warnings.filterwarnings('ignore')"
   ]
  },
  {
   "cell_type": "code",
   "execution_count": 3,
   "id": "b2464d49",
   "metadata": {
    "execution": {
     "iopub.execute_input": "2023-12-11T16:22:36.227122Z",
     "iopub.status.busy": "2023-12-11T16:22:36.226801Z",
     "iopub.status.idle": "2023-12-11T16:22:36.233192Z",
     "shell.execute_reply": "2023-12-11T16:22:36.232286Z"
    },
    "papermill": {
     "duration": 0.021407,
     "end_time": "2023-12-11T16:22:36.235241",
     "exception": false,
     "start_time": "2023-12-11T16:22:36.213834",
     "status": "completed"
    },
    "tags": []
   },
   "outputs": [],
   "source": [
    "# Fundamental config\n",
    "NOTDEBUG = True # False -> DEBUG, True -> normally train\n",
    "WORKERS = os.cpu_count() // 2\n",
    "N_FOLDS = 5\n",
    "TRAIN_FOLD = 0\n",
    "\n",
    "SIGMA = 720 #average length of day is 24*60*12 = 17280 for comparison\n",
    "SAMPLE_FREQ = 12 # 1 obs per minute\n",
    "\n",
    "MAX_LEN = (24*60*12) # 1day per chunk\n",
    "MAX_CHUNK_LEN = MAX_LEN // SAMPLE_FREQ\n",
    "USE_AMP = False\n",
    "SEED = 8620"
   ]
  },
  {
   "cell_type": "code",
   "execution_count": 4,
   "id": "1e59eadf",
   "metadata": {
    "execution": {
     "iopub.execute_input": "2023-12-11T16:22:36.259835Z",
     "iopub.status.busy": "2023-12-11T16:22:36.258948Z",
     "iopub.status.idle": "2023-12-11T16:22:36.264103Z",
     "shell.execute_reply": "2023-12-11T16:22:36.263025Z"
    },
    "papermill": {
     "duration": 0.018768,
     "end_time": "2023-12-11T16:22:36.266614",
     "exception": false,
     "start_time": "2023-12-11T16:22:36.247846",
     "status": "completed"
    },
    "tags": []
   },
   "outputs": [],
   "source": [
    "# Model config\n",
    "EMB_DIM = 34\n",
    "MODEL_NAME = 'microsoft/deberta-v3-small'\n",
    "OUTPUT_DIR='./DebertaV3XS_Baseline'"
   ]
  },
  {
   "cell_type": "code",
   "execution_count": 5,
   "id": "836d714c",
   "metadata": {
    "execution": {
     "iopub.execute_input": "2023-12-11T16:22:36.294188Z",
     "iopub.status.busy": "2023-12-11T16:22:36.293923Z",
     "iopub.status.idle": "2023-12-11T16:22:36.298125Z",
     "shell.execute_reply": "2023-12-11T16:22:36.297155Z"
    },
    "papermill": {
     "duration": 0.020117,
     "end_time": "2023-12-11T16:22:36.300483",
     "exception": false,
     "start_time": "2023-12-11T16:22:36.280366",
     "status": "completed"
    },
    "tags": []
   },
   "outputs": [],
   "source": [
    "# Optimizer config\n",
    "LR = 4e-4\n",
    "WD = 1e-2\n",
    "WARMUP_PROP = 0.1\n",
    "# LR_INIT = 1e-4\n",
    "# LR_MIN = 1e-5"
   ]
  },
  {
   "cell_type": "code",
   "execution_count": 6,
   "id": "d8945cf3",
   "metadata": {
    "execution": {
     "iopub.execute_input": "2023-12-11T16:22:36.324331Z",
     "iopub.status.busy": "2023-12-11T16:22:36.323987Z",
     "iopub.status.idle": "2023-12-11T16:22:36.328841Z",
     "shell.execute_reply": "2023-12-11T16:22:36.327896Z"
    },
    "papermill": {
     "duration": 0.017617,
     "end_time": "2023-12-11T16:22:36.331074",
     "exception": false,
     "start_time": "2023-12-11T16:22:36.313457",
     "status": "completed"
    },
    "tags": []
   },
   "outputs": [],
   "source": [
    "# Train config\n",
    "EPOCHS = 10 if NOTDEBUG else 2\n",
    "BS = 4\n",
    "MAX_GRAD_NORM = 2.\n",
    "GRAD_ACC = 32 // BS"
   ]
  },
  {
   "cell_type": "code",
   "execution_count": 7,
   "id": "131b0820",
   "metadata": {
    "execution": {
     "iopub.execute_input": "2023-12-11T16:22:36.357450Z",
     "iopub.status.busy": "2023-12-11T16:22:36.356756Z",
     "iopub.status.idle": "2023-12-11T16:22:36.366810Z",
     "shell.execute_reply": "2023-12-11T16:22:36.365962Z"
    },
    "papermill": {
     "duration": 0.024765,
     "end_time": "2023-12-11T16:22:36.368820",
     "exception": false,
     "start_time": "2023-12-11T16:22:36.344055",
     "status": "completed"
    },
    "tags": []
   },
   "outputs": [],
   "source": [
    "def torch_fix_seed(seed=42):\n",
    "    # Python random\n",
    "    random.seed(seed)\n",
    "    # Numpy\n",
    "    np.random.seed(seed)\n",
    "    # Pytorch\n",
    "    torch.manual_seed(seed)\n",
    "    torch.cuda.manual_seed(seed)\n",
    "    # torch.backends.cudnn.deterministic = True\n",
    "    # torch.use_deterministic_algorithms = True\n",
    "    # torch.backends.cudnn.benchmark = True\n",
    "\n",
    "torch_fix_seed(SEED)"
   ]
  },
  {
   "cell_type": "code",
   "execution_count": 8,
   "id": "2594f324",
   "metadata": {
    "execution": {
     "iopub.execute_input": "2023-12-11T16:22:36.389827Z",
     "iopub.status.busy": "2023-12-11T16:22:36.389212Z",
     "iopub.status.idle": "2023-12-11T16:22:36.483242Z",
     "shell.execute_reply": "2023-12-11T16:22:36.482346Z"
    },
    "papermill": {
     "duration": 0.10667,
     "end_time": "2023-12-11T16:22:36.485165",
     "exception": false,
     "start_time": "2023-12-11T16:22:36.378495",
     "status": "completed"
    },
    "tags": []
   },
   "outputs": [
    {
     "data": {
      "text/plain": [
       "'cuda'"
      ]
     },
     "execution_count": 8,
     "metadata": {},
     "output_type": "execute_result"
    }
   ],
   "source": [
    "device = 'cuda' if torch.cuda.is_available() else 'cpu'\n",
    "device"
   ]
  },
  {
   "cell_type": "code",
   "execution_count": 9,
   "id": "a874afb7",
   "metadata": {
    "execution": {
     "iopub.execute_input": "2023-12-11T16:22:36.506118Z",
     "iopub.status.busy": "2023-12-11T16:22:36.505828Z",
     "iopub.status.idle": "2023-12-11T16:22:36.514077Z",
     "shell.execute_reply": "2023-12-11T16:22:36.513099Z"
    },
    "papermill": {
     "duration": 0.020945,
     "end_time": "2023-12-11T16:22:36.516033",
     "exception": false,
     "start_time": "2023-12-11T16:22:36.495088",
     "status": "completed"
    },
    "tags": []
   },
   "outputs": [],
   "source": [
    "def plot_history(history, model_path=\".\", show=True):\n",
    "    epochs = range(1, len(history[\"train_loss\"]) + 1)\n",
    "\n",
    "    plt.figure()\n",
    "    plt.plot(epochs, history[\"train_loss\"], label=\"Training Loss\")\n",
    "    plt.plot(epochs, history[\"valid_loss\"], label=\"Validation Loss\")\n",
    "    plt.yscale('log')\n",
    "    plt.title(\"Loss evolution\")\n",
    "    plt.xlabel(\"Epochs\")\n",
    "    plt.ylabel(\"Loss\")\n",
    "    plt.legend()\n",
    "    plt.savefig(os.path.join(model_path, \"loss_evo.png\"))\n",
    "    if show:\n",
    "        plt.show()\n",
    "    plt.close()\n",
    "\n",
    "#     plt.figure()\n",
    "#     plt.plot(epochs, history[\"valid_mAP\"])\n",
    "#     plt.title(\"Validation mAP evolution\")\n",
    "#     plt.xlabel(\"Epochs\")\n",
    "#     plt.ylabel(\"mAP\")\n",
    "#     plt.savefig(os.path.join(model_path, \"mAP_evo.png\"))\n",
    "#     if show:\n",
    "#         plt.show()\n",
    "#     plt.close()\n",
    "\n",
    "    plt.figure()\n",
    "    plt.plot(epochs, history[\"lr\"])\n",
    "    plt.title(\"Learning Rate evolution\")\n",
    "    plt.xlabel(\"Epochs\")\n",
    "    plt.ylabel(\"LR\")\n",
    "    plt.savefig(os.path.join(model_path, \"lr_evo.png\"))\n",
    "    if show:\n",
    "        plt.show()\n",
    "    plt.close()"
   ]
  },
  {
   "cell_type": "markdown",
   "id": "a6ddedcc",
   "metadata": {
    "papermill": {
     "duration": 0.009242,
     "end_time": "2023-12-11T16:22:36.534740",
     "exception": false,
     "start_time": "2023-12-11T16:22:36.525498",
     "status": "completed"
    },
    "tags": []
   },
   "source": [
    "# Define Model"
   ]
  },
  {
   "cell_type": "code",
   "execution_count": 10,
   "id": "2c51487e",
   "metadata": {
    "execution": {
     "iopub.execute_input": "2023-12-11T16:22:36.555023Z",
     "iopub.status.busy": "2023-12-11T16:22:36.554733Z",
     "iopub.status.idle": "2023-12-11T16:22:36.571523Z",
     "shell.execute_reply": "2023-12-11T16:22:36.570556Z"
    },
    "papermill": {
     "duration": 0.029298,
     "end_time": "2023-12-11T16:22:36.573536",
     "exception": false,
     "start_time": "2023-12-11T16:22:36.544238",
     "status": "completed"
    },
    "tags": []
   },
   "outputs": [],
   "source": [
    "class US_BLK(nn.Module):\n",
    "    def __init__(self, in_c, out_c, in_len, ks=7, dilation=1, us_factor=2):\n",
    "        super().__init__()\n",
    "        padding = ((ks-1)*dilation)//2\n",
    "        self.us = nn.Upsample(scale_factor=us_factor, mode='linear')\n",
    "        self.conv1 = nn.Conv1d(in_c, out_c, ks, padding=padding, dilation=dilation)\n",
    "        self.ln1 = nn.LayerNorm([out_c, in_len])\n",
    "        self.act1 = nn.LeakyReLU(0.2)\n",
    "        self.conv2 = nn.Conv1d(out_c, out_c, ks, padding=padding, dilation=dilation)\n",
    "        self.ln2 = nn.LayerNorm([out_c, in_len])\n",
    "        self.act2 = nn.LeakyReLU(0.2)\n",
    "        \n",
    "    def forward(self, x):\n",
    "        x = self.us(x)\n",
    "        x = self.conv1(x)\n",
    "        x = self.ln1(x)\n",
    "        x = self.act1(x)\n",
    "        x = self.conv2(x)\n",
    "        x = self.ln2(x)\n",
    "        x = self.act2(x)\n",
    "        return x\n",
    "        \n",
    "class BertEncoder(torch.nn.Module):\n",
    "    \n",
    "    def __init__(self, model_name, in_c=2, out_c=2, emb_dim=8, pretrained=True, base=96):\n",
    "        super().__init__()\n",
    "        \n",
    "        self.config = AutoConfig.from_pretrained(model_name, add_pooling_layer=False)\n",
    "        self.config.relative_attention = False # ADD\n",
    "        \n",
    "        if pretrained:\n",
    "            self.bert = AutoModel.from_pretrained(model_name, config=self.config)\n",
    "        else:\n",
    "            self.bert = AutoModel.from_config(self.config)\n",
    "            \n",
    "        self.bert = self.bert.encoder\n",
    "        \n",
    "        self.fc_in = nn.Linear(in_c, self.config.hidden_size-emb_dim)\n",
    "        self.hr_emb = nn.Embedding(24, emb_dim)\n",
    "        \n",
    "        \n",
    "        self.upsample_blocks = nn.ModuleList([])\n",
    "        self.upsample_blocks.append(US_BLK(self.config.hidden_size, base*4, MAX_LEN//(2*2), us_factor=3))\n",
    "        self.upsample_blocks.append(US_BLK(base*4, base*2, MAX_LEN//2, us_factor=2))\n",
    "        self.upsample_blocks.append(US_BLK(base*2, base, MAX_LEN, us_factor=2))\n",
    "        \n",
    "        self.fc_out = nn.Linear(base, out_c)\n",
    "\n",
    "    def forward(self, x, t, att_mask=None):\n",
    "        x = self.fc_in(x)\n",
    "        t = self.hr_emb(t)        \n",
    "\n",
    "        x = torch.cat([x, t.squeeze(2)], dim=-1)\n",
    "\n",
    "        \n",
    "        if att_mask is None:\n",
    "            att_mask = torch.ones(x.size()[:2]).to(x.device)\n",
    "        \n",
    "        bert_output = self.bert(x, attention_mask=att_mask)\n",
    "        x = bert_output.last_hidden_state\n",
    "#         print(f'hidden state: {x.shape}')\n",
    "\n",
    "        x = x.permute(0,2,1)\n",
    "\n",
    "        for b in self.upsample_blocks:\n",
    "            x = b(x)\n",
    "\n",
    "        x = x.permute(0,2,1)\n",
    "        \n",
    "        scores = self.fc_out(x) \n",
    "        \n",
    "        return scores"
   ]
  },
  {
   "cell_type": "markdown",
   "id": "47810094",
   "metadata": {
    "papermill": {
     "duration": 0.009254,
     "end_time": "2023-12-11T16:22:36.592280",
     "exception": false,
     "start_time": "2023-12-11T16:22:36.583026",
     "status": "completed"
    },
    "tags": []
   },
   "source": [
    "# Define Dataset and Fold split"
   ]
  },
  {
   "cell_type": "code",
   "execution_count": 11,
   "id": "380f7a06",
   "metadata": {
    "execution": {
     "iopub.execute_input": "2023-12-11T16:22:36.615838Z",
     "iopub.status.busy": "2023-12-11T16:22:36.615538Z",
     "iopub.status.idle": "2023-12-11T16:22:36.684782Z",
     "shell.execute_reply": "2023-12-11T16:22:36.683782Z"
    },
    "papermill": {
     "duration": 0.08207,
     "end_time": "2023-12-11T16:22:36.686862",
     "exception": false,
     "start_time": "2023-12-11T16:22:36.604792",
     "status": "completed"
    },
    "tags": []
   },
   "outputs": [
    {
     "name": "stdout",
     "output_type": "stream",
     "text": [
      "Fold = 0\n",
      "Length of Train = 221, Length of Valid = 56\n"
     ]
    },
    {
     "data": {
      "text/plain": [
       "(0    038441c925bb\n",
       " 1    03d92c9f6f8a\n",
       " 2    0402a003dae9\n",
       " 3    04f547b8017d\n",
       " 4    05e1944c3818\n",
       " Name: series_id, dtype: object,\n",
       " ['/kaggle/input/detect-sleep-states-dataprepare/train_csvs/038441c925bb.csv',\n",
       "  '/kaggle/input/detect-sleep-states-dataprepare/train_csvs/03d92c9f6f8a.csv',\n",
       "  '/kaggle/input/detect-sleep-states-dataprepare/train_csvs/0402a003dae9.csv',\n",
       "  '/kaggle/input/detect-sleep-states-dataprepare/train_csvs/04f547b8017d.csv',\n",
       "  '/kaggle/input/detect-sleep-states-dataprepare/train_csvs/05e1944c3818.csv'],\n",
       " 221)"
      ]
     },
     "execution_count": 11,
     "metadata": {},
     "output_type": "execute_result"
    }
   ],
   "source": [
    "from sklearn.model_selection import StratifiedKFold, StratifiedGroupKFold\n",
    "skf = StratifiedKFold(n_splits=N_FOLDS, random_state=SEED, shuffle=True)\n",
    "metadata = pd.read_csv('/kaggle/input/child-mind-institute-detect-sleep-states/train_events.csv')\n",
    "unique_ids = metadata['series_id'].unique()\n",
    "meta_cts = pd.DataFrame(unique_ids, columns=['series_id'])\n",
    "for i, (train_index, valid_index) in enumerate(skf.split(X=meta_cts['series_id'], y=[1]*len(meta_cts))):\n",
    "    if i != TRAIN_FOLD:\n",
    "        continue\n",
    "    print(f\"Fold = {i}\")\n",
    "    train_ids = meta_cts.loc[train_index, 'series_id']\n",
    "    valid_ids = meta_cts.loc[valid_index, 'series_id']\n",
    "    print(f\"Length of Train = {len(train_ids)}, Length of Valid = {len(valid_ids)}\")\n",
    "    \n",
    "    if i == TRAIN_FOLD:\n",
    "        break\n",
    "        \n",
    "train_fpaths = [f\"/kaggle/input/detect-sleep-states-dataprepare/train_csvs/{_id}.csv\" for _id in train_ids]\n",
    "valid_fpaths = [f\"/kaggle/input/detect-sleep-states-dataprepare/train_csvs/{_id}.csv\" for _id in valid_ids]\n",
    "train_ids[:5], train_fpaths[:5] ,len(train_fpaths)"
   ]
  },
  {
   "cell_type": "code",
   "execution_count": 12,
   "id": "74524b3b",
   "metadata": {
    "execution": {
     "iopub.execute_input": "2023-12-11T16:22:36.708036Z",
     "iopub.status.busy": "2023-12-11T16:22:36.707764Z",
     "iopub.status.idle": "2023-12-11T16:25:47.505044Z",
     "shell.execute_reply": "2023-12-11T16:25:47.504077Z"
    },
    "papermill": {
     "duration": 190.810171,
     "end_time": "2023-12-11T16:25:47.507042",
     "exception": false,
     "start_time": "2023-12-11T16:22:36.696871",
     "status": "completed"
    },
    "tags": []
   },
   "outputs": [
    {
     "name": "stderr",
     "output_type": "stream",
     "text": [
      "                                               \r"
     ]
    }
   ],
   "source": [
    "class SleepDataset(Dataset):\n",
    "    def __init__(\n",
    "        self,\n",
    "        folder,\n",
    "        max_len=17280,\n",
    "        is_train=False,\n",
    "        sample_per_epoch=10000\n",
    "    ):\n",
    "        self.enmo_mean = np.load('/kaggle/input/detect-sleep-states-dataprepare/enmo_mean.npy')\n",
    "        self.enmo_std = np.load('/kaggle/input/detect-sleep-states-dataprepare/enmo_std.npy')\n",
    "        \n",
    "        self.max_len = max_len\n",
    "        assert max_len % SAMPLE_FREQ == 0\n",
    "        \n",
    "        self.is_train = is_train\n",
    "        \n",
    "        self.max_df_size = 0\n",
    "        self.min_df_size = 1e9\n",
    "        \n",
    "        self.sample_per_epoch = sample_per_epoch\n",
    "        \n",
    "        self.feat_list = ['anglez','enmo']\n",
    "        \n",
    "        self.Xys = self.read_csvs(folder)        \n",
    "        \n",
    "        self.label_list = ['onset', 'wakeup']\n",
    "        \n",
    "        self.hour_feat= ['hour']\n",
    "        \n",
    "        self.compress_methods = ['mean', 'median', 'fixed']\n",
    "        \n",
    "    def read_csvs(self, folder):\n",
    "        res = []\n",
    "        if type(folder) is str:\n",
    "            files = glob.glob(f'{folder}/*.csv')\n",
    "        else:\n",
    "            files = folder\n",
    "        for i, f in tqdm(enumerate(files), total=len(files), leave=False):\n",
    "            df = pd.read_csv(f)\n",
    "            df = self.norm_feat_eng(df, init=True if i==0 else False)\n",
    "                \n",
    "            res.append(df)\n",
    "            self.max_df_size = max(self.max_df_size, len(df))\n",
    "            self.min_df_size = min(self.min_df_size, len(df))\n",
    "        return res\n",
    "    \n",
    "    def compress(self, xt, method='mean', sample_freq=SAMPLE_FREQ):\n",
    "        x, t = xt\n",
    "        seq_len = x.shape[0]\n",
    "        if method == 'mean':\n",
    "            x = x.reshape(seq_len//sample_freq, sample_freq, -1).mean(1)\n",
    "            t = t.reshape(seq_len//sample_freq, sample_freq, 1).mean(1)\n",
    "            \n",
    "        if method == 'median':\n",
    "            x = np.median(x.reshape(seq_len//sample_freq, sample_freq, -1), axis=1)\n",
    "            t = np.median(t.reshape(seq_len//sample_freq, sample_freq, 1), axis=1)\n",
    "            \n",
    "        if method == 'fixed':\n",
    "            start = torch.randint(0, sample_freq, size=(1,))[0].numpy()\n",
    "            x = x[start::sample_freq]\n",
    "            t = t[start::sample_freq]\n",
    "        \n",
    "        return x.astype(np.float32), t.astype(np.int32)\n",
    "\n",
    "    def norm_feat_eng(self, X, init=False):\n",
    "        #X['anglez'] = X['anglez'] / 90.0\n",
    "        X['anglez'] = abs(X['anglez'].diff().fillna(method='bfill'))\n",
    "        X['enmo'] = (X['enmo'] - self.enmo_mean) / (self.enmo_std + 1e-12)\n",
    "        \n",
    "        for w in [1, 2, 4, 8, 16]:    \n",
    "            X['anglez_shift_pos_' + str(w)] = X['anglez'].shift(w).fillna(0)\n",
    "            X['anglez_shift_neg_' + str(w)] = X['anglez'].shift(-w).fillna(0)\n",
    "            \n",
    "            X['enmo_shift_pos_' + str(w)] = X['enmo'].shift(w).fillna(0)\n",
    "            X['enmo_shift_neg_' + str(w)] = X['enmo'].shift(-w).fillna(0)\n",
    "            \n",
    "            if init:\n",
    "                self.feat_list.append('anglez_shift_pos_' + str(w))\n",
    "                self.feat_list.append('anglez_shift_neg_' + str(w))\n",
    "                \n",
    "                self.feat_list.append('enmo_shift_pos_' + str(w))\n",
    "                self.feat_list.append('enmo_shift_neg_' + str(w))\n",
    "            \n",
    "        for r in [17, 33, 65]:\n",
    "            tmp_anglez = X['anglez'].rolling(r, center=True)\n",
    "            X[f'anglez_mean_{r}'] = tmp_anglez.mean()\n",
    "            X[f'anglez_std_{r}'] = tmp_anglez.std()            \n",
    "            \n",
    "            tmp_enmo = X['enmo'].rolling(r, center=True)\n",
    "            X[f'enmo_mean_{r}'] = tmp_enmo.mean()\n",
    "            X[f'enmo_std_{r}'] = tmp_enmo.std()\n",
    "            \n",
    "            if init:\n",
    "                self.feat_list.append(f'anglez_mean_{r}')\n",
    "                self.feat_list.append(f'anglez_std_{r}')\n",
    "\n",
    "                self.feat_list.append(f'enmo_mean_{r}')\n",
    "                self.feat_list.append(f'enmo_std_{r}')\n",
    "                \n",
    "        X = X.fillna(0)\n",
    "        \n",
    "        return X.astype(np.float32)\n",
    "\n",
    "    def gauss(self, n=SIGMA, sigma=SIGMA*0.15):\n",
    "        # guassian distribution function\n",
    "        r = range(-int(n/2),int(n/2)+1)\n",
    "        return [1 / (sigma * sqrt(2*pi)) * exp(-float(x)**2/(2*sigma**2)) for x in r]\n",
    "    \n",
    "    def __len__(self):\n",
    "        return self.sample_per_epoch if self.is_train else len(self.Xys)\n",
    "\n",
    "    def __getitem__(self, index):\n",
    "        if self.is_train:\n",
    "            ind = torch.randint(0, len(self.Xys), size=(1,))[0].numpy()\n",
    "            Xy = self.Xys[ind]\n",
    "            \n",
    "            X = Xy[self.feat_list].values.astype(np.float32)\n",
    "            y = Xy[self.label_list].values.astype(np.float32)\n",
    "            t = Xy[self.hour_feat].values.astype(np.int32)\n",
    "\n",
    "            if len(Xy)+1<self.max_len:\n",
    "                res = self.max_len - len(Xy) + 1\n",
    "                X = np.pad(X, ((0, res), (0, 0)))\n",
    "                y = np.pad(y, ((0, res), (0, 0)))\n",
    "                t = np.pad(t, ((0, res), (0, 0)))\n",
    "\n",
    "            start = torch.randint(0, len(X)-self.max_len, size=(1,))[0].numpy()\n",
    "\n",
    "            X = X[start:start+self.max_len]\n",
    "            y = y[start:start+self.max_len]    \n",
    "            t = t[start:start+self.max_len]    \n",
    "            \n",
    "            method_idx = torch.randint(0, len(self.compress_methods), size=(1,))[0].numpy()\n",
    "            X, t = self.compress((X, t), method=self.compress_methods[method_idx])\n",
    "\n",
    "        else:\n",
    "            Xy = self.Xys[index]\n",
    "            X = Xy[self.feat_list].values.astype(np.float32)\n",
    "            y = Xy[self.label_list].values.astype(np.float32)        \n",
    "            t = Xy[self.hour_feat].values.astype(np.int32)\n",
    "            \n",
    "            if len(Xy)%SAMPLE_FREQ!=0:\n",
    "                res = SAMPLE_FREQ - (len(Xy)%SAMPLE_FREQ)\n",
    "                X = np.pad(X, ((0, res), (0, 0)))\n",
    "                y = np.pad(y, ((0, res), (0, 0)))\n",
    "                t = np.pad(t, ((0, res), (0, 0)))\n",
    "            \n",
    "            X, t = self.compress((X, t), method='mean')\n",
    "            \n",
    "        return X, t, y\n",
    "\n",
    "train_fpaths = train_fpaths if NOTDEBUG else train_fpaths[:25]\n",
    "valid_fpaths = valid_fpaths if NOTDEBUG else valid_fpaths[:5]\n",
    "sample_per_epoch = 20_000 if NOTDEBUG else 100\n",
    "\n",
    "train_ds = SleepDataset(train_fpaths, max_len=MAX_LEN, is_train=True, sample_per_epoch=sample_per_epoch)\n",
    "val_ds = SleepDataset(valid_fpaths, is_train=False)"
   ]
  },
  {
   "cell_type": "code",
   "execution_count": 13,
   "id": "85aac448",
   "metadata": {
    "execution": {
     "iopub.execute_input": "2023-12-11T16:25:47.612666Z",
     "iopub.status.busy": "2023-12-11T16:25:47.612301Z",
     "iopub.status.idle": "2023-12-11T16:25:47.617377Z",
     "shell.execute_reply": "2023-12-11T16:25:47.616652Z"
    },
    "papermill": {
     "duration": 0.038809,
     "end_time": "2023-12-11T16:25:47.619305",
     "exception": false,
     "start_time": "2023-12-11T16:25:47.580496",
     "status": "completed"
    },
    "tags": []
   },
   "outputs": [],
   "source": [
    "np.save('feature_list.npy', train_ds.feat_list)"
   ]
  },
  {
   "cell_type": "code",
   "execution_count": 14,
   "id": "9aec15f5",
   "metadata": {
    "execution": {
     "iopub.execute_input": "2023-12-11T16:25:47.681247Z",
     "iopub.status.busy": "2023-12-11T16:25:47.680533Z",
     "iopub.status.idle": "2023-12-11T16:25:47.685998Z",
     "shell.execute_reply": "2023-12-11T16:25:47.685128Z"
    },
    "papermill": {
     "duration": 0.038275,
     "end_time": "2023-12-11T16:25:47.687810",
     "exception": false,
     "start_time": "2023-12-11T16:25:47.649535",
     "status": "completed"
    },
    "tags": []
   },
   "outputs": [],
   "source": [
    "train_dl = DataLoader(\n",
    "    train_ds,\n",
    "    batch_size=BS,\n",
    "    pin_memory=True,\n",
    "    num_workers=WORKERS,\n",
    "    shuffle=True,\n",
    "    drop_last=True\n",
    ")\n",
    "val_dl = DataLoader(\n",
    "    val_ds,\n",
    "    batch_size=1,\n",
    "    pin_memory=True,\n",
    "    num_workers=WORKERS,\n",
    "    shuffle=False,\n",
    "    drop_last=False\n",
    ")"
   ]
  },
  {
   "cell_type": "markdown",
   "id": "92820a33",
   "metadata": {
    "papermill": {
     "duration": 0.030777,
     "end_time": "2023-12-11T16:25:47.748597",
     "exception": false,
     "start_time": "2023-12-11T16:25:47.717820",
     "status": "completed"
    },
    "tags": []
   },
   "source": [
    "# Train and Eval"
   ]
  },
  {
   "cell_type": "code",
   "execution_count": 15,
   "id": "e114c342",
   "metadata": {
    "execution": {
     "iopub.execute_input": "2023-12-11T16:25:47.810109Z",
     "iopub.status.busy": "2023-12-11T16:25:47.809857Z",
     "iopub.status.idle": "2023-12-11T16:25:47.816938Z",
     "shell.execute_reply": "2023-12-11T16:25:47.816116Z"
    },
    "papermill": {
     "duration": 0.039918,
     "end_time": "2023-12-11T16:25:47.818739",
     "exception": false,
     "start_time": "2023-12-11T16:25:47.778821",
     "status": "completed"
    },
    "tags": []
   },
   "outputs": [],
   "source": [
    "# https://www.kaggle.com/code/bigironsphere/loss-function-library-keras-pytorch\n",
    "\n",
    "class FocalLoss(nn.Module):\n",
    "    def __init__(self, weight=None, size_average=True, alpha=1., gamma=2.):\n",
    "        super(FocalLoss, self).__init__()\n",
    "        self.alpha = alpha\n",
    "        self.gamma = gamma\n",
    "\n",
    "    def forward(self, inputs, targets):\n",
    "        \n",
    "        #comment out if your model contains a sigmoid or equivalent activation layer\n",
    "        #inputs = F.sigmoid(inputs)       \n",
    "        \n",
    "        #flatten label and prediction tensors\n",
    "        inputs = inputs.view(-1)\n",
    "        targets = targets.view(-1)\n",
    "        \n",
    "        #first compute binary cross-entropy \n",
    "        BCE = F.binary_cross_entropy_with_logits(inputs, targets, reduction='none')\n",
    "        BCE_EXP = torch.exp(-BCE)\n",
    "        focal_loss = self.alpha * (1-BCE_EXP)**self.gamma * BCE\n",
    "                       \n",
    "        return focal_loss.mean()"
   ]
  },
  {
   "cell_type": "code",
   "execution_count": 16,
   "id": "ea0f88c1",
   "metadata": {
    "execution": {
     "iopub.execute_input": "2023-12-11T16:25:47.880072Z",
     "iopub.status.busy": "2023-12-11T16:25:47.879821Z",
     "iopub.status.idle": "2023-12-11T16:25:47.886075Z",
     "shell.execute_reply": "2023-12-11T16:25:47.885201Z"
    },
    "papermill": {
     "duration": 0.039015,
     "end_time": "2023-12-11T16:25:47.887930",
     "exception": false,
     "start_time": "2023-12-11T16:25:47.848915",
     "status": "completed"
    },
    "tags": []
   },
   "outputs": [],
   "source": [
    "def add_weight_decay(model, weight_decay=1e-5, skip_list=()):\n",
    "    decay = []\n",
    "    no_decay = []\n",
    "    for name, param in model.named_parameters():\n",
    "        if not param.requires_grad:\n",
    "            continue\n",
    "        if len(param.shape) == 1 or np.any([v in name.lower()  for v in skip_list]):\n",
    "            # print(name, 'no decay')\n",
    "            no_decay.append(param)\n",
    "        else:\n",
    "            # print(name, 'decay')\n",
    "            decay.append(param)\n",
    "    return [\n",
    "        {'params': no_decay, 'weight_decay': 0.},\n",
    "        {'params': decay, 'weight_decay': weight_decay}]"
   ]
  },
  {
   "cell_type": "code",
   "execution_count": 17,
   "id": "838b222b",
   "metadata": {
    "execution": {
     "iopub.execute_input": "2023-12-11T16:25:47.949958Z",
     "iopub.status.busy": "2023-12-11T16:25:47.949684Z",
     "iopub.status.idle": "2023-12-11T16:25:47.954074Z",
     "shell.execute_reply": "2023-12-11T16:25:47.953224Z"
    },
    "papermill": {
     "duration": 0.037167,
     "end_time": "2023-12-11T16:25:47.955932",
     "exception": false,
     "start_time": "2023-12-11T16:25:47.918765",
     "status": "completed"
    },
    "tags": []
   },
   "outputs": [],
   "source": [
    "def padding_(x, tgt_len=MAX_CHUNK_LEN):\n",
    "    res = tgt_len - (x.size(-2) % tgt_len)\n",
    "    x = F.pad(x, (0, 0, 0, res))\n",
    "    return x"
   ]
  },
  {
   "cell_type": "code",
   "execution_count": 18,
   "id": "5f9eed6a",
   "metadata": {
    "execution": {
     "iopub.execute_input": "2023-12-11T16:25:48.017719Z",
     "iopub.status.busy": "2023-12-11T16:25:48.017436Z",
     "iopub.status.idle": "2023-12-11T16:25:56.710777Z",
     "shell.execute_reply": "2023-12-11T16:25:56.709818Z"
    },
    "papermill": {
     "duration": 8.726446,
     "end_time": "2023-12-11T16:25:56.712843",
     "exception": false,
     "start_time": "2023-12-11T16:25:47.986397",
     "status": "completed"
    },
    "tags": []
   },
   "outputs": [
    {
     "data": {
      "application/vnd.jupyter.widget-view+json": {
       "model_id": "8ba2918642744df2bc19db3b72452b77",
       "version_major": 2,
       "version_minor": 0
      },
      "text/plain": [
       "Downloading config.json:   0%|          | 0.00/578 [00:00<?, ?B/s]"
      ]
     },
     "metadata": {},
     "output_type": "display_data"
    },
    {
     "data": {
      "application/vnd.jupyter.widget-view+json": {
       "model_id": "ab16f1db1d8b4f12b8824c3384cbec05",
       "version_major": 2,
       "version_minor": 0
      },
      "text/plain": [
       "Downloading pytorch_model.bin:   0%|          | 0.00/286M [00:00<?, ?B/s]"
      ]
     },
     "metadata": {},
     "output_type": "display_data"
    },
    {
     "data": {
      "text/plain": [
       "BertEncoder(\n",
       "  (bert): DebertaV2Encoder(\n",
       "    (layer): ModuleList(\n",
       "      (0-5): 6 x DebertaV2Layer(\n",
       "        (attention): DebertaV2Attention(\n",
       "          (self): DisentangledSelfAttention(\n",
       "            (query_proj): Linear(in_features=768, out_features=768, bias=True)\n",
       "            (key_proj): Linear(in_features=768, out_features=768, bias=True)\n",
       "            (value_proj): Linear(in_features=768, out_features=768, bias=True)\n",
       "            (dropout): StableDropout()\n",
       "          )\n",
       "          (output): DebertaV2SelfOutput(\n",
       "            (dense): Linear(in_features=768, out_features=768, bias=True)\n",
       "            (LayerNorm): LayerNorm((768,), eps=1e-07, elementwise_affine=True)\n",
       "            (dropout): StableDropout()\n",
       "          )\n",
       "        )\n",
       "        (intermediate): DebertaV2Intermediate(\n",
       "          (dense): Linear(in_features=768, out_features=3072, bias=True)\n",
       "          (intermediate_act_fn): GELUActivation()\n",
       "        )\n",
       "        (output): DebertaV2Output(\n",
       "          (dense): Linear(in_features=3072, out_features=768, bias=True)\n",
       "          (LayerNorm): LayerNorm((768,), eps=1e-07, elementwise_affine=True)\n",
       "          (dropout): StableDropout()\n",
       "        )\n",
       "      )\n",
       "    )\n",
       "    (LayerNorm): LayerNorm((768,), eps=1e-07, elementwise_affine=True)\n",
       "  )\n",
       "  (fc_in): Linear(in_features=34, out_features=734, bias=True)\n",
       "  (hr_emb): Embedding(24, 34)\n",
       "  (upsample_blocks): ModuleList(\n",
       "    (0): US_BLK(\n",
       "      (us): Upsample(scale_factor=3.0, mode='linear')\n",
       "      (conv1): Conv1d(768, 384, kernel_size=(7,), stride=(1,), padding=(3,))\n",
       "      (ln1): LayerNorm((384, 4320), eps=1e-05, elementwise_affine=True)\n",
       "      (act1): LeakyReLU(negative_slope=0.2)\n",
       "      (conv2): Conv1d(384, 384, kernel_size=(7,), stride=(1,), padding=(3,))\n",
       "      (ln2): LayerNorm((384, 4320), eps=1e-05, elementwise_affine=True)\n",
       "      (act2): LeakyReLU(negative_slope=0.2)\n",
       "    )\n",
       "    (1): US_BLK(\n",
       "      (us): Upsample(scale_factor=2.0, mode='linear')\n",
       "      (conv1): Conv1d(384, 192, kernel_size=(7,), stride=(1,), padding=(3,))\n",
       "      (ln1): LayerNorm((192, 8640), eps=1e-05, elementwise_affine=True)\n",
       "      (act1): LeakyReLU(negative_slope=0.2)\n",
       "      (conv2): Conv1d(192, 192, kernel_size=(7,), stride=(1,), padding=(3,))\n",
       "      (ln2): LayerNorm((192, 8640), eps=1e-05, elementwise_affine=True)\n",
       "      (act2): LeakyReLU(negative_slope=0.2)\n",
       "    )\n",
       "    (2): US_BLK(\n",
       "      (us): Upsample(scale_factor=2.0, mode='linear')\n",
       "      (conv1): Conv1d(192, 96, kernel_size=(7,), stride=(1,), padding=(3,))\n",
       "      (ln1): LayerNorm((96, 17280), eps=1e-05, elementwise_affine=True)\n",
       "      (act1): LeakyReLU(negative_slope=0.2)\n",
       "      (conv2): Conv1d(96, 96, kernel_size=(7,), stride=(1,), padding=(3,))\n",
       "      (ln2): LayerNorm((96, 17280), eps=1e-05, elementwise_affine=True)\n",
       "      (act2): LeakyReLU(negative_slope=0.2)\n",
       "    )\n",
       "  )\n",
       "  (fc_out): Linear(in_features=96, out_features=2, bias=True)\n",
       ")"
      ]
     },
     "execution_count": 18,
     "metadata": {},
     "output_type": "execute_result"
    }
   ],
   "source": [
    "model = BertEncoder(\n",
    "    model_name=MODEL_NAME, \n",
    "    in_c=len(train_ds.feat_list), \n",
    "    out_c=2, \n",
    "    emb_dim=EMB_DIM, \n",
    "    pretrained=True\n",
    ").to(device)\n",
    "model"
   ]
  },
  {
   "cell_type": "code",
   "execution_count": 19,
   "id": "d4eef13e",
   "metadata": {
    "execution": {
     "iopub.execute_input": "2023-12-11T16:25:56.777167Z",
     "iopub.status.busy": "2023-12-11T16:25:56.776890Z",
     "iopub.status.idle": "2023-12-11T16:25:56.782430Z",
     "shell.execute_reply": "2023-12-11T16:25:56.781565Z"
    },
    "papermill": {
     "duration": 0.039741,
     "end_time": "2023-12-11T16:25:56.784515",
     "exception": false,
     "start_time": "2023-12-11T16:25:56.744774",
     "status": "completed"
    },
    "tags": []
   },
   "outputs": [
    {
     "name": "stdout",
     "output_type": "stream",
     "text": [
      "model has 66527628 params.\n"
     ]
    }
   ],
   "source": [
    "n_params = sum(param.numel() for param in model.parameters() if param.requires_grad)\n",
    "print(f'model has {n_params} params.')"
   ]
  },
  {
   "cell_type": "code",
   "execution_count": 20,
   "id": "752c37ea",
   "metadata": {
    "execution": {
     "iopub.execute_input": "2023-12-11T16:25:56.847976Z",
     "iopub.status.busy": "2023-12-11T16:25:56.847725Z",
     "iopub.status.idle": "2023-12-11T16:25:56.853663Z",
     "shell.execute_reply": "2023-12-11T16:25:56.852887Z"
    },
    "papermill": {
     "duration": 0.039738,
     "end_time": "2023-12-11T16:25:56.855562",
     "exception": false,
     "start_time": "2023-12-11T16:25:56.815824",
     "status": "completed"
    },
    "tags": []
   },
   "outputs": [],
   "source": [
    "optimizer_parameters = add_weight_decay(model, weight_decay=WD, skip_list=['bias'])\n",
    "optimizer = AdamW(optimizer_parameters, lr=LR, eps=1e-6, betas=(0.9, 0.999))"
   ]
  },
  {
   "cell_type": "code",
   "execution_count": 21,
   "id": "f2683ca5",
   "metadata": {
    "execution": {
     "iopub.execute_input": "2023-12-11T16:25:56.918759Z",
     "iopub.status.busy": "2023-12-11T16:25:56.918475Z",
     "iopub.status.idle": "2023-12-11T16:25:56.924941Z",
     "shell.execute_reply": "2023-12-11T16:25:56.924041Z"
    },
    "papermill": {
     "duration": 0.040182,
     "end_time": "2023-12-11T16:25:56.926995",
     "exception": false,
     "start_time": "2023-12-11T16:25:56.886813",
     "status": "completed"
    },
    "tags": []
   },
   "outputs": [
    {
     "name": "stdout",
     "output_type": "stream",
     "text": [
      "6250 625\n"
     ]
    }
   ],
   "source": [
    "steps = len(train_dl) * EPOCHS // GRAD_ACC\n",
    "warmup_steps = int(steps * WARMUP_PROP)\n",
    "\n",
    "print(steps, warmup_steps)\n",
    "\n",
    "scheduler = get_cosine_schedule_with_warmup(optimizer,\n",
    "                                            num_warmup_steps=warmup_steps,\n",
    "                                            num_training_steps=steps,\n",
    "                                            num_cycles=0.5)\n",
    "\n",
    "dt = time.time()\n",
    "\n",
    "model_path = OUTPUT_DIR\n",
    "\n",
    "os.makedirs(model_path, exist_ok=True)\n",
    "\n",
    "\n",
    "\n",
    "history = {\n",
    "    \"train_loss\": [],\n",
    "    \"valid_loss\": [],\n",
    "    \"lr\": [],\n",
    "}\n",
    "\n",
    "best_valid_loss = 1e5\n",
    "\n",
    "criterion = FocalLoss(alpha=1., gamma=2.)"
   ]
  },
  {
   "cell_type": "code",
   "execution_count": 22,
   "id": "e7a5dbf8",
   "metadata": {
    "execution": {
     "iopub.execute_input": "2023-12-11T16:25:56.989781Z",
     "iopub.status.busy": "2023-12-11T16:25:56.989504Z",
     "iopub.status.idle": "2023-12-11T16:25:56.997006Z",
     "shell.execute_reply": "2023-12-11T16:25:56.996194Z"
    },
    "papermill": {
     "duration": 0.040923,
     "end_time": "2023-12-11T16:25:56.998921",
     "exception": false,
     "start_time": "2023-12-11T16:25:56.957998",
     "status": "completed"
    },
    "tags": []
   },
   "outputs": [
    {
     "data": {
      "text/plain": [
       "DebertaV2Config {\n",
       "  \"_name_or_path\": \"microsoft/deberta-v3-small\",\n",
       "  \"attention_probs_dropout_prob\": 0.1,\n",
       "  \"hidden_act\": \"gelu\",\n",
       "  \"hidden_dropout_prob\": 0.1,\n",
       "  \"hidden_size\": 768,\n",
       "  \"initializer_range\": 0.02,\n",
       "  \"intermediate_size\": 3072,\n",
       "  \"layer_norm_eps\": 1e-07,\n",
       "  \"max_position_embeddings\": 512,\n",
       "  \"max_relative_positions\": -1,\n",
       "  \"model_type\": \"deberta-v2\",\n",
       "  \"norm_rel_ebd\": \"layer_norm\",\n",
       "  \"num_attention_heads\": 12,\n",
       "  \"num_hidden_layers\": 6,\n",
       "  \"pad_token_id\": 0,\n",
       "  \"pooler_dropout\": 0,\n",
       "  \"pooler_hidden_act\": \"gelu\",\n",
       "  \"pooler_hidden_size\": 768,\n",
       "  \"pos_att_type\": [\n",
       "    \"p2c\",\n",
       "    \"c2p\"\n",
       "  ],\n",
       "  \"position_biased_input\": false,\n",
       "  \"position_buckets\": 256,\n",
       "  \"relative_attention\": false,\n",
       "  \"share_att_key\": true,\n",
       "  \"transformers_version\": \"4.33.0\",\n",
       "  \"type_vocab_size\": 0,\n",
       "  \"vocab_size\": 128100\n",
       "}"
      ]
     },
     "execution_count": 22,
     "metadata": {},
     "output_type": "execute_result"
    }
   ],
   "source": [
    "model_name_sep = MODEL_NAME.split('/')[-1]\n",
    "torch.save(model.config, OUTPUT_DIR + f'/{model_name_sep}_config.pth')\n",
    "model.config"
   ]
  },
  {
   "cell_type": "code",
   "execution_count": 23,
   "id": "06776994",
   "metadata": {
    "execution": {
     "iopub.execute_input": "2023-12-11T16:25:57.062106Z",
     "iopub.status.busy": "2023-12-11T16:25:57.061447Z",
     "iopub.status.idle": "2023-12-11T16:25:57.065881Z",
     "shell.execute_reply": "2023-12-11T16:25:57.065001Z"
    },
    "papermill": {
     "duration": 0.037896,
     "end_time": "2023-12-11T16:25:57.067774",
     "exception": false,
     "start_time": "2023-12-11T16:25:57.029878",
     "status": "completed"
    },
    "tags": []
   },
   "outputs": [],
   "source": [
    "autocast = torch.cuda.amp.autocast(enabled=USE_AMP, dtype=torch.half) # if you are using newer GPU, recommended dtype=torch.bfloat16 than half\n",
    "scaler = torch.cuda.amp.GradScaler(enabled=USE_AMP, init_scale=4096)"
   ]
  },
  {
   "cell_type": "code",
   "execution_count": 24,
   "id": "56c8153d",
   "metadata": {
    "execution": {
     "iopub.execute_input": "2023-12-11T16:25:57.130550Z",
     "iopub.status.busy": "2023-12-11T16:25:57.130311Z",
     "iopub.status.idle": "2023-12-11T16:25:57.133806Z",
     "shell.execute_reply": "2023-12-11T16:25:57.132989Z"
    },
    "papermill": {
     "duration": 0.037239,
     "end_time": "2023-12-11T16:25:57.135789",
     "exception": false,
     "start_time": "2023-12-11T16:25:57.098550",
     "status": "completed"
    },
    "tags": []
   },
   "outputs": [],
   "source": [
    "es_step = 0"
   ]
  },
  {
   "cell_type": "code",
   "execution_count": 25,
   "id": "69e12f45",
   "metadata": {
    "execution": {
     "iopub.execute_input": "2023-12-11T16:25:57.200013Z",
     "iopub.status.busy": "2023-12-11T16:25:57.199767Z",
     "iopub.status.idle": "2023-12-11T23:24:11.365147Z",
     "shell.execute_reply": "2023-12-11T23:24:11.364125Z"
    },
    "papermill": {
     "duration": 25094.281189,
     "end_time": "2023-12-11T23:24:11.447961",
     "exception": false,
     "start_time": "2023-12-11T16:25:57.166772",
     "status": "completed"
    },
    "tags": []
   },
   "outputs": [
    {
     "name": "stderr",
     "output_type": "stream",
     "text": [
      "100%|██████████| 5000/5000 [57:52<00:00,  1.44it/s, loss=0.008081, lr=3.994e-04]\n",
      "100%|██████████| 56/56 [01:54<00:00,  2.04s/it]\n"
     ]
    },
    {
     "name": "stdout",
     "output_type": "stream",
     "text": [
      "1/10 --  train_loss = 0.013141 --  valid_loss = 0.007543 --  time = 3587.805658s\n"
     ]
    },
    {
     "name": "stderr",
     "output_type": "stream",
     "text": [
      "100%|██████████| 5000/5000 [57:48<00:00,  1.44it/s, loss=0.007055, lr=3.880e-04]\n",
      "100%|██████████| 56/56 [01:54<00:00,  2.04s/it]\n"
     ]
    },
    {
     "name": "stdout",
     "output_type": "stream",
     "text": [
      "2/10 --  train_loss = 0.006897 --  valid_loss = 0.006220 --  time = 3583.482887s\n"
     ]
    },
    {
     "name": "stderr",
     "output_type": "stream",
     "text": [
      "100%|██████████| 5000/5000 [57:49<00:00,  1.44it/s, loss=0.003959, lr=3.533e-04]\n",
      "100%|██████████| 56/56 [01:54<00:00,  2.04s/it]\n"
     ]
    },
    {
     "name": "stdout",
     "output_type": "stream",
     "text": [
      "3/10 --  train_loss = 0.005999 --  valid_loss = 0.005702 --  time = 3584.182066s\n"
     ]
    },
    {
     "name": "stderr",
     "output_type": "stream",
     "text": [
      "100%|██████████| 5000/5000 [57:49<00:00,  1.44it/s, loss=0.008401, lr=3.001e-04]\n",
      "100%|██████████| 56/56 [01:54<00:00,  2.04s/it]\n"
     ]
    },
    {
     "name": "stdout",
     "output_type": "stream",
     "text": [
      "4/10 --  train_loss = 0.005525 --  valid_loss = 0.005348 --  time = 3584.359275s\n"
     ]
    },
    {
     "name": "stderr",
     "output_type": "stream",
     "text": [
      "100%|██████████| 5000/5000 [57:49<00:00,  1.44it/s, loss=0.004748, lr=2.348e-04]\n",
      "100%|██████████| 56/56 [01:54<00:00,  2.04s/it]\n"
     ]
    },
    {
     "name": "stdout",
     "output_type": "stream",
     "text": [
      "5/10 --  train_loss = 0.005178 --  valid_loss = 0.005374 --  time = 3583.917159s\n"
     ]
    },
    {
     "name": "stderr",
     "output_type": "stream",
     "text": [
      "100%|██████████| 5000/5000 [57:50<00:00,  1.44it/s, loss=0.001127, lr=1.654e-04]\n",
      "100%|██████████| 56/56 [01:54<00:00,  2.04s/it]\n"
     ]
    },
    {
     "name": "stdout",
     "output_type": "stream",
     "text": [
      "6/10 --  train_loss = 0.004998 --  valid_loss = 0.005211 --  time = 3585.137158s\n"
     ]
    },
    {
     "name": "stderr",
     "output_type": "stream",
     "text": [
      "100%|██████████| 5000/5000 [57:49<00:00,  1.44it/s, loss=0.003932, lr=1.001e-04]\n",
      "100%|██████████| 56/56 [01:54<00:00,  2.04s/it]\n"
     ]
    },
    {
     "name": "stdout",
     "output_type": "stream",
     "text": [
      "7/10 --  train_loss = 0.004659 --  valid_loss = 0.005185 --  time = 3584.465085s\n"
     ]
    },
    {
     "data": {
      "image/png": "[encoded data removed]",
      "text/plain": [
       "<Figure size 640x480 with 1 Axes>"
      ]
     },
     "metadata": {},
     "output_type": "display_data"
    },
    {
     "data": {
      "image/png": "[encoded data removed]",
      "text/plain": [
       "<Figure size 640x480 with 1 Axes>"
      ]
     },
     "metadata": {},
     "output_type": "display_data"
    }
   ],
   "source": [
    "for epoch in range(EPOCHS):\n",
    "    if epoch>=7: break\n",
    "    total_loss = 0.0\n",
    "    model.train()\n",
    "    optimizer.zero_grad()\n",
    "    with tqdm(train_dl, leave=True) as pbar:\n",
    "        for step, (X_batch, hr_batch, y_batch) in enumerate(pbar):\n",
    "            X_batch = X_batch.to(device)\n",
    "            hr_batch = hr_batch.to(device)\n",
    "            y_batch = y_batch.to(device)           \n",
    "\n",
    "            with autocast:\n",
    "                pred = model(X_batch, hr_batch)\n",
    "                loss = criterion(pred, y_batch)\n",
    "                \n",
    "                if torch.isnan(loss).any():\n",
    "                    raise RuntimeError('Detected NaN.')\n",
    "    \n",
    "                total_loss += loss.item()\n",
    "                if GRAD_ACC > 1:\n",
    "                    loss = loss / GRAD_ACC\n",
    "                        \n",
    "                pbar.set_postfix(\n",
    "                        OrderedDict(\n",
    "                            loss=f'{loss.item()*GRAD_ACC:.6f}',\n",
    "                            lr=f'{optimizer.param_groups[0][\"lr\"]:.3e}'\n",
    "                        )\n",
    "                    )\n",
    "        \n",
    "                scaler.scale(loss).backward()\n",
    "\n",
    "                torch.nn.utils.clip_grad_norm_(model.parameters(), MAX_GRAD_NORM or 1e9)\n",
    "    \n",
    "            if (step + 1) % GRAD_ACC == 0:\n",
    "                scaler.step(optimizer)\n",
    "                scaler.update()\n",
    "                optimizer.zero_grad()\n",
    "                if scheduler is not None:\n",
    "                    scheduler.step()\n",
    "\n",
    "        train_loss = total_loss/len(train_dl)\n",
    "    \n",
    "\n",
    "    total_loss = 0.0\n",
    "    model.eval()\n",
    "    with torch.no_grad():\n",
    "        with tqdm(val_dl, leave=True) as pbar:\n",
    "            for step, (X_batch, hr_batch, y_batch) in enumerate(pbar):\n",
    "                X_batch = X_batch.to(device)\n",
    "                hr_batch = hr_batch.to(device)\n",
    "                y_batch = y_batch.to(device)\n",
    "                pred = torch.zeros_like(y_batch)\n",
    "                x_seq_len = X_batch.shape[1]\n",
    "                y_seq_len = y_batch.shape[1]\n",
    "\n",
    "                if x_seq_len%MAX_CHUNK_LEN != 0:\n",
    "                    X_batch = padding_(X_batch,MAX_CHUNK_LEN)\n",
    "                    hr_batch = padding_(hr_batch,MAX_CHUNK_LEN)\n",
    "\n",
    "                if y_seq_len%(MAX_CHUNK_LEN*SAMPLE_FREQ) != 0:\n",
    "                    pred = padding_(pred,MAX_CHUNK_LEN*SAMPLE_FREQ)\n",
    "\n",
    "                j = 0\n",
    "                for i in range(0, x_seq_len, MAX_CHUNK_LEN):\n",
    "                    X_chunk = X_batch[:, i : i + MAX_CHUNK_LEN]\n",
    "                    hr_chunk = hr_batch[:, i : i + MAX_CHUNK_LEN]\n",
    "                    with autocast:\n",
    "                        p = model(X_chunk, hr_chunk)\n",
    "                        pred[:, j : j + MAX_CHUNK_LEN*SAMPLE_FREQ] = p\n",
    "\n",
    "                    j += MAX_CHUNK_LEN*SAMPLE_FREQ\n",
    "\n",
    "                pred = pred[:, :y_seq_len]\n",
    "                loss = criterion(pred, y_batch)\n",
    "                \n",
    "                total_loss += loss.item()\n",
    "            \n",
    "    valid_loss = total_loss/len(val_dl)\n",
    "    \n",
    "    history[\"train_loss\"].append(train_loss)\n",
    "    history[\"valid_loss\"].append(valid_loss)\n",
    "    history[\"lr\"].append(optimizer.param_groups[0][\"lr\"])\n",
    "\n",
    "    if valid_loss < best_valid_loss:\n",
    "        best_valid_loss = valid_loss\n",
    "        torch.save(\n",
    "            model.state_dict(),\n",
    "            os.path.join(model_path, f\"model_best_fold-{TRAIN_FOLD}.pth\"),\n",
    "        )\n",
    "        es_step = 0\n",
    "        \n",
    "    else:\n",
    "        es_step += 1\n",
    "        if es_step >= 2:\n",
    "            break\n",
    "\n",
    "    dt = time.time() - dt\n",
    "    print(\n",
    "        f\"{epoch+1}/{EPOCHS} -- \",\n",
    "        f\"train_loss = {train_loss:.6f} -- \",\n",
    "        f\"valid_loss = {valid_loss:.6f} -- \",\n",
    "        f\"time = {dt:.6f}s\",\n",
    "    )\n",
    "    dt = time.time()\n",
    "\n",
    "plot_history(history, model_path=model_path)\n",
    "history_path = os.path.join(model_path, \"history.json\")\n",
    "with open(history_path, \"w\", encoding=\"utf-8\") as f:\n",
    "    json.dump(history, f, ensure_ascii=False, indent=4)"
   ]
  },
  {
   "cell_type": "markdown",
   "id": "d635196c",
   "metadata": {
    "papermill": {
     "duration": 5.578242,
     "end_time": "2023-12-11T23:24:22.674425",
     "exception": false,
     "start_time": "2023-12-11T23:24:17.096183",
     "status": "completed"
    },
    "tags": []
   },
   "source": [
    "# Verification"
   ]
  },
  {
   "cell_type": "code",
   "execution_count": 26,
   "id": "ccf84de2",
   "metadata": {
    "execution": {
     "iopub.execute_input": "2023-12-11T23:24:33.767472Z",
     "iopub.status.busy": "2023-12-11T23:24:33.767098Z",
     "iopub.status.idle": "2023-12-11T23:24:33.776438Z",
     "shell.execute_reply": "2023-12-11T23:24:33.775547Z"
    },
    "papermill": {
     "duration": 5.579106,
     "end_time": "2023-12-11T23:24:33.778355",
     "exception": false,
     "start_time": "2023-12-11T23:24:28.199249",
     "status": "completed"
    },
    "tags": []
   },
   "outputs": [
    {
     "data": {
      "text/plain": [
       "BertEncoder(\n",
       "  (bert): DebertaV2Encoder(\n",
       "    (layer): ModuleList(\n",
       "      (0-5): 6 x DebertaV2Layer(\n",
       "        (attention): DebertaV2Attention(\n",
       "          (self): DisentangledSelfAttention(\n",
       "            (query_proj): Linear(in_features=768, out_features=768, bias=True)\n",
       "            (key_proj): Linear(in_features=768, out_features=768, bias=True)\n",
       "            (value_proj): Linear(in_features=768, out_features=768, bias=True)\n",
       "            (dropout): StableDropout()\n",
       "          )\n",
       "          (output): DebertaV2SelfOutput(\n",
       "            (dense): Linear(in_features=768, out_features=768, bias=True)\n",
       "            (LayerNorm): LayerNorm((768,), eps=1e-07, elementwise_affine=True)\n",
       "            (dropout): StableDropout()\n",
       "          )\n",
       "        )\n",
       "        (intermediate): DebertaV2Intermediate(\n",
       "          (dense): Linear(in_features=768, out_features=3072, bias=True)\n",
       "          (intermediate_act_fn): GELUActivation()\n",
       "        )\n",
       "        (output): DebertaV2Output(\n",
       "          (dense): Linear(in_features=3072, out_features=768, bias=True)\n",
       "          (LayerNorm): LayerNorm((768,), eps=1e-07, elementwise_affine=True)\n",
       "          (dropout): StableDropout()\n",
       "        )\n",
       "      )\n",
       "    )\n",
       "    (LayerNorm): LayerNorm((768,), eps=1e-07, elementwise_affine=True)\n",
       "  )\n",
       "  (fc_in): Linear(in_features=34, out_features=734, bias=True)\n",
       "  (hr_emb): Embedding(24, 34)\n",
       "  (upsample_blocks): ModuleList(\n",
       "    (0): US_BLK(\n",
       "      (us): Upsample(scale_factor=3.0, mode='linear')\n",
       "      (conv1): Conv1d(768, 384, kernel_size=(7,), stride=(1,), padding=(3,))\n",
       "      (ln1): LayerNorm((384, 4320), eps=1e-05, elementwise_affine=True)\n",
       "      (act1): LeakyReLU(negative_slope=0.2)\n",
       "      (conv2): Conv1d(384, 384, kernel_size=(7,), stride=(1,), padding=(3,))\n",
       "      (ln2): LayerNorm((384, 4320), eps=1e-05, elementwise_affine=True)\n",
       "      (act2): LeakyReLU(negative_slope=0.2)\n",
       "    )\n",
       "    (1): US_BLK(\n",
       "      (us): Upsample(scale_factor=2.0, mode='linear')\n",
       "      (conv1): Conv1d(384, 192, kernel_size=(7,), stride=(1,), padding=(3,))\n",
       "      (ln1): LayerNorm((192, 8640), eps=1e-05, elementwise_affine=True)\n",
       "      (act1): LeakyReLU(negative_slope=0.2)\n",
       "      (conv2): Conv1d(192, 192, kernel_size=(7,), stride=(1,), padding=(3,))\n",
       "      (ln2): LayerNorm((192, 8640), eps=1e-05, elementwise_affine=True)\n",
       "      (act2): LeakyReLU(negative_slope=0.2)\n",
       "    )\n",
       "    (2): US_BLK(\n",
       "      (us): Upsample(scale_factor=2.0, mode='linear')\n",
       "      (conv1): Conv1d(192, 96, kernel_size=(7,), stride=(1,), padding=(3,))\n",
       "      (ln1): LayerNorm((96, 17280), eps=1e-05, elementwise_affine=True)\n",
       "      (act1): LeakyReLU(negative_slope=0.2)\n",
       "      (conv2): Conv1d(96, 96, kernel_size=(7,), stride=(1,), padding=(3,))\n",
       "      (ln2): LayerNorm((96, 17280), eps=1e-05, elementwise_affine=True)\n",
       "      (act2): LeakyReLU(negative_slope=0.2)\n",
       "    )\n",
       "  )\n",
       "  (fc_out): Linear(in_features=96, out_features=2, bias=True)\n",
       ")"
      ]
     },
     "execution_count": 26,
     "metadata": {},
     "output_type": "execute_result"
    }
   ],
   "source": [
    "model.eval()"
   ]
  },
  {
   "cell_type": "code",
   "execution_count": 27,
   "id": "a93735d6",
   "metadata": {
    "execution": {
     "iopub.execute_input": "2023-12-11T23:24:45.096477Z",
     "iopub.status.busy": "2023-12-11T23:24:45.096095Z",
     "iopub.status.idle": "2023-12-11T23:24:45.101834Z",
     "shell.execute_reply": "2023-12-11T23:24:45.100969Z"
    },
    "papermill": {
     "duration": 5.74075,
     "end_time": "2023-12-11T23:24:45.103738",
     "exception": false,
     "start_time": "2023-12-11T23:24:39.362988",
     "status": "completed"
    },
    "tags": []
   },
   "outputs": [],
   "source": [
    "def lpf(wave, fs=12*60*24, fe=30, n=3):\n",
    "    nyq = fs / 2.0\n",
    "    b, a = signal.butter(1, fe/nyq, btype='low')\n",
    "    for i in range(0, n):\n",
    "        wave = signal.filtfilt(b, a, wave)\n",
    "    return wave"
   ]
  },
  {
   "cell_type": "code",
   "execution_count": 28,
   "id": "cabbc68b",
   "metadata": {
    "execution": {
     "iopub.execute_input": "2023-12-11T23:24:56.227248Z",
     "iopub.status.busy": "2023-12-11T23:24:56.226880Z",
     "iopub.status.idle": "2023-12-11T23:27:23.715601Z",
     "shell.execute_reply": "2023-12-11T23:27:23.714166Z"
    },
    "papermill": {
     "duration": 158.498032,
     "end_time": "2023-12-11T23:27:29.188038",
     "exception": false,
     "start_time": "2023-12-11T23:24:50.690006",
     "status": "completed"
    },
    "tags": []
   },
   "outputs": [
    {
     "data": {
      "image/png": "[encoded data removed]",
      "text/plain": [
       "<Figure size 640x480 with 1 Axes>"
      ]
     },
     "metadata": {},
     "output_type": "display_data"
    },
    {
     "data": {
      "image/png": "[encoded data removed]",
      "text/plain": [
       "<Figure size 640x480 with 1 Axes>"
      ]
     },
     "metadata": {},
     "output_type": "display_data"
    },
    {
     "data": {
      "image/png": "[encoded data removed]",
      "text/plain": [
       "<Figure size 640x480 with 1 Axes>"
      ]
     },
     "metadata": {},
     "output_type": "display_data"
    },
    {
     "data": {
      "image/png": "[encoded data removed]",
      "text/plain": [
       "<Figure size 640x480 with 1 Axes>"
      ]
     },
     "metadata": {},
     "output_type": "display_data"
    },
    {
     "data": {
      "image/png": "[encoded data removed]",
      "text/plain": [
       "<Figure size 640x480 with 1 Axes>"
      ]
     },
     "metadata": {},
     "output_type": "display_data"
    }
   ],
   "source": [
    "with torch.no_grad():\n",
    "    for k, (x, h, y) in enumerate(val_dl):\n",
    "        x = x.to(device)\n",
    "        h = h.to(device)\n",
    "        y = y.to(device)\n",
    "\n",
    "        pred = torch.zeros_like(y)\n",
    "        x_seq_len = x.shape[1]\n",
    "        y_seq_len = y.shape[1]\n",
    "\n",
    "        if x_seq_len%MAX_CHUNK_LEN != 0:\n",
    "            x = padding_(x,MAX_CHUNK_LEN)\n",
    "            h = padding_(h,MAX_CHUNK_LEN)\n",
    "            pred = padding_(pred,MAX_CHUNK_LEN)\n",
    "\n",
    "        if y_seq_len%(MAX_CHUNK_LEN*SAMPLE_FREQ) != 0:\n",
    "            pred = padding_(pred,MAX_CHUNK_LEN*SAMPLE_FREQ)\n",
    "\n",
    "        #print(x.shape,h.shape,y.shape,pred.shape)\n",
    "        j = 0\n",
    "        for i in range(0, x_seq_len, MAX_CHUNK_LEN):\n",
    "            X_chunk = x[:, i : i + MAX_CHUNK_LEN]\n",
    "            hr_chunk = h[:, i : i + MAX_CHUNK_LEN]\n",
    "            with autocast:\n",
    "                pred[:, j : j + MAX_CHUNK_LEN*SAMPLE_FREQ] = model(X_chunk, hr_chunk)\n",
    "            j += MAX_CHUNK_LEN*SAMPLE_FREQ\n",
    "\n",
    "        pred = pred[:, :y_seq_len]\n",
    "\n",
    "        y_pred = pred[0].sigmoid().cpu().numpy()\n",
    "        y = y[0].cpu().numpy()\n",
    "        \n",
    "        y_pred[:,0] = lpf(y_pred[:,0])\n",
    "        y_pred[:,1] = lpf(y_pred[:,1])\n",
    "        \n",
    "        candi = argrelmax(y_pred[:, 0], order=12*60*6) # 12*60*6 = 6hours\n",
    "        gt0 = argrelmax(y[:,0], order=12*30)\n",
    "\n",
    "        plt.plot(gt0, y[gt0, 0], marker='o', markersize=5, c=\"black\")\n",
    "        plt.plot(candi, y_pred[candi, 0], marker='o', markersize=5, c=\"red\")    \n",
    "        plt.plot(y[:, 0], lw=0.25, label=\"GT\", linestyle=\"dashed\")\n",
    "        plt.plot(y_pred[:, 0], lw=0.25, label=\"pred\", linestyle=\"dotted\")\n",
    "        plt.show()\n",
    "        plt.close()\n",
    "\n",
    "        if k==4: break"
   ]
  }
 ],
 "metadata": {
  "kaggle": {
   "accelerator": "gpu",
   "dataSources": [
    {
     "databundleVersionId": 6589269,
     "sourceId": 53666,
     "sourceType": "competition"
    },
    {
     "sourceId": 147531007,
     "sourceType": "kernelVersion"
    }
   ],
   "dockerImageVersionId": 30559,
   "isGpuEnabled": true,
   "isInternetEnabled": true,
   "language": "python",
   "sourceType": "notebook"
  },
  "kernelspec": {
   "display_name": "Python 3",
   "language": "python",
   "name": "python3"
  },
  "language_info": {
   "codemirror_mode": {
    "name": "ipython",
    "version": 3
   },
   "file_extension": ".py",
   "mimetype": "text/x-python",
   "name": "python",
   "nbconvert_exporter": "python",
   "pygments_lexer": "ipython3",
   "version": "3.10.12"
  },
  "papermill": {
   "default_parameters": {},
   "duration": 25521.580948,
   "end_time": "2023-12-11T23:27:38.402181",
   "environment_variables": {},
   "exception": null,
   "input_path": "__notebook__.ipynb",
   "output_path": "__notebook__.ipynb",
   "parameters": {},
   "start_time": "2023-12-11T16:22:16.821233",
   "version": "2.4.0"
  },
  "widgets": {
   "application/vnd.jupyter.widget-state+json": {
    "state": {
     "049b029dcc504c20ae49169f8fa8f999": {
      "model_module": "@jupyter-widgets/base",
      "model_module_version": "1.2.0",
      "model_name": "LayoutModel",
      "state": {
       "_model_module": "@jupyter-widgets/base",
       "_model_module_version": "1.2.0",
       "_model_name": "LayoutModel",
       "_view_count": null,
       "_view_module": "@jupyter-widgets/base",
       "_view_module_version": "1.2.0",
       "_view_name": "LayoutView",
       "align_content": null,
       "align_items": null,
       "align_self": null,
       "border": null,
       "bottom": null,
       "display": null,
       "flex": null,
       "flex_flow": null,
       "grid_area": null,
       "grid_auto_columns": null,
       "grid_auto_flow": null,
       "grid_auto_rows": null,
       "grid_column": null,
       "grid_gap": null,
       "grid_row": null,
       "grid_template_areas": null,
       "grid_template_columns": null,
       "grid_template_rows": null,
       "height": null,
       "justify_content": null,
       "justify_items": null,
       "left": null,
       "margin": null,
       "max_height": null,
       "max_width": null,
       "min_height": null,
       "min_width": null,
       "object_fit": null,
       "object_position": null,
       "order": null,
       "overflow": null,
       "overflow_x": null,
       "overflow_y": null,
       "padding": null,
       "right": null,
       "top": null,
       "visibility": null,
       "width": null
      }
     },
     "05e68668da5d43b3a13c66bbd5404880": {
      "model_module": "@jupyter-widgets/controls",
      "model_module_version": "1.5.0",
      "model_name": "DescriptionStyleModel",
      "state": {
       "_model_module": "@jupyter-widgets/controls",
       "_model_module_version": "1.5.0",
       "_model_name": "DescriptionStyleModel",
       "_view_count": null,
       "_view_module": "@jupyter-widgets/base",
       "_view_module_version": "1.2.0",
       "_view_name": "StyleView",
       "description_width": ""
      }
     },
     "098c5d51d4424be9a92e895108134a56": {
      "model_module": "@jupyter-widgets/controls",
      "model_module_version": "1.5.0",
      "model_name": "DescriptionStyleModel",
      "state": {
       "_model_module": "@jupyter-widgets/controls",
       "_model_module_version": "1.5.0",
       "_model_name": "DescriptionStyleModel",
       "_view_count": null,
       "_view_module": "@jupyter-widgets/base",
       "_view_module_version": "1.2.0",
       "_view_name": "StyleView",
       "description_width": ""
      }
     },
     "09cffba971974a53bdc7f1296b67dd1f": {
      "model_module": "@jupyter-widgets/base",
      "model_module_version": "1.2.0",
      "model_name": "LayoutModel",
      "state": {
       "_model_module": "@jupyter-widgets/base",
       "_model_module_version": "1.2.0",
       "_model_name": "LayoutModel",
       "_view_count": null,
       "_view_module": "@jupyter-widgets/base",
       "_view_module_version": "1.2.0",
       "_view_name": "LayoutView",
       "align_content": null,
       "align_items": null,
       "align_self": null,
       "border": null,
       "bottom": null,
       "display": null,
       "flex": null,
       "flex_flow": null,
       "grid_area": null,
       "grid_auto_columns": null,
       "grid_auto_flow": null,
       "grid_auto_rows": null,
       "grid_column": null,
       "grid_gap": null,
       "grid_row": null,
       "grid_template_areas": null,
       "grid_template_columns": null,
       "grid_template_rows": null,
       "height": null,
       "justify_content": null,
       "justify_items": null,
       "left": null,
       "margin": null,
       "max_height": null,
       "max_width": null,
       "min_height": null,
       "min_width": null,
       "object_fit": null,
       "object_position": null,
       "order": null,
       "overflow": null,
       "overflow_x": null,
       "overflow_y": null,
       "padding": null,
       "right": null,
       "top": null,
       "visibility": null,
       "width": null
      }
     },
     "23b3ef6237854e44a08b5dc09491c5ff": {
      "model_module": "@jupyter-widgets/controls",
      "model_module_version": "1.5.0",
      "model_name": "DescriptionStyleModel",
      "state": {
       "_model_module": "@jupyter-widgets/controls",
       "_model_module_version": "1.5.0",
       "_model_name": "DescriptionStyleModel",
       "_view_count": null,
       "_view_module": "@jupyter-widgets/base",
       "_view_module_version": "1.2.0",
       "_view_name": "StyleView",
       "description_width": ""
      }
     },
     "2bc822eac5eb41b8a30ebc1247b0f689": {
      "model_module": "@jupyter-widgets/base",
      "model_module_version": "1.2.0",
      "model_name": "LayoutModel",
      "state": {
       "_model_module": "@jupyter-widgets/base",
       "_model_module_version": "1.2.0",
       "_model_name": "LayoutModel",
       "_view_count": null,
       "_view_module": "@jupyter-widgets/base",
       "_view_module_version": "1.2.0",
       "_view_name": "LayoutView",
       "align_content": null,
       "align_items": null,
       "align_self": null,
       "border": null,
       "bottom": null,
       "display": null,
       "flex": null,
       "flex_flow": null,
       "grid_area": null,
       "grid_auto_columns": null,
       "grid_auto_flow": null,
       "grid_auto_rows": null,
       "grid_column": null,
       "grid_gap": null,
       "grid_row": null,
       "grid_template_areas": null,
       "grid_template_columns": null,
       "grid_template_rows": null,
       "height": null,
       "justify_content": null,
       "justify_items": null,
       "left": null,
       "margin": null,
       "max_height": null,
       "max_width": null,
       "min_height": null,
       "min_width": null,
       "object_fit": null,
       "object_position": null,
       "order": null,
       "overflow": null,
       "overflow_x": null,
       "overflow_y": null,
       "padding": null,
       "right": null,
       "top": null,
       "visibility": null,
       "width": null
      }
     },
     "38d3bd21b9a94135b9cb7b505e8cdc63": {
      "model_module": "@jupyter-widgets/controls",
      "model_module_version": "1.5.0",
      "model_name": "HTMLModel",
      "state": {
       "_dom_classes": [],
       "_model_module": "@jupyter-widgets/controls",
       "_model_module_version": "1.5.0",
       "_model_name": "HTMLModel",
       "_view_count": null,
       "_view_module": "@jupyter-widgets/controls",
       "_view_module_version": "1.5.0",
       "_view_name": "HTMLView",
       "description": "",
       "description_tooltip": null,
       "layout": "IPY_MODEL_049b029dcc504c20ae49169f8fa8f999",
       "placeholder": "​",
       "style": "IPY_MODEL_23b3ef6237854e44a08b5dc09491c5ff",
       "value": "Downloading pytorch_model.bin: 100%"
      }
     },
     "473863e1c50f41a3be30a480267ea09a": {
      "model_module": "@jupyter-widgets/controls",
      "model_module_version": "1.5.0",
      "model_name": "HTMLModel",
      "state": {
       "_dom_classes": [],
       "_model_module": "@jupyter-widgets/controls",
       "_model_module_version": "1.5.0",
       "_model_name": "HTMLModel",
       "_view_count": null,
       "_view_module": "@jupyter-widgets/controls",
       "_view_module_version": "1.5.0",
       "_view_name": "HTMLView",
       "description": "",
       "description_tooltip": null,
       "layout": "IPY_MODEL_86c33b4aaa5f4cdca0bad8ce39b486b8",
       "placeholder": "​",
       "style": "IPY_MODEL_473984f8e35a4433b495ed0ad65e62ba",
       "value": "Downloading config.json: 100%"
      }
     },
     "473984f8e35a4433b495ed0ad65e62ba": {
      "model_module": "@jupyter-widgets/controls",
      "model_module_version": "1.5.0",
      "model_name": "DescriptionStyleModel",
      "state": {
       "_model_module": "@jupyter-widgets/controls",
       "_model_module_version": "1.5.0",
       "_model_name": "DescriptionStyleModel",
       "_view_count": null,
       "_view_module": "@jupyter-widgets/base",
       "_view_module_version": "1.2.0",
       "_view_name": "StyleView",
       "description_width": ""
      }
     },
     "610c8407684d4f8e89382027da59a793": {
      "model_module": "@jupyter-widgets/base",
      "model_module_version": "1.2.0",
      "model_name": "LayoutModel",
      "state": {
       "_model_module": "@jupyter-widgets/base",
       "_model_module_version": "1.2.0",
       "_model_name": "LayoutModel",
       "_view_count": null,
       "_view_module": "@jupyter-widgets/base",
       "_view_module_version": "1.2.0",
       "_view_name": "LayoutView",
       "align_content": null,
       "align_items": null,
       "align_self": null,
       "border": null,
       "bottom": null,
       "display": null,
       "flex": null,
       "flex_flow": null,
       "grid_area": null,
       "grid_auto_columns": null,
       "grid_auto_flow": null,
       "grid_auto_rows": null,
       "grid_column": null,
       "grid_gap": null,
       "grid_row": null,
       "grid_template_areas": null,
       "grid_template_columns": null,
       "grid_template_rows": null,
       "height": null,
       "justify_content": null,
       "justify_items": null,
       "left": null,
       "margin": null,
       "max_height": null,
       "max_width": null,
       "min_height": null,
       "min_width": null,
       "object_fit": null,
       "object_position": null,
       "order": null,
       "overflow": null,
       "overflow_x": null,
       "overflow_y": null,
       "padding": null,
       "right": null,
       "top": null,
       "visibility": null,
       "width": null
      }
     },
     "6a1ab941f06c4797975c67cbd2342cab": {
      "model_module": "@jupyter-widgets/base",
      "model_module_version": "1.2.0",
      "model_name": "LayoutModel",
      "state": {
       "_model_module": "@jupyter-widgets/base",
       "_model_module_version": "1.2.0",
       "_model_name": "LayoutModel",
       "_view_count": null,
       "_view_module": "@jupyter-widgets/base",
       "_view_module_version": "1.2.0",
       "_view_name": "LayoutView",
       "align_content": null,
       "align_items": null,
       "align_self": null,
       "border": null,
       "bottom": null,
       "display": null,
       "flex": null,
       "flex_flow": null,
       "grid_area": null,
       "grid_auto_columns": null,
       "grid_auto_flow": null,
       "grid_auto_rows": null,
       "grid_column": null,
       "grid_gap": null,
       "grid_row": null,
       "grid_template_areas": null,
       "grid_template_columns": null,
       "grid_template_rows": null,
       "height": null,
       "justify_content": null,
       "justify_items": null,
       "left": null,
       "margin": null,
       "max_height": null,
       "max_width": null,
       "min_height": null,
       "min_width": null,
       "object_fit": null,
       "object_position": null,
       "order": null,
       "overflow": null,
       "overflow_x": null,
       "overflow_y": null,
       "padding": null,
       "right": null,
       "top": null,
       "visibility": null,
       "width": null
      }
     },
     "7fe4a26685b8420a88d47d33e6f57d87": {
      "model_module": "@jupyter-widgets/controls",
      "model_module_version": "1.5.0",
      "model_name": "HTMLModel",
      "state": {
       "_dom_classes": [],
       "_model_module": "@jupyter-widgets/controls",
       "_model_module_version": "1.5.0",
       "_model_name": "HTMLModel",
       "_view_count": null,
       "_view_module": "@jupyter-widgets/controls",
       "_view_module_version": "1.5.0",
       "_view_name": "HTMLView",
       "description": "",
       "description_tooltip": null,
       "layout": "IPY_MODEL_6a1ab941f06c4797975c67cbd2342cab",
       "placeholder": "​",
       "style": "IPY_MODEL_05e68668da5d43b3a13c66bbd5404880",
       "value": " 286M/286M [00:01&lt;00:00, 285MB/s]"
      }
     },
     "8494c352fde84a76978cc7275029417f": {
      "model_module": "@jupyter-widgets/controls",
      "model_module_version": "1.5.0",
      "model_name": "HTMLModel",
      "state": {
       "_dom_classes": [],
       "_model_module": "@jupyter-widgets/controls",
       "_model_module_version": "1.5.0",
       "_model_name": "HTMLModel",
       "_view_count": null,
       "_view_module": "@jupyter-widgets/controls",
       "_view_module_version": "1.5.0",
       "_view_name": "HTMLView",
       "description": "",
       "description_tooltip": null,
       "layout": "IPY_MODEL_09cffba971974a53bdc7f1296b67dd1f",
       "placeholder": "​",
       "style": "IPY_MODEL_098c5d51d4424be9a92e895108134a56",
       "value": " 578/578 [00:00&lt;00:00, 46.7kB/s]"
      }
     },
     "86c33b4aaa5f4cdca0bad8ce39b486b8": {
      "model_module": "@jupyter-widgets/base",
      "model_module_version": "1.2.0",
      "model_name": "LayoutModel",
      "state": {
       "_model_module": "@jupyter-widgets/base",
       "_model_module_version": "1.2.0",
       "_model_name": "LayoutModel",
       "_view_count": null,
       "_view_module": "@jupyter-widgets/base",
       "_view_module_version": "1.2.0",
       "_view_name": "LayoutView",
       "align_content": null,
       "align_items": null,
       "align_self": null,
       "border": null,
       "bottom": null,
       "display": null,
       "flex": null,
       "flex_flow": null,
       "grid_area": null,
       "grid_auto_columns": null,
       "grid_auto_flow": null,
       "grid_auto_rows": null,
       "grid_column": null,
       "grid_gap": null,
       "grid_row": null,
       "grid_template_areas": null,
       "grid_template_columns": null,
       "grid_template_rows": null,
       "height": null,
       "justify_content": null,
       "justify_items": null,
       "left": null,
       "margin": null,
       "max_height": null,
       "max_width": null,
       "min_height": null,
       "min_width": null,
       "object_fit": null,
       "object_position": null,
       "order": null,
       "overflow": null,
       "overflow_x": null,
       "overflow_y": null,
       "padding": null,
       "right": null,
       "top": null,
       "visibility": null,
       "width": null
      }
     },
     "87922fc4f31c4e09852648d0558f751d": {
      "model_module": "@jupyter-widgets/controls",
      "model_module_version": "1.5.0",
      "model_name": "FloatProgressModel",
      "state": {
       "_dom_classes": [],
       "_model_module": "@jupyter-widgets/controls",
       "_model_module_version": "1.5.0",
       "_model_name": "FloatProgressModel",
       "_view_count": null,
       "_view_module": "@jupyter-widgets/controls",
       "_view_module_version": "1.5.0",
       "_view_name": "ProgressView",
       "bar_style": "success",
       "description": "",
       "description_tooltip": null,
       "layout": "IPY_MODEL_fb13a3da8e8646ae9193a039c4ab8a8c",
       "max": 286059269,
       "min": 0,
       "orientation": "horizontal",
       "style": "IPY_MODEL_cd40388d5f054aa0b6f248b5b64a9378",
       "value": 286059269
      }
     },
     "8ba2918642744df2bc19db3b72452b77": {
      "model_module": "@jupyter-widgets/controls",
      "model_module_version": "1.5.0",
      "model_name": "HBoxModel",
      "state": {
       "_dom_classes": [],
       "_model_module": "@jupyter-widgets/controls",
       "_model_module_version": "1.5.0",
       "_model_name": "HBoxModel",
       "_view_count": null,
       "_view_module": "@jupyter-widgets/controls",
       "_view_module_version": "1.5.0",
       "_view_name": "HBoxView",
       "box_style": "",
       "children": [
        "IPY_MODEL_473863e1c50f41a3be30a480267ea09a",
        "IPY_MODEL_de9b478d66ab43908642fa3da422254c",
        "IPY_MODEL_8494c352fde84a76978cc7275029417f"
       ],
       "layout": "IPY_MODEL_af1cdf5e47df487a94139154bde13b9c"
      }
     },
     "ab16f1db1d8b4f12b8824c3384cbec05": {
      "model_module": "@jupyter-widgets/controls",
      "model_module_version": "1.5.0",
      "model_name": "HBoxModel",
      "state": {
       "_dom_classes": [],
       "_model_module": "@jupyter-widgets/controls",
       "_model_module_version": "1.5.0",
       "_model_name": "HBoxModel",
       "_view_count": null,
       "_view_module": "@jupyter-widgets/controls",
       "_view_module_version": "1.5.0",
       "_view_name": "HBoxView",
       "box_style": "",
       "children": [
        "IPY_MODEL_38d3bd21b9a94135b9cb7b505e8cdc63",
        "IPY_MODEL_87922fc4f31c4e09852648d0558f751d",
        "IPY_MODEL_7fe4a26685b8420a88d47d33e6f57d87"
       ],
       "layout": "IPY_MODEL_610c8407684d4f8e89382027da59a793"
      }
     },
     "af1cdf5e47df487a94139154bde13b9c": {
      "model_module": "@jupyter-widgets/base",
      "model_module_version": "1.2.0",
      "model_name": "LayoutModel",
      "state": {
       "_model_module": "@jupyter-widgets/base",
       "_model_module_version": "1.2.0",
       "_model_name": "LayoutModel",
       "_view_count": null,
       "_view_module": "@jupyter-widgets/base",
       "_view_module_version": "1.2.0",
       "_view_name": "LayoutView",
       "align_content": null,
       "align_items": null,
       "align_self": null,
       "border": null,
       "bottom": null,
       "display": null,
       "flex": null,
       "flex_flow": null,
       "grid_area": null,
       "grid_auto_columns": null,
       "grid_auto_flow": null,
       "grid_auto_rows": null,
       "grid_column": null,
       "grid_gap": null,
       "grid_row": null,
       "grid_template_areas": null,
       "grid_template_columns": null,
       "grid_template_rows": null,
       "height": null,
       "justify_content": null,
       "justify_items": null,
       "left": null,
       "margin": null,
       "max_height": null,
       "max_width": null,
       "min_height": null,
       "min_width": null,
       "object_fit": null,
       "object_position": null,
       "order": null,
       "overflow": null,
       "overflow_x": null,
       "overflow_y": null,
       "padding": null,
       "right": null,
       "top": null,
       "visibility": null,
       "width": null
      }
     },
     "cd40388d5f054aa0b6f248b5b64a9378": {
      "model_module": "@jupyter-widgets/controls",
      "model_module_version": "1.5.0",
      "model_name": "ProgressStyleModel",
      "state": {
       "_model_module": "@jupyter-widgets/controls",
       "_model_module_version": "1.5.0",
       "_model_name": "ProgressStyleModel",
       "_view_count": null,
       "_view_module": "@jupyter-widgets/base",
       "_view_module_version": "1.2.0",
       "_view_name": "StyleView",
       "bar_color": null,
       "description_width": ""
      }
     },
     "dc26a555a0564871918200c66908c96d": {
      "model_module": "@jupyter-widgets/controls",
      "model_module_version": "1.5.0",
      "model_name": "ProgressStyleModel",
      "state": {
       "_model_module": "@jupyter-widgets/controls",
       "_model_module_version": "1.5.0",
       "_model_name": "ProgressStyleModel",
       "_view_count": null,
       "_view_module": "@jupyter-widgets/base",
       "_view_module_version": "1.2.0",
       "_view_name": "StyleView",
       "bar_color": null,
       "description_width": ""
      }
     },
     "de9b478d66ab43908642fa3da422254c": {
      "model_module": "@jupyter-widgets/controls",
      "model_module_version": "1.5.0",
      "model_name": "FloatProgressModel",
      "state": {
       "_dom_classes": [],
       "_model_module": "@jupyter-widgets/controls",
       "_model_module_version": "1.5.0",
       "_model_name": "FloatProgressModel",
       "_view_count": null,
       "_view_module": "@jupyter-widgets/controls",
       "_view_module_version": "1.5.0",
       "_view_name": "ProgressView",
       "bar_style": "success",
       "description": "",
       "description_tooltip": null,
       "layout": "IPY_MODEL_2bc822eac5eb41b8a30ebc1247b0f689",
       "max": 578,
       "min": 0,
       "orientation": "horizontal",
       "style": "IPY_MODEL_dc26a555a0564871918200c66908c96d",
       "value": 578
      }
     },
     "fb13a3da8e8646ae9193a039c4ab8a8c": {
      "model_module": "@jupyter-widgets/base",
      "model_module_version": "1.2.0",
      "model_name": "LayoutModel",
      "state": {
       "_model_module": "@jupyter-widgets/base",
       "_model_module_version": "1.2.0",
       "_model_name": "LayoutModel",
       "_view_count": null,
       "_view_module": "@jupyter-widgets/base",
       "_view_module_version": "1.2.0",
       "_view_name": "LayoutView",
       "align_content": null,
       "align_items": null,
       "align_self": null,
       "border": null,
       "bottom": null,
       "display": null,
       "flex": null,
       "flex_flow": null,
       "grid_area": null,
       "grid_auto_columns": null,
       "grid_auto_flow": null,
       "grid_auto_rows": null,
       "grid_column": null,
       "grid_gap": null,
       "grid_row": null,
       "grid_template_areas": null,
       "grid_template_columns": null,
       "grid_template_rows": null,
       "height": null,
       "justify_content": null,
       "justify_items": null,
       "left": null,
       "margin": null,
       "max_height": null,
       "max_width": null,
       "min_height": null,
       "min_width": null,
       "object_fit": null,
       "object_position": null,
       "order": null,
       "overflow": null,
       "overflow_x": null,
       "overflow_y": null,
       "padding": null,
       "right": null,
       "top": null,
       "visibility": null,
       "width": null
      }
     }
    },
    "version_major": 2,
    "version_minor": 0
   }
  }
 },
 "nbformat": 4,
 "nbformat_minor": 5
}
