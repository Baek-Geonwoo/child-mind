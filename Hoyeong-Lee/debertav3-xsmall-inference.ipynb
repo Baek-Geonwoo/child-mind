{
 "cells": [
  {
   "cell_type": "code",
   "execution_count": 1,
   "id": "a5f25bee",
   "metadata": {
    "execution": {
     "iopub.execute_input": "2023-12-05T20:11:49.077835Z",
     "iopub.status.busy": "2023-12-05T20:11:49.077508Z",
     "iopub.status.idle": "2023-12-05T20:12:04.154254Z",
     "shell.execute_reply": "2023-12-05T20:12:04.153394Z"
    },
    "papermill": {
     "duration": 15.087762,
     "end_time": "2023-12-05T20:12:04.156588",
     "exception": false,
     "start_time": "2023-12-05T20:11:49.068826",
     "status": "completed"
    },
    "tags": []
   },
   "outputs": [
    {
     "name": "stderr",
     "output_type": "stream",
     "text": [
      "/opt/conda/lib/python3.10/site-packages/scipy/__init__.py:146: UserWarning: A NumPy version >=1.16.5 and <1.23.0 is required for this version of SciPy (detected version 1.23.5\n",
      "  warnings.warn(f\"A NumPy version >={np_minversion} and <{np_maxversion}\"\n"
     ]
    }
   ],
   "source": [
    "import pandas as pd\n",
    "import numpy as np\n",
    "import gc\n",
    "import time\n",
    "import json\n",
    "from datetime import datetime\n",
    "import matplotlib.pyplot as plt\n",
    "import os\n",
    "import joblib\n",
    "import random\n",
    "import math\n",
    "from tqdm import tqdm \n",
    "\n",
    "from scipy.interpolate import interp1d\n",
    "from scipy import signal\n",
    "from scipy.signal import argrelmax\n",
    "\n",
    "from math import pi, sqrt, exp\n",
    "import sklearn,sklearn.model_selection\n",
    "from sklearn.metrics import mean_squared_error\n",
    "import torch\n",
    "from torch import nn,Tensor\n",
    "import torch.nn.functional as F\n",
    "from torch.utils.data import DataLoader, Dataset, SubsetRandomSampler\n",
    "from sklearn.metrics import average_precision_score\n",
    "from timm.scheduler import CosineLRScheduler\n",
    "plt.style.use(\"ggplot\")\n",
    "\n",
    "from transformers import get_cosine_schedule_with_warmup\n",
    "from transformers import AutoTokenizer, AutoConfig\n",
    "from transformers import AutoModel\n",
    "\n",
    "from pyarrow.parquet import ParquetFile\n",
    "import pyarrow as pa \n",
    "import ctypes\n",
    "torch.set_num_interop_threads(4)\n",
    "torch.set_num_threads(4)\n",
    "\n",
    "device = 'cuda' if torch.cuda.is_available() else 'cpu'"
   ]
  },
  {
   "cell_type": "code",
   "execution_count": 2,
   "id": "1c75e692",
   "metadata": {
    "execution": {
     "iopub.execute_input": "2023-12-05T20:12:04.175049Z",
     "iopub.status.busy": "2023-12-05T20:12:04.174476Z",
     "iopub.status.idle": "2023-12-05T20:12:04.179752Z",
     "shell.execute_reply": "2023-12-05T20:12:04.178875Z"
    },
    "papermill": {
     "duration": 0.01642,
     "end_time": "2023-12-05T20:12:04.181680",
     "exception": false,
     "start_time": "2023-12-05T20:12:04.165260",
     "status": "completed"
    },
    "tags": []
   },
   "outputs": [],
   "source": [
    "# Fundamental config\n",
    "WORKERS = os.cpu_count()//2\n",
    "N_FOLDS = 5\n",
    "\n",
    "SIGMA = 720 #average length of day is 24*60*12 = 17280 for comparison\n",
    "SAMPLE_FREQ = 12 # 1 obs per minute\n",
    "MAX_LEN = (24*60*12) # 1day per chunk\n",
    "MAX_CHUNK_LEN = MAX_LEN // SAMPLE_FREQ # 1440pts = 1day"
   ]
  },
  {
   "cell_type": "code",
   "execution_count": 3,
   "id": "cba79b55",
   "metadata": {
    "execution": {
     "iopub.execute_input": "2023-12-05T20:12:04.198125Z",
     "iopub.status.busy": "2023-12-05T20:12:04.197846Z",
     "iopub.status.idle": "2023-12-05T20:12:04.220425Z",
     "shell.execute_reply": "2023-12-05T20:12:04.219528Z"
    },
    "papermill": {
     "duration": 0.032965,
     "end_time": "2023-12-05T20:12:04.222392",
     "exception": false,
     "start_time": "2023-12-05T20:12:04.189427",
     "status": "completed"
    },
    "tags": []
   },
   "outputs": [],
   "source": [
    "class PATHS:\n",
    "    MAIN_DIR = \"/kaggle/input/child-mind-institute-detect-sleep-states/\"\n",
    "    # CSV FILES : \n",
    "    SUBMISSION = MAIN_DIR + \"sample_submission.csv\"\n",
    "    TRAIN_EVENTS = MAIN_DIR + \"train_events.csv\"\n",
    "    # PARQUET FILES:\n",
    "    TRAIN_SERIES = MAIN_DIR + \"train_series.parquet\"\n",
    "    TEST_SERIES = MAIN_DIR + \"test_series.parquet\"\n",
    "class CFG:\n",
    "    DEMO_MODE = True\n",
    "class data_reader:\n",
    "    def __init__(self, demo_mode):\n",
    "        super().__init__()\n",
    "        # MAPPING FOR DATA LOADING :\n",
    "        self.names_mapping = {\n",
    "            \"submission\" : {\"path\" : PATHS.SUBMISSION, \"is_parquet\" : False, \"has_timestamp\" : False}, \n",
    "            \"train_events\" : {\"path\" : PATHS.TRAIN_EVENTS, \"is_parquet\" : False, \"has_timestamp\" : True},\n",
    "            \"train_series\" : {\"path\" : PATHS.TRAIN_SERIES, \"is_parquet\" : True, \"has_timestamp\" : True},\n",
    "            \"test_series\" : {\"path\" : PATHS.TEST_SERIES, \"is_parquet\" : True, \"has_timestamp\" : True}\n",
    "        }\n",
    "        self.valid_names = [\"submission\", \"train_events\", \"train_series\", \"test_series\"]\n",
    "        self.demo_mode = demo_mode\n",
    "    \n",
    "    def verify(self, data_name):\n",
    "        \"function for data name verification\"\n",
    "        if data_name not in self.valid_names:\n",
    "            print(\"PLEASE ENTER A VALID DATASET NAME, VALID NAMES ARE : \", valid_names)\n",
    "        return\n",
    "    \n",
    "    def cleaning(self, data):\n",
    "        \"cleaning function : drop na values\"\n",
    "        before_cleaning = len(data)\n",
    "        print(\"Number of missing timestamps : \", len(data[data[\"timestamp\"].isna()]))\n",
    "        data = data.dropna(subset=[\"timestamp\"])\n",
    "        after_cleaning = len(data)\n",
    "        print(\"Percentage of removed rows : {:.1f}%\".format(100 * (before_cleaning - after_cleaning) / before_cleaning) )\n",
    "#         print(data.isna().any())\n",
    "#         data = data.bfill()\n",
    "        return data\n",
    "    \n",
    "    @staticmethod\n",
    "    def reduce_memory_usage(data):\n",
    "        \"iterate through all the columns of a dataframe and modify the data type to reduce memory usage.\"\n",
    "        start_mem = data.memory_usage().sum() / 1024**2\n",
    "        print('Memory usage of dataframe is {:.2f} MB'.format(start_mem))\n",
    "        for col in data.columns:\n",
    "            col_type = data[col].dtype    \n",
    "            if col_type != object:\n",
    "                c_min = data[col].min()\n",
    "                c_max = data[col].max()\n",
    "                if str(col_type)[:3] == 'int':\n",
    "                    if c_min > np.iinfo(np.int8).min and c_max < np.iinfo(np.int8).max:\n",
    "                        data[col] = data[col].astype(np.int8)\n",
    "                    elif c_min > np.iinfo(np.int16).min and c_max < np.iinfo(np.int16).max:\n",
    "                        data[col] = data[col].astype(np.int16)\n",
    "                    elif c_min > np.iinfo(np.int32).min and c_max < np.iinfo(np.int32).max:\n",
    "                        data[col] = data[col].astype(np.int32)\n",
    "                    elif c_min > np.iinfo(np.int64).min and c_max < np.iinfo(np.int64).max:\n",
    "                        data[col] = data[col].astype(np.int64)  \n",
    "                else:\n",
    "                    if c_min > np.finfo(np.float16).min and c_max < np.finfo(np.float16).max:\n",
    "                        data[col] = data[col].astype(np.float16)\n",
    "                    elif c_min > np.finfo(np.float32).min and c_max < np.finfo(np.float32).max:\n",
    "                        data[col] = data[col].astype(np.float32)\n",
    "                    else:\n",
    "                        data[col] = data[col].astype(np.float64)\n",
    "            else:\n",
    "                data[col] = data[col].astype('category')\n",
    "\n",
    "        end_mem = data.memory_usage().sum() / 1024**2\n",
    "        print('Memory usage after optimization is: {:.2f} MB'.format(end_mem))\n",
    "        print('Decreased by {:.1f}%'.format(100 * (start_mem - end_mem) / start_mem))\n",
    "        return data\n",
    "    \n",
    "    def load_data(self, data_name):\n",
    "        \"function for data loading\"\n",
    "        self.verify(data_name)\n",
    "        data_props = self.names_mapping[data_name]\n",
    "        if data_props[\"is_parquet\"]:\n",
    "            if self.demo_mode:\n",
    "                pf = ParquetFile(data_props[\"path\"]) \n",
    "                demo_rows = next(pf.iter_batches(batch_size=20_000)) \n",
    "                data = pa.Table.from_batches([demo_rows]).to_pandas()\n",
    "            else:\n",
    "                data = pd.read_parquet(data_props[\"path\"])\n",
    "        else:\n",
    "            if self.demo_mode:\n",
    "                data = pd.read_csv(data_props[\"path\"], nrows=20_000)\n",
    "            else:\n",
    "                data = pd.read_csv(data_props[\"path\"])\n",
    "                \n",
    "        gc.collect()\n",
    "        if data_props[\"has_timestamp\"]:\n",
    "            print('cleaning')\n",
    "            data = self.cleaning(data)\n",
    "            gc.collect()\n",
    "        #data = self.reduce_memory_usage(data)\n",
    "        return data"
   ]
  },
  {
   "cell_type": "code",
   "execution_count": 4,
   "id": "971d83c3",
   "metadata": {
    "execution": {
     "iopub.execute_input": "2023-12-05T20:12:04.238896Z",
     "iopub.status.busy": "2023-12-05T20:12:04.238622Z",
     "iopub.status.idle": "2023-12-05T20:12:05.078947Z",
     "shell.execute_reply": "2023-12-05T20:12:05.077928Z"
    },
    "papermill": {
     "duration": 0.850806,
     "end_time": "2023-12-05T20:12:05.080966",
     "exception": false,
     "start_time": "2023-12-05T20:12:04.230160",
     "status": "completed"
    },
    "tags": []
   },
   "outputs": [
    {
     "name": "stdout",
     "output_type": "stream",
     "text": [
      "cleaning\n",
      "Number of missing timestamps :  0\n",
      "Percentage of removed rows : 0.0%\n"
     ]
    },
    {
     "data": {
      "text/plain": [
       "0"
      ]
     },
     "execution_count": 4,
     "metadata": {},
     "output_type": "execute_result"
    }
   ],
   "source": [
    "reader = data_reader(demo_mode=False)\n",
    "test_series = reader.load_data(data_name=\"test_series\")\n",
    "ids = test_series.series_id.unique()\n",
    "gc.collect()"
   ]
  },
  {
   "cell_type": "code",
   "execution_count": 5,
   "id": "f35e9814",
   "metadata": {
    "execution": {
     "iopub.execute_input": "2023-12-05T20:12:05.098453Z",
     "iopub.status.busy": "2023-12-05T20:12:05.098120Z",
     "iopub.status.idle": "2023-12-05T20:12:05.113400Z",
     "shell.execute_reply": "2023-12-05T20:12:05.112520Z"
    },
    "papermill": {
     "duration": 0.026242,
     "end_time": "2023-12-05T20:12:05.115357",
     "exception": false,
     "start_time": "2023-12-05T20:12:05.089115",
     "status": "completed"
    },
    "tags": []
   },
   "outputs": [],
   "source": [
    "class US_BLK(nn.Module):\n",
    "    def __init__(self, in_c, out_c, in_len, ks=7, dilation=1, us_factor=2):\n",
    "        super().__init__()\n",
    "        padding = ((ks-1)*dilation)//2\n",
    "        self.us = nn.Upsample(scale_factor=us_factor, mode='linear')\n",
    "        self.conv1 = nn.Conv1d(in_c, out_c, ks, padding=padding, dilation=dilation)\n",
    "        self.ln1 = nn.LayerNorm([out_c, in_len])\n",
    "        self.act1 = nn.LeakyReLU(0.2)\n",
    "        self.conv2 = nn.Conv1d(out_c, out_c, ks, padding=padding, dilation=dilation)\n",
    "        self.ln2 = nn.LayerNorm([out_c, in_len])\n",
    "        self.act2 = nn.LeakyReLU(0.2)\n",
    "        \n",
    "    def forward(self, x):\n",
    "        x = self.us(x)\n",
    "        x = self.conv1(x)\n",
    "        x = self.ln1(x)\n",
    "        x = self.act1(x)\n",
    "        x = self.conv2(x)\n",
    "        x = self.ln2(x)\n",
    "        x = self.act2(x)\n",
    "        return x\n",
    "        \n",
    "class BertEncoder(torch.nn.Module):\n",
    "    \n",
    "    def __init__(self, conf, in_c=2, out_c=2, emb_dim=8, pretrained=True, base=96):\n",
    "        super().__init__()\n",
    "        \n",
    "        self.config = conf\n",
    "        \n",
    "        self.bert = AutoModel.from_config(self.config)\n",
    "            \n",
    "        self.bert = self.bert.encoder\n",
    "        \n",
    "        self.fc_in = nn.Linear(in_c, self.config.hidden_size-emb_dim)\n",
    "        self.hr_emb = nn.Embedding(24, emb_dim)\n",
    "\n",
    "        self.upsample_blocks = nn.ModuleList([])\n",
    "        self.upsample_blocks.append(US_BLK(self.config.hidden_size, base*4, MAX_LEN//(2*2), us_factor=3))\n",
    "        self.upsample_blocks.append(US_BLK(base*4, base*2, MAX_LEN//2, us_factor=2))\n",
    "        self.upsample_blocks.append(US_BLK(base*2, base, MAX_LEN, us_factor=2))\n",
    "        \n",
    "        self.fc_out = nn.Linear(base, out_c)\n",
    "\n",
    "    def forward(self, x, t, att_mask=None):\n",
    "        x = self.fc_in(x)        \n",
    "        t = self.hr_emb(t)\n",
    "        x = torch.cat([x, t.squeeze(2)], dim=-1)\n",
    "\n",
    "        if att_mask is None:\n",
    "            att_mask = torch.ones(x.size()[:2]).to(x.device)\n",
    "        \n",
    "        bert_output = self.bert(x, attention_mask=att_mask)\n",
    "        x = bert_output.last_hidden_state\n",
    "\n",
    "        x = x.permute(0,2,1)\n",
    "\n",
    "        for b in self.upsample_blocks:\n",
    "            x = b(x)\n",
    "\n",
    "        x = x.permute(0,2,1)\n",
    "        \n",
    "        scores = self.fc_out(x) \n",
    "        \n",
    "        return scores"
   ]
  },
  {
   "cell_type": "code",
   "execution_count": 6,
   "id": "e5d73465",
   "metadata": {
    "execution": {
     "iopub.execute_input": "2023-12-05T20:12:05.132058Z",
     "iopub.status.busy": "2023-12-05T20:12:05.131797Z",
     "iopub.status.idle": "2023-12-05T20:12:05.195052Z",
     "shell.execute_reply": "2023-12-05T20:12:05.194047Z"
    },
    "papermill": {
     "duration": 0.07386,
     "end_time": "2023-12-05T20:12:05.196957",
     "exception": false,
     "start_time": "2023-12-05T20:12:05.123097",
     "status": "completed"
    },
    "tags": []
   },
   "outputs": [
    {
     "name": "stderr",
     "output_type": "stream",
     "text": [
      "100%|██████████| 3/3 [00:00<00:00, 104.03it/s]\n"
     ]
    }
   ],
   "source": [
    "class SleepTestDataset(Dataset):\n",
    "    def __init__(\n",
    "        self,\n",
    "        test_series,\n",
    "        test_ids\n",
    "    ):\n",
    "        self.enmo_mean = np.load('/kaggle/input/detect-sleep-states-dataprepare/enmo_mean.npy')\n",
    "        self.enmo_std = np.load('/kaggle/input/detect-sleep-states-dataprepare/enmo_std.npy')\n",
    "\n",
    "        self.Xs = self.conv_dfs(test_series, test_ids)\n",
    "        \n",
    "        self.feat_list = np.load('/kaggle/input/cmi-dss-debertav3-public/feature_list.npy')\n",
    "        self.label_list = ['onset', 'wakeup']\n",
    "        \n",
    "        self.hour_feat= ['hour']\n",
    "        \n",
    "            \n",
    "    def conv_dfs(self, series, ids):\n",
    "        res = []\n",
    "        for j, viz_id in tqdm(enumerate(ids), total=len(ids)):\n",
    "            viz_series = series.loc[(series.series_id==viz_id)].copy().reset_index()\n",
    "            viz_series['dt'] = pd.to_datetime(viz_series.timestamp,format = '%Y-%m-%dT%H:%M:%S%z').astype(\"datetime64[ns, UTC-04:00]\")\n",
    "            viz_series['hour'] = viz_series['dt'].dt.hour\n",
    "            new_df = viz_series[['step', 'anglez', 'enmo', 'hour']]\n",
    "            res.append(new_df)\n",
    "\n",
    "        return res\n",
    "    \n",
    "\n",
    "    def norm_feat_eng(self, X, init=False):\n",
    "        X['anglez'] = X['anglez'] / 90.0\n",
    "        X['enmo'] = (X['enmo'] - self.enmo_mean)/ (self.enmo_std + 1e-12)\n",
    "        \n",
    "        for w in [1, 2, 4, 8, 16]:    \n",
    "            X['anglez_shift_pos_' + str(w)] = X['anglez'].shift(w).fillna(0)\n",
    "            X['anglez_shift_neg_' + str(w)] = X['anglez'].shift(-w).fillna(0)\n",
    "            \n",
    "            X['enmo_shift_pos_' + str(w)] = X['enmo'].shift(w).fillna(0)\n",
    "            X['enmo_shift_neg_' + str(w)] = X['enmo'].shift(-w).fillna(0)\n",
    "            \n",
    "            if init:\n",
    "                self.feat_list.append('anglez_shift_pos_' + str(w))\n",
    "                self.feat_list.append('anglez_shift_neg_' + str(w))\n",
    "                \n",
    "                self.feat_list.append('enmo_shift_pos_' + str(w))\n",
    "                self.feat_list.append('enmo_shift_neg_' + str(w))\n",
    "            \n",
    "        for r in [17, 33, 65]:\n",
    "            tmp_anglez = X['anglez'].rolling(r, center=True)\n",
    "            X[f'anglez_mean_{r}'] = tmp_anglez.mean()\n",
    "            X[f'anglez_std_{r}'] = tmp_anglez.std()            \n",
    "            \n",
    "            tmp_enmo = X['enmo'].rolling(r, center=True)\n",
    "            X[f'enmo_mean_{r}'] = tmp_enmo.mean()\n",
    "            X[f'enmo_std_{r}'] = tmp_enmo.std()\n",
    "            \n",
    "            if init:\n",
    "                self.feat_list.append(f'anglez_mean_{r}')\n",
    "                self.feat_list.append(f'anglez_std_{r}')\n",
    "\n",
    "                self.feat_list.append(f'enmo_mean_{r}')\n",
    "                self.feat_list.append(f'enmo_std_{r}')\n",
    "                \n",
    "        X = X.fillna(0)\n",
    "        \n",
    "        return X.astype(np.float32)\n",
    "\n",
    "    def gauss(self,n=SIGMA,sigma=SIGMA*0.15):\n",
    "        # guassian distribution function\n",
    "        r = range(-int(n/2),int(n/2)+1)\n",
    "        return [1 / (sigma * sqrt(2*pi)) * exp(-float(x)**2/(2*sigma**2)) for x in r]\n",
    "    \n",
    "    def __len__(self):\n",
    "        return len(self.Xs)\n",
    "    \n",
    "    def compress(self, xt, method='mean', sample_freq=SAMPLE_FREQ):\n",
    "        x, t = xt\n",
    "        seq_len = x.shape[0]\n",
    "        if method == 'mean':\n",
    "            x = x.reshape(seq_len//sample_freq, sample_freq, -1).mean(1)\n",
    "            t = t.reshape(seq_len//sample_freq, sample_freq, 1).mean(1)\n",
    "            \n",
    "        else:\n",
    "            raise NotImplementedError()\n",
    "\n",
    "        \n",
    "        return x.astype(np.float32), t.astype(np.int32)\n",
    "\n",
    "    def __getitem__(self, index):\n",
    "        X = self.Xs[index].copy()\n",
    "        X = self.norm_feat_eng(X, init=False)\n",
    "        x = X[self.feat_list].values.astype(np.float32)     \n",
    "        t = X[self.hour_feat].values.astype(np.int32)\n",
    "        \n",
    "        if len(X)%SAMPLE_FREQ!=0:\n",
    "            res = SAMPLE_FREQ - (len(X)%SAMPLE_FREQ)\n",
    "            x = np.pad(x, ((0, res), (0, 0)))\n",
    "            t = np.pad(t, ((0, res), (0, 0)))\n",
    "            \n",
    "        x, t = self.compress((x, t), method='mean')\n",
    "                \n",
    "        return x, t\n",
    "\n",
    "test_ds = SleepTestDataset(test_series, ids)"
   ]
  },
  {
   "cell_type": "code",
   "execution_count": 7,
   "id": "8a6c9c60",
   "metadata": {
    "execution": {
     "iopub.execute_input": "2023-12-05T20:12:05.214919Z",
     "iopub.status.busy": "2023-12-05T20:12:05.214653Z",
     "iopub.status.idle": "2023-12-05T20:12:05.222913Z",
     "shell.execute_reply": "2023-12-05T20:12:05.221977Z"
    },
    "papermill": {
     "duration": 0.019336,
     "end_time": "2023-12-05T20:12:05.224893",
     "exception": false,
     "start_time": "2023-12-05T20:12:05.205557",
     "status": "completed"
    },
    "tags": []
   },
   "outputs": [],
   "source": [
    "# class SleepDataset(Dataset):\n",
    "#     def __init__(\n",
    "#         self,\n",
    "#         folder,\n",
    "#         max_len=17280,\n",
    "#         is_train=False,\n",
    "#         sample_per_epoch=10000\n",
    "#     ):\n",
    "#         self.enmo_mean = np.load('/kaggle/input/detect-sleep-states-dataprepare/enmo_mean.npy')\n",
    "#         self.enmo_std = np.load('/kaggle/input/detect-sleep-states-dataprepare/enmo_std.npy')\n",
    "        \n",
    "#         self.max_len = max_len\n",
    "#         assert max_len % SAMPLE_FREQ == 0\n",
    "        \n",
    "#         self.is_train = is_train\n",
    "        \n",
    "#         self.max_df_size = 0\n",
    "#         self.min_df_size = 1e9\n",
    "        \n",
    "#         self.sample_per_epoch = sample_per_epoch\n",
    "        \n",
    "#         self.feat_list = ['anglez','enmo']\n",
    "        \n",
    "#         self.Xys = self.read_csvs(folder)        \n",
    "        \n",
    "#         self.label_list = ['onset', 'wakeup']\n",
    "        \n",
    "#         self.hour_feat= ['hour']\n",
    "        \n",
    "#         self.compress_methods = ['mean', 'median', 'fixed']\n",
    "        \n",
    "#     def read_csvs(self, folder):\n",
    "#         res = []\n",
    "#         if type(folder) is str:\n",
    "#             files = glob.glob(f'{folder}/*.csv')\n",
    "#         else:\n",
    "#             files = folder\n",
    "#         for i, f in tqdm(enumerate(files), total=len(files), leave=False):\n",
    "#             df = pd.read_csv(f)\n",
    "#             df = self.norm_feat_eng(df, init=True if i==0 else False)\n",
    "                \n",
    "#             res.append(df)\n",
    "#             self.max_df_size = max(self.max_df_size, len(df))\n",
    "#             self.min_df_size = min(self.min_df_size, len(df))\n",
    "#         return res\n",
    "    \n",
    "#     def compress(self, xt, method='mean', sample_freq=SAMPLE_FREQ):\n",
    "#         x, t = xt\n",
    "#         seq_len = x.shape[0]\n",
    "#         if method == 'mean':\n",
    "#             x = x.reshape(seq_len//sample_freq, sample_freq, -1).mean(1)\n",
    "#             t = t.reshape(seq_len//sample_freq, sample_freq, 1).mean(1)\n",
    "            \n",
    "#         if method == 'median':\n",
    "#             x = np.median(x.reshape(seq_len//sample_freq, sample_freq, -1), axis=1)\n",
    "#             t = np.median(t.reshape(seq_len//sample_freq, sample_freq, 1), axis=1)\n",
    "            \n",
    "#         if method == 'fixed':\n",
    "#             start = torch.randint(0, sample_freq, size=(1,))[0].numpy()\n",
    "#             x = x[start::sample_freq]\n",
    "#             t = t[start::sample_freq]\n",
    "        \n",
    "#         return x.astype(np.float32), t.astype(np.int32)\n",
    "\n",
    "#     def norm_feat_eng(self, X, init=False):\n",
    "#         X['anglez'] = X['anglez'] / 90.0\n",
    "#         X['enmo'] = (X['enmo'] - self.enmo_mean) / (self.enmo_std + 1e-12)\n",
    "        \n",
    "#         for w in [1, 2, 4, 8, 16]:    \n",
    "#             X['anglez_shift_pos_' + str(w)] = X['anglez'].shift(w).fillna(0)\n",
    "#             X['anglez_shift_neg_' + str(w)] = X['anglez'].shift(-w).fillna(0)\n",
    "            \n",
    "#             X['enmo_shift_pos_' + str(w)] = X['enmo'].shift(w).fillna(0)\n",
    "#             X['enmo_shift_neg_' + str(w)] = X['enmo'].shift(-w).fillna(0)\n",
    "            \n",
    "#             if init:\n",
    "#                 self.feat_list.append('anglez_shift_pos_' + str(w))\n",
    "#                 self.feat_list.append('anglez_shift_neg_' + str(w))\n",
    "                \n",
    "#                 self.feat_list.append('enmo_shift_pos_' + str(w))\n",
    "#                 self.feat_list.append('enmo_shift_neg_' + str(w))\n",
    "            \n",
    "#         for r in [17, 33, 65]:\n",
    "#             tmp_anglez = X['anglez'].rolling(r, center=True)\n",
    "#             X[f'anglez_mean_{r}'] = tmp_anglez.mean()\n",
    "#             X[f'anglez_std_{r}'] = tmp_anglez.std()            \n",
    "            \n",
    "#             tmp_enmo = X['enmo'].rolling(r, center=True)\n",
    "#             X[f'enmo_mean_{r}'] = tmp_enmo.mean()\n",
    "#             X[f'enmo_std_{r}'] = tmp_enmo.std()\n",
    "            \n",
    "#             if init:\n",
    "#                 self.feat_list.append(f'anglez_mean_{r}')\n",
    "#                 self.feat_list.append(f'anglez_std_{r}')\n",
    "\n",
    "#                 self.feat_list.append(f'enmo_mean_{r}')\n",
    "#                 self.feat_list.append(f'enmo_std_{r}')\n",
    "                \n",
    "#         X = X.fillna(0)\n",
    "        \n",
    "#         return X.astype(np.float32)\n",
    "\n",
    "#     def gauss(self, n=SIGMA, sigma=SIGMA*0.15):\n",
    "#         # guassian distribution function\n",
    "#         r = range(-int(n/2),int(n/2)+1)\n",
    "#         return [1 / (sigma * sqrt(2*pi)) * exp(-float(x)**2/(2*sigma**2)) for x in r]\n",
    "    \n",
    "#     def __len__(self):\n",
    "#         return self.sample_per_epoch if self.is_train else len(self.Xys)\n",
    "\n",
    "#     def __getitem__(self, index):\n",
    "#         Xy = self.Xys[index].copy()\n",
    "#         X = Xy[self.feat_list].values.astype(np.float32)     \n",
    "#         t = Xy[self.hour_feat].values.astype(np.int32)\n",
    "\n",
    "#         if len(Xy)%SAMPLE_FREQ!=0:\n",
    "#             res = SAMPLE_FREQ - (len(Xy)%SAMPLE_FREQ)\n",
    "#             X = np.pad(X, ((0, res), (0, 0)))\n",
    "#             t = np.pad(t, ((0, res), (0, 0)))\n",
    "\n",
    "#         X, t = self.compress((X, t), method='mean')\n",
    "\n",
    "#         return X, t\n",
    "\n",
    "# import glob\n",
    "# valid_fpaths = sorted(glob.glob(f\"/kaggle/input/detect-sleep-states-dataprepare/train_csvs/*.csv\"))\n",
    "# test_ds = SleepDataset(valid_fpaths, is_train=False)"
   ]
  },
  {
   "cell_type": "code",
   "execution_count": 8,
   "id": "35f3488a",
   "metadata": {
    "execution": {
     "iopub.execute_input": "2023-12-05T20:12:05.242287Z",
     "iopub.status.busy": "2023-12-05T20:12:05.242015Z",
     "iopub.status.idle": "2023-12-05T20:12:05.276969Z",
     "shell.execute_reply": "2023-12-05T20:12:05.276155Z"
    },
    "papermill": {
     "duration": 0.045804,
     "end_time": "2023-12-05T20:12:05.278841",
     "exception": false,
     "start_time": "2023-12-05T20:12:05.233037",
     "status": "completed"
    },
    "tags": []
   },
   "outputs": [
    {
     "data": {
      "text/plain": [
       "(13, 34)"
      ]
     },
     "execution_count": 8,
     "metadata": {},
     "output_type": "execute_result"
    }
   ],
   "source": [
    "test_ds[0][0].shape"
   ]
  },
  {
   "cell_type": "code",
   "execution_count": 9,
   "id": "dafc242b",
   "metadata": {
    "execution": {
     "iopub.execute_input": "2023-12-05T20:12:05.296294Z",
     "iopub.status.busy": "2023-12-05T20:12:05.296012Z",
     "iopub.status.idle": "2023-12-05T20:12:05.327711Z",
     "shell.execute_reply": "2023-12-05T20:12:05.326820Z"
    },
    "papermill": {
     "duration": 0.042608,
     "end_time": "2023-12-05T20:12:05.329683",
     "exception": false,
     "start_time": "2023-12-05T20:12:05.287075",
     "status": "completed"
    },
    "tags": []
   },
   "outputs": [
    {
     "data": {
      "text/html": [
       "<div>\n",
       "<style scoped>\n",
       "    .dataframe tbody tr th:only-of-type {\n",
       "        vertical-align: middle;\n",
       "    }\n",
       "\n",
       "    .dataframe tbody tr th {\n",
       "        vertical-align: top;\n",
       "    }\n",
       "\n",
       "    .dataframe thead th {\n",
       "        text-align: right;\n",
       "    }\n",
       "</style>\n",
       "<table border=\"1\" class=\"dataframe\">\n",
       "  <thead>\n",
       "    <tr style=\"text-align: right;\">\n",
       "      <th></th>\n",
       "      <th>step</th>\n",
       "      <th>anglez</th>\n",
       "      <th>enmo</th>\n",
       "      <th>hour</th>\n",
       "    </tr>\n",
       "  </thead>\n",
       "  <tbody>\n",
       "    <tr>\n",
       "      <th>0</th>\n",
       "      <td>0</td>\n",
       "      <td>2.636700</td>\n",
       "      <td>0.0217</td>\n",
       "      <td>15</td>\n",
       "    </tr>\n",
       "    <tr>\n",
       "      <th>1</th>\n",
       "      <td>1</td>\n",
       "      <td>2.636800</td>\n",
       "      <td>0.0215</td>\n",
       "      <td>15</td>\n",
       "    </tr>\n",
       "    <tr>\n",
       "      <th>2</th>\n",
       "      <td>2</td>\n",
       "      <td>2.637000</td>\n",
       "      <td>0.0216</td>\n",
       "      <td>15</td>\n",
       "    </tr>\n",
       "    <tr>\n",
       "      <th>3</th>\n",
       "      <td>3</td>\n",
       "      <td>2.636800</td>\n",
       "      <td>0.0213</td>\n",
       "      <td>15</td>\n",
       "    </tr>\n",
       "    <tr>\n",
       "      <th>4</th>\n",
       "      <td>4</td>\n",
       "      <td>2.636800</td>\n",
       "      <td>0.0215</td>\n",
       "      <td>15</td>\n",
       "    </tr>\n",
       "    <tr>\n",
       "      <th>...</th>\n",
       "      <td>...</td>\n",
       "      <td>...</td>\n",
       "      <td>...</td>\n",
       "      <td>...</td>\n",
       "    </tr>\n",
       "    <tr>\n",
       "      <th>145</th>\n",
       "      <td>145</td>\n",
       "      <td>-79.990601</td>\n",
       "      <td>0.0135</td>\n",
       "      <td>15</td>\n",
       "    </tr>\n",
       "    <tr>\n",
       "      <th>146</th>\n",
       "      <td>146</td>\n",
       "      <td>-80.028999</td>\n",
       "      <td>0.0136</td>\n",
       "      <td>15</td>\n",
       "    </tr>\n",
       "    <tr>\n",
       "      <th>147</th>\n",
       "      <td>147</td>\n",
       "      <td>-80.009300</td>\n",
       "      <td>0.0137</td>\n",
       "      <td>15</td>\n",
       "    </tr>\n",
       "    <tr>\n",
       "      <th>148</th>\n",
       "      <td>148</td>\n",
       "      <td>-80.066902</td>\n",
       "      <td>0.0135</td>\n",
       "      <td>15</td>\n",
       "    </tr>\n",
       "    <tr>\n",
       "      <th>149</th>\n",
       "      <td>149</td>\n",
       "      <td>-80.153503</td>\n",
       "      <td>0.0136</td>\n",
       "      <td>15</td>\n",
       "    </tr>\n",
       "  </tbody>\n",
       "</table>\n",
       "<p>150 rows × 4 columns</p>\n",
       "</div>"
      ],
      "text/plain": [
       "     step     anglez    enmo  hour\n",
       "0       0   2.636700  0.0217    15\n",
       "1       1   2.636800  0.0215    15\n",
       "2       2   2.637000  0.0216    15\n",
       "3       3   2.636800  0.0213    15\n",
       "4       4   2.636800  0.0215    15\n",
       "..    ...        ...     ...   ...\n",
       "145   145 -79.990601  0.0135    15\n",
       "146   146 -80.028999  0.0136    15\n",
       "147   147 -80.009300  0.0137    15\n",
       "148   148 -80.066902  0.0135    15\n",
       "149   149 -80.153503  0.0136    15\n",
       "\n",
       "[150 rows x 4 columns]"
      ]
     },
     "metadata": {},
     "output_type": "display_data"
    },
    {
     "data": {
      "text/html": [
       "<div>\n",
       "<style scoped>\n",
       "    .dataframe tbody tr th:only-of-type {\n",
       "        vertical-align: middle;\n",
       "    }\n",
       "\n",
       "    .dataframe tbody tr th {\n",
       "        vertical-align: top;\n",
       "    }\n",
       "\n",
       "    .dataframe thead th {\n",
       "        text-align: right;\n",
       "    }\n",
       "</style>\n",
       "<table border=\"1\" class=\"dataframe\">\n",
       "  <thead>\n",
       "    <tr style=\"text-align: right;\">\n",
       "      <th></th>\n",
       "      <th>step</th>\n",
       "      <th>anglez</th>\n",
       "      <th>enmo</th>\n",
       "      <th>hour</th>\n",
       "    </tr>\n",
       "  </thead>\n",
       "  <tbody>\n",
       "    <tr>\n",
       "      <th>0</th>\n",
       "      <td>0</td>\n",
       "      <td>38.892899</td>\n",
       "      <td>0.0803</td>\n",
       "      <td>12</td>\n",
       "    </tr>\n",
       "    <tr>\n",
       "      <th>1</th>\n",
       "      <td>1</td>\n",
       "      <td>29.374399</td>\n",
       "      <td>0.0752</td>\n",
       "      <td>12</td>\n",
       "    </tr>\n",
       "    <tr>\n",
       "      <th>2</th>\n",
       "      <td>2</td>\n",
       "      <td>37.225101</td>\n",
       "      <td>0.1791</td>\n",
       "      <td>12</td>\n",
       "    </tr>\n",
       "    <tr>\n",
       "      <th>3</th>\n",
       "      <td>3</td>\n",
       "      <td>46.937000</td>\n",
       "      <td>0.0922</td>\n",
       "      <td>12</td>\n",
       "    </tr>\n",
       "    <tr>\n",
       "      <th>4</th>\n",
       "      <td>4</td>\n",
       "      <td>60.486698</td>\n",
       "      <td>0.0342</td>\n",
       "      <td>12</td>\n",
       "    </tr>\n",
       "    <tr>\n",
       "      <th>...</th>\n",
       "      <td>...</td>\n",
       "      <td>...</td>\n",
       "      <td>...</td>\n",
       "      <td>...</td>\n",
       "    </tr>\n",
       "    <tr>\n",
       "      <th>145</th>\n",
       "      <td>145</td>\n",
       "      <td>-88.216599</td>\n",
       "      <td>0.0000</td>\n",
       "      <td>12</td>\n",
       "    </tr>\n",
       "    <tr>\n",
       "      <th>146</th>\n",
       "      <td>146</td>\n",
       "      <td>-88.216599</td>\n",
       "      <td>0.0000</td>\n",
       "      <td>12</td>\n",
       "    </tr>\n",
       "    <tr>\n",
       "      <th>147</th>\n",
       "      <td>147</td>\n",
       "      <td>-88.216599</td>\n",
       "      <td>0.0000</td>\n",
       "      <td>12</td>\n",
       "    </tr>\n",
       "    <tr>\n",
       "      <th>148</th>\n",
       "      <td>148</td>\n",
       "      <td>-88.216599</td>\n",
       "      <td>0.0000</td>\n",
       "      <td>12</td>\n",
       "    </tr>\n",
       "    <tr>\n",
       "      <th>149</th>\n",
       "      <td>149</td>\n",
       "      <td>-88.216599</td>\n",
       "      <td>0.0000</td>\n",
       "      <td>12</td>\n",
       "    </tr>\n",
       "  </tbody>\n",
       "</table>\n",
       "<p>150 rows × 4 columns</p>\n",
       "</div>"
      ],
      "text/plain": [
       "     step     anglez    enmo  hour\n",
       "0       0  38.892899  0.0803    12\n",
       "1       1  29.374399  0.0752    12\n",
       "2       2  37.225101  0.1791    12\n",
       "3       3  46.937000  0.0922    12\n",
       "4       4  60.486698  0.0342    12\n",
       "..    ...        ...     ...   ...\n",
       "145   145 -88.216599  0.0000    12\n",
       "146   146 -88.216599  0.0000    12\n",
       "147   147 -88.216599  0.0000    12\n",
       "148   148 -88.216599  0.0000    12\n",
       "149   149 -88.216599  0.0000    12\n",
       "\n",
       "[150 rows x 4 columns]"
      ]
     },
     "metadata": {},
     "output_type": "display_data"
    },
    {
     "data": {
      "text/html": [
       "<div>\n",
       "<style scoped>\n",
       "    .dataframe tbody tr th:only-of-type {\n",
       "        vertical-align: middle;\n",
       "    }\n",
       "\n",
       "    .dataframe tbody tr th {\n",
       "        vertical-align: top;\n",
       "    }\n",
       "\n",
       "    .dataframe thead th {\n",
       "        text-align: right;\n",
       "    }\n",
       "</style>\n",
       "<table border=\"1\" class=\"dataframe\">\n",
       "  <thead>\n",
       "    <tr style=\"text-align: right;\">\n",
       "      <th></th>\n",
       "      <th>step</th>\n",
       "      <th>anglez</th>\n",
       "      <th>enmo</th>\n",
       "      <th>hour</th>\n",
       "    </tr>\n",
       "  </thead>\n",
       "  <tbody>\n",
       "    <tr>\n",
       "      <th>0</th>\n",
       "      <td>0</td>\n",
       "      <td>-77.314903</td>\n",
       "      <td>0.0868</td>\n",
       "      <td>13</td>\n",
       "    </tr>\n",
       "    <tr>\n",
       "      <th>1</th>\n",
       "      <td>1</td>\n",
       "      <td>-52.183800</td>\n",
       "      <td>0.0434</td>\n",
       "      <td>13</td>\n",
       "    </tr>\n",
       "    <tr>\n",
       "      <th>2</th>\n",
       "      <td>2</td>\n",
       "      <td>-53.218601</td>\n",
       "      <td>0.0541</td>\n",
       "      <td>13</td>\n",
       "    </tr>\n",
       "    <tr>\n",
       "      <th>3</th>\n",
       "      <td>3</td>\n",
       "      <td>-51.541698</td>\n",
       "      <td>0.0612</td>\n",
       "      <td>13</td>\n",
       "    </tr>\n",
       "    <tr>\n",
       "      <th>4</th>\n",
       "      <td>4</td>\n",
       "      <td>-24.637300</td>\n",
       "      <td>0.0591</td>\n",
       "      <td>13</td>\n",
       "    </tr>\n",
       "    <tr>\n",
       "      <th>...</th>\n",
       "      <td>...</td>\n",
       "      <td>...</td>\n",
       "      <td>...</td>\n",
       "      <td>...</td>\n",
       "    </tr>\n",
       "    <tr>\n",
       "      <th>145</th>\n",
       "      <td>145</td>\n",
       "      <td>-59.696899</td>\n",
       "      <td>0.0601</td>\n",
       "      <td>13</td>\n",
       "    </tr>\n",
       "    <tr>\n",
       "      <th>146</th>\n",
       "      <td>146</td>\n",
       "      <td>-35.656601</td>\n",
       "      <td>0.0427</td>\n",
       "      <td>13</td>\n",
       "    </tr>\n",
       "    <tr>\n",
       "      <th>147</th>\n",
       "      <td>147</td>\n",
       "      <td>-21.582399</td>\n",
       "      <td>0.0309</td>\n",
       "      <td>13</td>\n",
       "    </tr>\n",
       "    <tr>\n",
       "      <th>148</th>\n",
       "      <td>148</td>\n",
       "      <td>-42.616001</td>\n",
       "      <td>0.0328</td>\n",
       "      <td>13</td>\n",
       "    </tr>\n",
       "    <tr>\n",
       "      <th>149</th>\n",
       "      <td>149</td>\n",
       "      <td>7.029900</td>\n",
       "      <td>0.0081</td>\n",
       "      <td>13</td>\n",
       "    </tr>\n",
       "  </tbody>\n",
       "</table>\n",
       "<p>150 rows × 4 columns</p>\n",
       "</div>"
      ],
      "text/plain": [
       "     step     anglez    enmo  hour\n",
       "0       0 -77.314903  0.0868    13\n",
       "1       1 -52.183800  0.0434    13\n",
       "2       2 -53.218601  0.0541    13\n",
       "3       3 -51.541698  0.0612    13\n",
       "4       4 -24.637300  0.0591    13\n",
       "..    ...        ...     ...   ...\n",
       "145   145 -59.696899  0.0601    13\n",
       "146   146 -35.656601  0.0427    13\n",
       "147   147 -21.582399  0.0309    13\n",
       "148   148 -42.616001  0.0328    13\n",
       "149   149   7.029900  0.0081    13\n",
       "\n",
       "[150 rows x 4 columns]"
      ]
     },
     "metadata": {},
     "output_type": "display_data"
    }
   ],
   "source": [
    "if len(test_ds.Xs)==3:\n",
    "    for x in test_ds.Xs:\n",
    "        display(x)"
   ]
  },
  {
   "cell_type": "code",
   "execution_count": 10,
   "id": "160a54ac",
   "metadata": {
    "execution": {
     "iopub.execute_input": "2023-12-05T20:12:05.349619Z",
     "iopub.status.busy": "2023-12-05T20:12:05.349235Z",
     "iopub.status.idle": "2023-12-05T20:12:06.012812Z",
     "shell.execute_reply": "2023-12-05T20:12:06.011833Z"
    },
    "papermill": {
     "duration": 0.675857,
     "end_time": "2023-12-05T20:12:06.014965",
     "exception": false,
     "start_time": "2023-12-05T20:12:05.339108",
     "status": "completed"
    },
    "tags": []
   },
   "outputs": [
    {
     "data": {
      "image/png": "[encoded data removed]",
      "text/plain": [
       "<Figure size 640x480 with 1 Axes>"
      ]
     },
     "metadata": {},
     "output_type": "display_data"
    },
    {
     "data": {
      "image/png": "[encoded data removed]",
      "text/plain": [
       "<Figure size 640x480 with 1 Axes>"
      ]
     },
     "metadata": {},
     "output_type": "display_data"
    },
    {
     "data": {
      "image/png": "[encoded data removed]",
      "text/plain": [
       "<Figure size 640x480 with 1 Axes>"
      ]
     },
     "metadata": {},
     "output_type": "display_data"
    }
   ],
   "source": [
    "if len(test_ds.Xs)==3:\n",
    "    for i, x in enumerate(test_ds.Xs):\n",
    "        plt.plot(x['enmo'], lw=0.5)\n",
    "        plt.title(ids[i])\n",
    "        plt.show()"
   ]
  },
  {
   "cell_type": "code",
   "execution_count": 11,
   "id": "b586ee0c",
   "metadata": {
    "execution": {
     "iopub.execute_input": "2023-12-05T20:12:06.037502Z",
     "iopub.status.busy": "2023-12-05T20:12:06.037188Z",
     "iopub.status.idle": "2023-12-05T20:12:06.294507Z",
     "shell.execute_reply": "2023-12-05T20:12:06.293646Z"
    },
    "papermill": {
     "duration": 0.270776,
     "end_time": "2023-12-05T20:12:06.296527",
     "exception": false,
     "start_time": "2023-12-05T20:12:06.025751",
     "status": "completed"
    },
    "tags": []
   },
   "outputs": [
    {
     "data": {
      "text/plain": [
       "7423"
      ]
     },
     "execution_count": 11,
     "metadata": {},
     "output_type": "execute_result"
    }
   ],
   "source": [
    "del test_series, reader\n",
    "gc.collect()"
   ]
  },
  {
   "cell_type": "code",
   "execution_count": 12,
   "id": "f08ef997",
   "metadata": {
    "execution": {
     "iopub.execute_input": "2023-12-05T20:12:06.319297Z",
     "iopub.status.busy": "2023-12-05T20:12:06.318994Z",
     "iopub.status.idle": "2023-12-05T20:12:06.323201Z",
     "shell.execute_reply": "2023-12-05T20:12:06.322331Z"
    },
    "papermill": {
     "duration": 0.017605,
     "end_time": "2023-12-05T20:12:06.325114",
     "exception": false,
     "start_time": "2023-12-05T20:12:06.307509",
     "status": "completed"
    },
    "tags": []
   },
   "outputs": [],
   "source": [
    "# Model config\n",
    "EMB_DIM = 32\n",
    "MODEL_NAME = 'microsoft/deberta-v3-xsmall'\n",
    "CONF_PATH = '/kaggle/input/xs-final/deberta-v3-xsmall_config (1).pth'"
   ]
  },
  {
   "cell_type": "code",
   "execution_count": 13,
   "id": "793e4b93",
   "metadata": {
    "execution": {
     "iopub.execute_input": "2023-12-05T20:12:06.347326Z",
     "iopub.status.busy": "2023-12-05T20:12:06.347050Z",
     "iopub.status.idle": "2023-12-05T20:12:06.351662Z",
     "shell.execute_reply": "2023-12-05T20:12:06.350804Z"
    },
    "papermill": {
     "duration": 0.018092,
     "end_time": "2023-12-05T20:12:06.353604",
     "exception": false,
     "start_time": "2023-12-05T20:12:06.335512",
     "status": "completed"
    },
    "tags": []
   },
   "outputs": [],
   "source": [
    "test_dl = DataLoader(\n",
    "    test_ds,\n",
    "    batch_size=1,\n",
    "    pin_memory=True,\n",
    "    num_workers=WORKERS,\n",
    "    shuffle=False,\n",
    "    drop_last=False\n",
    ")"
   ]
  },
  {
   "cell_type": "code",
   "execution_count": 14,
   "id": "bec93c85",
   "metadata": {
    "execution": {
     "iopub.execute_input": "2023-12-05T20:12:06.375447Z",
     "iopub.status.busy": "2023-12-05T20:12:06.375137Z",
     "iopub.status.idle": "2023-12-05T20:12:06.391600Z",
     "shell.execute_reply": "2023-12-05T20:12:06.390882Z"
    },
    "papermill": {
     "duration": 0.029627,
     "end_time": "2023-12-05T20:12:06.393543",
     "exception": false,
     "start_time": "2023-12-05T20:12:06.363916",
     "status": "completed"
    },
    "tags": []
   },
   "outputs": [],
   "source": [
    "conf = torch.load(CONF_PATH)"
   ]
  },
  {
   "cell_type": "code",
   "execution_count": 15,
   "id": "aa0ffbc1",
   "metadata": {
    "execution": {
     "iopub.execute_input": "2023-12-05T20:12:06.415805Z",
     "iopub.status.busy": "2023-12-05T20:12:06.415530Z",
     "iopub.status.idle": "2023-12-05T20:12:06.419935Z",
     "shell.execute_reply": "2023-12-05T20:12:06.419191Z"
    },
    "papermill": {
     "duration": 0.017582,
     "end_time": "2023-12-05T20:12:06.421747",
     "exception": false,
     "start_time": "2023-12-05T20:12:06.404165",
     "status": "completed"
    },
    "tags": []
   },
   "outputs": [],
   "source": [
    "autocast = torch.cuda.amp.autocast(enabled=True, dtype=torch.half)\n",
    "scaler = torch.cuda.amp.GradScaler(enabled=True, init_scale=4096)"
   ]
  },
  {
   "cell_type": "code",
   "execution_count": 16,
   "id": "aef68d3b",
   "metadata": {
    "execution": {
     "iopub.execute_input": "2023-12-05T20:12:06.443915Z",
     "iopub.status.busy": "2023-12-05T20:12:06.443633Z",
     "iopub.status.idle": "2023-12-05T20:12:06.448771Z",
     "shell.execute_reply": "2023-12-05T20:12:06.447934Z"
    },
    "papermill": {
     "duration": 0.018477,
     "end_time": "2023-12-05T20:12:06.450806",
     "exception": false,
     "start_time": "2023-12-05T20:12:06.432329",
     "status": "completed"
    },
    "tags": []
   },
   "outputs": [],
   "source": [
    "def lpf(wave, fs=12*60*24, fe=60, n=3):\n",
    "    nyq = fs / 2.0\n",
    "    b, a = signal.butter(1, fe/nyq, btype='low')\n",
    "    for i in range(0, n):\n",
    "        wave = signal.filtfilt(b, a, wave)\n",
    "    return wave"
   ]
  },
  {
   "cell_type": "code",
   "execution_count": 17,
   "id": "013e2689",
   "metadata": {
    "execution": {
     "iopub.execute_input": "2023-12-05T20:12:06.473074Z",
     "iopub.status.busy": "2023-12-05T20:12:06.472817Z",
     "iopub.status.idle": "2023-12-05T20:12:06.477598Z",
     "shell.execute_reply": "2023-12-05T20:12:06.476747Z"
    },
    "papermill": {
     "duration": 0.018175,
     "end_time": "2023-12-05T20:12:06.479621",
     "exception": false,
     "start_time": "2023-12-05T20:12:06.461446",
     "status": "completed"
    },
    "tags": []
   },
   "outputs": [],
   "source": [
    "def padding_(x, tgt_len=MAX_CHUNK_LEN):\n",
    "    res = tgt_len - (x.size(-2) % tgt_len)\n",
    "    x = F.pad(x, (0, 0, 0, res))\n",
    "    return x"
   ]
  },
  {
   "cell_type": "code",
   "execution_count": 18,
   "id": "91b0d703",
   "metadata": {
    "execution": {
     "iopub.execute_input": "2023-12-05T20:12:06.501644Z",
     "iopub.status.busy": "2023-12-05T20:12:06.501100Z",
     "iopub.status.idle": "2023-12-05T20:12:06.505650Z",
     "shell.execute_reply": "2023-12-05T20:12:06.504807Z"
    },
    "papermill": {
     "duration": 0.017438,
     "end_time": "2023-12-05T20:12:06.507484",
     "exception": false,
     "start_time": "2023-12-05T20:12:06.490046",
     "status": "completed"
    },
    "tags": []
   },
   "outputs": [],
   "source": [
    "submission = pd.DataFrame()"
   ]
  },
  {
   "cell_type": "code",
   "execution_count": 19,
   "id": "0302a545",
   "metadata": {
    "execution": {
     "iopub.execute_input": "2023-12-05T20:12:06.530765Z",
     "iopub.status.busy": "2023-12-05T20:12:06.530517Z",
     "iopub.status.idle": "2023-12-05T20:12:33.717254Z",
     "shell.execute_reply": "2023-12-05T20:12:33.715947Z"
    },
    "papermill": {
     "duration": 27.200268,
     "end_time": "2023-12-05T20:12:33.719481",
     "exception": false,
     "start_time": "2023-12-05T20:12:06.519213",
     "status": "completed"
    },
    "tags": []
   },
   "outputs": [
    {
     "name": "stderr",
     "output_type": "stream",
     "text": [
      "  0%|          | 0/3 [00:00<?, ?it/s]"
     ]
    },
    {
     "name": "stdout",
     "output_type": "stream",
     "text": [
      "tensor(-152.1145, device='cuda:0') tensor(-152.1145, device='cuda:0') tensor(-976.2920, device='cuda:0')\n"
     ]
    },
    {
     "name": "stderr",
     "output_type": "stream",
     "text": [
      " 33%|███▎      | 1/3 [00:05<00:10,  5.11s/it]"
     ]
    },
    {
     "name": "stdout",
     "output_type": "stream",
     "text": [
      "tensor(-195.3471, device='cuda:0') tensor(-195.3471, device='cuda:0') tensor(-1002.5781, device='cuda:0')\n"
     ]
    },
    {
     "name": "stderr",
     "output_type": "stream",
     "text": [
      " 67%|██████▋   | 2/3 [00:05<00:02,  2.33s/it]"
     ]
    },
    {
     "name": "stdout",
     "output_type": "stream",
     "text": [
      "tensor(24.2219, device='cuda:0') tensor(24.2219, device='cuda:0') tensor(-951.9678, device='cuda:0')\n"
     ]
    },
    {
     "name": "stderr",
     "output_type": "stream",
     "text": [
      "100%|██████████| 3/3 [00:05<00:00,  1.98s/it]\n",
      "  0%|          | 0/3 [00:00<?, ?it/s]"
     ]
    },
    {
     "name": "stdout",
     "output_type": "stream",
     "text": [
      "tensor(-152.1145, device='cuda:0') tensor(-152.1145, device='cuda:0') tensor(-976.2920, device='cuda:0')\n"
     ]
    },
    {
     "name": "stderr",
     "output_type": "stream",
     "text": [
      " 67%|██████▋   | 2/3 [00:01<00:00,  2.05it/s]"
     ]
    },
    {
     "name": "stdout",
     "output_type": "stream",
     "text": [
      "tensor(-195.3471, device='cuda:0') tensor(-195.3471, device='cuda:0') tensor(-1002.5781, device='cuda:0')\n",
      "tensor(24.2219, device='cuda:0') tensor(24.2219, device='cuda:0') tensor(-951.9678, device='cuda:0')\n"
     ]
    },
    {
     "name": "stderr",
     "output_type": "stream",
     "text": [
      "100%|██████████| 3/3 [00:01<00:00,  2.07it/s]\n",
      "  0%|          | 0/3 [00:00<?, ?it/s]"
     ]
    },
    {
     "name": "stdout",
     "output_type": "stream",
     "text": [
      "tensor(-152.1145, device='cuda:0') tensor(-152.1145, device='cuda:0') tensor(-976.2920, device='cuda:0')\n"
     ]
    },
    {
     "name": "stderr",
     "output_type": "stream",
     "text": [
      " 33%|███▎      | 1/3 [00:00<00:01,  1.53it/s]"
     ]
    },
    {
     "name": "stdout",
     "output_type": "stream",
     "text": [
      "tensor(-195.3471, device='cuda:0') tensor(-195.3471, device='cuda:0') tensor(-1002.5781, device='cuda:0')\n"
     ]
    },
    {
     "name": "stderr",
     "output_type": "stream",
     "text": [
      " 67%|██████▋   | 2/3 [00:01<00:00,  2.04it/s]"
     ]
    },
    {
     "name": "stdout",
     "output_type": "stream",
     "text": [
      "tensor(24.2219, device='cuda:0') tensor(24.2219, device='cuda:0') tensor(-951.9678, device='cuda:0')\n"
     ]
    },
    {
     "name": "stderr",
     "output_type": "stream",
     "text": [
      "100%|██████████| 3/3 [00:01<00:00,  2.06it/s]\n",
      "  0%|          | 0/3 [00:00<?, ?it/s]"
     ]
    },
    {
     "name": "stdout",
     "output_type": "stream",
     "text": [
      "tensor(-152.1145, device='cuda:0') tensor(-152.1145, device='cuda:0') tensor(-976.2920, device='cuda:0')\n"
     ]
    },
    {
     "name": "stderr",
     "output_type": "stream",
     "text": [
      " 33%|███▎      | 1/3 [00:00<00:01,  1.48it/s]"
     ]
    },
    {
     "name": "stdout",
     "output_type": "stream",
     "text": [
      "tensor(-195.3471, device='cuda:0') tensor(-195.3471, device='cuda:0') tensor(-1002.5781, device='cuda:0')\n"
     ]
    },
    {
     "name": "stderr",
     "output_type": "stream",
     "text": [
      " 67%|██████▋   | 2/3 [00:01<00:00,  1.98it/s]"
     ]
    },
    {
     "name": "stdout",
     "output_type": "stream",
     "text": [
      "tensor(24.2219, device='cuda:0') tensor(24.2219, device='cuda:0') tensor(-951.9678, device='cuda:0')\n"
     ]
    },
    {
     "name": "stderr",
     "output_type": "stream",
     "text": [
      "100%|██████████| 3/3 [00:01<00:00,  2.00it/s]\n",
      "  0%|          | 0/3 [00:00<?, ?it/s]"
     ]
    },
    {
     "name": "stdout",
     "output_type": "stream",
     "text": [
      "tensor(-152.1145, device='cuda:0') tensor(-152.1145, device='cuda:0') tensor(-976.2920, device='cuda:0')\n"
     ]
    },
    {
     "name": "stderr",
     "output_type": "stream",
     "text": [
      " 33%|███▎      | 1/3 [00:00<00:01,  1.51it/s]"
     ]
    },
    {
     "name": "stdout",
     "output_type": "stream",
     "text": [
      "tensor(-195.3471, device='cuda:0') tensor(-195.3471, device='cuda:0') tensor(-1002.5781, device='cuda:0')\n"
     ]
    },
    {
     "name": "stderr",
     "output_type": "stream",
     "text": [
      " 67%|██████▋   | 2/3 [00:01<00:00,  2.02it/s]"
     ]
    },
    {
     "name": "stdout",
     "output_type": "stream",
     "text": [
      "tensor(24.2219, device='cuda:0') tensor(24.2219, device='cuda:0') tensor(-951.9678, device='cuda:0')\n"
     ]
    },
    {
     "name": "stderr",
     "output_type": "stream",
     "text": [
      "100%|██████████| 3/3 [00:01<00:00,  2.04it/s]\n"
     ]
    }
   ],
   "source": [
    "y_preds = []\n",
    "for fold in range(N_FOLDS):\n",
    "    MODEL_PATH = f'/kaggle/input/xs-final/model_best_fold-0 (1).pth'\n",
    "    model = BertEncoder(\n",
    "        conf=conf, \n",
    "        in_c=len(test_ds.feat_list), \n",
    "        out_c=2, \n",
    "        emb_dim=EMB_DIM, \n",
    "        pretrained=False,\n",
    "    ).to(device)\n",
    "\n",
    "    model.load_state_dict(torch.load(MODEL_PATH, map_location=device))\n",
    "    model.eval().half()\n",
    "    with torch.no_grad():\n",
    "        with tqdm(test_dl, leave=True) as pbar:\n",
    "            for j, (X_batch, hr_batch) in enumerate(pbar):\n",
    "                X_batch = X_batch.to(device)\n",
    "                hr_batch = hr_batch.to(device)\n",
    "                \n",
    "                x_seq_len = X_batch.shape[1]\n",
    "                y_pred = torch.zeros((1, x_seq_len*SAMPLE_FREQ, 2)).to(device)\n",
    "                y_seq_len = y_pred.shape[1]\n",
    "                \n",
    "                if x_seq_len%MAX_CHUNK_LEN != 0:\n",
    "                    X_batch = padding_(X_batch, MAX_CHUNK_LEN)\n",
    "                    hr_batch = padding_(hr_batch, MAX_CHUNK_LEN)\n",
    "\n",
    "                if y_seq_len%MAX_LEN != 0:\n",
    "                    y_pred = padding_(y_pred, MAX_LEN)\n",
    "\n",
    "                YPOS = 0\n",
    "                for i in range(0, x_seq_len, MAX_CHUNK_LEN):\n",
    "                    X_chunk = X_batch[:, i : i + MAX_CHUNK_LEN]\n",
    "                    hr_chunk = hr_batch[:, i : i + MAX_CHUNK_LEN]\n",
    "                    with autocast:\n",
    "                        p = model(X_chunk, hr_chunk)\n",
    "                        y_pred[:, YPOS : YPOS + MAX_CHUNK_LEN*SAMPLE_FREQ] = p\n",
    "\n",
    "                    YPOS += MAX_CHUNK_LEN*SAMPLE_FREQ\n",
    "\n",
    "                y_pred = y_pred[:, :y_seq_len]\n",
    "                    \n",
    "                if len(test_dl)==3:\n",
    "                    print(X_batch.sum(), X_batch.sum(), y_pred.sum())\n",
    "\n",
    "                if fold==0:\n",
    "                    y_preds.append(y_pred[0].sigmoid().cpu().numpy().astype(np.float32) / N_FOLDS)\n",
    "                else:\n",
    "                    y_preds[j] += y_pred[0].sigmoid().cpu().numpy().astype(np.float32) / N_FOLDS\n",
    "                        \n",
    "                \n",
    "                del X_batch, hr_batch\n",
    "                gc.collect()\n",
    "                torch.cuda.empty_cache()\n",
    "\n",
    "    del model\n",
    "    gc.collect()\n",
    "    torch.cuda.empty_cache()"
   ]
  },
  {
   "cell_type": "code",
   "execution_count": 20,
   "id": "7a3b655e",
   "metadata": {
    "execution": {
     "iopub.execute_input": "2023-12-05T20:12:33.749229Z",
     "iopub.status.busy": "2023-12-05T20:12:33.748656Z",
     "iopub.status.idle": "2023-12-05T20:12:34.867858Z",
     "shell.execute_reply": "2023-12-05T20:12:34.866815Z"
    },
    "papermill": {
     "duration": 1.13659,
     "end_time": "2023-12-05T20:12:34.870109",
     "exception": false,
     "start_time": "2023-12-05T20:12:33.733519",
     "status": "completed"
    },
    "tags": []
   },
   "outputs": [
    {
     "name": "stderr",
     "output_type": "stream",
     "text": [
      "  0%|          | 0/3 [00:00<?, ?it/s]"
     ]
    },
    {
     "data": {
      "image/png": "[encoded data removed]",
      "text/plain": [
       "<Figure size 640x480 with 1 Axes>"
      ]
     },
     "metadata": {},
     "output_type": "display_data"
    },
    {
     "name": "stderr",
     "output_type": "stream",
     "text": [
      " 33%|███▎      | 1/3 [00:00<00:00,  3.53it/s]"
     ]
    },
    {
     "data": {
      "image/png": "[encoded data removed]",
      "text/plain": [
       "<Figure size 640x480 with 1 Axes>"
      ]
     },
     "metadata": {},
     "output_type": "display_data"
    },
    {
     "name": "stderr",
     "output_type": "stream",
     "text": [
      " 67%|██████▋   | 2/3 [00:00<00:00,  3.56it/s]"
     ]
    },
    {
     "data": {
      "image/png": "[encoded data removed]",
      "text/plain": [
       "<Figure size 640x480 with 1 Axes>"
      ]
     },
     "metadata": {},
     "output_type": "display_data"
    },
    {
     "name": "stderr",
     "output_type": "stream",
     "text": [
      "100%|██████████| 3/3 [00:00<00:00,  3.55it/s]\n"
     ]
    }
   ],
   "source": [
    "for i, y_pred in tqdm(enumerate(y_preds), total=len(y_preds)):\n",
    "    before_RMSE = np.sqrt(mean_squared_error(y_pred, np.zeros_like(y_pred)))\n",
    "\n",
    "    if len(test_ds.Xs)!=3:\n",
    "        y_pred[:,0] = lpf(y_pred[:,0])\n",
    "        y_pred[:,1] = lpf(y_pred[:,1])\n",
    "        \n",
    "    else:\n",
    "\n",
    "        plt.plot(y_pred[:,0], lw=0.5)\n",
    "        plt.title(ids[i])\n",
    "        plt.show()\n",
    "\n",
    "    after_RMSE = np.sqrt(mean_squared_error(y_pred, np.zeros_like(y_pred)))\n",
    "\n",
    "    decay_ratio = before_RMSE/after_RMSE\n",
    "    y_pred *= decay_ratio\n",
    "\n",
    "    onset_candi = argrelmax(y_pred[:, 0], order=12*60*6) # 12*60*6 = 6hours\n",
    "    wakeup_candi = argrelmax(y_pred[:, 1], order=12*60*6) # 12*60*6 = 6hours\n",
    "\n",
    "\n",
    "    series_id = ids[i]\n",
    "    try:                \n",
    "        onset_candi = onset_candi[0]\n",
    "        onset = pd.DataFrame({'series_id': [series_id]*len(onset_candi),\n",
    "                             'step': onset_candi,\n",
    "                             'score': y_pred[onset_candi, 0].reshape(-1),\n",
    "                             'event': ['onset']*len(onset_candi)})\n",
    "    except:\n",
    "         onset = pd.DataFrame()\n",
    "\n",
    "    try:\n",
    "        wakeup_candi = wakeup_candi[0]\n",
    "        wakeup = pd.DataFrame({'series_id': [series_id]*len(wakeup_candi),\n",
    "                             'step': wakeup_candi,\n",
    "                             'score': y_pred[wakeup_candi, 1].reshape(-1),\n",
    "                             'event': ['wakeup']*len(wakeup_candi)})\n",
    "    except:\n",
    "        wakeup = pd.DataFrame()\n",
    "\n",
    "    submission = pd.concat([submission, onset, wakeup], axis=0)\n",
    "\n",
    "gc.collect()\n",
    "torch.cuda.empty_cache()"
   ]
  },
  {
   "cell_type": "code",
   "execution_count": 21,
   "id": "0f1fea5b",
   "metadata": {
    "execution": {
     "iopub.execute_input": "2023-12-05T20:12:34.902479Z",
     "iopub.status.busy": "2023-12-05T20:12:34.902136Z",
     "iopub.status.idle": "2023-12-05T20:12:34.915674Z",
     "shell.execute_reply": "2023-12-05T20:12:34.914898Z"
    },
    "papermill": {
     "duration": 0.031774,
     "end_time": "2023-12-05T20:12:34.917576",
     "exception": false,
     "start_time": "2023-12-05T20:12:34.885802",
     "status": "completed"
    },
    "tags": []
   },
   "outputs": [],
   "source": [
    "submission = submission.sort_values(['series_id','step']).reset_index(drop=True)\n",
    "submission['row_id'] = submission.index.astype(int)\n",
    "submission['score'] = submission['score'].fillna(submission['score'].mean())\n",
    "submission = submission[['row_id','series_id','step','event','score']]\n",
    "submission['step'] = submission['step']\n",
    "submission.to_csv('submission.csv',index=False)"
   ]
  },
  {
   "cell_type": "code",
   "execution_count": 22,
   "id": "11932aba",
   "metadata": {
    "execution": {
     "iopub.execute_input": "2023-12-05T20:12:34.949945Z",
     "iopub.status.busy": "2023-12-05T20:12:34.949642Z",
     "iopub.status.idle": "2023-12-05T20:12:34.957800Z",
     "shell.execute_reply": "2023-12-05T20:12:34.956918Z"
    },
    "papermill": {
     "duration": 0.026198,
     "end_time": "2023-12-05T20:12:34.959638",
     "exception": false,
     "start_time": "2023-12-05T20:12:34.933440",
     "status": "completed"
    },
    "tags": []
   },
   "outputs": [
    {
     "data": {
      "text/html": [
       "<div>\n",
       "<style scoped>\n",
       "    .dataframe tbody tr th:only-of-type {\n",
       "        vertical-align: middle;\n",
       "    }\n",
       "\n",
       "    .dataframe tbody tr th {\n",
       "        vertical-align: top;\n",
       "    }\n",
       "\n",
       "    .dataframe thead th {\n",
       "        text-align: right;\n",
       "    }\n",
       "</style>\n",
       "<table border=\"1\" class=\"dataframe\">\n",
       "  <thead>\n",
       "    <tr style=\"text-align: right;\">\n",
       "      <th></th>\n",
       "      <th>row_id</th>\n",
       "      <th>series_id</th>\n",
       "      <th>step</th>\n",
       "      <th>event</th>\n",
       "      <th>score</th>\n",
       "    </tr>\n",
       "  </thead>\n",
       "  <tbody>\n",
       "  </tbody>\n",
       "</table>\n",
       "</div>"
      ],
      "text/plain": [
       "Empty DataFrame\n",
       "Columns: [row_id, series_id, step, event, score]\n",
       "Index: []"
      ]
     },
     "execution_count": 22,
     "metadata": {},
     "output_type": "execute_result"
    }
   ],
   "source": [
    "submission"
   ]
  },
  {
   "cell_type": "code",
   "execution_count": null,
   "id": "3d3c69a5",
   "metadata": {
    "papermill": {
     "duration": 0.01564,
     "end_time": "2023-12-05T20:12:34.990641",
     "exception": false,
     "start_time": "2023-12-05T20:12:34.975001",
     "status": "completed"
    },
    "tags": []
   },
   "outputs": [],
   "source": []
  },
  {
   "cell_type": "code",
   "execution_count": null,
   "id": "4903051a",
   "metadata": {
    "papermill": {
     "duration": 0.015172,
     "end_time": "2023-12-05T20:12:35.021467",
     "exception": false,
     "start_time": "2023-12-05T20:12:35.006295",
     "status": "completed"
    },
    "tags": []
   },
   "outputs": [],
   "source": []
  }
 ],
 "metadata": {
  "kaggle": {
   "accelerator": "gpu",
   "dataSources": [
    {
     "databundleVersionId": 6589269,
     "sourceId": 53666,
     "sourceType": "competition"
    },
    {
     "datasetId": 3991761,
     "sourceId": 6950321,
     "sourceType": "datasetVersion"
    },
    {
     "datasetId": 4115426,
     "sourceId": 7132732,
     "sourceType": "datasetVersion"
    },
    {
     "sourceId": 147531007,
     "sourceType": "kernelVersion"
    },
    {
     "sourceId": 147694441,
     "sourceType": "kernelVersion"
    },
    {
     "sourceId": 150120807,
     "sourceType": "kernelVersion"
    }
   ],
   "dockerImageVersionId": 30559,
   "isGpuEnabled": true,
   "isInternetEnabled": false,
   "language": "python",
   "sourceType": "notebook"
  },
  "kernelspec": {
   "display_name": "Python 3",
   "language": "python",
   "name": "python3"
  },
  "language_info": {
   "codemirror_mode": {
    "name": "ipython",
    "version": 3
   },
   "file_extension": ".py",
   "mimetype": "text/x-python",
   "name": "python",
   "nbconvert_exporter": "python",
   "pygments_lexer": "ipython3",
   "version": "3.10.12"
  },
  "papermill": {
   "default_parameters": {},
   "duration": 52.53061,
   "end_time": "2023-12-05T20:12:38.219883",
   "environment_variables": {},
   "exception": null,
   "input_path": "__notebook__.ipynb",
   "output_path": "__notebook__.ipynb",
   "parameters": {},
   "start_time": "2023-12-05T20:11:45.689273",
   "version": "2.4.0"
  }
 },
 "nbformat": 4,
 "nbformat_minor": 5
}
