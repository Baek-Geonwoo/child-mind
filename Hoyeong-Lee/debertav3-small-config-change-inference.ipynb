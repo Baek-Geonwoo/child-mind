{
 "cells": [
  {
   "cell_type": "code",
   "execution_count": 1,
   "id": "dc114041",
   "metadata": {
    "execution": {
     "iopub.execute_input": "2023-12-12T11:16:15.516008Z",
     "iopub.status.busy": "2023-12-12T11:16:15.515718Z",
     "iopub.status.idle": "2023-12-12T11:16:30.605654Z",
     "shell.execute_reply": "2023-12-12T11:16:30.604840Z"
    },
    "papermill": {
     "duration": 15.10014,
     "end_time": "2023-12-12T11:16:30.607956",
     "exception": false,
     "start_time": "2023-12-12T11:16:15.507816",
     "status": "completed"
    },
    "tags": []
   },
   "outputs": [
    {
     "name": "stderr",
     "output_type": "stream",
     "text": [
      "/opt/conda/lib/python3.10/site-packages/scipy/__init__.py:146: UserWarning: A NumPy version >=1.16.5 and <1.23.0 is required for this version of SciPy (detected version 1.23.5\n",
      "  warnings.warn(f\"A NumPy version >={np_minversion} and <{np_maxversion}\"\n"
     ]
    }
   ],
   "source": [
    "import pandas as pd\n",
    "import numpy as np\n",
    "import gc\n",
    "import time\n",
    "import json\n",
    "from datetime import datetime\n",
    "import matplotlib.pyplot as plt\n",
    "import os\n",
    "import joblib\n",
    "import random\n",
    "import math\n",
    "from tqdm import tqdm \n",
    "\n",
    "from scipy.interpolate import interp1d\n",
    "from scipy import signal\n",
    "from scipy.signal import argrelmax\n",
    "\n",
    "from math import pi, sqrt, exp\n",
    "import sklearn,sklearn.model_selection\n",
    "from sklearn.metrics import mean_squared_error\n",
    "import torch\n",
    "from torch import nn,Tensor\n",
    "import torch.nn.functional as F\n",
    "from torch.utils.data import DataLoader, Dataset, SubsetRandomSampler\n",
    "from sklearn.metrics import average_precision_score\n",
    "from timm.scheduler import CosineLRScheduler\n",
    "plt.style.use(\"ggplot\")\n",
    "\n",
    "from transformers import get_cosine_schedule_with_warmup\n",
    "from transformers import AutoTokenizer, AutoConfig\n",
    "from transformers import AutoModel\n",
    "\n",
    "from pyarrow.parquet import ParquetFile\n",
    "import pyarrow as pa \n",
    "import ctypes\n",
    "torch.set_num_interop_threads(4)\n",
    "torch.set_num_threads(4)\n",
    "\n",
    "device = 'cuda' if torch.cuda.is_available() else 'cpu'"
   ]
  },
  {
   "cell_type": "code",
   "execution_count": 2,
   "id": "5f684acf",
   "metadata": {
    "execution": {
     "iopub.execute_input": "2023-12-12T11:16:30.624578Z",
     "iopub.status.busy": "2023-12-12T11:16:30.623835Z",
     "iopub.status.idle": "2023-12-12T11:16:30.628854Z",
     "shell.execute_reply": "2023-12-12T11:16:30.627959Z"
    },
    "papermill": {
     "duration": 0.015136,
     "end_time": "2023-12-12T11:16:30.630686",
     "exception": false,
     "start_time": "2023-12-12T11:16:30.615550",
     "status": "completed"
    },
    "tags": []
   },
   "outputs": [],
   "source": [
    "# Fundamental config\n",
    "WORKERS = os.cpu_count()//2\n",
    "N_FOLDS = 1\n",
    "\n",
    "SIGMA = 720 #average length of day is 24*60*12 = 17280 for comparison\n",
    "SAMPLE_FREQ = 12 # 1 obs per minute\n",
    "MAX_LEN = (24*60*12) # 1day per chunk\n",
    "MAX_CHUNK_LEN = MAX_LEN // SAMPLE_FREQ # 1440pts = 1day"
   ]
  },
  {
   "cell_type": "code",
   "execution_count": 3,
   "id": "cdb7d7c9",
   "metadata": {
    "execution": {
     "iopub.execute_input": "2023-12-12T11:16:30.646386Z",
     "iopub.status.busy": "2023-12-12T11:16:30.646091Z",
     "iopub.status.idle": "2023-12-12T11:16:30.667944Z",
     "shell.execute_reply": "2023-12-12T11:16:30.667149Z"
    },
    "papermill": {
     "duration": 0.032035,
     "end_time": "2023-12-12T11:16:30.669818",
     "exception": false,
     "start_time": "2023-12-12T11:16:30.637783",
     "status": "completed"
    },
    "tags": []
   },
   "outputs": [],
   "source": [
    "class PATHS:\n",
    "    MAIN_DIR = \"/kaggle/input/child-mind-institute-detect-sleep-states/\"\n",
    "    # CSV FILES : \n",
    "    SUBMISSION = MAIN_DIR + \"sample_submission.csv\"\n",
    "    TRAIN_EVENTS = MAIN_DIR + \"train_events.csv\"\n",
    "    # PARQUET FILES:\n",
    "    TRAIN_SERIES = MAIN_DIR + \"train_series.parquet\"\n",
    "    TEST_SERIES = MAIN_DIR + \"test_series.parquet\"\n",
    "class CFG:\n",
    "    DEMO_MODE = True\n",
    "class data_reader:\n",
    "    def __init__(self, demo_mode):\n",
    "        super().__init__()\n",
    "        # MAPPING FOR DATA LOADING :\n",
    "        self.names_mapping = {\n",
    "            \"submission\" : {\"path\" : PATHS.SUBMISSION, \"is_parquet\" : False, \"has_timestamp\" : False}, \n",
    "            \"train_events\" : {\"path\" : PATHS.TRAIN_EVENTS, \"is_parquet\" : False, \"has_timestamp\" : True},\n",
    "            \"train_series\" : {\"path\" : PATHS.TRAIN_SERIES, \"is_parquet\" : True, \"has_timestamp\" : True},\n",
    "            \"test_series\" : {\"path\" : PATHS.TEST_SERIES, \"is_parquet\" : True, \"has_timestamp\" : True}\n",
    "        }\n",
    "        self.valid_names = [\"submission\", \"train_events\", \"train_series\", \"test_series\"]\n",
    "        self.demo_mode = demo_mode\n",
    "    \n",
    "    def verify(self, data_name):\n",
    "        \"function for data name verification\"\n",
    "        if data_name not in self.valid_names:\n",
    "            print(\"PLEASE ENTER A VALID DATASET NAME, VALID NAMES ARE : \", valid_names)\n",
    "        return\n",
    "    \n",
    "    def cleaning(self, data):\n",
    "        \"cleaning function : drop na values\"\n",
    "        before_cleaning = len(data)\n",
    "        print(\"Number of missing timestamps : \", len(data[data[\"timestamp\"].isna()]))\n",
    "        data = data.dropna(subset=[\"timestamp\"])\n",
    "        after_cleaning = len(data)\n",
    "        print(\"Percentage of removed rows : {:.1f}%\".format(100 * (before_cleaning - after_cleaning) / before_cleaning) )\n",
    "#         print(data.isna().any())\n",
    "#         data = data.bfill()\n",
    "        return data\n",
    "    \n",
    "    @staticmethod\n",
    "    def reduce_memory_usage(data):\n",
    "        \"iterate through all the columns of a dataframe and modify the data type to reduce memory usage.\"\n",
    "        start_mem = data.memory_usage().sum() / 1024**2\n",
    "        print('Memory usage of dataframe is {:.2f} MB'.format(start_mem))\n",
    "        for col in data.columns:\n",
    "            col_type = data[col].dtype    \n",
    "            if col_type != object:\n",
    "                c_min = data[col].min()\n",
    "                c_max = data[col].max()\n",
    "                if str(col_type)[:3] == 'int':\n",
    "                    if c_min > np.iinfo(np.int8).min and c_max < np.iinfo(np.int8).max:\n",
    "                        data[col] = data[col].astype(np.int8)\n",
    "                    elif c_min > np.iinfo(np.int16).min and c_max < np.iinfo(np.int16).max:\n",
    "                        data[col] = data[col].astype(np.int16)\n",
    "                    elif c_min > np.iinfo(np.int32).min and c_max < np.iinfo(np.int32).max:\n",
    "                        data[col] = data[col].astype(np.int32)\n",
    "                    elif c_min > np.iinfo(np.int64).min and c_max < np.iinfo(np.int64).max:\n",
    "                        data[col] = data[col].astype(np.int64)  \n",
    "                else:\n",
    "                    if c_min > np.finfo(np.float16).min and c_max < np.finfo(np.float16).max:\n",
    "                        data[col] = data[col].astype(np.float16)\n",
    "                    elif c_min > np.finfo(np.float32).min and c_max < np.finfo(np.float32).max:\n",
    "                        data[col] = data[col].astype(np.float32)\n",
    "                    else:\n",
    "                        data[col] = data[col].astype(np.float64)\n",
    "            else:\n",
    "                data[col] = data[col].astype('category')\n",
    "\n",
    "        end_mem = data.memory_usage().sum() / 1024**2\n",
    "        print('Memory usage after optimization is: {:.2f} MB'.format(end_mem))\n",
    "        print('Decreased by {:.1f}%'.format(100 * (start_mem - end_mem) / start_mem))\n",
    "        return data\n",
    "    \n",
    "    def load_data(self, data_name):\n",
    "        \"function for data loading\"\n",
    "        self.verify(data_name)\n",
    "        data_props = self.names_mapping[data_name]\n",
    "        if data_props[\"is_parquet\"]:\n",
    "            if self.demo_mode:\n",
    "                pf = ParquetFile(data_props[\"path\"]) \n",
    "                demo_rows = next(pf.iter_batches(batch_size=20_000)) \n",
    "                data = pa.Table.from_batches([demo_rows]).to_pandas()\n",
    "            else:\n",
    "                data = pd.read_parquet(data_props[\"path\"])\n",
    "        else:\n",
    "            if self.demo_mode:\n",
    "                data = pd.read_csv(data_props[\"path\"], nrows=20_000)\n",
    "            else:\n",
    "                data = pd.read_csv(data_props[\"path\"])\n",
    "                \n",
    "        gc.collect()\n",
    "        if data_props[\"has_timestamp\"]:\n",
    "            print('cleaning')\n",
    "            data = self.cleaning(data)\n",
    "            gc.collect()\n",
    "        #data = self.reduce_memory_usage(data)\n",
    "        return data"
   ]
  },
  {
   "cell_type": "code",
   "execution_count": 4,
   "id": "cf404024",
   "metadata": {
    "execution": {
     "iopub.execute_input": "2023-12-12T11:16:30.685585Z",
     "iopub.status.busy": "2023-12-12T11:16:30.685117Z",
     "iopub.status.idle": "2023-12-12T11:16:31.466205Z",
     "shell.execute_reply": "2023-12-12T11:16:31.465306Z"
    },
    "papermill": {
     "duration": 0.791256,
     "end_time": "2023-12-12T11:16:31.468130",
     "exception": false,
     "start_time": "2023-12-12T11:16:30.676874",
     "status": "completed"
    },
    "tags": []
   },
   "outputs": [
    {
     "name": "stdout",
     "output_type": "stream",
     "text": [
      "cleaning\n",
      "Number of missing timestamps :  0\n",
      "Percentage of removed rows : 0.0%\n"
     ]
    },
    {
     "data": {
      "text/plain": [
       "0"
      ]
     },
     "execution_count": 4,
     "metadata": {},
     "output_type": "execute_result"
    }
   ],
   "source": [
    "reader = data_reader(demo_mode=False)\n",
    "test_series = reader.load_data(data_name=\"test_series\")\n",
    "ids = test_series.series_id.unique()\n",
    "gc.collect()"
   ]
  },
  {
   "cell_type": "code",
   "execution_count": 5,
   "id": "689e6670",
   "metadata": {
    "execution": {
     "iopub.execute_input": "2023-12-12T11:16:31.484915Z",
     "iopub.status.busy": "2023-12-12T11:16:31.484624Z",
     "iopub.status.idle": "2023-12-12T11:16:31.500447Z",
     "shell.execute_reply": "2023-12-12T11:16:31.499312Z"
    },
    "papermill": {
     "duration": 0.026615,
     "end_time": "2023-12-12T11:16:31.502389",
     "exception": false,
     "start_time": "2023-12-12T11:16:31.475774",
     "status": "completed"
    },
    "tags": []
   },
   "outputs": [],
   "source": [
    "class US_BLK(nn.Module):\n",
    "    def __init__(self, in_c, out_c, in_len, ks=7, dilation=1, us_factor=2):\n",
    "        super().__init__()\n",
    "        padding = ((ks-1)*dilation)//2\n",
    "        self.us = nn.Upsample(scale_factor=us_factor, mode='linear')\n",
    "        self.conv1 = nn.Conv1d(in_c, out_c, ks, padding=padding, dilation=dilation)\n",
    "        self.ln1 = nn.LayerNorm([out_c, in_len])\n",
    "        self.act1 = nn.LeakyReLU(0.2)\n",
    "        self.conv2 = nn.Conv1d(out_c, out_c, ks, padding=padding, dilation=dilation)\n",
    "        self.ln2 = nn.LayerNorm([out_c, in_len])\n",
    "        self.act2 = nn.LeakyReLU(0.2)\n",
    "        \n",
    "    def forward(self, x):\n",
    "        x = self.us(x)\n",
    "        x = self.conv1(x)\n",
    "        x = self.ln1(x)\n",
    "        x = self.act1(x)\n",
    "        x = self.conv2(x)\n",
    "        x = self.ln2(x)\n",
    "        x = self.act2(x)\n",
    "        return x\n",
    "        \n",
    "class BertEncoder(torch.nn.Module):\n",
    "    \n",
    "    def __init__(self, conf, in_c=2, out_c=2, emb_dim=8, pretrained=True, base=96):\n",
    "        super().__init__()\n",
    "        \n",
    "        self.config = conf\n",
    "        \n",
    "        self.bert = AutoModel.from_config(self.config)\n",
    "            \n",
    "        self.bert = self.bert.encoder\n",
    "        \n",
    "        self.fc_in = nn.Linear(in_c, self.config.hidden_size-emb_dim)\n",
    "        self.hr_emb = nn.Embedding(24, emb_dim)\n",
    "\n",
    "        self.upsample_blocks = nn.ModuleList([])\n",
    "        self.upsample_blocks.append(US_BLK(self.config.hidden_size, base*4, MAX_LEN//(2*2), us_factor=3))\n",
    "        self.upsample_blocks.append(US_BLK(base*4, base*2, MAX_LEN//2, us_factor=2))\n",
    "        self.upsample_blocks.append(US_BLK(base*2, base, MAX_LEN, us_factor=2))\n",
    "        \n",
    "        self.fc_out = nn.Linear(base, out_c)\n",
    "\n",
    "    def forward(self, x, t, att_mask=None):\n",
    "        x = self.fc_in(x)        \n",
    "        t = self.hr_emb(t)\n",
    "        x = torch.cat([x, t.squeeze(2)], dim=-1)\n",
    "\n",
    "        if att_mask is None:\n",
    "            att_mask = torch.ones(x.size()[:2]).to(x.device)\n",
    "        \n",
    "        bert_output = self.bert(x, attention_mask=att_mask)\n",
    "        x = bert_output.last_hidden_state\n",
    "\n",
    "        x = x.permute(0,2,1)\n",
    "\n",
    "        for b in self.upsample_blocks:\n",
    "            x = b(x)\n",
    "\n",
    "        x = x.permute(0,2,1)\n",
    "        \n",
    "        scores = self.fc_out(x) \n",
    "        \n",
    "        return scores"
   ]
  },
  {
   "cell_type": "code",
   "execution_count": 6,
   "id": "499adc52",
   "metadata": {
    "execution": {
     "iopub.execute_input": "2023-12-12T11:16:31.518387Z",
     "iopub.status.busy": "2023-12-12T11:16:31.517865Z",
     "iopub.status.idle": "2023-12-12T11:16:31.581426Z",
     "shell.execute_reply": "2023-12-12T11:16:31.580407Z"
    },
    "papermill": {
     "duration": 0.073652,
     "end_time": "2023-12-12T11:16:31.583313",
     "exception": false,
     "start_time": "2023-12-12T11:16:31.509661",
     "status": "completed"
    },
    "tags": []
   },
   "outputs": [
    {
     "name": "stderr",
     "output_type": "stream",
     "text": [
      "100%|██████████| 3/3 [00:00<00:00, 111.41it/s]\n"
     ]
    }
   ],
   "source": [
    "class SleepTestDataset(Dataset):\n",
    "    def __init__(\n",
    "        self,\n",
    "        test_series,\n",
    "        test_ids\n",
    "    ):\n",
    "        self.enmo_mean = np.load('/kaggle/input/detect-sleep-states-dataprepare/enmo_mean.npy')\n",
    "        self.enmo_std = np.load('/kaggle/input/detect-sleep-states-dataprepare/enmo_std.npy')\n",
    "\n",
    "        self.Xs = self.conv_dfs(test_series, test_ids)\n",
    "        \n",
    "        self.feat_list = np.load('/kaggle/input/small-small/feature_list.npy')\n",
    "        self.label_list = ['onset', 'wakeup']\n",
    "        \n",
    "        self.hour_feat= ['hour']\n",
    "        \n",
    "            \n",
    "    def conv_dfs(self, series, ids):\n",
    "        res = []\n",
    "        for j, viz_id in tqdm(enumerate(ids), total=len(ids)):\n",
    "            viz_series = series.loc[(series.series_id==viz_id)].copy().reset_index()\n",
    "            viz_series['dt'] = pd.to_datetime(viz_series.timestamp,format = '%Y-%m-%dT%H:%M:%S%z').astype(\"datetime64[ns, UTC-04:00]\")\n",
    "            viz_series['hour'] = viz_series['dt'].dt.hour\n",
    "            new_df = viz_series[['step', 'anglez', 'enmo', 'hour']]\n",
    "            res.append(new_df)\n",
    "\n",
    "        return res\n",
    "    \n",
    "\n",
    "    def norm_feat_eng(self, X, init=False):\n",
    "        X['anglez'] = abs(X['anglez'].diff()).fillna(method='bfill')\n",
    "        X['enmo'] = (X['enmo'] - self.enmo_mean)/ (self.enmo_std + 1e-12)\n",
    "        \n",
    "        for w in [1, 2, 4, 8, 16]:    \n",
    "            X['anglez_shift_pos_' + str(w)] = X['anglez'].shift(w).fillna(0)\n",
    "            X['anglez_shift_neg_' + str(w)] = X['anglez'].shift(-w).fillna(0)\n",
    "            \n",
    "            X['enmo_shift_pos_' + str(w)] = X['enmo'].shift(w).fillna(0)\n",
    "            X['enmo_shift_neg_' + str(w)] = X['enmo'].shift(-w).fillna(0)\n",
    "            \n",
    "            if init:\n",
    "                self.feat_list.append('anglez_shift_pos_' + str(w))\n",
    "                self.feat_list.append('anglez_shift_neg_' + str(w))\n",
    "                \n",
    "                self.feat_list.append('enmo_shift_pos_' + str(w))\n",
    "                self.feat_list.append('enmo_shift_neg_' + str(w))\n",
    "            \n",
    "        for r in [17, 33, 65]:\n",
    "            tmp_anglez = X['anglez'].rolling(r, center=True)\n",
    "            X[f'anglez_mean_{r}'] = tmp_anglez.mean()\n",
    "            X[f'anglez_std_{r}'] = tmp_anglez.std()            \n",
    "            \n",
    "            tmp_enmo = X['enmo'].rolling(r, center=True)\n",
    "            X[f'enmo_mean_{r}'] = tmp_enmo.mean()\n",
    "            X[f'enmo_std_{r}'] = tmp_enmo.std()\n",
    "            \n",
    "            if init:\n",
    "                self.feat_list.append(f'anglez_mean_{r}')\n",
    "                self.feat_list.append(f'anglez_std_{r}')\n",
    "\n",
    "                self.feat_list.append(f'enmo_mean_{r}')\n",
    "                self.feat_list.append(f'enmo_std_{r}')\n",
    "                \n",
    "        X = X.fillna(0)\n",
    "        \n",
    "        return X.astype(np.float32)\n",
    "\n",
    "    def gauss(self,n=SIGMA,sigma=SIGMA*0.15):\n",
    "        # guassian distribution function\n",
    "        r = range(-int(n/2),int(n/2)+1)\n",
    "        return [1 / (sigma * sqrt(2*pi)) * exp(-float(x)**2/(2*sigma**2)) for x in r]\n",
    "    \n",
    "    def __len__(self):\n",
    "        return len(self.Xs)\n",
    "    \n",
    "    def compress(self, xt, method='mean', sample_freq=SAMPLE_FREQ):\n",
    "        x, t = xt\n",
    "        seq_len = x.shape[0]\n",
    "        if method == 'mean':\n",
    "            x = x.reshape(seq_len//sample_freq, sample_freq, -1).mean(1)\n",
    "            t = t.reshape(seq_len//sample_freq, sample_freq, 1).mean(1)\n",
    "            \n",
    "        else:\n",
    "            raise NotImplementedError()\n",
    "\n",
    "        \n",
    "        return x.astype(np.float32), t.astype(np.int32)\n",
    "\n",
    "    def __getitem__(self, index):\n",
    "        X = self.Xs[index].copy()\n",
    "        X = self.norm_feat_eng(X, init=False)\n",
    "        x = X[self.feat_list].values.astype(np.float32)     \n",
    "        t = X[self.hour_feat].values.astype(np.int32)\n",
    "        \n",
    "        if len(X)%SAMPLE_FREQ!=0:\n",
    "            res = SAMPLE_FREQ - (len(X)%SAMPLE_FREQ)\n",
    "            x = np.pad(x, ((0, res), (0, 0)))\n",
    "            t = np.pad(t, ((0, res), (0, 0)))\n",
    "            \n",
    "        x, t = self.compress((x, t), method='mean')\n",
    "                \n",
    "        return x, t\n",
    "\n",
    "test_ds = SleepTestDataset(test_series, ids)"
   ]
  },
  {
   "cell_type": "code",
   "execution_count": 7,
   "id": "2f7ad9e5",
   "metadata": {
    "execution": {
     "iopub.execute_input": "2023-12-12T11:16:31.599759Z",
     "iopub.status.busy": "2023-12-12T11:16:31.599503Z",
     "iopub.status.idle": "2023-12-12T11:16:31.607149Z",
     "shell.execute_reply": "2023-12-12T11:16:31.606363Z"
    },
    "papermill": {
     "duration": 0.01808,
     "end_time": "2023-12-12T11:16:31.608965",
     "exception": false,
     "start_time": "2023-12-12T11:16:31.590885",
     "status": "completed"
    },
    "tags": []
   },
   "outputs": [],
   "source": [
    "# class SleepDataset(Dataset):\n",
    "#     def __init__(\n",
    "#         self,\n",
    "#         folder,\n",
    "#         max_len=17280,\n",
    "#         is_train=False,\n",
    "#         sample_per_epoch=10000\n",
    "#     ):\n",
    "#         self.enmo_mean = np.load('/kaggle/input/detect-sleep-states-dataprepare/enmo_mean.npy')\n",
    "#         self.enmo_std = np.load('/kaggle/input/detect-sleep-states-dataprepare/enmo_std.npy')\n",
    "        \n",
    "#         self.max_len = max_len\n",
    "#         assert max_len % SAMPLE_FREQ == 0\n",
    "        \n",
    "#         self.is_train = is_train\n",
    "        \n",
    "#         self.max_df_size = 0\n",
    "#         self.min_df_size = 1e9\n",
    "        \n",
    "#         self.sample_per_epoch = sample_per_epoch\n",
    "        \n",
    "#         self.feat_list = ['anglez','enmo']\n",
    "        \n",
    "#         self.Xys = self.read_csvs(folder)        \n",
    "        \n",
    "#         self.label_list = ['onset', 'wakeup']\n",
    "        \n",
    "#         self.hour_feat= ['hour']\n",
    "        \n",
    "#         self.compress_methods = ['mean', 'median', 'fixed']\n",
    "        \n",
    "#     def read_csvs(self, folder):\n",
    "#         res = []\n",
    "#         if type(folder) is str:\n",
    "#             files = glob.glob(f'{folder}/*.csv')\n",
    "#         else:\n",
    "#             files = folder\n",
    "#         for i, f in tqdm(enumerate(files), total=len(files), leave=False):\n",
    "#             df = pd.read_csv(f)\n",
    "#             df = self.norm_feat_eng(df, init=True if i==0 else False)\n",
    "                \n",
    "#             res.append(df)\n",
    "#             self.max_df_size = max(self.max_df_size, len(df))\n",
    "#             self.min_df_size = min(self.min_df_size, len(df))\n",
    "#         return res\n",
    "    \n",
    "#     def compress(self, xt, method='mean', sample_freq=SAMPLE_FREQ):\n",
    "#         x, t = xt\n",
    "#         seq_len = x.shape[0]\n",
    "#         if method == 'mean':\n",
    "#             x = x.reshape(seq_len//sample_freq, sample_freq, -1).mean(1)\n",
    "#             t = t.reshape(seq_len//sample_freq, sample_freq, 1).mean(1)\n",
    "            \n",
    "#         if method == 'median':\n",
    "#             x = np.median(x.reshape(seq_len//sample_freq, sample_freq, -1), axis=1)\n",
    "#             t = np.median(t.reshape(seq_len//sample_freq, sample_freq, 1), axis=1)\n",
    "            \n",
    "#         if method == 'fixed':\n",
    "#             start = torch.randint(0, sample_freq, size=(1,))[0].numpy()\n",
    "#             x = x[start::sample_freq]\n",
    "#             t = t[start::sample_freq]\n",
    "        \n",
    "#         return x.astype(np.float32), t.astype(np.int32)\n",
    "\n",
    "#     def norm_feat_eng(self, X, init=False):\n",
    "#         X['anglez'] = X['anglez'] / 90.0\n",
    "#         X['enmo'] = (X['enmo'] - self.enmo_mean) / (self.enmo_std + 1e-12)\n",
    "        \n",
    "#         for w in [1, 2, 4, 8, 16]:    \n",
    "#             X['anglez_shift_pos_' + str(w)] = X['anglez'].shift(w).fillna(0)\n",
    "#             X['anglez_shift_neg_' + str(w)] = X['anglez'].shift(-w).fillna(0)\n",
    "            \n",
    "#             X['enmo_shift_pos_' + str(w)] = X['enmo'].shift(w).fillna(0)\n",
    "#             X['enmo_shift_neg_' + str(w)] = X['enmo'].shift(-w).fillna(0)\n",
    "            \n",
    "#             if init:\n",
    "#                 self.feat_list.append('anglez_shift_pos_' + str(w))\n",
    "#                 self.feat_list.append('anglez_shift_neg_' + str(w))\n",
    "                \n",
    "#                 self.feat_list.append('enmo_shift_pos_' + str(w))\n",
    "#                 self.feat_list.append('enmo_shift_neg_' + str(w))\n",
    "            \n",
    "#         for r in [17, 33, 65]:\n",
    "#             tmp_anglez = X['anglez'].rolling(r, center=True)\n",
    "#             X[f'anglez_mean_{r}'] = tmp_anglez.mean()\n",
    "#             X[f'anglez_std_{r}'] = tmp_anglez.std()            \n",
    "            \n",
    "#             tmp_enmo = X['enmo'].rolling(r, center=True)\n",
    "#             X[f'enmo_mean_{r}'] = tmp_enmo.mean()\n",
    "#             X[f'enmo_std_{r}'] = tmp_enmo.std()\n",
    "            \n",
    "#             if init:\n",
    "#                 self.feat_list.append(f'anglez_mean_{r}')\n",
    "#                 self.feat_list.append(f'anglez_std_{r}')\n",
    "\n",
    "#                 self.feat_list.append(f'enmo_mean_{r}')\n",
    "#                 self.feat_list.append(f'enmo_std_{r}')\n",
    "                \n",
    "#         X = X.fillna(0)\n",
    "        \n",
    "#         return X.astype(np.float32)\n",
    "\n",
    "#     def gauss(self, n=SIGMA, sigma=SIGMA*0.15):\n",
    "#         # guassian distribution function\n",
    "#         r = range(-int(n/2),int(n/2)+1)\n",
    "#         return [1 / (sigma * sqrt(2*pi)) * exp(-float(x)**2/(2*sigma**2)) for x in r]\n",
    "    \n",
    "#     def __len__(self):\n",
    "#         return self.sample_per_epoch if self.is_train else len(self.Xys)\n",
    "\n",
    "#     def __getitem__(self, index):\n",
    "#         Xy = self.Xys[index].copy()\n",
    "#         X = Xy[self.feat_list].values.astype(np.float32)     \n",
    "#         t = Xy[self.hour_feat].values.astype(np.int32)\n",
    "\n",
    "#         if len(Xy)%SAMPLE_FREQ!=0:\n",
    "#             res = SAMPLE_FREQ - (len(Xy)%SAMPLE_FREQ)\n",
    "#             X = np.pad(X, ((0, res), (0, 0)))\n",
    "#             t = np.pad(t, ((0, res), (0, 0)))\n",
    "\n",
    "#         X, t = self.compress((X, t), method='mean')\n",
    "\n",
    "#         return X, t\n",
    "\n",
    "# import glob\n",
    "# valid_fpaths = sorted(glob.glob(f\"/kaggle/input/detect-sleep-states-dataprepare/train_csvs/*.csv\"))\n",
    "# test_ds = SleepDataset(valid_fpaths, is_train=False)"
   ]
  },
  {
   "cell_type": "code",
   "execution_count": 8,
   "id": "11dc8408",
   "metadata": {
    "execution": {
     "iopub.execute_input": "2023-12-12T11:16:31.625361Z",
     "iopub.status.busy": "2023-12-12T11:16:31.625076Z",
     "iopub.status.idle": "2023-12-12T11:16:31.661468Z",
     "shell.execute_reply": "2023-12-12T11:16:31.660595Z"
    },
    "papermill": {
     "duration": 0.046686,
     "end_time": "2023-12-12T11:16:31.663285",
     "exception": false,
     "start_time": "2023-12-12T11:16:31.616599",
     "status": "completed"
    },
    "tags": []
   },
   "outputs": [
    {
     "data": {
      "text/plain": [
       "(13, 34)"
      ]
     },
     "execution_count": 8,
     "metadata": {},
     "output_type": "execute_result"
    }
   ],
   "source": [
    "test_ds[0][0].shape"
   ]
  },
  {
   "cell_type": "code",
   "execution_count": 9,
   "id": "1463210a",
   "metadata": {
    "execution": {
     "iopub.execute_input": "2023-12-12T11:16:31.679805Z",
     "iopub.status.busy": "2023-12-12T11:16:31.679298Z",
     "iopub.status.idle": "2023-12-12T11:16:31.708992Z",
     "shell.execute_reply": "2023-12-12T11:16:31.708208Z"
    },
    "papermill": {
     "duration": 0.039867,
     "end_time": "2023-12-12T11:16:31.710836",
     "exception": false,
     "start_time": "2023-12-12T11:16:31.670969",
     "status": "completed"
    },
    "tags": []
   },
   "outputs": [
    {
     "data": {
      "text/html": [
       "<div>\n",
       "<style scoped>\n",
       "    .dataframe tbody tr th:only-of-type {\n",
       "        vertical-align: middle;\n",
       "    }\n",
       "\n",
       "    .dataframe tbody tr th {\n",
       "        vertical-align: top;\n",
       "    }\n",
       "\n",
       "    .dataframe thead th {\n",
       "        text-align: right;\n",
       "    }\n",
       "</style>\n",
       "<table border=\"1\" class=\"dataframe\">\n",
       "  <thead>\n",
       "    <tr style=\"text-align: right;\">\n",
       "      <th></th>\n",
       "      <th>step</th>\n",
       "      <th>anglez</th>\n",
       "      <th>enmo</th>\n",
       "      <th>hour</th>\n",
       "    </tr>\n",
       "  </thead>\n",
       "  <tbody>\n",
       "    <tr>\n",
       "      <th>0</th>\n",
       "      <td>0</td>\n",
       "      <td>2.636700</td>\n",
       "      <td>0.0217</td>\n",
       "      <td>15</td>\n",
       "    </tr>\n",
       "    <tr>\n",
       "      <th>1</th>\n",
       "      <td>1</td>\n",
       "      <td>2.636800</td>\n",
       "      <td>0.0215</td>\n",
       "      <td>15</td>\n",
       "    </tr>\n",
       "    <tr>\n",
       "      <th>2</th>\n",
       "      <td>2</td>\n",
       "      <td>2.637000</td>\n",
       "      <td>0.0216</td>\n",
       "      <td>15</td>\n",
       "    </tr>\n",
       "    <tr>\n",
       "      <th>3</th>\n",
       "      <td>3</td>\n",
       "      <td>2.636800</td>\n",
       "      <td>0.0213</td>\n",
       "      <td>15</td>\n",
       "    </tr>\n",
       "    <tr>\n",
       "      <th>4</th>\n",
       "      <td>4</td>\n",
       "      <td>2.636800</td>\n",
       "      <td>0.0215</td>\n",
       "      <td>15</td>\n",
       "    </tr>\n",
       "    <tr>\n",
       "      <th>...</th>\n",
       "      <td>...</td>\n",
       "      <td>...</td>\n",
       "      <td>...</td>\n",
       "      <td>...</td>\n",
       "    </tr>\n",
       "    <tr>\n",
       "      <th>145</th>\n",
       "      <td>145</td>\n",
       "      <td>-79.990601</td>\n",
       "      <td>0.0135</td>\n",
       "      <td>15</td>\n",
       "    </tr>\n",
       "    <tr>\n",
       "      <th>146</th>\n",
       "      <td>146</td>\n",
       "      <td>-80.028999</td>\n",
       "      <td>0.0136</td>\n",
       "      <td>15</td>\n",
       "    </tr>\n",
       "    <tr>\n",
       "      <th>147</th>\n",
       "      <td>147</td>\n",
       "      <td>-80.009300</td>\n",
       "      <td>0.0137</td>\n",
       "      <td>15</td>\n",
       "    </tr>\n",
       "    <tr>\n",
       "      <th>148</th>\n",
       "      <td>148</td>\n",
       "      <td>-80.066902</td>\n",
       "      <td>0.0135</td>\n",
       "      <td>15</td>\n",
       "    </tr>\n",
       "    <tr>\n",
       "      <th>149</th>\n",
       "      <td>149</td>\n",
       "      <td>-80.153503</td>\n",
       "      <td>0.0136</td>\n",
       "      <td>15</td>\n",
       "    </tr>\n",
       "  </tbody>\n",
       "</table>\n",
       "<p>150 rows × 4 columns</p>\n",
       "</div>"
      ],
      "text/plain": [
       "     step     anglez    enmo  hour\n",
       "0       0   2.636700  0.0217    15\n",
       "1       1   2.636800  0.0215    15\n",
       "2       2   2.637000  0.0216    15\n",
       "3       3   2.636800  0.0213    15\n",
       "4       4   2.636800  0.0215    15\n",
       "..    ...        ...     ...   ...\n",
       "145   145 -79.990601  0.0135    15\n",
       "146   146 -80.028999  0.0136    15\n",
       "147   147 -80.009300  0.0137    15\n",
       "148   148 -80.066902  0.0135    15\n",
       "149   149 -80.153503  0.0136    15\n",
       "\n",
       "[150 rows x 4 columns]"
      ]
     },
     "metadata": {},
     "output_type": "display_data"
    },
    {
     "data": {
      "text/html": [
       "<div>\n",
       "<style scoped>\n",
       "    .dataframe tbody tr th:only-of-type {\n",
       "        vertical-align: middle;\n",
       "    }\n",
       "\n",
       "    .dataframe tbody tr th {\n",
       "        vertical-align: top;\n",
       "    }\n",
       "\n",
       "    .dataframe thead th {\n",
       "        text-align: right;\n",
       "    }\n",
       "</style>\n",
       "<table border=\"1\" class=\"dataframe\">\n",
       "  <thead>\n",
       "    <tr style=\"text-align: right;\">\n",
       "      <th></th>\n",
       "      <th>step</th>\n",
       "      <th>anglez</th>\n",
       "      <th>enmo</th>\n",
       "      <th>hour</th>\n",
       "    </tr>\n",
       "  </thead>\n",
       "  <tbody>\n",
       "    <tr>\n",
       "      <th>0</th>\n",
       "      <td>0</td>\n",
       "      <td>38.892899</td>\n",
       "      <td>0.0803</td>\n",
       "      <td>12</td>\n",
       "    </tr>\n",
       "    <tr>\n",
       "      <th>1</th>\n",
       "      <td>1</td>\n",
       "      <td>29.374399</td>\n",
       "      <td>0.0752</td>\n",
       "      <td>12</td>\n",
       "    </tr>\n",
       "    <tr>\n",
       "      <th>2</th>\n",
       "      <td>2</td>\n",
       "      <td>37.225101</td>\n",
       "      <td>0.1791</td>\n",
       "      <td>12</td>\n",
       "    </tr>\n",
       "    <tr>\n",
       "      <th>3</th>\n",
       "      <td>3</td>\n",
       "      <td>46.937000</td>\n",
       "      <td>0.0922</td>\n",
       "      <td>12</td>\n",
       "    </tr>\n",
       "    <tr>\n",
       "      <th>4</th>\n",
       "      <td>4</td>\n",
       "      <td>60.486698</td>\n",
       "      <td>0.0342</td>\n",
       "      <td>12</td>\n",
       "    </tr>\n",
       "    <tr>\n",
       "      <th>...</th>\n",
       "      <td>...</td>\n",
       "      <td>...</td>\n",
       "      <td>...</td>\n",
       "      <td>...</td>\n",
       "    </tr>\n",
       "    <tr>\n",
       "      <th>145</th>\n",
       "      <td>145</td>\n",
       "      <td>-88.216599</td>\n",
       "      <td>0.0000</td>\n",
       "      <td>12</td>\n",
       "    </tr>\n",
       "    <tr>\n",
       "      <th>146</th>\n",
       "      <td>146</td>\n",
       "      <td>-88.216599</td>\n",
       "      <td>0.0000</td>\n",
       "      <td>12</td>\n",
       "    </tr>\n",
       "    <tr>\n",
       "      <th>147</th>\n",
       "      <td>147</td>\n",
       "      <td>-88.216599</td>\n",
       "      <td>0.0000</td>\n",
       "      <td>12</td>\n",
       "    </tr>\n",
       "    <tr>\n",
       "      <th>148</th>\n",
       "      <td>148</td>\n",
       "      <td>-88.216599</td>\n",
       "      <td>0.0000</td>\n",
       "      <td>12</td>\n",
       "    </tr>\n",
       "    <tr>\n",
       "      <th>149</th>\n",
       "      <td>149</td>\n",
       "      <td>-88.216599</td>\n",
       "      <td>0.0000</td>\n",
       "      <td>12</td>\n",
       "    </tr>\n",
       "  </tbody>\n",
       "</table>\n",
       "<p>150 rows × 4 columns</p>\n",
       "</div>"
      ],
      "text/plain": [
       "     step     anglez    enmo  hour\n",
       "0       0  38.892899  0.0803    12\n",
       "1       1  29.374399  0.0752    12\n",
       "2       2  37.225101  0.1791    12\n",
       "3       3  46.937000  0.0922    12\n",
       "4       4  60.486698  0.0342    12\n",
       "..    ...        ...     ...   ...\n",
       "145   145 -88.216599  0.0000    12\n",
       "146   146 -88.216599  0.0000    12\n",
       "147   147 -88.216599  0.0000    12\n",
       "148   148 -88.216599  0.0000    12\n",
       "149   149 -88.216599  0.0000    12\n",
       "\n",
       "[150 rows x 4 columns]"
      ]
     },
     "metadata": {},
     "output_type": "display_data"
    },
    {
     "data": {
      "text/html": [
       "<div>\n",
       "<style scoped>\n",
       "    .dataframe tbody tr th:only-of-type {\n",
       "        vertical-align: middle;\n",
       "    }\n",
       "\n",
       "    .dataframe tbody tr th {\n",
       "        vertical-align: top;\n",
       "    }\n",
       "\n",
       "    .dataframe thead th {\n",
       "        text-align: right;\n",
       "    }\n",
       "</style>\n",
       "<table border=\"1\" class=\"dataframe\">\n",
       "  <thead>\n",
       "    <tr style=\"text-align: right;\">\n",
       "      <th></th>\n",
       "      <th>step</th>\n",
       "      <th>anglez</th>\n",
       "      <th>enmo</th>\n",
       "      <th>hour</th>\n",
       "    </tr>\n",
       "  </thead>\n",
       "  <tbody>\n",
       "    <tr>\n",
       "      <th>0</th>\n",
       "      <td>0</td>\n",
       "      <td>-77.314903</td>\n",
       "      <td>0.0868</td>\n",
       "      <td>13</td>\n",
       "    </tr>\n",
       "    <tr>\n",
       "      <th>1</th>\n",
       "      <td>1</td>\n",
       "      <td>-52.183800</td>\n",
       "      <td>0.0434</td>\n",
       "      <td>13</td>\n",
       "    </tr>\n",
       "    <tr>\n",
       "      <th>2</th>\n",
       "      <td>2</td>\n",
       "      <td>-53.218601</td>\n",
       "      <td>0.0541</td>\n",
       "      <td>13</td>\n",
       "    </tr>\n",
       "    <tr>\n",
       "      <th>3</th>\n",
       "      <td>3</td>\n",
       "      <td>-51.541698</td>\n",
       "      <td>0.0612</td>\n",
       "      <td>13</td>\n",
       "    </tr>\n",
       "    <tr>\n",
       "      <th>4</th>\n",
       "      <td>4</td>\n",
       "      <td>-24.637300</td>\n",
       "      <td>0.0591</td>\n",
       "      <td>13</td>\n",
       "    </tr>\n",
       "    <tr>\n",
       "      <th>...</th>\n",
       "      <td>...</td>\n",
       "      <td>...</td>\n",
       "      <td>...</td>\n",
       "      <td>...</td>\n",
       "    </tr>\n",
       "    <tr>\n",
       "      <th>145</th>\n",
       "      <td>145</td>\n",
       "      <td>-59.696899</td>\n",
       "      <td>0.0601</td>\n",
       "      <td>13</td>\n",
       "    </tr>\n",
       "    <tr>\n",
       "      <th>146</th>\n",
       "      <td>146</td>\n",
       "      <td>-35.656601</td>\n",
       "      <td>0.0427</td>\n",
       "      <td>13</td>\n",
       "    </tr>\n",
       "    <tr>\n",
       "      <th>147</th>\n",
       "      <td>147</td>\n",
       "      <td>-21.582399</td>\n",
       "      <td>0.0309</td>\n",
       "      <td>13</td>\n",
       "    </tr>\n",
       "    <tr>\n",
       "      <th>148</th>\n",
       "      <td>148</td>\n",
       "      <td>-42.616001</td>\n",
       "      <td>0.0328</td>\n",
       "      <td>13</td>\n",
       "    </tr>\n",
       "    <tr>\n",
       "      <th>149</th>\n",
       "      <td>149</td>\n",
       "      <td>7.029900</td>\n",
       "      <td>0.0081</td>\n",
       "      <td>13</td>\n",
       "    </tr>\n",
       "  </tbody>\n",
       "</table>\n",
       "<p>150 rows × 4 columns</p>\n",
       "</div>"
      ],
      "text/plain": [
       "     step     anglez    enmo  hour\n",
       "0       0 -77.314903  0.0868    13\n",
       "1       1 -52.183800  0.0434    13\n",
       "2       2 -53.218601  0.0541    13\n",
       "3       3 -51.541698  0.0612    13\n",
       "4       4 -24.637300  0.0591    13\n",
       "..    ...        ...     ...   ...\n",
       "145   145 -59.696899  0.0601    13\n",
       "146   146 -35.656601  0.0427    13\n",
       "147   147 -21.582399  0.0309    13\n",
       "148   148 -42.616001  0.0328    13\n",
       "149   149   7.029900  0.0081    13\n",
       "\n",
       "[150 rows x 4 columns]"
      ]
     },
     "metadata": {},
     "output_type": "display_data"
    }
   ],
   "source": [
    "if len(test_ds.Xs)==3:\n",
    "    for x in test_ds.Xs:\n",
    "        display(x)"
   ]
  },
  {
   "cell_type": "code",
   "execution_count": 10,
   "id": "d795415c",
   "metadata": {
    "execution": {
     "iopub.execute_input": "2023-12-12T11:16:31.729040Z",
     "iopub.status.busy": "2023-12-12T11:16:31.728789Z",
     "iopub.status.idle": "2023-12-12T11:16:32.404702Z",
     "shell.execute_reply": "2023-12-12T11:16:32.403795Z"
    },
    "papermill": {
     "duration": 0.687229,
     "end_time": "2023-12-12T11:16:32.406582",
     "exception": false,
     "start_time": "2023-12-12T11:16:31.719353",
     "status": "completed"
    },
    "tags": []
   },
   "outputs": [
    {
     "data": {
      "image/png": "[encoded data removed]",
      "text/plain": [
       "<Figure size 640x480 with 1 Axes>"
      ]
     },
     "metadata": {},
     "output_type": "display_data"
    },
    {
     "data": {
      "image/png": "[encoded data removed]",
      "text/plain": [
       "<Figure size 640x480 with 1 Axes>"
      ]
     },
     "metadata": {},
     "output_type": "display_data"
    },
    {
     "data": {
      "image/png": "[encoded data removed]",
      "text/plain": [
       "<Figure size 640x480 with 1 Axes>"
      ]
     },
     "metadata": {},
     "output_type": "display_data"
    }
   ],
   "source": [
    "if len(test_ds.Xs)==3:\n",
    "    for i, x in enumerate(test_ds.Xs):\n",
    "        plt.plot(x['enmo'], lw=0.5)\n",
    "        plt.title(ids[i])\n",
    "        plt.show()"
   ]
  },
  {
   "cell_type": "code",
   "execution_count": 11,
   "id": "de0e4749",
   "metadata": {
    "execution": {
     "iopub.execute_input": "2023-12-12T11:16:32.427959Z",
     "iopub.status.busy": "2023-12-12T11:16:32.427676Z",
     "iopub.status.idle": "2023-12-12T11:16:32.671514Z",
     "shell.execute_reply": "2023-12-12T11:16:32.670627Z"
    },
    "papermill": {
     "duration": 0.256595,
     "end_time": "2023-12-12T11:16:32.673414",
     "exception": false,
     "start_time": "2023-12-12T11:16:32.416819",
     "status": "completed"
    },
    "tags": []
   },
   "outputs": [
    {
     "data": {
      "text/plain": [
       "7423"
      ]
     },
     "execution_count": 11,
     "metadata": {},
     "output_type": "execute_result"
    }
   ],
   "source": [
    "del test_series, reader\n",
    "gc.collect()"
   ]
  },
  {
   "cell_type": "code",
   "execution_count": 12,
   "id": "beabb95d",
   "metadata": {
    "execution": {
     "iopub.execute_input": "2023-12-12T11:16:32.695516Z",
     "iopub.status.busy": "2023-12-12T11:16:32.695241Z",
     "iopub.status.idle": "2023-12-12T11:16:32.699305Z",
     "shell.execute_reply": "2023-12-12T11:16:32.698483Z"
    },
    "papermill": {
     "duration": 0.017327,
     "end_time": "2023-12-12T11:16:32.701465",
     "exception": false,
     "start_time": "2023-12-12T11:16:32.684138",
     "status": "completed"
    },
    "tags": []
   },
   "outputs": [],
   "source": [
    "# Model config\n",
    "EMB_DIM = 34\n",
    "MODEL_NAME = 'microsoft/deberta-v3-small'\n",
    "CONF_PATH = '/kaggle/input/small-small/deberta-v3-small_config.pth'"
   ]
  },
  {
   "cell_type": "code",
   "execution_count": 13,
   "id": "1f0219da",
   "metadata": {
    "execution": {
     "iopub.execute_input": "2023-12-12T11:16:32.722757Z",
     "iopub.status.busy": "2023-12-12T11:16:32.722516Z",
     "iopub.status.idle": "2023-12-12T11:16:32.726659Z",
     "shell.execute_reply": "2023-12-12T11:16:32.725900Z"
    },
    "papermill": {
     "duration": 0.017136,
     "end_time": "2023-12-12T11:16:32.728521",
     "exception": false,
     "start_time": "2023-12-12T11:16:32.711385",
     "status": "completed"
    },
    "tags": []
   },
   "outputs": [],
   "source": [
    "test_dl = DataLoader(\n",
    "    test_ds,\n",
    "    batch_size=1,\n",
    "    pin_memory=True,\n",
    "    num_workers=WORKERS,\n",
    "    shuffle=False,\n",
    "    drop_last=False\n",
    ")"
   ]
  },
  {
   "cell_type": "code",
   "execution_count": 14,
   "id": "5176f883",
   "metadata": {
    "execution": {
     "iopub.execute_input": "2023-12-12T11:16:32.749601Z",
     "iopub.status.busy": "2023-12-12T11:16:32.749349Z",
     "iopub.status.idle": "2023-12-12T11:16:32.767127Z",
     "shell.execute_reply": "2023-12-12T11:16:32.766453Z"
    },
    "papermill": {
     "duration": 0.030452,
     "end_time": "2023-12-12T11:16:32.768950",
     "exception": false,
     "start_time": "2023-12-12T11:16:32.738498",
     "status": "completed"
    },
    "tags": []
   },
   "outputs": [],
   "source": [
    "conf = torch.load(CONF_PATH)"
   ]
  },
  {
   "cell_type": "code",
   "execution_count": 15,
   "id": "1fc233a0",
   "metadata": {
    "execution": {
     "iopub.execute_input": "2023-12-12T11:16:32.790032Z",
     "iopub.status.busy": "2023-12-12T11:16:32.789543Z",
     "iopub.status.idle": "2023-12-12T11:16:32.793862Z",
     "shell.execute_reply": "2023-12-12T11:16:32.793080Z"
    },
    "papermill": {
     "duration": 0.016902,
     "end_time": "2023-12-12T11:16:32.795595",
     "exception": false,
     "start_time": "2023-12-12T11:16:32.778693",
     "status": "completed"
    },
    "tags": []
   },
   "outputs": [],
   "source": [
    "autocast = torch.cuda.amp.autocast(enabled=True, dtype=torch.half)\n",
    "scaler = torch.cuda.amp.GradScaler(enabled=True, init_scale=4096)"
   ]
  },
  {
   "cell_type": "code",
   "execution_count": 16,
   "id": "0f66c979",
   "metadata": {
    "execution": {
     "iopub.execute_input": "2023-12-12T11:16:32.816742Z",
     "iopub.status.busy": "2023-12-12T11:16:32.816486Z",
     "iopub.status.idle": "2023-12-12T11:16:32.821481Z",
     "shell.execute_reply": "2023-12-12T11:16:32.820649Z"
    },
    "papermill": {
     "duration": 0.017359,
     "end_time": "2023-12-12T11:16:32.823285",
     "exception": false,
     "start_time": "2023-12-12T11:16:32.805926",
     "status": "completed"
    },
    "tags": []
   },
   "outputs": [],
   "source": [
    "def lpf(wave, fs=12*60*24, fe=60, n=3):\n",
    "    nyq = fs / 2.0\n",
    "    b, a = signal.butter(1, fe/nyq, btype='low')\n",
    "    for i in range(0, n):\n",
    "        wave = signal.filtfilt(b, a, wave)\n",
    "    return wave"
   ]
  },
  {
   "cell_type": "code",
   "execution_count": 17,
   "id": "dc269bfb",
   "metadata": {
    "execution": {
     "iopub.execute_input": "2023-12-12T11:16:32.844195Z",
     "iopub.status.busy": "2023-12-12T11:16:32.843921Z",
     "iopub.status.idle": "2023-12-12T11:16:32.848243Z",
     "shell.execute_reply": "2023-12-12T11:16:32.847507Z"
    },
    "papermill": {
     "duration": 0.01687,
     "end_time": "2023-12-12T11:16:32.849976",
     "exception": false,
     "start_time": "2023-12-12T11:16:32.833106",
     "status": "completed"
    },
    "tags": []
   },
   "outputs": [],
   "source": [
    "def padding_(x, tgt_len=MAX_CHUNK_LEN):\n",
    "    res = tgt_len - (x.size(-2) % tgt_len)\n",
    "    x = F.pad(x, (0, 0, 0, res))\n",
    "    return x"
   ]
  },
  {
   "cell_type": "code",
   "execution_count": 18,
   "id": "bb8217b5",
   "metadata": {
    "execution": {
     "iopub.execute_input": "2023-12-12T11:16:32.871055Z",
     "iopub.status.busy": "2023-12-12T11:16:32.870575Z",
     "iopub.status.idle": "2023-12-12T11:16:32.874908Z",
     "shell.execute_reply": "2023-12-12T11:16:32.874190Z"
    },
    "papermill": {
     "duration": 0.01671,
     "end_time": "2023-12-12T11:16:32.876619",
     "exception": false,
     "start_time": "2023-12-12T11:16:32.859909",
     "status": "completed"
    },
    "tags": []
   },
   "outputs": [],
   "source": [
    "submission = pd.DataFrame()"
   ]
  },
  {
   "cell_type": "code",
   "execution_count": 19,
   "id": "53609043",
   "metadata": {
    "execution": {
     "iopub.execute_input": "2023-12-12T11:16:32.897752Z",
     "iopub.status.busy": "2023-12-12T11:16:32.897136Z",
     "iopub.status.idle": "2023-12-12T11:16:49.275511Z",
     "shell.execute_reply": "2023-12-12T11:16:49.274276Z"
    },
    "papermill": {
     "duration": 16.391325,
     "end_time": "2023-12-12T11:16:49.277966",
     "exception": false,
     "start_time": "2023-12-12T11:16:32.886641",
     "status": "completed"
    },
    "tags": []
   },
   "outputs": [
    {
     "name": "stderr",
     "output_type": "stream",
     "text": [
      "  0%|          | 0/3 [00:00<?, ?it/s]"
     ]
    },
    {
     "name": "stdout",
     "output_type": "stream",
     "text": [
      "tensor(331.4587, device='cuda:0') tensor(331.4587, device='cuda:0') tensor(-1142.7559, device='cuda:0')\n"
     ]
    },
    {
     "name": "stderr",
     "output_type": "stream",
     "text": [
      " 33%|███▎      | 1/3 [00:04<00:09,  4.91s/it]"
     ]
    },
    {
     "name": "stdout",
     "output_type": "stream",
     "text": [
      "tensor(537.4474, device='cuda:0') tensor(537.4474, device='cuda:0') tensor(-1131.0020, device='cuda:0')\n"
     ]
    },
    {
     "name": "stderr",
     "output_type": "stream",
     "text": [
      " 67%|██████▋   | 2/3 [00:05<00:02,  2.21s/it]"
     ]
    },
    {
     "name": "stdout",
     "output_type": "stream",
     "text": [
      "tensor(2825.5073, device='cuda:0') tensor(2825.5073, device='cuda:0') tensor(-934.0352, device='cuda:0')\n"
     ]
    },
    {
     "name": "stderr",
     "output_type": "stream",
     "text": [
      "100%|██████████| 3/3 [00:05<00:00,  1.87s/it]\n"
     ]
    }
   ],
   "source": [
    "y_preds = []\n",
    "for fold in range(N_FOLDS):\n",
    "    MODEL_PATH = f'/kaggle/input/small-small/model_best_fold-0-small.pth'\n",
    "    model = BertEncoder(\n",
    "        conf=conf, \n",
    "        in_c=len(test_ds.feat_list), \n",
    "        out_c=2, \n",
    "        emb_dim=EMB_DIM, \n",
    "        pretrained=False,\n",
    "    ).to(device)\n",
    "\n",
    "    model.load_state_dict(torch.load(MODEL_PATH, map_location=device))\n",
    "    model.eval().half()\n",
    "    with torch.no_grad():\n",
    "        with tqdm(test_dl, leave=True) as pbar:\n",
    "            for j, (X_batch, hr_batch) in enumerate(pbar):\n",
    "                X_batch = X_batch.to(device)\n",
    "                hr_batch = hr_batch.to(device)\n",
    "                \n",
    "                x_seq_len = X_batch.shape[1]\n",
    "                y_pred = torch.zeros((1, x_seq_len*SAMPLE_FREQ, 2)).to(device)\n",
    "                y_seq_len = y_pred.shape[1]\n",
    "                \n",
    "                if x_seq_len%MAX_CHUNK_LEN != 0:\n",
    "                    X_batch = padding_(X_batch, MAX_CHUNK_LEN)\n",
    "                    hr_batch = padding_(hr_batch, MAX_CHUNK_LEN)\n",
    "\n",
    "                if y_seq_len%MAX_LEN != 0:\n",
    "                    y_pred = padding_(y_pred, MAX_LEN)\n",
    "\n",
    "                YPOS = 0\n",
    "                for i in range(0, x_seq_len, MAX_CHUNK_LEN):\n",
    "                    X_chunk = X_batch[:, i : i + MAX_CHUNK_LEN]\n",
    "                    hr_chunk = hr_batch[:, i : i + MAX_CHUNK_LEN]\n",
    "                    with autocast:\n",
    "                        p = model(X_chunk, hr_chunk)\n",
    "                        y_pred[:, YPOS : YPOS + MAX_CHUNK_LEN*SAMPLE_FREQ] = p\n",
    "\n",
    "                    YPOS += MAX_CHUNK_LEN*SAMPLE_FREQ\n",
    "\n",
    "                y_pred = y_pred[:, :y_seq_len]\n",
    "                    \n",
    "                if len(test_dl)==3:\n",
    "                    print(X_batch.sum(), X_batch.sum(), y_pred.sum())\n",
    "\n",
    "                if fold==0:\n",
    "                    y_preds.append(y_pred[0].sigmoid().cpu().numpy().astype(np.float32) / N_FOLDS)\n",
    "                else:\n",
    "                    y_preds[j] += y_pred[0].sigmoid().cpu().numpy().astype(np.float32) / N_FOLDS\n",
    "                        \n",
    "                \n",
    "                del X_batch, hr_batch\n",
    "                gc.collect()\n",
    "                torch.cuda.empty_cache()\n",
    "\n",
    "    del model\n",
    "    gc.collect()\n",
    "    torch.cuda.empty_cache()"
   ]
  },
  {
   "cell_type": "code",
   "execution_count": 20,
   "id": "9d752b5a",
   "metadata": {
    "execution": {
     "iopub.execute_input": "2023-12-12T11:16:49.310284Z",
     "iopub.status.busy": "2023-12-12T11:16:49.309928Z",
     "iopub.status.idle": "2023-12-12T11:16:50.569270Z",
     "shell.execute_reply": "2023-12-12T11:16:50.568428Z"
    },
    "papermill": {
     "duration": 1.277933,
     "end_time": "2023-12-12T11:16:50.571647",
     "exception": false,
     "start_time": "2023-12-12T11:16:49.293714",
     "status": "completed"
    },
    "tags": []
   },
   "outputs": [
    {
     "name": "stderr",
     "output_type": "stream",
     "text": [
      "  0%|          | 0/3 [00:00<?, ?it/s]"
     ]
    },
    {
     "data": {
      "image/png": "[encoded data removed]",
      "text/plain": [
       "<Figure size 640x480 with 1 Axes>"
      ]
     },
     "metadata": {},
     "output_type": "display_data"
    },
    {
     "name": "stderr",
     "output_type": "stream",
     "text": [
      "/tmp/ipykernel_25/2392049044.py:27: DeprecationWarning: The truth value of an empty array is ambiguous. Returning False, but in future this will result in an error. Use `array.size > 0` to check that an array is not empty.\n",
      "  if onset_scores < 0.2:\n",
      " 33%|███▎      | 1/3 [00:00<00:00,  3.01it/s]"
     ]
    },
    {
     "data": {
      "image/png": "[encoded data removed]",
      "text/plain": [
       "<Figure size 640x480 with 1 Axes>"
      ]
     },
     "metadata": {},
     "output_type": "display_data"
    },
    {
     "name": "stderr",
     "output_type": "stream",
     "text": [
      "/tmp/ipykernel_25/2392049044.py:27: DeprecationWarning: The truth value of an empty array is ambiguous. Returning False, but in future this will result in an error. Use `array.size > 0` to check that an array is not empty.\n",
      "  if onset_scores < 0.2:\n",
      " 67%|██████▋   | 2/3 [00:00<00:00,  3.04it/s]"
     ]
    },
    {
     "data": {
      "image/png": "[encoded data removed]",
      "text/plain": [
       "<Figure size 640x480 with 1 Axes>"
      ]
     },
     "metadata": {},
     "output_type": "display_data"
    },
    {
     "name": "stderr",
     "output_type": "stream",
     "text": [
      "/tmp/ipykernel_25/2392049044.py:27: DeprecationWarning: The truth value of an empty array is ambiguous. Returning False, but in future this will result in an error. Use `array.size > 0` to check that an array is not empty.\n",
      "  if onset_scores < 0.2:\n",
      "100%|██████████| 3/3 [00:00<00:00,  3.03it/s]\n"
     ]
    }
   ],
   "source": [
    "for i, y_pred in tqdm(enumerate(y_preds), total=len(y_preds)):\n",
    "    before_RMSE = np.sqrt(mean_squared_error(y_pred, np.zeros_like(y_pred)))\n",
    "\n",
    "    if len(test_ds.Xs)!=3:\n",
    "        y_pred[:,0] = lpf(y_pred[:,0])\n",
    "        y_pred[:,1] = lpf(y_pred[:,1])\n",
    "        \n",
    "    else:\n",
    "\n",
    "        plt.plot(y_pred[:,0], lw=0.5)\n",
    "        plt.title(ids[i])\n",
    "        plt.show()\n",
    "\n",
    "    after_RMSE = np.sqrt(mean_squared_error(y_pred, np.zeros_like(y_pred)))\n",
    "\n",
    "    decay_ratio = before_RMSE/after_RMSE\n",
    "    y_pred *= decay_ratio\n",
    "\n",
    "    onset_candi = argrelmax(y_pred[:, 0], order=12*60*6) # 12*60*6 = 6hours\n",
    "    wakeup_candi = argrelmax(y_pred[:, 1], order=12*60*6) # 12*60*6 = 6hours\n",
    "\n",
    "\n",
    "    series_id = ids[i]\n",
    "    try:                \n",
    "        onset_candi = onset_candi[0]\n",
    "        onset_scores = y_pred[onset_candi, 0].reshape(-1)\n",
    "        if onset_scores < 0.2:\n",
    "            onset = pd.DataFrame()\n",
    "        else:\n",
    "            onset = pd.DataFrame({'series_id': [series_id]*len(onset_candi),\n",
    "                                 'step': onset_candi,\n",
    "                                 'score': y_pred[onset_candi, 0].reshape(-1),\n",
    "                                 'event': ['onset']*len(onset_candi)})\n",
    "    except:\n",
    "         onset = pd.DataFrame()\n",
    "\n",
    "    try:\n",
    "        wakeup_candi = wakeup_candi[0]\n",
    "        wakeup_scores = y_pred[wakeup_candi, 1].reshape(-1)\n",
    "        if wakeup_scores < 0.2:\n",
    "            wakeup = pd.DataFrame()\n",
    "        else:\n",
    "            wakeup = pd.DataFrame({'series_id': [series_id]*len(wakeup_candi),\n",
    "                                 'step': wakeup_candi, \n",
    "                                 'score': y_pred[wakeup_candi, 1].reshape(-1),\n",
    "                                 'event': ['wakeup']*len(wakeup_candi)})\n",
    "    except:\n",
    "        wakeup = pd.DataFrame()\n",
    "\n",
    "    submission = pd.concat([submission, onset, wakeup], axis=0)\n",
    "\n",
    "gc.collect()\n",
    "torch.cuda.empty_cache()"
   ]
  },
  {
   "cell_type": "code",
   "execution_count": 21,
   "id": "12f80956",
   "metadata": {
    "execution": {
     "iopub.execute_input": "2023-12-12T11:16:50.598662Z",
     "iopub.status.busy": "2023-12-12T11:16:50.597952Z",
     "iopub.status.idle": "2023-12-12T11:16:50.610638Z",
     "shell.execute_reply": "2023-12-12T11:16:50.609926Z"
    },
    "papermill": {
     "duration": 0.027982,
     "end_time": "2023-12-12T11:16:50.612472",
     "exception": false,
     "start_time": "2023-12-12T11:16:50.584490",
     "status": "completed"
    },
    "tags": []
   },
   "outputs": [],
   "source": [
    "submission = submission.sort_values(['series_id','step']).reset_index(drop=True)\n",
    "submission['row_id'] = submission.index.astype(int)\n",
    "submission['score'] = submission['score'].fillna(submission['score'].mean())\n",
    "submission = submission[['row_id','series_id','step','event','score']]\n",
    "submission['step'] = submission['step']\n",
    "submission.to_csv('submission.csv',index=False)"
   ]
  },
  {
   "cell_type": "code",
   "execution_count": 22,
   "id": "02b876e5",
   "metadata": {
    "execution": {
     "iopub.execute_input": "2023-12-12T11:16:50.638299Z",
     "iopub.status.busy": "2023-12-12T11:16:50.638006Z",
     "iopub.status.idle": "2023-12-12T11:16:50.645961Z",
     "shell.execute_reply": "2023-12-12T11:16:50.645190Z"
    },
    "papermill": {
     "duration": 0.023095,
     "end_time": "2023-12-12T11:16:50.647902",
     "exception": false,
     "start_time": "2023-12-12T11:16:50.624807",
     "status": "completed"
    },
    "tags": []
   },
   "outputs": [
    {
     "data": {
      "text/html": [
       "<div>\n",
       "<style scoped>\n",
       "    .dataframe tbody tr th:only-of-type {\n",
       "        vertical-align: middle;\n",
       "    }\n",
       "\n",
       "    .dataframe tbody tr th {\n",
       "        vertical-align: top;\n",
       "    }\n",
       "\n",
       "    .dataframe thead th {\n",
       "        text-align: right;\n",
       "    }\n",
       "</style>\n",
       "<table border=\"1\" class=\"dataframe\">\n",
       "  <thead>\n",
       "    <tr style=\"text-align: right;\">\n",
       "      <th></th>\n",
       "      <th>row_id</th>\n",
       "      <th>series_id</th>\n",
       "      <th>step</th>\n",
       "      <th>event</th>\n",
       "      <th>score</th>\n",
       "    </tr>\n",
       "  </thead>\n",
       "  <tbody>\n",
       "  </tbody>\n",
       "</table>\n",
       "</div>"
      ],
      "text/plain": [
       "Empty DataFrame\n",
       "Columns: [row_id, series_id, step, event, score]\n",
       "Index: []"
      ]
     },
     "execution_count": 22,
     "metadata": {},
     "output_type": "execute_result"
    }
   ],
   "source": [
    "submission"
   ]
  }
 ],
 "metadata": {
  "kaggle": {
   "accelerator": "gpu",
   "dataSources": [
    {
     "databundleVersionId": 6589269,
     "sourceId": 53666,
     "sourceType": "competition"
    },
    {
     "datasetId": 4150237,
     "sourceId": 7180507,
     "sourceType": "datasetVersion"
    },
    {
     "datasetId": 4152091,
     "sourceId": 7183049,
     "sourceType": "datasetVersion"
    },
    {
     "sourceId": 147531007,
     "sourceType": "kernelVersion"
    }
   ],
   "dockerImageVersionId": 30559,
   "isGpuEnabled": true,
   "isInternetEnabled": false,
   "language": "python",
   "sourceType": "notebook"
  },
  "kernelspec": {
   "display_name": "Python 3",
   "language": "python",
   "name": "python3"
  },
  "language_info": {
   "codemirror_mode": {
    "name": "ipython",
    "version": 3
   },
   "file_extension": ".py",
   "mimetype": "text/x-python",
   "name": "python",
   "nbconvert_exporter": "python",
   "pygments_lexer": "ipython3",
   "version": "3.10.12"
  },
  "papermill": {
   "default_parameters": {},
   "duration": 41.550408,
   "end_time": "2023-12-12T11:16:53.701030",
   "environment_variables": {},
   "exception": null,
   "input_path": "__notebook__.ipynb",
   "output_path": "__notebook__.ipynb",
   "parameters": {},
   "start_time": "2023-12-12T11:16:12.150622",
   "version": "2.4.0"
  }
 },
 "nbformat": 4,
 "nbformat_minor": 5
}
