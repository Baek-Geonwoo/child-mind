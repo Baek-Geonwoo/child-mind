{
 "cells": [
  {
   "cell_type": "markdown",
   "id": "9b8a0d4b",
   "metadata": {
    "papermill": {
     "duration": 0.009898,
     "end_time": "2023-12-11T02:41:07.023081",
     "exception": false,
     "start_time": "2023-12-11T02:41:07.013183",
     "status": "completed"
    },
    "tags": []
   },
   "source": [
    "# Import modules and Config"
   ]
  },
  {
   "cell_type": "code",
   "execution_count": 4,
   "id": "6e64ef61",
   "metadata": {
    "execution": {
     "iopub.execute_input": "2023-12-11T02:41:07.046027Z",
     "iopub.status.busy": "2023-12-11T02:41:07.045684Z",
     "iopub.status.idle": "2023-12-11T02:41:15.537881Z",
     "shell.execute_reply": "2023-12-11T02:41:15.537075Z"
    },
    "papermill": {
     "duration": 8.50625,
     "end_time": "2023-12-11T02:41:15.540306",
     "exception": false,
     "start_time": "2023-12-11T02:41:07.034056",
     "status": "completed"
    },
    "tags": []
   },
   "outputs": [
    {
     "name": "stderr",
     "output_type": "stream",
     "text": [
      "/opt/conda/lib/python3.10/site-packages/scipy/__init__.py:146: UserWarning: A NumPy version >=1.16.5 and <1.23.0 is required for this version of SciPy (detected version 1.24.3\n",
      "  warnings.warn(f\"A NumPy version >={np_minversion} and <{np_maxversion}\"\n"
     ]
    }
   ],
   "source": [
    "import pandas as pd\n",
    "import numpy as np\n",
    "import gc\n",
    "import time\n",
    "import json\n",
    "from datetime import datetime\n",
    "import matplotlib.pyplot as plt\n",
    "import os, glob\n",
    "import joblib\n",
    "import random\n",
    "import math\n",
    "from tqdm import tqdm \n",
    "from collections import OrderedDict\n",
    "\n",
    "from scipy.interpolate import interp1d\n",
    "from scipy import signal\n",
    "from scipy.signal import argrelmax\n",
    "\n",
    "from sklearn.metrics import mean_squared_error\n",
    "\n",
    "from math import pi, sqrt, exp\n",
    "import sklearn,sklearn.model_selection\n",
    "import torch\n",
    "from torch import nn,Tensor\n",
    "import torch.nn.functional as F\n",
    "from torch.utils.data import DataLoader, Dataset, SubsetRandomSampler\n",
    "from torch.optim import AdamW\n",
    "from sklearn.metrics import average_precision_score\n",
    "from timm.scheduler import CosineLRScheduler\n",
    "\n",
    "from transformers import get_cosine_schedule_with_warmup\n",
    "from transformers import AutoTokenizer, AutoConfig\n",
    "from transformers import AutoModel\n",
    "\n",
    "plt.style.use(\"ggplot\")\n",
    "\n",
    "from pyarrow.parquet import ParquetFile\n",
    "import pyarrow as pa \n",
    "import ctypes"
   ]
  },
  {
   "cell_type": "code",
   "execution_count": 5,
   "id": "3642b423",
   "metadata": {
    "execution": {
     "iopub.execute_input": "2023-12-11T02:41:15.563667Z",
     "iopub.status.busy": "2023-12-11T02:41:15.562800Z",
     "iopub.status.idle": "2023-12-11T02:41:15.567195Z",
     "shell.execute_reply": "2023-12-11T02:41:15.566364Z"
    },
    "papermill": {
     "duration": 0.017994,
     "end_time": "2023-12-11T02:41:15.569175",
     "exception": false,
     "start_time": "2023-12-11T02:41:15.551181",
     "status": "completed"
    },
    "tags": []
   },
   "outputs": [],
   "source": [
    "import warnings\n",
    "warnings.filterwarnings('ignore')"
   ]
  },
  {
   "cell_type": "code",
   "execution_count": 6,
   "id": "cdb54a4f",
   "metadata": {
    "execution": {
     "iopub.execute_input": "2023-12-11T02:41:15.591180Z",
     "iopub.status.busy": "2023-12-11T02:41:15.590897Z",
     "iopub.status.idle": "2023-12-11T02:41:15.596081Z",
     "shell.execute_reply": "2023-12-11T02:41:15.595222Z"
    },
    "papermill": {
     "duration": 0.018273,
     "end_time": "2023-12-11T02:41:15.597966",
     "exception": false,
     "start_time": "2023-12-11T02:41:15.579693",
     "status": "completed"
    },
    "tags": []
   },
   "outputs": [],
   "source": [
    "# Fundamental config\n",
    "NOTDEBUG = True # False -> DEBUG, True -> normally train\n",
    "WORKERS = os.cpu_count() // 3\n",
    "N_FOLDS = 5\n",
    "TRAIN_FOLD = 0\n",
    "\n",
    "SIGMA = 720 #average length of day is 24*60*12 = 17280 for comparison\n",
    "SAMPLE_FREQ = 12 # 1 obs per minute\n",
    "\n",
    "MAX_LEN = (24*60*12) # 1day per chunk\n",
    "MAX_CHUNK_LEN = MAX_LEN // SAMPLE_FREQ\n",
    "USE_AMP = False\n",
    "SEED = 8620"
   ]
  },
  {
   "cell_type": "code",
   "execution_count": 7,
   "id": "43571041",
   "metadata": {
    "execution": {
     "iopub.execute_input": "2023-12-11T02:41:15.620789Z",
     "iopub.status.busy": "2023-12-11T02:41:15.619886Z",
     "iopub.status.idle": "2023-12-11T02:41:15.624438Z",
     "shell.execute_reply": "2023-12-11T02:41:15.623573Z"
    },
    "papermill": {
     "duration": 0.018203,
     "end_time": "2023-12-11T02:41:15.626463",
     "exception": false,
     "start_time": "2023-12-11T02:41:15.608260",
     "status": "completed"
    },
    "tags": []
   },
   "outputs": [],
   "source": [
    "# Model config\n",
    "EMB_DIM = 32\n",
    "MODEL_NAME = 'smallbenchnlp/roberta-small'\n",
    "OUTPUT_DIR='./Roberta_Base'"
   ]
  },
  {
   "cell_type": "code",
   "execution_count": 8,
   "id": "6b2711e4",
   "metadata": {
    "execution": {
     "iopub.execute_input": "2023-12-11T02:41:15.648067Z",
     "iopub.status.busy": "2023-12-11T02:41:15.647790Z",
     "iopub.status.idle": "2023-12-11T02:41:15.651763Z",
     "shell.execute_reply": "2023-12-11T02:41:15.650925Z"
    },
    "papermill": {
     "duration": 0.01684,
     "end_time": "2023-12-11T02:41:15.653606",
     "exception": false,
     "start_time": "2023-12-11T02:41:15.636766",
     "status": "completed"
    },
    "tags": []
   },
   "outputs": [],
   "source": [
    "# Optimizer config\n",
    "LR = 4e-4\n",
    "WD = 1e-2\n",
    "WARMUP_PROP = 0.1\n",
    "# LR_INIT = 1e-4\n",
    "# LR_MIN = 1e-5"
   ]
  },
  {
   "cell_type": "code",
   "execution_count": 9,
   "id": "2493d1d5",
   "metadata": {
    "execution": {
     "iopub.execute_input": "2023-12-11T02:41:15.675371Z",
     "iopub.status.busy": "2023-12-11T02:41:15.675075Z",
     "iopub.status.idle": "2023-12-11T02:41:15.679273Z",
     "shell.execute_reply": "2023-12-11T02:41:15.678453Z"
    },
    "papermill": {
     "duration": 0.017123,
     "end_time": "2023-12-11T02:41:15.681142",
     "exception": false,
     "start_time": "2023-12-11T02:41:15.664019",
     "status": "completed"
    },
    "tags": []
   },
   "outputs": [],
   "source": [
    "# Train config\n",
    "EPOCHS = 10 if NOTDEBUG else 2\n",
    "BS = 4\n",
    "MAX_GRAD_NORM = 2.\n",
    "GRAD_ACC = 32 // BS"
   ]
  },
  {
   "cell_type": "code",
   "execution_count": 10,
   "id": "08e57d89",
   "metadata": {
    "execution": {
     "iopub.execute_input": "2023-12-11T02:41:15.702621Z",
     "iopub.status.busy": "2023-12-11T02:41:15.702327Z",
     "iopub.status.idle": "2023-12-11T02:41:15.710954Z",
     "shell.execute_reply": "2023-12-11T02:41:15.710298Z"
    },
    "papermill": {
     "duration": 0.021339,
     "end_time": "2023-12-11T02:41:15.712802",
     "exception": false,
     "start_time": "2023-12-11T02:41:15.691463",
     "status": "completed"
    },
    "tags": []
   },
   "outputs": [],
   "source": [
    "def torch_fix_seed(seed=42):\n",
    "    # Python random\n",
    "    random.seed(seed)\n",
    "    # Numpy\n",
    "    np.random.seed(seed)\n",
    "    # Pytorch\n",
    "    torch.manual_seed(seed)\n",
    "    torch.cuda.manual_seed(seed)\n",
    "    # torch.backends.cudnn.deterministic = True\n",
    "    # torch.use_deterministic_algorithms = True\n",
    "    # torch.backends.cudnn.benchmark = True\n",
    "\n",
    "torch_fix_seed(SEED)"
   ]
  },
  {
   "cell_type": "code",
   "execution_count": 11,
   "id": "a316cafe",
   "metadata": {
    "execution": {
     "iopub.execute_input": "2023-12-11T02:41:15.734315Z",
     "iopub.status.busy": "2023-12-11T02:41:15.734051Z",
     "iopub.status.idle": "2023-12-11T02:41:15.805355Z",
     "shell.execute_reply": "2023-12-11T02:41:15.804543Z"
    },
    "papermill": {
     "duration": 0.084002,
     "end_time": "2023-12-11T02:41:15.807219",
     "exception": false,
     "start_time": "2023-12-11T02:41:15.723217",
     "status": "completed"
    },
    "tags": []
   },
   "outputs": [
    {
     "data": {
      "text/plain": [
       "'cuda'"
      ]
     },
     "execution_count": 11,
     "metadata": {},
     "output_type": "execute_result"
    }
   ],
   "source": [
    "device = 'cuda' if torch.cuda.is_available() else 'cpu'\n",
    "device"
   ]
  },
  {
   "cell_type": "code",
   "execution_count": 12,
   "id": "893e39f5",
   "metadata": {
    "execution": {
     "iopub.execute_input": "2023-12-11T02:41:15.829269Z",
     "iopub.status.busy": "2023-12-11T02:41:15.829001Z",
     "iopub.status.idle": "2023-12-11T02:41:15.836732Z",
     "shell.execute_reply": "2023-12-11T02:41:15.835941Z"
    },
    "papermill": {
     "duration": 0.02087,
     "end_time": "2023-12-11T02:41:15.838640",
     "exception": false,
     "start_time": "2023-12-11T02:41:15.817770",
     "status": "completed"
    },
    "tags": []
   },
   "outputs": [],
   "source": [
    "def plot_history(history, model_path=\".\", show=True):\n",
    "    epochs = range(1, len(history[\"train_loss\"]) + 1)\n",
    "\n",
    "    plt.figure()\n",
    "    plt.plot(epochs, history[\"train_loss\"], label=\"Training Loss\")\n",
    "    plt.plot(epochs, history[\"valid_loss\"], label=\"Validation Loss\")\n",
    "    plt.yscale('log')\n",
    "    plt.title(\"Loss evolution\")\n",
    "    plt.xlabel(\"Epochs\")\n",
    "    plt.ylabel(\"Loss\")\n",
    "    plt.legend()\n",
    "    plt.savefig(os.path.join(model_path, \"loss_evo.png\"))\n",
    "    if show:\n",
    "        plt.show()\n",
    "    plt.close()\n",
    "\n",
    "#     plt.figure()\n",
    "#     plt.plot(epochs, history[\"valid_mAP\"])\n",
    "#     plt.title(\"Validation mAP evolution\")\n",
    "#     plt.xlabel(\"Epochs\")\n",
    "#     plt.ylabel(\"mAP\")\n",
    "#     plt.savefig(os.path.join(model_path, \"mAP_evo.png\"))\n",
    "#     if show:\n",
    "#         plt.show()\n",
    "#     plt.close()\n",
    "\n",
    "    plt.figure()\n",
    "    plt.plot(epochs, history[\"lr\"])\n",
    "    plt.title(\"Learning Rate evolution\")\n",
    "    plt.xlabel(\"Epochs\")\n",
    "    plt.ylabel(\"LR\")\n",
    "    plt.savefig(os.path.join(model_path, \"lr_evo.png\"))\n",
    "    if show:\n",
    "        plt.show()\n",
    "    plt.close()"
   ]
  },
  {
   "cell_type": "markdown",
   "id": "c49bc440",
   "metadata": {
    "papermill": {
     "duration": 0.010031,
     "end_time": "2023-12-11T02:41:15.858931",
     "exception": false,
     "start_time": "2023-12-11T02:41:15.848900",
     "status": "completed"
    },
    "tags": []
   },
   "source": [
    "# Define Model"
   ]
  },
  {
   "cell_type": "code",
   "execution_count": 13,
   "id": "7ec47e68",
   "metadata": {
    "execution": {
     "iopub.execute_input": "2023-12-11T02:41:15.880899Z",
     "iopub.status.busy": "2023-12-11T02:41:15.880621Z",
     "iopub.status.idle": "2023-12-11T02:41:15.896490Z",
     "shell.execute_reply": "2023-12-11T02:41:15.895677Z"
    },
    "papermill": {
     "duration": 0.029189,
     "end_time": "2023-12-11T02:41:15.898387",
     "exception": false,
     "start_time": "2023-12-11T02:41:15.869198",
     "status": "completed"
    },
    "tags": []
   },
   "outputs": [],
   "source": [
    "class US_BLK(nn.Module):\n",
    "    def __init__(self, in_c, out_c, in_len, ks=7, dilation=1, us_factor=2):\n",
    "        super().__init__()\n",
    "        padding = ((ks-1)*dilation)//2\n",
    "        self.us = nn.Upsample(scale_factor=us_factor, mode='linear')\n",
    "        self.conv1 = nn.Conv1d(in_c, out_c, ks, padding=padding, dilation=dilation)\n",
    "        self.ln1 = nn.LayerNorm([out_c, in_len])\n",
    "        self.act1 = nn.LeakyReLU(0.2)\n",
    "        self.conv2 = nn.Conv1d(out_c, out_c, ks, padding=padding, dilation=dilation)\n",
    "        self.ln2 = nn.LayerNorm([out_c, in_len])\n",
    "        self.act2 = nn.LeakyReLU(0.2)\n",
    "        \n",
    "    def forward(self, x):\n",
    "        x = self.us(x)\n",
    "        x = self.conv1(x)\n",
    "        x = self.ln1(x)\n",
    "        x = self.act1(x)\n",
    "        x = self.conv2(x)\n",
    "        x = self.ln2(x)\n",
    "        x = self.act2(x)\n",
    "        return x\n",
    "        \n",
    "class BertEncoder(torch.nn.Module):\n",
    "    \n",
    "    def __init__(self, model_name, in_c=2, out_c=2, emb_dim=8, pretrained=True, base=96):\n",
    "        super().__init__()\n",
    "        \n",
    "        self.config = AutoConfig.from_pretrained(model_name, add_pooling_layer=False)\n",
    "        #self.config.relative_attention = False # ADD\n",
    "        #self.config.num_hidden_layers = 12 # ADD\n",
    "        #self.config.num_attention_heads = 6 # ADD\n",
    "        #self.config.hidden_size = 384 # ADD\n",
    "        \n",
    "        if pretrained:\n",
    "            self.bert = AutoModel.from_pretrained(model_name, config=self.config)\n",
    "        else:\n",
    "            self.bert = AutoModel.from_config(self.config)\n",
    "            \n",
    "        self.bert = self.bert.encoder\n",
    "        \n",
    "        self.fc_in = nn.Linear(in_c, self.config.hidden_size-emb_dim)\n",
    "        self.hr_emb = nn.Embedding(24, emb_dim)\n",
    "\n",
    "        self.upsample_blocks = nn.ModuleList([])\n",
    "        self.upsample_blocks.append(US_BLK(self.config.hidden_size, base*4, MAX_LEN//(2*2), us_factor=3))\n",
    "        self.upsample_blocks.append(US_BLK(base*4, base*2, MAX_LEN//2, us_factor=2))\n",
    "        self.upsample_blocks.append(US_BLK(base*2, base, MAX_LEN, us_factor=2))\n",
    "        \n",
    "        self.fc_out = nn.Linear(base, out_c)\n",
    "\n",
    "    def forward(self, x, t, att_mask=None):\n",
    "        # print(f'input x: {x.shape}')\n",
    "        # print(f'input t: {t.shape}')\n",
    "        x = self.fc_in(x)\n",
    "        t = self.hr_emb(t)\n",
    "        # print(f'fc_in x: {x.shape}')\n",
    "        # print(f'hr_emb: {t.shape}')\n",
    "        x = torch.cat([x, t.squeeze(2)], dim=-1)\n",
    "        # print(f'after concat{x.shape}')\n",
    "        \n",
    "        # if att_mask is None:\n",
    "        #     att_mask = torch.ones(x.size()[:2]).to(x.device)\n",
    "        \n",
    "        #print(f'att mask shape : {att_mask.shape}')\n",
    "        bert_output = self.bert(x)\n",
    "        #bert_output = self.bert(x, attention_mask=att_mask)\n",
    "        x = bert_output.last_hidden_state\n",
    "        # print(f'hidden state: {x.shape}')\n",
    "\n",
    "        x = x.permute(0,2,1)\n",
    "\n",
    "        for b in self.upsample_blocks:\n",
    "            x = b(x)\n",
    "\n",
    "        x = x.permute(0,2,1)\n",
    "        \n",
    "        scores = self.fc_out(x) \n",
    "        \n",
    "        return scores"
   ]
  },
  {
   "cell_type": "markdown",
   "id": "eb10430c",
   "metadata": {
    "papermill": {
     "duration": 0.010071,
     "end_time": "2023-12-11T02:41:15.918870",
     "exception": false,
     "start_time": "2023-12-11T02:41:15.908799",
     "status": "completed"
    },
    "tags": []
   },
   "source": [
    "# Define Dataset and Fold split"
   ]
  },
  {
   "cell_type": "code",
   "execution_count": 14,
   "id": "d34b35e6",
   "metadata": {
    "execution": {
     "iopub.execute_input": "2023-12-11T02:41:15.940997Z",
     "iopub.status.busy": "2023-12-11T02:41:15.940654Z",
     "iopub.status.idle": "2023-12-11T02:41:16.011299Z",
     "shell.execute_reply": "2023-12-11T02:41:16.010349Z"
    },
    "papermill": {
     "duration": 0.084019,
     "end_time": "2023-12-11T02:41:16.013256",
     "exception": false,
     "start_time": "2023-12-11T02:41:15.929237",
     "status": "completed"
    },
    "tags": []
   },
   "outputs": [
    {
     "name": "stdout",
     "output_type": "stream",
     "text": [
      "Fold = 0\n",
      "Length of Train = 221, Length of Valid = 56\n"
     ]
    },
    {
     "data": {
      "text/plain": [
       "(0    038441c925bb\n",
       " 1    03d92c9f6f8a\n",
       " 2    0402a003dae9\n",
       " 3    04f547b8017d\n",
       " 4    05e1944c3818\n",
       " Name: series_id, dtype: object,\n",
       " ['/kaggle/input/detect-sleep-states-dataprepare/train_csvs/038441c925bb.csv',\n",
       "  '/kaggle/input/detect-sleep-states-dataprepare/train_csvs/03d92c9f6f8a.csv',\n",
       "  '/kaggle/input/detect-sleep-states-dataprepare/train_csvs/0402a003dae9.csv',\n",
       "  '/kaggle/input/detect-sleep-states-dataprepare/train_csvs/04f547b8017d.csv',\n",
       "  '/kaggle/input/detect-sleep-states-dataprepare/train_csvs/05e1944c3818.csv'],\n",
       " 221)"
      ]
     },
     "execution_count": 14,
     "metadata": {},
     "output_type": "execute_result"
    }
   ],
   "source": [
    "from sklearn.model_selection import StratifiedKFold, StratifiedGroupKFold\n",
    "skf = StratifiedKFold(n_splits=N_FOLDS, random_state=SEED, shuffle=True)\n",
    "metadata = pd.read_csv('/kaggle/input/child-mind-institute-detect-sleep-states/train_events.csv')\n",
    "unique_ids = metadata['series_id'].unique()\n",
    "meta_cts = pd.DataFrame(unique_ids, columns=['series_id'])\n",
    "for i, (train_index, valid_index) in enumerate(skf.split(X=meta_cts['series_id'], y=[1]*len(meta_cts))):\n",
    "    if i != TRAIN_FOLD:\n",
    "        continue\n",
    "    print(f\"Fold = {i}\")\n",
    "    train_ids = meta_cts.loc[train_index, 'series_id']\n",
    "    valid_ids = meta_cts.loc[valid_index, 'series_id']\n",
    "    print(f\"Length of Train = {len(train_ids)}, Length of Valid = {len(valid_ids)}\")\n",
    "    \n",
    "    if i == TRAIN_FOLD:\n",
    "        break\n",
    "        \n",
    "train_fpaths = [f\"/kaggle/input/detect-sleep-states-dataprepare/train_csvs/{_id}.csv\" for _id in train_ids]\n",
    "valid_fpaths = [f\"/kaggle/input/detect-sleep-states-dataprepare/train_csvs/{_id}.csv\" for _id in valid_ids]\n",
    "train_ids[:5], train_fpaths[:5] ,len(train_fpaths)"
   ]
  },
  {
   "cell_type": "code",
   "execution_count": 15,
   "id": "305fb3f9",
   "metadata": {
    "execution": {
     "iopub.execute_input": "2023-12-11T02:41:16.086418Z",
     "iopub.status.busy": "2023-12-11T02:41:16.085905Z",
     "iopub.status.idle": "2023-12-11T02:44:34.208709Z",
     "shell.execute_reply": "2023-12-11T02:44:34.207659Z"
    },
    "papermill": {
     "duration": 198.137681,
     "end_time": "2023-12-11T02:44:34.211294",
     "exception": false,
     "start_time": "2023-12-11T02:41:16.073613",
     "status": "completed"
    },
    "tags": []
   },
   "outputs": [
    {
     "name": "stderr",
     "output_type": "stream",
     "text": [
      "                                               \r"
     ]
    }
   ],
   "source": [
    "class SleepDataset(Dataset):\n",
    "    def __init__(\n",
    "        self,\n",
    "        folder,\n",
    "        max_len=17280,\n",
    "        is_train=False,\n",
    "        sample_per_epoch=10000\n",
    "    ):\n",
    "        self.enmo_mean = np.load('/kaggle/input/detect-sleep-states-dataprepare/enmo_mean.npy')\n",
    "        self.enmo_std = np.load('/kaggle/input/detect-sleep-states-dataprepare/enmo_std.npy')\n",
    "        \n",
    "        self.max_len = max_len\n",
    "        assert max_len % SAMPLE_FREQ == 0\n",
    "        \n",
    "        self.is_train = is_train\n",
    "        \n",
    "        self.max_df_size = 0\n",
    "        self.min_df_size = 1e9\n",
    "        \n",
    "        self.sample_per_epoch = sample_per_epoch\n",
    "        \n",
    "        self.feat_list = ['anglez','enmo']\n",
    "        \n",
    "        self.Xys = self.read_csvs(folder)        \n",
    "        \n",
    "        self.label_list = ['onset', 'wakeup']\n",
    "        \n",
    "        self.hour_feat= ['hour']\n",
    "        \n",
    "        self.compress_methods = ['mean', 'median', 'fixed']\n",
    "        \n",
    "    def read_csvs(self, folder):\n",
    "        res = []\n",
    "        if type(folder) is str:\n",
    "            files = glob.glob(f'{folder}/*.csv')\n",
    "        else:\n",
    "            files = folder\n",
    "        for i, f in tqdm(enumerate(files), total=len(files), leave=False):\n",
    "            df = pd.read_csv(f)\n",
    "            df = self.norm_feat_eng(df, init=True if i==0 else False)\n",
    "                \n",
    "            res.append(df)\n",
    "            self.max_df_size = max(self.max_df_size, len(df))\n",
    "            self.min_df_size = min(self.min_df_size, len(df))\n",
    "        return res\n",
    "    \n",
    "    def compress(self, xt, method='mean', sample_freq=SAMPLE_FREQ):\n",
    "        x, t = xt\n",
    "        seq_len = x.shape[0]\n",
    "        if method == 'mean':\n",
    "            x = x.reshape(seq_len//sample_freq, sample_freq, -1).mean(1)\n",
    "            t = t.reshape(seq_len//sample_freq, sample_freq, 1).mean(1)\n",
    "            \n",
    "        if method == 'median':\n",
    "            x = np.median(x.reshape(seq_len//sample_freq, sample_freq, -1), axis=1)\n",
    "            t = np.median(t.reshape(seq_len//sample_freq, sample_freq, 1), axis=1)\n",
    "            \n",
    "        if method == 'fixed':\n",
    "            start = torch.randint(0, sample_freq, size=(1,))[0].numpy()\n",
    "            x = x[start::sample_freq]\n",
    "            t = t[start::sample_freq]\n",
    "        \n",
    "        return x.astype(np.float32), t.astype(np.int32)\n",
    "\n",
    "    def norm_feat_eng(self, X, init=False):\n",
    "        X['anglez'] = abs(X['anglez'].diff()).fillna(method='bfill')\n",
    "        X['enmo'] = (X['enmo'] - self.enmo_mean) / (self.enmo_std + 1e-12)\n",
    "        \n",
    "        for w in [1, 2, 4, 8, 16]:    \n",
    "            X['anglez_shift_pos_' + str(w)] = X['anglez'].shift(w).fillna(0)\n",
    "            X['anglez_shift_neg_' + str(w)] = X['anglez'].shift(-w).fillna(0)\n",
    "            \n",
    "            X['enmo_shift_pos_' + str(w)] = X['enmo'].shift(w).fillna(0)\n",
    "            X['enmo_shift_neg_' + str(w)] = X['enmo'].shift(-w).fillna(0)\n",
    "            \n",
    "            if init:\n",
    "                self.feat_list.append('anglez_shift_pos_' + str(w))\n",
    "                self.feat_list.append('anglez_shift_neg_' + str(w))\n",
    "                \n",
    "                self.feat_list.append('enmo_shift_pos_' + str(w))\n",
    "                self.feat_list.append('enmo_shift_neg_' + str(w))\n",
    "            \n",
    "        for r in [17, 33, 65]:\n",
    "            tmp_anglez = X['anglez'].rolling(r, center=True)\n",
    "            X[f'anglez_mean_{r}'] = tmp_anglez.mean()\n",
    "            X[f'anglez_std_{r}'] = tmp_anglez.std()            \n",
    "            \n",
    "            tmp_enmo = X['enmo'].rolling(r, center=True)\n",
    "            X[f'enmo_mean_{r}'] = tmp_enmo.mean()\n",
    "            X[f'enmo_std_{r}'] = tmp_enmo.std()\n",
    "            \n",
    "            if init:\n",
    "                self.feat_list.append(f'anglez_mean_{r}')\n",
    "                self.feat_list.append(f'anglez_std_{r}')\n",
    "\n",
    "                self.feat_list.append(f'enmo_mean_{r}')\n",
    "                self.feat_list.append(f'enmo_std_{r}')\n",
    "                \n",
    "        X = X.fillna(0)\n",
    "        \n",
    "        return X.astype(np.float32)\n",
    "\n",
    "    def gauss(self, n=SIGMA, sigma=SIGMA*0.15):\n",
    "        # guassian distribution function\n",
    "        r = range(-int(n/2),int(n/2)+1)\n",
    "        return [1 / (sigma * sqrt(2*pi)) * exp(-float(x)**2/(2*sigma**2)) for x in r]\n",
    "    \n",
    "    def __len__(self):\n",
    "        return self.sample_per_epoch if self.is_train else len(self.Xys)\n",
    "\n",
    "    def __getitem__(self, index):\n",
    "        if self.is_train:\n",
    "            ind = torch.randint(0, len(self.Xys), size=(1,))[0].numpy()\n",
    "            Xy = self.Xys[ind]\n",
    "            \n",
    "            X = Xy[self.feat_list].values.astype(np.float32)\n",
    "            y = Xy[self.label_list].values.astype(np.float32)\n",
    "            t = Xy[self.hour_feat].values.astype(np.int32)\n",
    "\n",
    "            if len(Xy)+1<self.max_len:\n",
    "                res = self.max_len - len(Xy) + 1\n",
    "                X = np.pad(X, ((0, res), (0, 0)))\n",
    "                y = np.pad(y, ((0, res), (0, 0)))\n",
    "                t = np.pad(t, ((0, res), (0, 0)))\n",
    "\n",
    "            start = torch.randint(0, len(X)-self.max_len, size=(1,))[0].numpy()\n",
    "\n",
    "            X = X[start:start+self.max_len]\n",
    "            y = y[start:start+self.max_len]    \n",
    "            t = t[start:start+self.max_len]    \n",
    "            \n",
    "            method_idx = torch.randint(0, len(self.compress_methods), size=(1,))[0].numpy()\n",
    "            X, t = self.compress((X, t), method=self.compress_methods[method_idx])\n",
    "\n",
    "        else:\n",
    "            Xy = self.Xys[index]\n",
    "            X = Xy[self.feat_list].values.astype(np.float32)\n",
    "            y = Xy[self.label_list].values.astype(np.float32)        \n",
    "            t = Xy[self.hour_feat].values.astype(np.int32)\n",
    "            \n",
    "            if len(Xy)%SAMPLE_FREQ!=0:\n",
    "                res = SAMPLE_FREQ - (len(Xy)%SAMPLE_FREQ)\n",
    "                X = np.pad(X, ((0, res), (0, 0)))\n",
    "                y = np.pad(y, ((0, res), (0, 0)))\n",
    "                t = np.pad(t, ((0, res), (0, 0)))\n",
    "            \n",
    "            X, t = self.compress((X, t), method='mean')\n",
    "            \n",
    "        return X, t, y\n",
    "\n",
    "train_fpaths = train_fpaths if NOTDEBUG else train_fpaths[:25]\n",
    "valid_fpaths = valid_fpaths if NOTDEBUG else valid_fpaths[:5]\n",
    "sample_per_epoch = 20_000 if NOTDEBUG else 100\n",
    "\n",
    "train_ds = SleepDataset(train_fpaths, max_len=MAX_LEN, is_train=True, sample_per_epoch=sample_per_epoch)\n",
    "val_ds = SleepDataset(valid_fpaths, is_train=False)"
   ]
  },
  {
   "cell_type": "code",
   "execution_count": 16,
   "id": "14f69049",
   "metadata": {
    "execution": {
     "iopub.execute_input": "2023-12-11T02:44:34.280493Z",
     "iopub.status.busy": "2023-12-11T02:44:34.279791Z",
     "iopub.status.idle": "2023-12-11T02:44:34.284929Z",
     "shell.execute_reply": "2023-12-11T02:44:34.283946Z"
    },
    "papermill": {
     "duration": 0.04234,
     "end_time": "2023-12-11T02:44:34.287050",
     "exception": false,
     "start_time": "2023-12-11T02:44:34.244710",
     "status": "completed"
    },
    "tags": []
   },
   "outputs": [],
   "source": [
    "np.save('feature_list.npy', train_ds.feat_list)"
   ]
  },
  {
   "cell_type": "code",
   "execution_count": 17,
   "id": "d75bff1b",
   "metadata": {
    "execution": {
     "iopub.execute_input": "2023-12-11T02:44:34.360436Z",
     "iopub.status.busy": "2023-12-11T02:44:34.359530Z",
     "iopub.status.idle": "2023-12-11T02:44:34.365607Z",
     "shell.execute_reply": "2023-12-11T02:44:34.364665Z"
    },
    "papermill": {
     "duration": 0.046018,
     "end_time": "2023-12-11T02:44:34.367776",
     "exception": false,
     "start_time": "2023-12-11T02:44:34.321758",
     "status": "completed"
    },
    "tags": []
   },
   "outputs": [],
   "source": [
    "train_dl = DataLoader(\n",
    "    train_ds,\n",
    "    batch_size=BS,\n",
    "    pin_memory=True,\n",
    "    num_workers=0,\n",
    "    shuffle=True,\n",
    "    drop_last=True\n",
    ")\n",
    "val_dl = DataLoader(\n",
    "    val_ds,\n",
    "    batch_size=1,\n",
    "    pin_memory=True,\n",
    "    num_workers=0,\n",
    "    shuffle=False,\n",
    "    drop_last=False\n",
    ")"
   ]
  },
  {
   "cell_type": "markdown",
   "id": "3fb5c2f7",
   "metadata": {
    "papermill": {
     "duration": 0.034465,
     "end_time": "2023-12-11T02:44:34.438619",
     "exception": false,
     "start_time": "2023-12-11T02:44:34.404154",
     "status": "completed"
    },
    "tags": []
   },
   "source": [
    "# Train and Eval"
   ]
  },
  {
   "cell_type": "code",
   "execution_count": 18,
   "id": "50e56845",
   "metadata": {
    "execution": {
     "iopub.execute_input": "2023-12-11T02:44:34.510099Z",
     "iopub.status.busy": "2023-12-11T02:44:34.509305Z",
     "iopub.status.idle": "2023-12-11T02:44:34.517268Z",
     "shell.execute_reply": "2023-12-11T02:44:34.516330Z"
    },
    "papermill": {
     "duration": 0.046238,
     "end_time": "2023-12-11T02:44:34.519327",
     "exception": false,
     "start_time": "2023-12-11T02:44:34.473089",
     "status": "completed"
    },
    "tags": []
   },
   "outputs": [],
   "source": [
    "# https://www.kaggle.com/code/bigironsphere/loss-function-library-keras-pytorch\n",
    "\n",
    "class FocalLoss(nn.Module):\n",
    "    def __init__(self, weight=None, size_average=True, alpha=1., gamma=2.):\n",
    "        super(FocalLoss, self).__init__()\n",
    "        self.alpha = alpha\n",
    "        self.gamma = gamma\n",
    "\n",
    "    def forward(self, inputs, targets):\n",
    "        \n",
    "        #comment out if your model contains a sigmoid or equivalent activation layer\n",
    "        #inputs = F.sigmoid(inputs)       \n",
    "        \n",
    "        #flatten label and prediction tensors\n",
    "        inputs = inputs.view(-1)\n",
    "        targets = targets.view(-1)\n",
    "        \n",
    "        #first compute binary cross-entropy \n",
    "        BCE = F.binary_cross_entropy_with_logits(inputs, targets, reduction='none')\n",
    "        BCE_EXP = torch.exp(-BCE)\n",
    "        focal_loss = self.alpha * (1-BCE_EXP)**self.gamma * BCE\n",
    "                       \n",
    "        return focal_loss.mean()"
   ]
  },
  {
   "cell_type": "code",
   "execution_count": 19,
   "id": "0e510f92",
   "metadata": {
    "execution": {
     "iopub.execute_input": "2023-12-11T02:44:34.588262Z",
     "iopub.status.busy": "2023-12-11T02:44:34.587387Z",
     "iopub.status.idle": "2023-12-11T02:44:34.594300Z",
     "shell.execute_reply": "2023-12-11T02:44:34.593364Z"
    },
    "papermill": {
     "duration": 0.043983,
     "end_time": "2023-12-11T02:44:34.596969",
     "exception": false,
     "start_time": "2023-12-11T02:44:34.552986",
     "status": "completed"
    },
    "tags": []
   },
   "outputs": [],
   "source": [
    "def add_weight_decay(model, weight_decay=1e-5, skip_list=()):\n",
    "    decay = []\n",
    "    no_decay = []\n",
    "    for name, param in model.named_parameters():\n",
    "        if not param.requires_grad:\n",
    "            continue\n",
    "        if len(param.shape) == 1 or np.any([v in name.lower()  for v in skip_list]):\n",
    "            # print(name, 'no decay')\n",
    "            no_decay.append(param)\n",
    "        else:\n",
    "            # print(name, 'decay')\n",
    "            decay.append(param)\n",
    "    return [\n",
    "        {'params': no_decay, 'weight_decay': 0.},\n",
    "        {'params': decay, 'weight_decay': weight_decay}]"
   ]
  },
  {
   "cell_type": "code",
   "execution_count": 20,
   "id": "de81b141",
   "metadata": {
    "execution": {
     "iopub.execute_input": "2023-12-11T02:44:34.667621Z",
     "iopub.status.busy": "2023-12-11T02:44:34.667250Z",
     "iopub.status.idle": "2023-12-11T02:44:34.673436Z",
     "shell.execute_reply": "2023-12-11T02:44:34.672497Z"
    },
    "papermill": {
     "duration": 0.043527,
     "end_time": "2023-12-11T02:44:34.675495",
     "exception": false,
     "start_time": "2023-12-11T02:44:34.631968",
     "status": "completed"
    },
    "tags": []
   },
   "outputs": [
    {
     "data": {
      "text/plain": [
       "34"
      ]
     },
     "execution_count": 20,
     "metadata": {},
     "output_type": "execute_result"
    }
   ],
   "source": [
    "len(train_ds.feat_list)"
   ]
  },
  {
   "cell_type": "code",
   "execution_count": 21,
   "id": "2b16273e",
   "metadata": {
    "execution": {
     "iopub.execute_input": "2023-12-11T02:44:34.745825Z",
     "iopub.status.busy": "2023-12-11T02:44:34.744975Z",
     "iopub.status.idle": "2023-12-11T02:44:34.750178Z",
     "shell.execute_reply": "2023-12-11T02:44:34.749337Z"
    },
    "papermill": {
     "duration": 0.042667,
     "end_time": "2023-12-11T02:44:34.752243",
     "exception": false,
     "start_time": "2023-12-11T02:44:34.709576",
     "status": "completed"
    },
    "tags": []
   },
   "outputs": [],
   "source": [
    "def padding_(x, tgt_len=MAX_CHUNK_LEN):\n",
    "    res = tgt_len - (x.size(-2) % tgt_len)\n",
    "    x = F.pad(x, (0, 0, 0, res))\n",
    "    return x"
   ]
  },
  {
   "cell_type": "code",
   "execution_count": 22,
   "id": "19b14ddf",
   "metadata": {
    "execution": {
     "iopub.execute_input": "2023-12-11T02:44:34.820933Z",
     "iopub.status.busy": "2023-12-11T02:44:34.820239Z",
     "iopub.status.idle": "2023-12-11T02:44:40.107309Z",
     "shell.execute_reply": "2023-12-11T02:44:40.106286Z"
    },
    "papermill": {
     "duration": 5.324446,
     "end_time": "2023-12-11T02:44:40.109820",
     "exception": false,
     "start_time": "2023-12-11T02:44:34.785374",
     "status": "completed"
    },
    "tags": []
   },
   "outputs": [
    {
     "data": {
      "application/vnd.jupyter.widget-view+json": {
       "model_id": "7c3fbfcfc3cc43488f6ef969b8d5f642",
       "version_major": 2,
       "version_minor": 0
      },
      "text/plain": [
       "config.json:   0%|          | 0.00/646 [00:00<?, ?B/s]"
      ]
     },
     "metadata": {},
     "output_type": "display_data"
    },
    {
     "data": {
      "application/vnd.jupyter.widget-view+json": {
       "model_id": "6c4e2d0f96254eeca5531b3328f1e5c9",
       "version_major": 2,
       "version_minor": 0
      },
      "text/plain": [
       "pytorch_model.bin:   0%|          | 0.00/90.0M [00:00<?, ?B/s]"
      ]
     },
     "metadata": {},
     "output_type": "display_data"
    },
    {
     "name": "stderr",
     "output_type": "stream",
     "text": [
      "Some weights of RobertaModel were not initialized from the model checkpoint at smallbenchnlp/roberta-small and are newly initialized: ['roberta.pooler.dense.weight', 'roberta.pooler.dense.bias']\n",
      "You should probably TRAIN this model on a down-stream task to be able to use it for predictions and inference.\n"
     ]
    },
    {
     "data": {
      "text/plain": [
       "BertEncoder(\n",
       "  (bert): RobertaEncoder(\n",
       "    (layer): ModuleList(\n",
       "      (0-11): 12 x RobertaLayer(\n",
       "        (attention): RobertaAttention(\n",
       "          (self): RobertaSelfAttention(\n",
       "            (query): Linear(in_features=256, out_features=256, bias=True)\n",
       "            (key): Linear(in_features=256, out_features=256, bias=True)\n",
       "            (value): Linear(in_features=256, out_features=256, bias=True)\n",
       "            (dropout): Dropout(p=0.1, inplace=False)\n",
       "          )\n",
       "          (output): RobertaSelfOutput(\n",
       "            (dense): Linear(in_features=256, out_features=256, bias=True)\n",
       "            (LayerNorm): LayerNorm((256,), eps=1e-05, elementwise_affine=True)\n",
       "            (dropout): Dropout(p=0.1, inplace=False)\n",
       "          )\n",
       "        )\n",
       "        (intermediate): RobertaIntermediate(\n",
       "          (dense): Linear(in_features=256, out_features=1024, bias=True)\n",
       "          (intermediate_act_fn): GELUActivation()\n",
       "        )\n",
       "        (output): RobertaOutput(\n",
       "          (dense): Linear(in_features=1024, out_features=256, bias=True)\n",
       "          (LayerNorm): LayerNorm((256,), eps=1e-05, elementwise_affine=True)\n",
       "          (dropout): Dropout(p=0.1, inplace=False)\n",
       "        )\n",
       "      )\n",
       "    )\n",
       "  )\n",
       "  (fc_in): Linear(in_features=34, out_features=224, bias=True)\n",
       "  (hr_emb): Embedding(24, 32)\n",
       "  (upsample_blocks): ModuleList(\n",
       "    (0): US_BLK(\n",
       "      (us): Upsample(scale_factor=3.0, mode='linear')\n",
       "      (conv1): Conv1d(256, 384, kernel_size=(7,), stride=(1,), padding=(3,))\n",
       "      (ln1): LayerNorm((384, 4320), eps=1e-05, elementwise_affine=True)\n",
       "      (act1): LeakyReLU(negative_slope=0.2)\n",
       "      (conv2): Conv1d(384, 384, kernel_size=(7,), stride=(1,), padding=(3,))\n",
       "      (ln2): LayerNorm((384, 4320), eps=1e-05, elementwise_affine=True)\n",
       "      (act2): LeakyReLU(negative_slope=0.2)\n",
       "    )\n",
       "    (1): US_BLK(\n",
       "      (us): Upsample(scale_factor=2.0, mode='linear')\n",
       "      (conv1): Conv1d(384, 192, kernel_size=(7,), stride=(1,), padding=(3,))\n",
       "      (ln1): LayerNorm((192, 8640), eps=1e-05, elementwise_affine=True)\n",
       "      (act1): LeakyReLU(negative_slope=0.2)\n",
       "      (conv2): Conv1d(192, 192, kernel_size=(7,), stride=(1,), padding=(3,))\n",
       "      (ln2): LayerNorm((192, 8640), eps=1e-05, elementwise_affine=True)\n",
       "      (act2): LeakyReLU(negative_slope=0.2)\n",
       "    )\n",
       "    (2): US_BLK(\n",
       "      (us): Upsample(scale_factor=2.0, mode='linear')\n",
       "      (conv1): Conv1d(192, 96, kernel_size=(7,), stride=(1,), padding=(3,))\n",
       "      (ln1): LayerNorm((96, 17280), eps=1e-05, elementwise_affine=True)\n",
       "      (act1): LeakyReLU(negative_slope=0.2)\n",
       "      (conv2): Conv1d(96, 96, kernel_size=(7,), stride=(1,), padding=(3,))\n",
       "      (ln2): LayerNorm((96, 17280), eps=1e-05, elementwise_affine=True)\n",
       "      (act2): LeakyReLU(negative_slope=0.2)\n",
       "    )\n",
       "  )\n",
       "  (fc_out): Linear(in_features=96, out_features=2, bias=True)\n",
       ")"
      ]
     },
     "execution_count": 22,
     "metadata": {},
     "output_type": "execute_result"
    }
   ],
   "source": [
    "model = BertEncoder(\n",
    "    model_name=MODEL_NAME, \n",
    "    in_c=len(train_ds.feat_list), \n",
    "    out_c=2, \n",
    "    emb_dim=EMB_DIM, \n",
    "    pretrained=True\n",
    ").to(device)\n",
    "model"
   ]
  },
  {
   "cell_type": "code",
   "execution_count": 23,
   "id": "1c0f3044",
   "metadata": {
    "execution": {
     "iopub.execute_input": "2023-12-11T02:44:40.188621Z",
     "iopub.status.busy": "2023-12-11T02:44:40.187535Z",
     "iopub.status.idle": "2023-12-11T02:44:40.194923Z",
     "shell.execute_reply": "2023-12-11T02:44:40.193955Z"
    },
    "papermill": {
     "duration": 0.049495,
     "end_time": "2023-12-11T02:44:40.197495",
     "exception": false,
     "start_time": "2023-12-11T02:44:40.148000",
     "status": "completed"
    },
    "tags": []
   },
   "outputs": [
    {
     "name": "stdout",
     "output_type": "stream",
     "text": [
      "model has 32081826 params.\n"
     ]
    }
   ],
   "source": [
    "n_params = sum(param.numel() for param in model.parameters() if param.requires_grad)\n",
    "print(f'model has {n_params} params.')"
   ]
  },
  {
   "cell_type": "code",
   "execution_count": 24,
   "id": "75d341b1",
   "metadata": {
    "execution": {
     "iopub.execute_input": "2023-12-11T02:44:40.272972Z",
     "iopub.status.busy": "2023-12-11T02:44:40.272167Z",
     "iopub.status.idle": "2023-12-11T02:44:40.280626Z",
     "shell.execute_reply": "2023-12-11T02:44:40.279610Z"
    },
    "papermill": {
     "duration": 0.047921,
     "end_time": "2023-12-11T02:44:40.282697",
     "exception": false,
     "start_time": "2023-12-11T02:44:40.234776",
     "status": "completed"
    },
    "tags": []
   },
   "outputs": [],
   "source": [
    "optimizer_parameters = add_weight_decay(model, weight_decay=WD, skip_list=['bias'])\n",
    "optimizer = AdamW(optimizer_parameters, lr=LR, eps=1e-6, betas=(0.9, 0.999))"
   ]
  },
  {
   "cell_type": "code",
   "execution_count": 25,
   "id": "d5636d9f",
   "metadata": {
    "execution": {
     "iopub.execute_input": "2023-12-11T02:44:40.357593Z",
     "iopub.status.busy": "2023-12-11T02:44:40.357217Z",
     "iopub.status.idle": "2023-12-11T02:44:40.365717Z",
     "shell.execute_reply": "2023-12-11T02:44:40.364221Z"
    },
    "papermill": {
     "duration": 0.048798,
     "end_time": "2023-12-11T02:44:40.368089",
     "exception": false,
     "start_time": "2023-12-11T02:44:40.319291",
     "status": "completed"
    },
    "tags": []
   },
   "outputs": [
    {
     "name": "stdout",
     "output_type": "stream",
     "text": [
      "6250 625\n"
     ]
    }
   ],
   "source": [
    "steps = len(train_dl) * EPOCHS // GRAD_ACC\n",
    "warmup_steps = int(steps * WARMUP_PROP)\n",
    "\n",
    "print(steps, warmup_steps)\n",
    "\n",
    "scheduler = get_cosine_schedule_with_warmup(optimizer,\n",
    "                                            num_warmup_steps=warmup_steps,\n",
    "                                            num_training_steps=steps,\n",
    "                                            num_cycles=0.5)\n",
    "\n",
    "dt = time.time()\n",
    "\n",
    "model_path = OUTPUT_DIR\n",
    "\n",
    "os.makedirs(model_path, exist_ok=True)\n",
    "\n",
    "\n",
    "\n",
    "history = {\n",
    "    \"train_loss\": [],\n",
    "    \"valid_loss\": [],\n",
    "    \"lr\": [],\n",
    "}\n",
    "\n",
    "best_valid_loss = 1e5\n",
    "\n",
    "criterion = FocalLoss(alpha=1., gamma=2.)"
   ]
  },
  {
   "cell_type": "code",
   "execution_count": 26,
   "id": "85e04592",
   "metadata": {
    "execution": {
     "iopub.execute_input": "2023-12-11T02:44:40.439561Z",
     "iopub.status.busy": "2023-12-11T02:44:40.439211Z",
     "iopub.status.idle": "2023-12-11T02:44:40.447034Z",
     "shell.execute_reply": "2023-12-11T02:44:40.446205Z"
    },
    "papermill": {
     "duration": 0.045591,
     "end_time": "2023-12-11T02:44:40.448997",
     "exception": false,
     "start_time": "2023-12-11T02:44:40.403406",
     "status": "completed"
    },
    "tags": []
   },
   "outputs": [
    {
     "data": {
      "text/plain": [
       "RobertaConfig {\n",
       "  \"_name_or_path\": \"smallbenchnlp/roberta-small\",\n",
       "  \"architectures\": [\n",
       "    \"RobertaForMaskedLM\"\n",
       "  ],\n",
       "  \"attention_probs_dropout_prob\": 0.1,\n",
       "  \"bos_token_id\": 0,\n",
       "  \"classifier_dropout\": null,\n",
       "  \"eos_token_id\": 2,\n",
       "  \"gradient_checkpointing\": false,\n",
       "  \"hidden_act\": \"gelu\",\n",
       "  \"hidden_dropout_prob\": 0.1,\n",
       "  \"hidden_size\": 256,\n",
       "  \"initializer_range\": 0.02,\n",
       "  \"intermediate_size\": 1024,\n",
       "  \"layer_norm_eps\": 1e-05,\n",
       "  \"max_position_embeddings\": 128,\n",
       "  \"model_type\": \"roberta\",\n",
       "  \"num_attention_heads\": 4,\n",
       "  \"num_hidden_layers\": 12,\n",
       "  \"pad_token_id\": 1,\n",
       "  \"position_embedding_type\": \"absolute\",\n",
       "  \"torch_dtype\": \"float32\",\n",
       "  \"transformers_version\": \"4.35.2\",\n",
       "  \"type_vocab_size\": 1,\n",
       "  \"use_cache\": true,\n",
       "  \"vocab_size\": 50265\n",
       "}"
      ]
     },
     "execution_count": 26,
     "metadata": {},
     "output_type": "execute_result"
    }
   ],
   "source": [
    "model_name_sep = MODEL_NAME.split('/')[-1]\n",
    "torch.save(model.config, OUTPUT_DIR + f'/{model_name_sep}_config.pth')\n",
    "model.config"
   ]
  },
  {
   "cell_type": "code",
   "execution_count": 27,
   "id": "d0fc9f95",
   "metadata": {
    "execution": {
     "iopub.execute_input": "2023-12-11T02:44:40.517492Z",
     "iopub.status.busy": "2023-12-11T02:44:40.517193Z",
     "iopub.status.idle": "2023-12-11T02:44:40.521810Z",
     "shell.execute_reply": "2023-12-11T02:44:40.520947Z"
    },
    "papermill": {
     "duration": 0.041138,
     "end_time": "2023-12-11T02:44:40.523710",
     "exception": false,
     "start_time": "2023-12-11T02:44:40.482572",
     "status": "completed"
    },
    "tags": []
   },
   "outputs": [],
   "source": [
    "autocast = torch.cuda.amp.autocast(enabled=USE_AMP, dtype=torch.half) # if you are using newer GPU, recommended dtype=torch.bfloat16 than half\n",
    "scaler = torch.cuda.amp.GradScaler(enabled=USE_AMP, init_scale=4096)"
   ]
  },
  {
   "cell_type": "code",
   "execution_count": 28,
   "id": "bbc3e9ed",
   "metadata": {
    "execution": {
     "iopub.execute_input": "2023-12-11T02:44:40.595263Z",
     "iopub.status.busy": "2023-12-11T02:44:40.594405Z",
     "iopub.status.idle": "2023-12-11T02:44:40.598919Z",
     "shell.execute_reply": "2023-12-11T02:44:40.598035Z"
    },
    "papermill": {
     "duration": 0.043476,
     "end_time": "2023-12-11T02:44:40.600937",
     "exception": false,
     "start_time": "2023-12-11T02:44:40.557461",
     "status": "completed"
    },
    "tags": []
   },
   "outputs": [],
   "source": [
    "es_step = 0"
   ]
  },
  {
   "cell_type": "code",
   "execution_count": 29,
   "id": "f18c43c4",
   "metadata": {
    "execution": {
     "iopub.execute_input": "2023-12-11T02:44:40.669983Z",
     "iopub.status.busy": "2023-12-11T02:44:40.669324Z",
     "iopub.status.idle": "2023-12-11T06:07:56.445088Z",
     "shell.execute_reply": "2023-12-11T06:07:56.444241Z"
    },
    "papermill": {
     "duration": 12195.81263,
     "end_time": "2023-12-11T06:07:56.447190",
     "exception": false,
     "start_time": "2023-12-11T02:44:40.634560",
     "status": "completed"
    },
    "tags": []
   },
   "outputs": [
    {
     "name": "stderr",
     "output_type": "stream",
     "text": [
      "100%|██████████| 5000/5000 [1:06:32<00:00,  1.25it/s, loss=0.005471, lr=3.994e-04]\n",
      "100%|██████████| 56/56 [01:22<00:00,  1.48s/it]\n"
     ]
    },
    {
     "name": "stdout",
     "output_type": "stream",
     "text": [
      "1/10 --  train_loss = 0.011498 --  valid_loss = 0.007792 --  time = 4075.877162s\n"
     ]
    },
    {
     "name": "stderr",
     "output_type": "stream",
     "text": [
      "100%|██████████| 5000/5000 [1:06:04<00:00,  1.26it/s, loss=0.006992, lr=3.880e-04]\n",
      "100%|██████████| 56/56 [01:23<00:00,  1.48s/it]\n"
     ]
    },
    {
     "name": "stdout",
     "output_type": "stream",
     "text": [
      "2/10 --  train_loss = 0.008115 --  valid_loss = 0.007835 --  time = 4047.561080s\n"
     ]
    },
    {
     "name": "stderr",
     "output_type": "stream",
     "text": [
      "100%|██████████| 5000/5000 [1:06:28<00:00,  1.25it/s, loss=0.011737, lr=3.533e-04]\n",
      "100%|██████████| 56/56 [01:22<00:00,  1.48s/it]\n"
     ]
    },
    {
     "data": {
      "image/png": "[encoded data removed]",
      "text/plain": [
       "<Figure size 640x480 with 1 Axes>"
      ]
     },
     "metadata": {},
     "output_type": "display_data"
    },
    {
     "data": {
      "image/png": "[encoded data removed]",
      "text/plain": [
       "<Figure size 640x480 with 1 Axes>"
      ]
     },
     "metadata": {},
     "output_type": "display_data"
    }
   ],
   "source": [
    "for epoch in range(EPOCHS):\n",
    "    if epoch>=7: break\n",
    "    total_loss = 0.0\n",
    "    model.train()\n",
    "    optimizer.zero_grad()\n",
    "    with tqdm(train_dl, leave=True) as pbar:\n",
    "        for step, (X_batch, hr_batch, y_batch) in enumerate(pbar):\n",
    "            X_batch = X_batch.to(device)\n",
    "            hr_batch = hr_batch.to(device)\n",
    "            y_batch = y_batch.to(device)           \n",
    "            with autocast:\n",
    "                pred = model(X_batch, hr_batch)\n",
    "                #break\n",
    "                loss = criterion(pred, y_batch)\n",
    "                \n",
    "                if torch.isnan(loss).any():\n",
    "                    raise RuntimeError('Detected NaN.')\n",
    "    \n",
    "                total_loss += loss.item()\n",
    "                if GRAD_ACC > 1:\n",
    "                    loss = loss / GRAD_ACC\n",
    "                        \n",
    "                pbar.set_postfix(\n",
    "                        OrderedDict(\n",
    "                            loss=f'{loss.item()*GRAD_ACC:.6f}',\n",
    "                            lr=f'{optimizer.param_groups[0][\"lr\"]:.3e}'\n",
    "                        )\n",
    "                    )\n",
    "        \n",
    "                scaler.scale(loss).backward()\n",
    "\n",
    "                torch.nn.utils.clip_grad_norm_(model.parameters(), MAX_GRAD_NORM or 1e9)\n",
    "    \n",
    "            if (step + 1) % GRAD_ACC == 0:\n",
    "                scaler.step(optimizer)\n",
    "                scaler.update()\n",
    "                optimizer.zero_grad()\n",
    "                if scheduler is not None:\n",
    "                    scheduler.step()\n",
    "\n",
    "        train_loss = total_loss/len(train_dl)\n",
    "    \n",
    "\n",
    "    total_loss = 0.0\n",
    "    model.eval()\n",
    "    with torch.no_grad():\n",
    "        with tqdm(val_dl, leave=True) as pbar:\n",
    "            for step, (X_batch, hr_batch, y_batch) in enumerate(pbar):\n",
    "                X_batch = X_batch.to(device)\n",
    "                hr_batch = hr_batch.to(device)\n",
    "                y_batch = y_batch.to(device)\n",
    "                pred = torch.zeros_like(y_batch)\n",
    "                x_seq_len = X_batch.shape[1]\n",
    "                y_seq_len = y_batch.shape[1]\n",
    "\n",
    "                if x_seq_len%MAX_CHUNK_LEN != 0:\n",
    "                    X_batch = padding_(X_batch,MAX_CHUNK_LEN)\n",
    "                    hr_batch = padding_(hr_batch,MAX_CHUNK_LEN)\n",
    "\n",
    "                if y_seq_len%(MAX_CHUNK_LEN*SAMPLE_FREQ) != 0:\n",
    "                    pred = padding_(pred,MAX_CHUNK_LEN*SAMPLE_FREQ)\n",
    "\n",
    "                j = 0\n",
    "                for i in range(0, x_seq_len, MAX_CHUNK_LEN):\n",
    "                    X_chunk = X_batch[:, i : i + MAX_CHUNK_LEN]\n",
    "                    hr_chunk = hr_batch[:, i : i + MAX_CHUNK_LEN]\n",
    "                    with autocast:\n",
    "                        p = model(X_chunk, hr_chunk)\n",
    "                        pred[:, j : j + MAX_CHUNK_LEN*SAMPLE_FREQ] = p\n",
    "\n",
    "                    j += MAX_CHUNK_LEN*SAMPLE_FREQ\n",
    "\n",
    "                pred = pred[:, :y_seq_len]\n",
    "                loss = criterion(pred, y_batch)\n",
    "                \n",
    "                total_loss += loss.item()\n",
    "            \n",
    "    valid_loss = total_loss/len(val_dl)\n",
    "    \n",
    "    history[\"train_loss\"].append(train_loss)\n",
    "    history[\"valid_loss\"].append(valid_loss)\n",
    "    history[\"lr\"].append(optimizer.param_groups[0][\"lr\"])\n",
    "\n",
    "    if valid_loss < best_valid_loss:\n",
    "        best_valid_loss = valid_loss\n",
    "        torch.save(\n",
    "            model.state_dict(),\n",
    "            os.path.join(model_path, f\"model_best_fold-{TRAIN_FOLD}.pth\"),\n",
    "        )\n",
    "        es_step = 0\n",
    "        \n",
    "    else:\n",
    "        es_step += 1\n",
    "        if es_step >= 2:\n",
    "            break\n",
    "\n",
    "    dt = time.time() - dt\n",
    "    print(\n",
    "        f\"{epoch+1}/{EPOCHS} -- \",\n",
    "        f\"train_loss = {train_loss:.6f} -- \",\n",
    "        f\"valid_loss = {valid_loss:.6f} -- \",\n",
    "        f\"time = {dt:.6f}s\",\n",
    "    )\n",
    "    dt = time.time()\n",
    "\n",
    "plot_history(history, model_path=model_path)\n",
    "history_path = os.path.join(model_path, \"history.json\")\n",
    "with open(history_path, \"w\", encoding=\"utf-8\") as f:\n",
    "    json.dump(history, f, ensure_ascii=False, indent=4)"
   ]
  },
  {
   "cell_type": "markdown",
   "id": "b7b3f56b",
   "metadata": {
    "papermill": {
     "duration": 2.582651,
     "end_time": "2023-12-11T06:08:01.564858",
     "exception": false,
     "start_time": "2023-12-11T06:07:58.982207",
     "status": "completed"
    },
    "tags": []
   },
   "source": [
    "# Verification"
   ]
  },
  {
   "cell_type": "code",
   "execution_count": 30,
   "id": "2ec2b47e",
   "metadata": {
    "execution": {
     "iopub.execute_input": "2023-12-11T06:08:06.466444Z",
     "iopub.status.busy": "2023-12-11T06:08:06.465796Z",
     "iopub.status.idle": "2023-12-11T06:08:06.475544Z",
     "shell.execute_reply": "2023-12-11T06:08:06.474645Z"
    },
    "papermill": {
     "duration": 2.515818,
     "end_time": "2023-12-11T06:08:06.477594",
     "exception": false,
     "start_time": "2023-12-11T06:08:03.961776",
     "status": "completed"
    },
    "tags": []
   },
   "outputs": [
    {
     "data": {
      "text/plain": [
       "BertEncoder(\n",
       "  (bert): RobertaEncoder(\n",
       "    (layer): ModuleList(\n",
       "      (0-11): 12 x RobertaLayer(\n",
       "        (attention): RobertaAttention(\n",
       "          (self): RobertaSelfAttention(\n",
       "            (query): Linear(in_features=256, out_features=256, bias=True)\n",
       "            (key): Linear(in_features=256, out_features=256, bias=True)\n",
       "            (value): Linear(in_features=256, out_features=256, bias=True)\n",
       "            (dropout): Dropout(p=0.1, inplace=False)\n",
       "          )\n",
       "          (output): RobertaSelfOutput(\n",
       "            (dense): Linear(in_features=256, out_features=256, bias=True)\n",
       "            (LayerNorm): LayerNorm((256,), eps=1e-05, elementwise_affine=True)\n",
       "            (dropout): Dropout(p=0.1, inplace=False)\n",
       "          )\n",
       "        )\n",
       "        (intermediate): RobertaIntermediate(\n",
       "          (dense): Linear(in_features=256, out_features=1024, bias=True)\n",
       "          (intermediate_act_fn): GELUActivation()\n",
       "        )\n",
       "        (output): RobertaOutput(\n",
       "          (dense): Linear(in_features=1024, out_features=256, bias=True)\n",
       "          (LayerNorm): LayerNorm((256,), eps=1e-05, elementwise_affine=True)\n",
       "          (dropout): Dropout(p=0.1, inplace=False)\n",
       "        )\n",
       "      )\n",
       "    )\n",
       "  )\n",
       "  (fc_in): Linear(in_features=34, out_features=224, bias=True)\n",
       "  (hr_emb): Embedding(24, 32)\n",
       "  (upsample_blocks): ModuleList(\n",
       "    (0): US_BLK(\n",
       "      (us): Upsample(scale_factor=3.0, mode='linear')\n",
       "      (conv1): Conv1d(256, 384, kernel_size=(7,), stride=(1,), padding=(3,))\n",
       "      (ln1): LayerNorm((384, 4320), eps=1e-05, elementwise_affine=True)\n",
       "      (act1): LeakyReLU(negative_slope=0.2)\n",
       "      (conv2): Conv1d(384, 384, kernel_size=(7,), stride=(1,), padding=(3,))\n",
       "      (ln2): LayerNorm((384, 4320), eps=1e-05, elementwise_affine=True)\n",
       "      (act2): LeakyReLU(negative_slope=0.2)\n",
       "    )\n",
       "    (1): US_BLK(\n",
       "      (us): Upsample(scale_factor=2.0, mode='linear')\n",
       "      (conv1): Conv1d(384, 192, kernel_size=(7,), stride=(1,), padding=(3,))\n",
       "      (ln1): LayerNorm((192, 8640), eps=1e-05, elementwise_affine=True)\n",
       "      (act1): LeakyReLU(negative_slope=0.2)\n",
       "      (conv2): Conv1d(192, 192, kernel_size=(7,), stride=(1,), padding=(3,))\n",
       "      (ln2): LayerNorm((192, 8640), eps=1e-05, elementwise_affine=True)\n",
       "      (act2): LeakyReLU(negative_slope=0.2)\n",
       "    )\n",
       "    (2): US_BLK(\n",
       "      (us): Upsample(scale_factor=2.0, mode='linear')\n",
       "      (conv1): Conv1d(192, 96, kernel_size=(7,), stride=(1,), padding=(3,))\n",
       "      (ln1): LayerNorm((96, 17280), eps=1e-05, elementwise_affine=True)\n",
       "      (act1): LeakyReLU(negative_slope=0.2)\n",
       "      (conv2): Conv1d(96, 96, kernel_size=(7,), stride=(1,), padding=(3,))\n",
       "      (ln2): LayerNorm((96, 17280), eps=1e-05, elementwise_affine=True)\n",
       "      (act2): LeakyReLU(negative_slope=0.2)\n",
       "    )\n",
       "  )\n",
       "  (fc_out): Linear(in_features=96, out_features=2, bias=True)\n",
       ")"
      ]
     },
     "execution_count": 30,
     "metadata": {},
     "output_type": "execute_result"
    }
   ],
   "source": [
    "model.eval()"
   ]
  },
  {
   "cell_type": "code",
   "execution_count": 31,
   "id": "eff6df68",
   "metadata": {
    "execution": {
     "iopub.execute_input": "2023-12-11T06:08:11.586086Z",
     "iopub.status.busy": "2023-12-11T06:08:11.585343Z",
     "iopub.status.idle": "2023-12-11T06:08:11.590743Z",
     "shell.execute_reply": "2023-12-11T06:08:11.589884Z"
    },
    "papermill": {
     "duration": 2.606735,
     "end_time": "2023-12-11T06:08:11.592714",
     "exception": false,
     "start_time": "2023-12-11T06:08:08.985979",
     "status": "completed"
    },
    "tags": []
   },
   "outputs": [],
   "source": [
    "def lpf(wave, fs=12*60*24, fe=30, n=3):\n",
    "    nyq = fs / 2.0\n",
    "    b, a = signal.butter(1, fe/nyq, btype='low')\n",
    "    for i in range(0, n):\n",
    "        wave = signal.filtfilt(b, a, wave)\n",
    "    return wave"
   ]
  },
  {
   "cell_type": "code",
   "execution_count": 32,
   "id": "cb0d2eaf",
   "metadata": {
    "execution": {
     "iopub.execute_input": "2023-12-11T06:08:16.542713Z",
     "iopub.status.busy": "2023-12-11T06:08:16.542098Z",
     "iopub.status.idle": "2023-12-11T06:10:47.076357Z",
     "shell.execute_reply": "2023-12-11T06:10:47.075434Z"
    },
    "papermill": {
     "duration": 152.937142,
     "end_time": "2023-12-11T06:10:47.078400",
     "exception": false,
     "start_time": "2023-12-11T06:08:14.141258",
     "status": "completed"
    },
    "tags": []
   },
   "outputs": [
    {
     "data": {
      "image/png": "[encoded data removed]",
      "text/plain": [
       "<Figure size 640x480 with 1 Axes>"
      ]
     },
     "metadata": {},
     "output_type": "display_data"
    },
    {
     "data": {
      "image/png": "[encoded data removed]",
      "text/plain": [
       "<Figure size 640x480 with 1 Axes>"
      ]
     },
     "metadata": {},
     "output_type": "display_data"
    },
    {
     "data": {
      "image/png": "[encoded data removed]",
      "text/plain": [
       "<Figure size 640x480 with 1 Axes>"
      ]
     },
     "metadata": {},
     "output_type": "display_data"
    },
    {
     "data": {
      "image/png": "[encoded data removed]",
      "text/plain": [
       "<Figure size 640x480 with 1 Axes>"
      ]
     },
     "metadata": {},
     "output_type": "display_data"
    },
    {
     "data": {
      "image/png": "[encoded data removed]",
      "text/plain": [
       "<Figure size 640x480 with 1 Axes>"
      ]
     },
     "metadata": {},
     "output_type": "display_data"
    }
   ],
   "source": [
    "with torch.no_grad():\n",
    "    for k, (x, h, y) in enumerate(val_dl):\n",
    "        x = x.to(device)\n",
    "        h = h.to(device)\n",
    "        y = y.to(device)\n",
    "\n",
    "        pred = torch.zeros_like(y)\n",
    "        x_seq_len = x.shape[1]\n",
    "        y_seq_len = y.shape[1]\n",
    "\n",
    "        if x_seq_len%MAX_CHUNK_LEN != 0:\n",
    "            x = padding_(x,MAX_CHUNK_LEN)\n",
    "            h = padding_(h,MAX_CHUNK_LEN)\n",
    "            pred = padding_(pred,MAX_CHUNK_LEN)\n",
    "\n",
    "        if y_seq_len%(MAX_CHUNK_LEN*SAMPLE_FREQ) != 0:\n",
    "            pred = padding_(pred,MAX_CHUNK_LEN*SAMPLE_FREQ)\n",
    "\n",
    "        #print(x.shape,h.shape,y.shape,pred.shape)\n",
    "        j = 0\n",
    "        for i in range(0, x_seq_len, MAX_CHUNK_LEN):\n",
    "            X_chunk = x[:, i : i + MAX_CHUNK_LEN]\n",
    "            hr_chunk = h[:, i : i + MAX_CHUNK_LEN]\n",
    "            with autocast:\n",
    "                pred[:, j : j + MAX_CHUNK_LEN*SAMPLE_FREQ] = model(X_chunk, hr_chunk)\n",
    "            j += MAX_CHUNK_LEN*SAMPLE_FREQ\n",
    "\n",
    "        pred = pred[:, :y_seq_len]\n",
    "\n",
    "        y_pred = pred[0].sigmoid().cpu().numpy()\n",
    "        y = y[0].cpu().numpy()\n",
    "        \n",
    "        y_pred[:,0] = lpf(y_pred[:,0])\n",
    "        y_pred[:,1] = lpf(y_pred[:,1])\n",
    "        \n",
    "        candi = argrelmax(y_pred[:, 0], order=12*60*6) # 12*60*6 = 6hours\n",
    "        gt0 = argrelmax(y[:,0], order=12*30)\n",
    "\n",
    "        plt.plot(gt0, y[gt0, 0], marker='o', markersize=5, c=\"black\")\n",
    "        plt.plot(candi, y_pred[candi, 0], marker='o', markersize=5, c=\"red\")    \n",
    "        plt.plot(y[:, 0], lw=0.25, label=\"GT\", linestyle=\"dashed\")\n",
    "        plt.plot(y_pred[:, 0], lw=0.25, label=\"pred\", linestyle=\"dotted\")\n",
    "        plt.show()\n",
    "        plt.close()\n",
    "\n",
    "        if k==4: break"
   ]
  },
  {
   "cell_type": "code",
   "execution_count": null,
   "id": "1fb82ada",
   "metadata": {
    "papermill": {
     "duration": 2.4322,
     "end_time": "2023-12-11T06:10:52.034620",
     "exception": false,
     "start_time": "2023-12-11T06:10:49.602420",
     "status": "completed"
    },
    "tags": []
   },
   "outputs": [],
   "source": []
  }
 ],
 "metadata": {
  "kaggle": {
   "accelerator": "gpu",
   "dataSources": [
    {
     "databundleVersionId": 6589269,
     "sourceId": 53666,
     "sourceType": "competition"
    },
    {
     "sourceId": 147531007,
     "sourceType": "kernelVersion"
    }
   ],
   "dockerImageVersionId": 30616,
   "isGpuEnabled": true,
   "isInternetEnabled": true,
   "language": "python",
   "sourceType": "notebook"
  },
  "kernelspec": {
   "display_name": "Python 3",
   "language": "python",
   "name": "python3"
  },
  "language_info": {
   "codemirror_mode": {
    "name": "ipython",
    "version": 3
   },
   "file_extension": ".py",
   "mimetype": "text/x-python",
   "name": "python",
   "nbconvert_exporter": "python",
   "pygments_lexer": "ipython3",
   "version": "3.10.12"
  },
  "papermill": {
   "default_parameters": {},
   "duration": 12594.764872,
   "end_time": "2023-12-11T06:10:58.290880",
   "environment_variables": {},
   "exception": null,
   "input_path": "__notebook__.ipynb",
   "output_path": "__notebook__.ipynb",
   "parameters": {},
   "start_time": "2023-12-11T02:41:03.526008",
   "version": "2.4.0"
  },
  "widgets": {
   "application/vnd.jupyter.widget-state+json": {
    "state": {
     "09fc27d4ede5482dbc375ef59e900589": {
      "model_module": "@jupyter-widgets/controls",
      "model_module_version": "1.5.0",
      "model_name": "ProgressStyleModel",
      "state": {
       "_model_module": "@jupyter-widgets/controls",
       "_model_module_version": "1.5.0",
       "_model_name": "ProgressStyleModel",
       "_view_count": null,
       "_view_module": "@jupyter-widgets/base",
       "_view_module_version": "1.2.0",
       "_view_name": "StyleView",
       "bar_color": null,
       "description_width": ""
      }
     },
     "182027fa607748c1b7e558145d3851f9": {
      "model_module": "@jupyter-widgets/controls",
      "model_module_version": "1.5.0",
      "model_name": "DescriptionStyleModel",
      "state": {
       "_model_module": "@jupyter-widgets/controls",
       "_model_module_version": "1.5.0",
       "_model_name": "DescriptionStyleModel",
       "_view_count": null,
       "_view_module": "@jupyter-widgets/base",
       "_view_module_version": "1.2.0",
       "_view_name": "StyleView",
       "description_width": ""
      }
     },
     "3d09a6f205d745879d787937c68da675": {
      "model_module": "@jupyter-widgets/controls",
      "model_module_version": "1.5.0",
      "model_name": "HTMLModel",
      "state": {
       "_dom_classes": [],
       "_model_module": "@jupyter-widgets/controls",
       "_model_module_version": "1.5.0",
       "_model_name": "HTMLModel",
       "_view_count": null,
       "_view_module": "@jupyter-widgets/controls",
       "_view_module_version": "1.5.0",
       "_view_name": "HTMLView",
       "description": "",
       "description_tooltip": null,
       "layout": "IPY_MODEL_6447ef1b3fe04c058f5b20dc8067c461",
       "placeholder": "​",
       "style": "IPY_MODEL_e520344733854f37a076844a2ee484df",
       "value": " 646/646 [00:00&lt;00:00, 50.5kB/s]"
      }
     },
     "4b2e40317b5b43ed8edee5fa97d614c5": {
      "model_module": "@jupyter-widgets/base",
      "model_module_version": "1.2.0",
      "model_name": "LayoutModel",
      "state": {
       "_model_module": "@jupyter-widgets/base",
       "_model_module_version": "1.2.0",
       "_model_name": "LayoutModel",
       "_view_count": null,
       "_view_module": "@jupyter-widgets/base",
       "_view_module_version": "1.2.0",
       "_view_name": "LayoutView",
       "align_content": null,
       "align_items": null,
       "align_self": null,
       "border": null,
       "bottom": null,
       "display": null,
       "flex": null,
       "flex_flow": null,
       "grid_area": null,
       "grid_auto_columns": null,
       "grid_auto_flow": null,
       "grid_auto_rows": null,
       "grid_column": null,
       "grid_gap": null,
       "grid_row": null,
       "grid_template_areas": null,
       "grid_template_columns": null,
       "grid_template_rows": null,
       "height": null,
       "justify_content": null,
       "justify_items": null,
       "left": null,
       "margin": null,
       "max_height": null,
       "max_width": null,
       "min_height": null,
       "min_width": null,
       "object_fit": null,
       "object_position": null,
       "order": null,
       "overflow": null,
       "overflow_x": null,
       "overflow_y": null,
       "padding": null,
       "right": null,
       "top": null,
       "visibility": null,
       "width": null
      }
     },
     "50166021cba945f1abc153515eda89a5": {
      "model_module": "@jupyter-widgets/controls",
      "model_module_version": "1.5.0",
      "model_name": "FloatProgressModel",
      "state": {
       "_dom_classes": [],
       "_model_module": "@jupyter-widgets/controls",
       "_model_module_version": "1.5.0",
       "_model_name": "FloatProgressModel",
       "_view_count": null,
       "_view_module": "@jupyter-widgets/controls",
       "_view_module_version": "1.5.0",
       "_view_name": "ProgressView",
       "bar_style": "success",
       "description": "",
       "description_tooltip": null,
       "layout": "IPY_MODEL_79403ac6100a4c0fb500aa39593e42f0",
       "max": 90049067,
       "min": 0,
       "orientation": "horizontal",
       "style": "IPY_MODEL_09fc27d4ede5482dbc375ef59e900589",
       "value": 90049067
      }
     },
     "59716cb0e6e94d4baa4da4067637c4b2": {
      "model_module": "@jupyter-widgets/controls",
      "model_module_version": "1.5.0",
      "model_name": "HTMLModel",
      "state": {
       "_dom_classes": [],
       "_model_module": "@jupyter-widgets/controls",
       "_model_module_version": "1.5.0",
       "_model_name": "HTMLModel",
       "_view_count": null,
       "_view_module": "@jupyter-widgets/controls",
       "_view_module_version": "1.5.0",
       "_view_name": "HTMLView",
       "description": "",
       "description_tooltip": null,
       "layout": "IPY_MODEL_b4cb7c3e863e490d8281fdd60efc8812",
       "placeholder": "​",
       "style": "IPY_MODEL_b125f438898d4a4e964ee006df4f4f02",
       "value": " 90.0M/90.0M [00:00&lt;00:00, 135MB/s]"
      }
     },
     "6447ef1b3fe04c058f5b20dc8067c461": {
      "model_module": "@jupyter-widgets/base",
      "model_module_version": "1.2.0",
      "model_name": "LayoutModel",
      "state": {
       "_model_module": "@jupyter-widgets/base",
       "_model_module_version": "1.2.0",
       "_model_name": "LayoutModel",
       "_view_count": null,
       "_view_module": "@jupyter-widgets/base",
       "_view_module_version": "1.2.0",
       "_view_name": "LayoutView",
       "align_content": null,
       "align_items": null,
       "align_self": null,
       "border": null,
       "bottom": null,
       "display": null,
       "flex": null,
       "flex_flow": null,
       "grid_area": null,
       "grid_auto_columns": null,
       "grid_auto_flow": null,
       "grid_auto_rows": null,
       "grid_column": null,
       "grid_gap": null,
       "grid_row": null,
       "grid_template_areas": null,
       "grid_template_columns": null,
       "grid_template_rows": null,
       "height": null,
       "justify_content": null,
       "justify_items": null,
       "left": null,
       "margin": null,
       "max_height": null,
       "max_width": null,
       "min_height": null,
       "min_width": null,
       "object_fit": null,
       "object_position": null,
       "order": null,
       "overflow": null,
       "overflow_x": null,
       "overflow_y": null,
       "padding": null,
       "right": null,
       "top": null,
       "visibility": null,
       "width": null
      }
     },
     "671b4f6202584c7eb476de31c954e1fa": {
      "model_module": "@jupyter-widgets/base",
      "model_module_version": "1.2.0",
      "model_name": "LayoutModel",
      "state": {
       "_model_module": "@jupyter-widgets/base",
       "_model_module_version": "1.2.0",
       "_model_name": "LayoutModel",
       "_view_count": null,
       "_view_module": "@jupyter-widgets/base",
       "_view_module_version": "1.2.0",
       "_view_name": "LayoutView",
       "align_content": null,
       "align_items": null,
       "align_self": null,
       "border": null,
       "bottom": null,
       "display": null,
       "flex": null,
       "flex_flow": null,
       "grid_area": null,
       "grid_auto_columns": null,
       "grid_auto_flow": null,
       "grid_auto_rows": null,
       "grid_column": null,
       "grid_gap": null,
       "grid_row": null,
       "grid_template_areas": null,
       "grid_template_columns": null,
       "grid_template_rows": null,
       "height": null,
       "justify_content": null,
       "justify_items": null,
       "left": null,
       "margin": null,
       "max_height": null,
       "max_width": null,
       "min_height": null,
       "min_width": null,
       "object_fit": null,
       "object_position": null,
       "order": null,
       "overflow": null,
       "overflow_x": null,
       "overflow_y": null,
       "padding": null,
       "right": null,
       "top": null,
       "visibility": null,
       "width": null
      }
     },
     "6c4e2d0f96254eeca5531b3328f1e5c9": {
      "model_module": "@jupyter-widgets/controls",
      "model_module_version": "1.5.0",
      "model_name": "HBoxModel",
      "state": {
       "_dom_classes": [],
       "_model_module": "@jupyter-widgets/controls",
       "_model_module_version": "1.5.0",
       "_model_name": "HBoxModel",
       "_view_count": null,
       "_view_module": "@jupyter-widgets/controls",
       "_view_module_version": "1.5.0",
       "_view_name": "HBoxView",
       "box_style": "",
       "children": [
        "IPY_MODEL_74ea0cd9e4204e4d95c9a55086783cb7",
        "IPY_MODEL_50166021cba945f1abc153515eda89a5",
        "IPY_MODEL_59716cb0e6e94d4baa4da4067637c4b2"
       ],
       "layout": "IPY_MODEL_671b4f6202584c7eb476de31c954e1fa"
      }
     },
     "74ea0cd9e4204e4d95c9a55086783cb7": {
      "model_module": "@jupyter-widgets/controls",
      "model_module_version": "1.5.0",
      "model_name": "HTMLModel",
      "state": {
       "_dom_classes": [],
       "_model_module": "@jupyter-widgets/controls",
       "_model_module_version": "1.5.0",
       "_model_name": "HTMLModel",
       "_view_count": null,
       "_view_module": "@jupyter-widgets/controls",
       "_view_module_version": "1.5.0",
       "_view_name": "HTMLView",
       "description": "",
       "description_tooltip": null,
       "layout": "IPY_MODEL_b99e70c6e6e449238a06694b216ce8fa",
       "placeholder": "​",
       "style": "IPY_MODEL_182027fa607748c1b7e558145d3851f9",
       "value": "pytorch_model.bin: 100%"
      }
     },
     "762676a207eb4fcd80e9faf73bf5d349": {
      "model_module": "@jupyter-widgets/controls",
      "model_module_version": "1.5.0",
      "model_name": "ProgressStyleModel",
      "state": {
       "_model_module": "@jupyter-widgets/controls",
       "_model_module_version": "1.5.0",
       "_model_name": "ProgressStyleModel",
       "_view_count": null,
       "_view_module": "@jupyter-widgets/base",
       "_view_module_version": "1.2.0",
       "_view_name": "StyleView",
       "bar_color": null,
       "description_width": ""
      }
     },
     "79403ac6100a4c0fb500aa39593e42f0": {
      "model_module": "@jupyter-widgets/base",
      "model_module_version": "1.2.0",
      "model_name": "LayoutModel",
      "state": {
       "_model_module": "@jupyter-widgets/base",
       "_model_module_version": "1.2.0",
       "_model_name": "LayoutModel",
       "_view_count": null,
       "_view_module": "@jupyter-widgets/base",
       "_view_module_version": "1.2.0",
       "_view_name": "LayoutView",
       "align_content": null,
       "align_items": null,
       "align_self": null,
       "border": null,
       "bottom": null,
       "display": null,
       "flex": null,
       "flex_flow": null,
       "grid_area": null,
       "grid_auto_columns": null,
       "grid_auto_flow": null,
       "grid_auto_rows": null,
       "grid_column": null,
       "grid_gap": null,
       "grid_row": null,
       "grid_template_areas": null,
       "grid_template_columns": null,
       "grid_template_rows": null,
       "height": null,
       "justify_content": null,
       "justify_items": null,
       "left": null,
       "margin": null,
       "max_height": null,
       "max_width": null,
       "min_height": null,
       "min_width": null,
       "object_fit": null,
       "object_position": null,
       "order": null,
       "overflow": null,
       "overflow_x": null,
       "overflow_y": null,
       "padding": null,
       "right": null,
       "top": null,
       "visibility": null,
       "width": null
      }
     },
     "7c3fbfcfc3cc43488f6ef969b8d5f642": {
      "model_module": "@jupyter-widgets/controls",
      "model_module_version": "1.5.0",
      "model_name": "HBoxModel",
      "state": {
       "_dom_classes": [],
       "_model_module": "@jupyter-widgets/controls",
       "_model_module_version": "1.5.0",
       "_model_name": "HBoxModel",
       "_view_count": null,
       "_view_module": "@jupyter-widgets/controls",
       "_view_module_version": "1.5.0",
       "_view_name": "HBoxView",
       "box_style": "",
       "children": [
        "IPY_MODEL_8658d9e9ec874259bb39667e3b221944",
        "IPY_MODEL_b390972578cc4daa94a39a25eb029554",
        "IPY_MODEL_3d09a6f205d745879d787937c68da675"
       ],
       "layout": "IPY_MODEL_4b2e40317b5b43ed8edee5fa97d614c5"
      }
     },
     "8658d9e9ec874259bb39667e3b221944": {
      "model_module": "@jupyter-widgets/controls",
      "model_module_version": "1.5.0",
      "model_name": "HTMLModel",
      "state": {
       "_dom_classes": [],
       "_model_module": "@jupyter-widgets/controls",
       "_model_module_version": "1.5.0",
       "_model_name": "HTMLModel",
       "_view_count": null,
       "_view_module": "@jupyter-widgets/controls",
       "_view_module_version": "1.5.0",
       "_view_name": "HTMLView",
       "description": "",
       "description_tooltip": null,
       "layout": "IPY_MODEL_e2ef7a48d3e949c08f974e033d760a8c",
       "placeholder": "​",
       "style": "IPY_MODEL_e7ce6e3eb8ea4b12958738c587da05b0",
       "value": "config.json: 100%"
      }
     },
     "a21e9c8d5a3641489f50bc76afe2bbdb": {
      "model_module": "@jupyter-widgets/base",
      "model_module_version": "1.2.0",
      "model_name": "LayoutModel",
      "state": {
       "_model_module": "@jupyter-widgets/base",
       "_model_module_version": "1.2.0",
       "_model_name": "LayoutModel",
       "_view_count": null,
       "_view_module": "@jupyter-widgets/base",
       "_view_module_version": "1.2.0",
       "_view_name": "LayoutView",
       "align_content": null,
       "align_items": null,
       "align_self": null,
       "border": null,
       "bottom": null,
       "display": null,
       "flex": null,
       "flex_flow": null,
       "grid_area": null,
       "grid_auto_columns": null,
       "grid_auto_flow": null,
       "grid_auto_rows": null,
       "grid_column": null,
       "grid_gap": null,
       "grid_row": null,
       "grid_template_areas": null,
       "grid_template_columns": null,
       "grid_template_rows": null,
       "height": null,
       "justify_content": null,
       "justify_items": null,
       "left": null,
       "margin": null,
       "max_height": null,
       "max_width": null,
       "min_height": null,
       "min_width": null,
       "object_fit": null,
       "object_position": null,
       "order": null,
       "overflow": null,
       "overflow_x": null,
       "overflow_y": null,
       "padding": null,
       "right": null,
       "top": null,
       "visibility": null,
       "width": null
      }
     },
     "b125f438898d4a4e964ee006df4f4f02": {
      "model_module": "@jupyter-widgets/controls",
      "model_module_version": "1.5.0",
      "model_name": "DescriptionStyleModel",
      "state": {
       "_model_module": "@jupyter-widgets/controls",
       "_model_module_version": "1.5.0",
       "_model_name": "DescriptionStyleModel",
       "_view_count": null,
       "_view_module": "@jupyter-widgets/base",
       "_view_module_version": "1.2.0",
       "_view_name": "StyleView",
       "description_width": ""
      }
     },
     "b390972578cc4daa94a39a25eb029554": {
      "model_module": "@jupyter-widgets/controls",
      "model_module_version": "1.5.0",
      "model_name": "FloatProgressModel",
      "state": {
       "_dom_classes": [],
       "_model_module": "@jupyter-widgets/controls",
       "_model_module_version": "1.5.0",
       "_model_name": "FloatProgressModel",
       "_view_count": null,
       "_view_module": "@jupyter-widgets/controls",
       "_view_module_version": "1.5.0",
       "_view_name": "ProgressView",
       "bar_style": "success",
       "description": "",
       "description_tooltip": null,
       "layout": "IPY_MODEL_a21e9c8d5a3641489f50bc76afe2bbdb",
       "max": 646,
       "min": 0,
       "orientation": "horizontal",
       "style": "IPY_MODEL_762676a207eb4fcd80e9faf73bf5d349",
       "value": 646
      }
     },
     "b4cb7c3e863e490d8281fdd60efc8812": {
      "model_module": "@jupyter-widgets/base",
      "model_module_version": "1.2.0",
      "model_name": "LayoutModel",
      "state": {
       "_model_module": "@jupyter-widgets/base",
       "_model_module_version": "1.2.0",
       "_model_name": "LayoutModel",
       "_view_count": null,
       "_view_module": "@jupyter-widgets/base",
       "_view_module_version": "1.2.0",
       "_view_name": "LayoutView",
       "align_content": null,
       "align_items": null,
       "align_self": null,
       "border": null,
       "bottom": null,
       "display": null,
       "flex": null,
       "flex_flow": null,
       "grid_area": null,
       "grid_auto_columns": null,
       "grid_auto_flow": null,
       "grid_auto_rows": null,
       "grid_column": null,
       "grid_gap": null,
       "grid_row": null,
       "grid_template_areas": null,
       "grid_template_columns": null,
       "grid_template_rows": null,
       "height": null,
       "justify_content": null,
       "justify_items": null,
       "left": null,
       "margin": null,
       "max_height": null,
       "max_width": null,
       "min_height": null,
       "min_width": null,
       "object_fit": null,
       "object_position": null,
       "order": null,
       "overflow": null,
       "overflow_x": null,
       "overflow_y": null,
       "padding": null,
       "right": null,
       "top": null,
       "visibility": null,
       "width": null
      }
     },
     "b99e70c6e6e449238a06694b216ce8fa": {
      "model_module": "@jupyter-widgets/base",
      "model_module_version": "1.2.0",
      "model_name": "LayoutModel",
      "state": {
       "_model_module": "@jupyter-widgets/base",
       "_model_module_version": "1.2.0",
       "_model_name": "LayoutModel",
       "_view_count": null,
       "_view_module": "@jupyter-widgets/base",
       "_view_module_version": "1.2.0",
       "_view_name": "LayoutView",
       "align_content": null,
       "align_items": null,
       "align_self": null,
       "border": null,
       "bottom": null,
       "display": null,
       "flex": null,
       "flex_flow": null,
       "grid_area": null,
       "grid_auto_columns": null,
       "grid_auto_flow": null,
       "grid_auto_rows": null,
       "grid_column": null,
       "grid_gap": null,
       "grid_row": null,
       "grid_template_areas": null,
       "grid_template_columns": null,
       "grid_template_rows": null,
       "height": null,
       "justify_content": null,
       "justify_items": null,
       "left": null,
       "margin": null,
       "max_height": null,
       "max_width": null,
       "min_height": null,
       "min_width": null,
       "object_fit": null,
       "object_position": null,
       "order": null,
       "overflow": null,
       "overflow_x": null,
       "overflow_y": null,
       "padding": null,
       "right": null,
       "top": null,
       "visibility": null,
       "width": null
      }
     },
     "e2ef7a48d3e949c08f974e033d760a8c": {
      "model_module": "@jupyter-widgets/base",
      "model_module_version": "1.2.0",
      "model_name": "LayoutModel",
      "state": {
       "_model_module": "@jupyter-widgets/base",
       "_model_module_version": "1.2.0",
       "_model_name": "LayoutModel",
       "_view_count": null,
       "_view_module": "@jupyter-widgets/base",
       "_view_module_version": "1.2.0",
       "_view_name": "LayoutView",
       "align_content": null,
       "align_items": null,
       "align_self": null,
       "border": null,
       "bottom": null,
       "display": null,
       "flex": null,
       "flex_flow": null,
       "grid_area": null,
       "grid_auto_columns": null,
       "grid_auto_flow": null,
       "grid_auto_rows": null,
       "grid_column": null,
       "grid_gap": null,
       "grid_row": null,
       "grid_template_areas": null,
       "grid_template_columns": null,
       "grid_template_rows": null,
       "height": null,
       "justify_content": null,
       "justify_items": null,
       "left": null,
       "margin": null,
       "max_height": null,
       "max_width": null,
       "min_height": null,
       "min_width": null,
       "object_fit": null,
       "object_position": null,
       "order": null,
       "overflow": null,
       "overflow_x": null,
       "overflow_y": null,
       "padding": null,
       "right": null,
       "top": null,
       "visibility": null,
       "width": null
      }
     },
     "e520344733854f37a076844a2ee484df": {
      "model_module": "@jupyter-widgets/controls",
      "model_module_version": "1.5.0",
      "model_name": "DescriptionStyleModel",
      "state": {
       "_model_module": "@jupyter-widgets/controls",
       "_model_module_version": "1.5.0",
       "_model_name": "DescriptionStyleModel",
       "_view_count": null,
       "_view_module": "@jupyter-widgets/base",
       "_view_module_version": "1.2.0",
       "_view_name": "StyleView",
       "description_width": ""
      }
     },
     "e7ce6e3eb8ea4b12958738c587da05b0": {
      "model_module": "@jupyter-widgets/controls",
      "model_module_version": "1.5.0",
      "model_name": "DescriptionStyleModel",
      "state": {
       "_model_module": "@jupyter-widgets/controls",
       "_model_module_version": "1.5.0",
       "_model_name": "DescriptionStyleModel",
       "_view_count": null,
       "_view_module": "@jupyter-widgets/base",
       "_view_module_version": "1.2.0",
       "_view_name": "StyleView",
       "description_width": ""
      }
     }
    },
    "version_major": 2,
    "version_minor": 0
   }
  }
 },
 "nbformat": 4,
 "nbformat_minor": 5
}
