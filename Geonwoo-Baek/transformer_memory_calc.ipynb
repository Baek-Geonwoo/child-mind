{
 "cells": [
  {
   "cell_type": "code",
   "execution_count": 1,
   "metadata": {},
   "outputs": [],
   "source": [
    "import gc\n",
    "import math\n",
    "import torch\n",
    "from torch import nn"
   ]
  },
  {
   "cell_type": "code",
   "execution_count": 2,
   "metadata": {},
   "outputs": [],
   "source": [
    "class ResidualBiGRU(nn.Module):\n",
    "    def __init__(self, hidden_size, n_layers=1, bidir=True):\n",
    "        super(ResidualBiGRU, self).__init__()\n",
    "\n",
    "        self.hidden_size = hidden_size\n",
    "        self.n_layers = n_layers\n",
    "\n",
    "        self.gru = nn.GRU(\n",
    "            hidden_size,\n",
    "            hidden_size,\n",
    "            n_layers,\n",
    "            batch_first=True,\n",
    "            bidirectional=bidir,\n",
    "        )\n",
    "        dir_factor = 2 if bidir else 1\n",
    "        self.fc1 = nn.Linear(\n",
    "            hidden_size * dir_factor, hidden_size * dir_factor * 2\n",
    "        )\n",
    "        self.ln1 = nn.LayerNorm(hidden_size * dir_factor * 2)\n",
    "        self.fc2 = nn.Linear(hidden_size * dir_factor * 2, hidden_size)\n",
    "        self.ln2 = nn.LayerNorm(hidden_size)\n",
    "\n",
    "    def forward(self, x, h=None):\n",
    "        res, new_h = self.gru(x, h)\n",
    "\n",
    "        res = self.fc1(res)\n",
    "        res = self.ln1(res)\n",
    "        res = nn.functional.relu(res)\n",
    "\n",
    "        res = self.fc2(res)\n",
    "        res = self.ln2(res)\n",
    "        res = nn.functional.relu(res)\n",
    "\n",
    "        res = res + x\n",
    "\n",
    "        return res, new_h\n",
    "\n",
    "class MultiResidualBiGRU(nn.Module):\n",
    "    def __init__(self, input_size, hidden_size, out_size, n_layers, bidir=True):\n",
    "        super(MultiResidualBiGRU, self).__init__()\n",
    "\n",
    "        self.input_size = input_size\n",
    "        self.hidden_size = hidden_size\n",
    "        self.out_size = out_size\n",
    "        self.n_layers = n_layers\n",
    "\n",
    "        self.fc_in = nn.Linear(input_size, hidden_size)\n",
    "        self.ln = nn.LayerNorm(hidden_size)\n",
    "        self.res_bigrus = nn.ModuleList(\n",
    "            [\n",
    "                ResidualBiGRU(hidden_size, n_layers=1, bidir=bidir)\n",
    "                for _ in range(n_layers)\n",
    "            ]\n",
    "        )\n",
    "        self.fc_out = nn.Linear(hidden_size, out_size)\n",
    "\n",
    "    def forward(self, x, h=None):\n",
    "        if h is None:\n",
    "            h = [None for _ in range(self.n_layers)]\n",
    "\n",
    "        x = self.fc_in(x)\n",
    "        x = self.ln(x)\n",
    "        x = nn.functional.relu(x)\n",
    "\n",
    "        new_h = []\n",
    "        for i, res_bigru in enumerate(self.res_bigrus):\n",
    "            x, new_hi = res_bigru(x, h[i])\n",
    "            new_h.append(new_hi)\n",
    "\n",
    "        x = self.fc_out(x)\n",
    "        \n",
    "        return x, new_h"
   ]
  },
  {
   "cell_type": "code",
   "execution_count": 3,
   "metadata": {},
   "outputs": [
    {
     "name": "stdout",
     "output_type": "stream",
     "text": [
      "ResidualBiGRU 모델의 GPU 할당 메모리: 2009600 bytes\n"
     ]
    },
    {
     "data": {
      "text/plain": [
       "130"
      ]
     },
     "execution_count": 3,
     "metadata": {},
     "output_type": "execute_result"
    }
   ],
   "source": [
    "input_size = 10\n",
    "hidden_size = 64\n",
    "out_size = 2\n",
    "n_layers = 5\n",
    "\n",
    "allocated_memory_residual_bigru = torch.cuda.memory_allocated()\n",
    "residual_bigru = MultiResidualBiGRU(input_size, hidden_size, out_size, n_layers).to('cuda')\n",
    "allocated_memory_residual_bigru = torch.cuda.memory_allocated() - allocated_memory_residual_bigru\n",
    "print(f\"ResidualBiGRU 모델의 GPU 할당 메모리: {allocated_memory_residual_bigru} bytes\")\n",
    "del residual_bigru\n",
    "gc.collect()"
   ]
  },
  {
   "cell_type": "code",
   "execution_count": 4,
   "metadata": {},
   "outputs": [],
   "source": [
    "class PositionalEncoding(nn.Module):\n",
    "    def __init__(self, d_model, dropout=0.3, max_len=24*60):\n",
    "        super(PositionalEncoding, self).__init__()\n",
    "        self.dropout = nn.Dropout(p=dropout)\n",
    "        pe = torch.zeros(max_len, d_model)\n",
    "        position = torch.arange(0, max_len, dtype=torch.float).unsqueeze(1)\n",
    "        div_term = torch.exp(torch.arange(0, d_model, 2).float() * (-math.log(10000.0) / d_model))\n",
    "        pe[:, 0::2] = torch.sin(position * div_term)\n",
    "        pe[:, 1::2] = torch.cos(position * div_term)\n",
    "        pe = pe.unsqueeze(0).transpose(0, 1)\n",
    "        self.register_buffer('pe', pe)\n",
    "\n",
    "    def forward(self, x):\n",
    "        x = x + self.pe[:x.size(0), :]\n",
    "        return self.dropout(x)\n",
    "\n",
    "class Transformer(nn.Module):\n",
    "    def __init__(self, input_size, out_size, max_len, hidden_size, n_layers, nhead):\n",
    "        super(Transformer, self).__init__()\n",
    "        self.input_size = input_size\n",
    "        self.hidden_size = hidden_size\n",
    "        self.out_size = out_size\n",
    "        self.n_layers = n_layers\n",
    "\n",
    "        self.fc_in = nn.Linear(input_size, hidden_size)\n",
    "        self.ln = nn.LayerNorm(hidden_size)\n",
    "        \n",
    "        encoder_layers = nn.TransformerEncoderLayer(hidden_size, nhead)\n",
    "        encoder_layers.self_attn.batch_first = True\n",
    "        \n",
    "        self.transformer_encoder = nn.TransformerEncoder(encoder_layers, n_layers)\n",
    "        \n",
    "        self.fc_out = nn.Linear(hidden_size, out_size)\n",
    "        self.pos_encoder = PositionalEncoding(hidden_size, max_len=max_len)\n",
    "\n",
    "    def forward(self, x):\n",
    "        x = self.fc_in(x)\n",
    "        x = self.ln(x)\n",
    "        x = nn.functional.relu(x)\n",
    "        x = self.pos_encoder(x)\n",
    "        x = self.transformer_encoder(x)\n",
    "        x = self.fc_out(x)\n",
    "        return x"
   ]
  },
  {
   "cell_type": "code",
   "execution_count": 5,
   "metadata": {},
   "outputs": [],
   "source": [
    "params = [\n",
    "    [5000, 64, 5, 8],\n",
    "    [24*60, 64, 5, 8],\n",
    "    [24*60, 32, 5, 8],\n",
    "    [24*60, 32, 2, 4],\n",
    "    [24*60, 16, 1, 4]\n",
    "]"
   ]
  },
  {
   "cell_type": "code",
   "execution_count": 6,
   "metadata": {},
   "outputs": [
    {
     "name": "stdout",
     "output_type": "stream",
     "text": [
      "\n",
      "Transformer 모델의 GPU 할당 메모리: 6917120 bytes\n",
      "\n",
      "Transformer 모델의 GPU 할당 메모리: 6005760 bytes\n",
      "\n",
      "Transformer 모델의 GPU 할당 메모리: 2950656 bytes\n",
      "\n",
      "Transformer 모델의 GPU 할당 메모리: 1293312 bytes\n",
      "\n",
      "Transformer 모델의 GPU 할당 메모리: 373760 bytes\n"
     ]
    }
   ],
   "source": [
    "for ml, hs, nl, nh in params:\n",
    "    allocated_memory_transformer = torch.cuda.memory_allocated()\n",
    "    transformer = Transformer(input_size, out_size, ml, hs, nl, nh).to('cuda')\n",
    "    allocated_memory_transformer = torch.cuda.memory_allocated() - allocated_memory_transformer\n",
    "    print()\n",
    "    print(f\"Transformer 모델의 GPU 할당 메모리: {allocated_memory_transformer} bytes\")\n",
    "    del transformer\n",
    "    gc.collect()"
   ]
  }
 ],
 "metadata": {
  "kernelspec": {
   "display_name": "dltp",
   "language": "python",
   "name": "python3"
  },
  "language_info": {
   "codemirror_mode": {
    "name": "ipython",
    "version": 3
   },
   "file_extension": ".py",
   "mimetype": "text/x-python",
   "name": "python",
   "nbconvert_exporter": "python",
   "pygments_lexer": "ipython3",
   "version": "3.11.6"
  }
 },
 "nbformat": 4,
 "nbformat_minor": 2
}
